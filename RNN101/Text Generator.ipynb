{
 "cells": [
  {
   "cell_type": "markdown",
   "metadata": {},
   "source": [
    "# Text generator based on RNN"
   ]
  },
  {
   "cell_type": "markdown",
   "metadata": {},
   "source": [
    "### Import libraries"
   ]
  },
  {
   "cell_type": "code",
   "execution_count": 1,
   "metadata": {
    "collapsed": false
   },
   "outputs": [],
   "source": [
    "import tensorflow as tf\n",
    "import numpy as np"
   ]
  },
  {
   "cell_type": "markdown",
   "metadata": {},
   "source": [
    "### Configurations"
   ]
  },
  {
   "cell_type": "code",
   "execution_count": 2,
   "metadata": {
    "collapsed": false
   },
   "outputs": [],
   "source": [
    "vocab = (\" $%'()+,-./0123456789:;=?ABCDEFGHIJKLMNOPQRSTUVWXYZ\"\n",
    "            \"\\\\^_abcdefghijklmnopqrstuvwxyz{|}\")\n",
    "TestText=\"Hello World. \"*2\n",
    "graphPath=r\".\\graphs\"\n",
    "num_step=len(TestText)\n",
    "state_size=100#Make it simple\n",
    "batchSize=1\n",
    "def Encode(string,name=None):\n",
    "    tensor=[vocab.find(ch)+1 for ch in string]\n",
    "    tensor = tf.one_hot(tensor, depth=len(vocab)+1, on_value=1.0, off_value=0.0, axis=-1, dtype=tf.float32, name=name)\n",
    "    with tf.Session() as sess:\n",
    "        nparray=tensor.eval()\n",
    "    return nparray\n",
    "def Decode(nparray):\n",
    "    return \"\".join([vocab[index-1] if index>0 else \"[INVALID]\" for index in np.argmax(nparray,axis=1)])\n",
    "data=Encode(TestText)"
   ]
  },
  {
   "cell_type": "markdown",
   "metadata": {},
   "source": [
    "### Create graph"
   ]
  },
  {
   "cell_type": "code",
   "execution_count": 3,
   "metadata": {
    "collapsed": false
   },
   "outputs": [],
   "source": [
    "with tf.variable_scope(\"RNN\") as modelScope:\n",
    "    with tf.name_scope(\"structure\"):\n",
    "        inputs=tf.placeholder(dtype=tf.float32,shape=[None,len(vocab)+1])\n",
    "        cell=tf.contrib.rnn.GRUCell(num_units=state_size)\n",
    "        w=tf.get_variable(name=\"Weight_s_o\",shape=[state_size,len(vocab)],initializer=tf.truncated_normal_initializer())\n",
    "        b=tf.get_variable(name=\"Bias_s_o\",shape=[1,len(vocab)],initializer=tf.truncated_normal_initializer())\n",
    "        initState=cell.zero_state(batch_size=batchSize,dtype=tf.float32)\n",
    "        state=initState\n",
    "        outputs=[]\n",
    "    for i in range(num_step):\n",
    "        if(i>0):\n",
    "            modelScope.reuse_variables()\n",
    "        output,state=cell(inputs=tf.reshape(tensor=inputs[i],shape=[1,-1]),state=state)\n",
    "        output=tf.nn.softmax(tf.add(tf.matmul(output,w),b,name=\"Output\"))\n",
    "        outputs.append(output)\n",
    "    with tf.name_scope(\"summary\") as scope:\n",
    "        summary_op=tf.summary.merge_all()   "
   ]
  },
  {
   "cell_type": "code",
   "execution_count": 4,
   "metadata": {
    "collapsed": false
   },
   "outputs": [
    {
     "name": "stdout",
     "output_type": "stream",
     "text": [
      "[[ 0.00230916  0.00361426  0.00704901 ...,  0.00358786  0.0043457\n",
      "   0.00752503]\n",
      " [ 0.00196056  0.00483805  0.00592424 ...,  0.00376358  0.00407425\n",
      "   0.00767895]\n",
      " [ 0.00240414  0.00434853  0.00461183 ...,  0.00495821  0.00419408\n",
      "   0.00727658]\n",
      " ..., \n",
      " [ 0.00209293  0.00267348  0.00534597 ...,  0.00848178  0.00396167\n",
      "   0.00813794]\n",
      " [ 0.0019422   0.0025199   0.00663691 ...,  0.00669845  0.00455267\n",
      "   0.00805597]\n",
      " [ 0.00161771  0.00314868  0.00667456 ...,  0.00552558  0.00545918\n",
      "   0.00791381]]\n",
      "%%%%KKKKKKKKK%%%mKKKKKKKKK\n"
     ]
    }
   ],
   "source": [
    "with tf.Session() as sess:\n",
    "    writer=tf.summary.FileWriter(logdir=graphPath,graph=sess.graph)\n",
    "    sess.run(tf.global_variables_initializer())\n",
    "    result=sess.run(outputs,{inputs:data})\n",
    "    result=np.concatenate(result,axis=0)\n",
    "    print(result)\n",
    "print(Decode(result))"
   ]
  },
  {
   "cell_type": "code",
   "execution_count": null,
   "metadata": {
    "collapsed": true
   },
   "outputs": [],
   "source": []
  }
 ],
 "metadata": {
  "kernelspec": {
   "display_name": "Python 3",
   "language": "python",
   "name": "python3"
  },
  "language_info": {
   "codemirror_mode": {
    "name": "ipython",
    "version": 3
   },
   "file_extension": ".py",
   "mimetype": "text/x-python",
   "name": "python",
   "nbconvert_exporter": "python",
   "pygments_lexer": "ipython3",
   "version": "3.5.2"
  }
 },
 "nbformat": 4,
 "nbformat_minor": 1
}
