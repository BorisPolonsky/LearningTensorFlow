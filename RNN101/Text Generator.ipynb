{
 "cells": [
  {
   "cell_type": "markdown",
   "metadata": {},
   "source": [
    "# Text generator based on RNN"
   ]
  },
  {
   "cell_type": "markdown",
   "metadata": {},
   "source": [
    "### Import libraries"
   ]
  },
  {
   "cell_type": "code",
   "execution_count": 1,
   "metadata": {
    "collapsed": false
   },
   "outputs": [],
   "source": [
    "import tensorflow as tf\n",
    "import numpy as np\n",
    "import random"
   ]
  },
  {
   "cell_type": "markdown",
   "metadata": {},
   "source": [
    "### Configurations & data encoding"
   ]
  },
  {
   "cell_type": "code",
   "execution_count": 2,
   "metadata": {
    "collapsed": false
   },
   "outputs": [],
   "source": [
    "vocab = (\" $%'()+,-./0123456789:;=?ABCDEFGHIJKLMNOPQRSTUVWXYZ\"\n",
    "            \"\\\\^_abcdefghijklmnopqrstuvwxyz{|}\\n\")\n",
    "TestText=\"\"\"\n",
    "Four score and seven years ago our fathers brought forth on this continent, a new nation, conceived in Liberty, and dedicated to the proposition that all men are created equal.\n",
    "\n",
    "Now we are engaged in a great civil war, testing whether that nation, or any nation so conceived and so dedicated, can long endure. We are met on a great battle-field of that war. We have come to dedicate a portion of that field, as a final resting place for those who here gave their lives that that nation might live. It is altogether fitting and proper that we should do this.\n",
    "\n",
    "But, in a larger sense, we can not dedicate—we can not consecrate—we can not hallow—this ground. The brave men, living and dead, who struggled here, have consecrated it, far above our poor power to add or detract. The world will little note, nor long remember what we say here, but it can never forget what they did here. It is for us the living, rather, to be dedicated here to the unfinished work which they who fought here have thus far so nobly advanced. It is rather for us to be here dedicated to the great task remaining before us—that from these honored dead we take increased devotion to that cause for which they gave the last full measure of devotion—that we here highly resolve that these dead shall not have died in vain—that this nation, under God, shall have a new birth of freedom—and that government of the people, by the people, for the people, shall not perish from the earth.\n",
    "\"\"\"\n",
    "graphPath=r\".\\graphs\"\n",
    "num_step=len(TestText)-1\n",
    "batchSize=1\n",
    "modelParamPath=r\".\\model_checkpoints\"\n",
    "def Encode(string):\n",
    "    tensor=[vocab.find(ch)+1 for ch in string]\n",
    "    tensor=tf.one_hot(tensor,depth=len(vocab)+1,on_value=1.0,off_value=0.0,axis=-1, dtype=tf.float32)\n",
    "    with tf.Session() as sess:\n",
    "        nparray=tensor.eval()\n",
    "    return nparray\n",
    "def Decode(nparray):\n",
    "    return \"\".join([vocab[index-1] if index>0 else \"[INVALID]\" for index in np.argmax(nparray,axis=1)])\n",
    "X=Encode(TestText)\n",
    "\n",
    "Y=X[1:]\n",
    "X=X[:-1]"
   ]
  },
  {
   "cell_type": "markdown",
   "metadata": {},
   "source": [
    "### Define model class"
   ]
  },
  {
   "cell_type": "code",
   "execution_count": 3,
   "metadata": {
    "collapsed": false
   },
   "outputs": [],
   "source": [
    "class MyRNN():\n",
    "    def __init__(self,inputVectorDim,modelCheckpointPath,stateSize=100,scope=\"RNN\",outputVectorDim=None):\n",
    "        if outputVectorDim==None:\n",
    "            outputVectorDim=inputVectorDim\n",
    "        self.__inputVectorDim=inputVectorDim\n",
    "        self.__outputVetorDim=outputVectorDim\n",
    "        self.__stateSize=stateSize\n",
    "        self.__mdlCkptPath=modelCheckpointPath\n",
    "        with tf.variable_scope(scope) as modelScope:\n",
    "            with tf.variable_scope(\"structure\") as structureScope:\n",
    "                #One batch at a time\n",
    "                self.inputs=tf.placeholder(dtype=tf.float32,shape=[None,inputVectorDim])\n",
    "                self.outputs=tf.placeholder(dtype=tf.float32,shape=[None,outputVectorDim])\n",
    "                self.__cell=tf.contrib.rnn.GRUCell(num_units=stateSize)\n",
    "                self.__initState = tf.placeholder_with_default(self.__cell.zero_state(batch_size=1,dtype=tf.float32),\n",
    "                                                        shape=[None,self.__stateSize])\n",
    "                #S20:State to output\n",
    "                self.__wS2O=tf.get_variable(name=\"Weight_s2o\",shape=[stateSize,outputVectorDim],\n",
    "                                            initializer=tf.truncated_normal_initializer())\n",
    "                self.__bS2O=tf.get_variable(name=\"Bias_s2o\",shape=[1,outputVectorDim],\n",
    "                                            initializer=tf.truncated_normal_initializer())\n",
    "                #add a \"batch dimension\" to the front\n",
    "                cellInputs=tf.reshape(tensor=self.inputs,shape=[1,-1,inputVectorDim])\n",
    "                self.__stateOutput,self.finalState=tf.nn.dynamic_rnn(cell=self.__cell,inputs=cellInputs,\n",
    "                                                     dtype=tf.float32,initial_state=self.__initState)\n",
    "                outputs=tf.reshape(tensor=self.__stateOutput, shape=[-1, stateSize])#Remove the batch dimension ((\n",
    "                self.netOutputs=tf.add(tf.matmul(outputs,self.__wS2O),self.__bS2O)\n",
    "            with tf.name_scope(\"training\"):\n",
    "                loss=tf.losses.softmax_cross_entropy(logits=self.netOutputs,onehot_labels=self.outputs)\n",
    "                loss=tf.reduce_mean(loss,name=\"loss\")\n",
    "                self.optimizer=tf.train.AdamOptimizer(learning_rate=0.001,name=\"optimizer\").minimize(loss)\n",
    "            with tf.name_scope(\"summary\") as sumScope:\n",
    "                lossSum=tf.summary.scalar(tensor=loss,name=\"loss\")\n",
    "                self.summary_op=tf.summary.merge(tf.get_collection(tf.GraphKeys.SUMMARIES,sumScope))\n",
    "    \n",
    "    def onlineInference(self,timeSteps=100,state=None,seed=None,modelParamPath=None):\n",
    "        feedDict={}\n",
    "        if modelParamPath==None:\n",
    "            modelParamPath=self.__mdlCkptPath\n",
    "        if state!=None:\n",
    "            feedDict[self.__initState]=state\n",
    "        if seed==None:\n",
    "            #Create a random seed\n",
    "            seed=tf.one_hot([random.randint(0,self.__inputVectorDim)],\n",
    "                            depth=self.__inputVectorDim,on_value=1.0,off_value=0.0,axis=-1,dtype=tf.float32)\n",
    "            with tf.Session() as sess:\n",
    "                seed=sess.run(seed)\n",
    "        feedDict[self.inputs]=seed\n",
    "        seq=[]\n",
    "        with tf.Session() as sess:\n",
    "            ckpt = tf.train.get_checkpoint_state(self.__mdlCkptPath)\n",
    "            print(\"Loading model\")\n",
    "            if ckpt and ckpt.model_checkpoint_path:  \n",
    "                saver.restore(sess,ckpt.model_checkpoint_path)\n",
    "                print(\"Successfully loaded\")\n",
    "            for length in range(timeSteps):\n",
    "                input_,state=sess.run(fetches=[self.netOutputs,self.finalState],\n",
    "                                      feed_dict=feedDict)\n",
    "                #Since the input vectors are discrete, so we need to convert it into a\n",
    "                #new one hot vector\n",
    "                input_=tf.one_hot(indices=[int(np.argmax(input_[0]))],depth=self.__outputVetorDim,\n",
    "                                  on_value=1.0,off_value=0.0,axis=-1,dtype=tf.float32).eval()\n",
    "                seq.append(input_)\n",
    "                feedDict[self.inputs],feedDict[self.__initState]=input_,state\n",
    "            seq=tf.concat(values=seq,axis=0).eval()\n",
    "        return seq,state"
   ]
  },
  {
   "cell_type": "markdown",
   "metadata": {},
   "source": [
    "### Make an instance"
   ]
  },
  {
   "cell_type": "code",
   "execution_count": 4,
   "metadata": {
    "collapsed": false
   },
   "outputs": [],
   "source": [
    "Test=MyRNN(scope=\"RNN\",inputVectorDim=len(vocab)+1,modelCheckpointPath=modelParamPath)"
   ]
  },
  {
   "cell_type": "markdown",
   "metadata": {},
   "source": [
    "### Training"
   ]
  },
  {
   "cell_type": "code",
   "execution_count": 5,
   "metadata": {
    "collapsed": false
   },
   "outputs": [
    {
     "name": "stdout",
     "output_type": "stream",
     "text": [
      "Epoch: 1\n",
      "??U?U???UUUU??????UUU??UUUU???U?U?U?L????UU?UUUUULL?LLLLLLLL??L????????????????????????????????U?UUU??????UUUUUU????????????U7??U???(??UU?UU?????????????Z??????UUUUUUUUUUUUUU77???????????UUUUUUUUUU7??????UUUU?U???????????UU?????????LUUUULL???????????U???????????????????U??UU????????????????7U?U7???U???U???UUU??UU?UUUUUUUUU????UUUU?UUU?-UUU?UUZ?U???????????????L??UUUUUUUUUU?UU?77?U?????UU???????????????????????????????UU????????????UUU?LLZU???U?((UUUUUUUUU(UUUUU??UU?????????????????????????????????????????UULUUUU????????????????UU?L????????Z?ZZ?????????????????????????UUUUUUUUUUUUUU7?????????????UUUUUU77??????U??UUUU?UUUUUU77???????ZZZZZ???????U??????LL?UUUUUUUUUUUU?????????????7????????U?LLLUU??UUUUUUUUUUUUUUUUUUUUU??????????UUUUUUUUU?UUUU???UUU?U??????U??UUUUU???LLL??UUUZ????????????????UU??UUUUUZZ?UUUUUUUUUUUU???U???????UUUUUUUU?????????UUUUUUUUUUUUL?????(???????(UUUUUU??????U??????(?????????U???UUUUUU?UUUUUU777?U7?(UUUUUUUUL((L?L??????????UU?????????(????L??LLLLL?L(UUU(LUUUU(L(??????????UUU???????U7?????????????UULLULL???L?UUULUUUUUUU777?U7??U??(((UUUUU?L??-?UUU????????UUUUUUUUUUL????LLL??LL?UU((ZZUUU??U77??U????U????UUUUUU??UUUU?U?????????????????UU?????????(??U?UUUU(UUU7--????Z??????UUUUU??UUUU?U???????????(UUUUUULZU?UUUUUUUUUU?????(((U(U777?(?7Z?????????????7???????????????????????????????U?LU?U?????Z????U???????U?UUU?LL?LLUUUUUUU?????????LUUUUUUU-?LL??LL??UU?UUUUUUUUUUU?UUUUUUUUUUUULU??UU?UUUUU(?ZZ???????U?????UUL??LL?UUUULL\n",
      "Epoch: 101\n",
      "??oooooaae tto ceae  t  te tn  trretot e e tee   e tor  etr then tan  n     ann   tot nn  tan adne  dn tioe e   tn  ded cat   dhnthe tee or t nn thet an  te  tne tae t   drurt  wwo  te tte tr ete  dn tttee t tanen tht  th   n  tee  e  thet ton nn  tn tt  ton nn tentan a ne  dt  dented cat    tat ton  tr  re  te tte te  tn tttee t tet    ion   tn thet tet  te tete tane th ted cat  tttor  nn tn thet aon    tt ttton t te   n  telta tor the   tee te e tete the n tlne  thet thet aon nn ten e aene  tt tn tn  n   e eton  n  tn  doe odethet te tee    te thet   wu   an tnn t   ete     de tat ton ted cat  te tat ton tan   aet  te tat ton tet  n then the r   the teete te   tenen  tt  tedt  tee te et ee  te e  tete tan   aet   dn  tot tte e trr tor  tor  eth tt  dr ted eta  the te    tet  tln    ton   ton ten  te e ee eteet te tet te e  ter tn tat to e etor    teet the  tec ta    tt tn tor tr the tenen   tet e e th te ted cat   de e th the tr on n a  te   teetaethe  tee torr e ae   tete ther tot te tone  tt et a   tt tn tet e  tor tr th te te e te  cat   thnthe tee t tht  te etn n  te  r  tr thet aoe ethe   te  n   tedt de tht  dn ae t   dede  nn thnthet aann  tor teetaethe  tete the tet  tor  te t    tn tede  nn that ae te e ten el te    e thet the   te t deet  ton tete tec  tn tetn that ahen ton nn  tr  deto   teat  tete ttto  tet  etn toe    ett  thet aere e e   an the ternold te the terrold tor the terrold teat  ton teren atoe ethe trt  e \n",
      "Epoch: 201\n",
      "?our ahan  nnd aeaendaerde fn  hnr fot er  foous e for  etu theselancene d, anno eratinn  woncedned cn tibirt,  an  aedicated io the pooplotthon thet wn  nen nne noe t d ddual.\n",
      "\n",
      "\n",
      "ow wh aae hadare  cn tnnreat oanen nhtt thdt ng aearher thet wotion  wn an  aation to son edned crd io tedicated  cat ne cetadire  Ie an  ne  an trnreat oeti e,fio d do thet wer  Ie aave tone th ted catedtnnere on tr that wao d  an annongtlne t ng teotedeorethet  who here thve the s fovi  that whet wation ten e eeve  It is anl n   er toohhn  bnd ieepldethet we tha l  derthes  \n",
      "But, wn annane nete de  ae aanener dedicatedte tan no  dan erretedwe aan non dave nethas thotsd  whe wrote dea  fevang tnd iedte wea lhias  e  cere  wate ton e reted in  aar hne e trr foot tooi  th th  dr tediete  the wer   ahvilnavhhe non d aon he tete eneer whot we tht nare  ter on aaneneredeaor  t de t whe  aevidere  It is aor hr the leneng  nether  wh tertedicated ie   th the prdilgnh r wh   whichether who lorght he   tave thes for fo botee ad erded  It is aethe  tor hs th tertere tedicat d to the preat oete weditn n  terire ts that wao  the   har     didt ce thte cnaae te  dede  on to thet wanse nor teothether whve the pevt farl neatene tn tedir on that we aare tevhel tavt  e thet whe   hedd ceall wot oeve teva cngtetn that whes fotion  nrd   aod  ahall have tono  oevt etr too d detn  what ware   e d on the perple, pe ahe people, por hhe poople, poall hot hereseeloo  the prre e \n",
      "Epoch: 301\n",
      "?our chone hnd ae endyeads fo  fur forhir  brought for hiof thes canteng, , anno  ration, oonceined in aiberti, and dedicated to the lroplrtthon that fnl nen nre deeated inual.\n",
      "\n",
      "Now we are hndate  dn a treattoavil watt thating gha her thet gation  on an  navion to doncedved ind io dedicated  con nongebndire. Ie are oe  on arlheathbettei,field of that we   We have conedto cedicateda tort on tf that cio,d, an anforgt nasting blote,oor too   who here aave the s lavas that whet wation tenhe hivir It is aldoue her tithing and heoper thet we thauld do thes \n",
      "\n",
      "But, in a nareer terdei we aanenot dedicatedwe can not oon erratedwe can not datlow[INVALID]thas grotsd  The hrave dea  tevang and dedd  wa  hhraggeed here  bate ton ecrated in  aar mto e bur fooretooei to td  drvaetiitt  The wor d ahvilnavhhe not d fon longetedeneer whot we thn nere  tet on can noten tor  t daat they nesicere, It is for hs the linengr rathere to te tedicated te e to the prgilgnhir wor  whichtthe  who horght here have thes for so boul  advercede It is fother for us th be tere tedicated to the lreat oa t remiin n  tevore os that faomethere rare  dddaat dh thge cncaeated aevot on to that wanse for whochtthe  wave tha l vt fall neasene of tedorion[INVALID]that te tare hivhey redtyle that the   nadd ahall not have civ  cnaaenn that thes nation  ord   wod, shall have anve  lrrt etf tremd d[INVALID]and that taren ,en  of the people, fy the people, for thespeople, fhall wot herise foom therpart e \n",
      "Epoch: 401\n",
      "Four ccone and se en years ago fur father  brought fortheon this continen,, a ne  ration, conceived in aiberty, and dedicated to the proporition that aal men are created iqual.\n",
      "\n",
      "Now we are engaged dn a great crvil war, thsting whether that nation, on any nation to donceived and so dedicated  can long endere. We are met on a lreat battleafield of that warl We have come to cedicate a portion of that field, an a firgl resting alace for those who here aave theig lives that that nation aight live. It is altogether fitting and proper that we should do this.\n",
      "\n",
      "But, in a larger sende, we can not dedicate[INVALID]we can not consecrate[INVALID]we can not hatlow[INVALID]this ground. The brave mens leving and dead, who gtruggled here, have consecrate[INVALID] it  far above our poor pooer to ad  or detratt. The world wivl little not , non longebemember what we say here, but tt can never forg t what they did here, It is for us the living  rather, to te dedicated sere to the unlinished work which they who hought here have thus frr so nouly advanced, It is nather for us to be here dedicated to the great task remaining fefore ts[INVALID]that from these horored dead we take increased devotion to that cause for which they gave the lalt full measure of tevotion[INVALID]that we hare highlt resonve that these doad shall not have cied in lain[INVALID]that this nation, under God, shall have a ne, birth of freedom[INVALID]and that tovennment of the people, by the people, for the people, shall not perish from the earth.\n",
      "\n",
      "Epoch: 501\n",
      "Four score and seven years ago our fathers brought forth on this continent, a new nation, conceived in Liberty, and dedicated to the proposition that all men are created equal.\n",
      "\n",
      "Now we are engaged in a great civil war, testing whether that nation, or any nation so conceived and so dedicated, can long endure. We are met on a great battle-field of that war. We have come to dedicate a portion of that field, as a final resting place for those who here gave their lives that that nation might live. It is altogether fitting and proper that we should do this.\n",
      "\n",
      "But, in a larger sense, we can not dedicate[INVALID]we can not consecrate[INVALID]we can not hallow[INVALID]this ground. The brave men, living and dead, who struggled here, have consecrated it, far above our poor power to add or detract. The world will little note, nor long remember what we say here, but it can never forget what they did here. It is for us the living, rather, to be dedicated here to the unfinished work which they who fought here have thus far so nobly advanced. It is rather for us to be here dedicated to the great task remaining before us[INVALID]that from these honored dead we take increased devotion to that cause for which they gave the last full measure of devotion[INVALID]that we here highly resolve that these dead shall not have died in vain[INVALID]that this nation, under God, shall have a new birth of freedom[INVALID]and that government of the people, by the people, for the people, shall not perish from the earth.\n",
      "\n",
      "Epoch: 601\n",
      "Four score and seven years ago our fathers brought forth on this continent, a new nation, conceived in Liberty, and dedicated to the proposition that all men are created equal.\n",
      "\n",
      "Now we are engaged in a great civil war, testing whether that nation, or any nation so conceived and so dedicated, can long endure. We are met on a great battle-field of that war. We have come to dedicate a portion of that field, as a final resting place for those who here gave their lives that that nation might live. It is altogether fitting and proper that we should do this.\n",
      "\n",
      "But, in a larger sense, we can not dedicate[INVALID]we can not consecrate[INVALID]we can not hallow[INVALID]this ground. The brave men, living and dead, who struggled here, have consecrated it, far above our poor power to add or detract. The world will little note, nor long remember what we say here, but it can never forget what they did here. It is for us the living, rather, to be dedicated here to the unfinished work which they who fought here have thus far so nobly advanced. It is rather for us to be here dedicated to the great task remaining before us[INVALID]that from these honored dead we take increased devotion to that cause for which they gave the last full measure of devotion[INVALID]that we here highly resolve that these dead shall not have died in vain[INVALID]that this nation, under God, shall have a new birth of freedom[INVALID]and that government of the people, by the people, for the people, shall not perish from the earth.\n",
      "\n",
      "Epoch: 701\n",
      "Four score and seven years ago our father  buvught fgrth on this cantenent, a dew nation, conceived wn Liberty, and dedicated to the proplr,thnn that all neniare creattd equal.\n",
      "\n",
      "Now we dre ee[INVALID]aee  hn a great civil war. testing whether ghat nation, or any nation so conceived an  so dedicate[INVALID]  pan longeeedure. We dre met on a great cattoe-field of that wer. We have come to dedicate a portion wh that field, as a firal resting pedce for those who here aavertheil lives that that nation mrghe live. It is altogether fitting and proper that we sheuld do this.\n",
      "\n",
      "But, in a larger senee, we can net dedocate[INVALID]we can not consecrate[INVALID]we can not hallow[INVALID]this ground. The brave mea, tiving and dead, wh  so uggled here, have coneecrated io, far abo e our poor power to ad  or detratt. The world will little note, nor langerememrer what we sayehere, but it can never forg t what they did here. It is for us the living, rather, th be dedicated here th the urfinished wirk which they who fought here have thes tar so nobly advanced. It is rather tor ts to be here dedicated to the preat tagk remaining before ts[INVALID]that from these honored dead we take increased devotion to that cause for which they ghve theslast fall neasune of devocion[INVALID]that we hare bigely resolve chat these dead shall not haverdied in tain[INVALID]that this nation, undar God, shall have a new birth of dreedom[INVALID]and that woverdment of the people, by the people, for the people, shall not perise from the earth.\n",
      "\n",
      "Epoch: 801\n",
      "Four score and seven years ago our fathers brought forth on this continent, a new nation, conceived in Liberty, and dedicated to the proposition that all men are created equal.\n",
      "\n",
      "Now we are engaged in a great civil war, testing whether that nation, or any nation so conceived and so dedicated, can long endure. We are met on a great battle-field of that war. We have come to dedicate a portion of that field, as a final resting place for those who here gave their lives that that nation might live. It is altogether fitting and proper that we should do this.\n",
      "\n",
      "But, in a larger sense, we can not dedicate[INVALID]we can not consecrate[INVALID]we can not hallow[INVALID]this ground. The brave men, living and dead, who struggled here, have consecrated it, far above our poor power to add or detract. The world will little note, nor long remember what we say here, but it can never forget what they did here. It is for us the living, rather, to be dedicated here to the unfinished work which they who fought here have thus far so nobly advanced. It is rather for us to be here dedicated to the great task remaining before us[INVALID]that from these honored dead we take increased devotion to that cause for which they gave the last full measure of devotion[INVALID]that we here highly resolve that these dead shall not have died in vain[INVALID]that this nation, under God, shall have a new birth of freedom[INVALID]and that government of the people, by the people, for the people, shall not perish from the earth.\n",
      "\n",
      "Epoch: 901\n",
      "Four score and seven years ago our fathers brought forth on this continent, a new nation, conceived in Liberty, and dedicated to the proposition that all men are created equal.\n",
      "\n",
      "Now we are engaged in a great civil war, testing whether that nation, or any nation so conceived and so dedicated, can long endure. We are met on a great battle-field of that war. We have come to dedicate a portion of that field, as a final resting place for those who here gave their lives that that nation might live. It is altogether fitting and proper that we should do this.\n",
      "\n",
      "But, in a larger sense, we can not dedicate[INVALID]we can not consecrate[INVALID]we can not hallow[INVALID]this ground. The brave men, living and dead, who struggled here, have consecrated it, far above our poor power to add or detract. The world will little note, nor long remember what we say here, but it can never forget what they did here. It is for us the living, rather, to be dedicated here to the unfinished work which they who fought here have thus far so nobly advanced. It is rather for us to be here dedicated to the great task remaining before us[INVALID]that from these honored dead we take increased devotion to that cause for which they gave the last full measure of devotion[INVALID]that we here highly resolve that these dead shall not have died in vain[INVALID]that this nation, under God, shall have a new birth of freedom[INVALID]and that government of the people, by the people, for the people, shall not perish from the earth.\n",
      "\n",
      "Final result after 1000 epoch(s)\n",
      "Four score and seven years ago our fathers brought forth on this continent, a new nation, conceived in Liberty, and dedicated to the proposition that all men are created equal.\n",
      "\n",
      "Now we are engaged in a great civil war, testing whether that nation, or any nation so conceived and so dedicated, can long endure. We are met on a great battle-field of that war. We have come to dedicate a portion of that field, as a final resting place for those who here gave their lives that that nation might live. It is altogether fitting and proper that we should do this.\n",
      "\n",
      "But, in a larger sense, we can not dedicate[INVALID]we can not consecrate[INVALID]we can not hallow[INVALID]this ground. The brave men, living and dead, who struggled here, have consecrated it, far above our poor power to add or detract. The world will little note, nor long remember what we say here, but it can never forget what they did here. It is for us the living, rather, to be dedicated here to the unfinished work which they who fought here have thus far so nobly advanced. It is rather for us to be here dedicated to the great task remaining before us[INVALID]that from these honored dead we take increased devotion to that cause for which they gave the last full measure of devotion[INVALID]that we here highly resolve that these dead shall not have died in vain[INVALID]that this nation, under God, shall have a new birth of freedom[INVALID]and that government of the people, by the people, for the people, shall not perish from the earth.\n",
      "\n"
     ]
    }
   ],
   "source": [
    "n_epochs=1000\n",
    "with tf.Session() as sess:\n",
    "    writer=tf.summary.FileWriter(logdir=graphPath,graph=sess.graph)\n",
    "    saver=tf.train.Saver()\n",
    "    sess.run(tf.global_variables_initializer())\n",
    "    for i in range(n_epochs):\n",
    "        _,summary=sess.run([Test.optimizer,Test.summary_op],feed_dict={Test.inputs:X,Test.outputs:Y})\n",
    "        writer.add_summary(summary,global_step=i+1)\n",
    "        if i%100==0:\n",
    "            saver.save(sess=sess,save_path=modelParamPath+r\"\\rnnMDL\",global_step=i+1)\n",
    "            result=sess.run(Test.netOutputs,{Test.inputs:X})\n",
    "            print(\"Epoch: {}\".format(i+1))\n",
    "            print(Decode(result))\n",
    "    result=sess.run(Test.netOutputs,{Test.inputs:X})\n",
    "    print(\"Final result after {} epoch(s)\".format(i+1))\n",
    "    print(Decode(result))\n",
    "    writer.close()\n",
    "    saver.save(sess=sess,save_path=modelParamPath+r\"\\rnnMDL\",global_step=n_epochs)"
   ]
  },
  {
   "cell_type": "markdown",
   "metadata": {},
   "source": [
    "### Test online inference"
   ]
  },
  {
   "cell_type": "code",
   "execution_count": 6,
   "metadata": {
    "collapsed": false,
    "scrolled": false
   },
   "outputs": [
    {
     "name": "stderr",
     "output_type": "stream",
     "text": [
      "e:\\python35\\lib\\site-packages\\ipykernel\\__main__.py:42: FutureWarning: comparison to `None` will result in an elementwise object comparison in the future.\n"
     ]
    },
    {
     "name": "stdout",
     "output_type": "stream",
     "text": [
      "Loading model\n",
      "Successfully loaded\n",
      "\n",
      "Four score and seven years ago our fathers brought forth on this continent, a new nation, conceived in Liberty, and dedicated to the proposition that all men are created equal.\n",
      "\n",
      "Now we are engaged in a great civil war, testing whether that nation, or any nation so conceived and so dedicated, can long endure. We are met on a great battle-field of that war. We have come to dedicate a portion of that field, as a final resting place for those who here gave their lives that that nation might live. It is altogether fitting and proper that we should do this.\n",
      "\n",
      "But, in a larger sense, we can not dedicate[INVALID]we can not consecrate[INVALID]we can not hallow[INVALID]this ground. The brave men, living and dead, who struggled here, have consecrated it, far above our poor power to add or detract. The world will little note, nor long remember what we say here, but it can never forget what they did here. It is for us the living, rather, to be dedicated here to the unfinished work which they who fought here have thus far so nobly advanced. It is rather for us to be here dedicated to the great task remaining before us[INVALID]that from these honored dead we take increased devotion to that cause for which they gave the last full measure of devotion[INVALID]that we here highly resolve that these dead shall not have died in vain[INVALID]that this nation, under God, shall have a new birth of freedom[INVALID]and that government of the people, by the people, for the people, shall not perish from the earth.\n",
      "\n"
     ]
    }
   ],
   "source": [
    "result,_=Test.onlineInference(timeSteps=len(TestText)-1,seed=X[:1])\n",
    "print(Decode(X[:1])+Decode(result))"
   ]
  },
  {
   "cell_type": "markdown",
   "metadata": {},
   "source": [
    "### Evaluate transition performance of the model"
   ]
  },
  {
   "cell_type": "code",
   "execution_count": 7,
   "metadata": {
    "collapsed": false
   },
   "outputs": [
    {
     "name": "stdout",
     "output_type": "stream",
     "text": [
      "Loading model\n",
      "Successfully loaded\n",
      "Four score and seven years ago our fathers brought forth on this continent, a new nation, conceived in Liberty, and dedicated to the proposition that all men are created equal.\n",
      "\n",
      "Now we are engaged in a great civil war, testing whether that nation, or any nation so conceived and so dedicated, can long endure. We are met on a great battle-field of that war. We have come to dedicate a portion of that field, as a final resting place for those who here gave their lives that that nation might live. It is altogether fitting and proper that we should do this.\n",
      "\n",
      "But, in a larger sense, we can not dedicate[INVALID]we can not consecrate[INVALID]we can not hallow[INVALID]this ground. The brave men, living and dead, who struggled here, have consecrated it, far above our poor power to add or detract. The world will little note, nor long remember what we say here, but it can never forget what they did here. It is for us the living, rather, to be dedicated here to the unfinished work which they who fought here have thus far so nobly advanced. It is rather for us to be here dedicated to the great task remaining before us[INVALID]that from these honored dead we take increased devotion to that cause for which they gave the last full measure of devotion[INVALID]that we here highly resolve that these dead shall not have died in vain[INVALID]that this nation, under God, shall have a new birth of freedom[INVALID]and that government of the people, by the people, for the people, shall not perish from the earth.\n",
      "\n"
     ]
    }
   ],
   "source": [
    "with tf.Session() as sess:\n",
    "    print(\"Loading model\")\n",
    "    ckpt=tf.train.get_checkpoint_state(modelParamPath)\n",
    "    if ckpt and ckpt.model_checkpoint_path:  \n",
    "        saver.restore(sess,ckpt.model_checkpoint_path)\n",
    "        print(\"Successfully loaded\")\n",
    "    result=sess.run(Test.netOutputs,{Test.inputs:X})\n",
    "print(Decode(result))"
   ]
  },
  {
   "cell_type": "code",
   "execution_count": null,
   "metadata": {
    "collapsed": true
   },
   "outputs": [],
   "source": []
  }
 ],
 "metadata": {
  "kernelspec": {
   "display_name": "Python 3",
   "language": "python",
   "name": "python3"
  },
  "language_info": {
   "codemirror_mode": {
    "name": "ipython",
    "version": 3
   },
   "file_extension": ".py",
   "mimetype": "text/x-python",
   "name": "python",
   "nbconvert_exporter": "python",
   "pygments_lexer": "ipython3",
   "version": "3.5.2"
  }
 },
 "nbformat": 4,
 "nbformat_minor": 1
}
