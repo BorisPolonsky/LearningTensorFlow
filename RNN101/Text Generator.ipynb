{
 "cells": [
  {
   "cell_type": "markdown",
   "metadata": {},
   "source": [
    "# Text generator based on RNN"
   ]
  },
  {
   "cell_type": "markdown",
   "metadata": {},
   "source": [
    "## Brief\n",
    "Generate fake abstract with RNN model under tensorflow r1.3."
   ]
  },
  {
   "cell_type": "markdown",
   "metadata": {},
   "source": [
    "### Import libraries"
   ]
  },
  {
   "cell_type": "code",
   "execution_count": 1,
   "metadata": {
    "collapsed": false
   },
   "outputs": [],
   "source": [
    "import tensorflow as tf\n",
    "import numpy as np\n",
    "import random\n",
    "import os"
   ]
  },
  {
   "cell_type": "markdown",
   "metadata": {},
   "source": [
    "### Configurations "
   ]
  },
  {
   "cell_type": "code",
   "execution_count": 2,
   "metadata": {
    "collapsed": true
   },
   "outputs": [],
   "source": [
    "vocab = (\" $%'()+,-./0123456789:;=?ABCDEFGHIJKLMNOPQRSTUVWXYZ\"\n",
    "            \"\\\\^_abcdefghijklmnopqrstuvwxyz{|}\\n\")\n",
    "graph_path = r\"./graphs\"\n",
    "test_text_path = os.path.normpath(r\"../Dataset/arvix_abstracts.txt\")\n",
    "batch_size=50\n",
    "model_param_path=os.path.normpath(r\"./model_checkpoints\")"
   ]
  },
  {
   "cell_type": "markdown",
   "metadata": {},
   "source": [
    "### Data encoding\n",
    "#### Basic Assumption\n",
    "\n",
    "* A full string sequence consists $START$ & $STOP$ signal with characters in the middle. \n",
    "\n",
    "#### Encoding policy\n",
    "* A set $\\mathcal{S}$ that consists of many characters is utilized to encode the characters.\n",
    "* The $1^{st}$ entry of the vector corresponds to $UNKNOWN$ characters(l.e. characters that are beyond $\\mathcal{S}$). \n",
    "* The last entry of the vector corresponds to $STOP$ signal of the sequence. \n",
    "* The entries in the middle corresponds to the indices of the characters within $\\mathcal{S}$. \n",
    "* The $START$ signal is represented as a zero vector. \n",
    "\n",
    "#### Implementation & Test\n",
    "##### Declaration"
   ]
  },
  {
   "cell_type": "code",
   "execution_count": 3,
   "metadata": {
    "collapsed": false
   },
   "outputs": [],
   "source": [
    "class TextCodec:\n",
    "    def __init__(self, vocab):\n",
    "        self._vocab = vocab\n",
    "        self._dim = len(vocab) + 2\n",
    "\n",
    "    def encode(self, string, sess = None, start=True, stop=True):\n",
    "        \"\"\"\n",
    "        Encode string.\n",
    "        Each character is represented as a N-dimension one hot vector. \n",
    "        N = len(self._vocab)+ 2\n",
    "        \n",
    "        Note:\n",
    "        The first entry of the vector corresponds to unknown character. \n",
    "        The last entry of the vector corresponds to STOP signal of the sequence. \n",
    "        The entries in the middle corresponds to the index of the character. \n",
    "        The START signal is represented as a zero vector. \n",
    "        \"\"\"\n",
    "        tensor=[vocab.find(ch)+1 for ch in string]\n",
    "        if stop:\n",
    "             tensor.append(len(vocab)+1)  # String + STOP\n",
    "        tensor=tf.one_hot(tensor,depth=len(vocab)+2,on_value=1.0,off_value=0.0,axis=-1, dtype=tf.float32)\n",
    "        if start:\n",
    "            tensor=tf.concat([tf.zeros([1, len(vocab)+2],dtype=tf.float32),tensor],axis=0)  # String + START\n",
    "        if sess is None:\n",
    "            with tf.Session() as sess:\n",
    "                nparray=tensor.eval()\n",
    "        elif type(sess) == tf.Session:\n",
    "            nparray = tensor.eval(session=sess)\n",
    "        else:\n",
    "            raise TypeError('\"sess\" must be {}, got {}'.format(tf.Session, type(sess)))    \n",
    "        return nparray\n",
    "\n",
    "    def decode(self, nparray, default=\"[UNKNOWN]\",start=\"[START]\",stop=\"[STOP]\",strip=False):\n",
    "        text_list=[]\n",
    "        indices=np.argmax(nparray,axis=1)\n",
    "        for v, ch_i in zip(nparray,indices):\n",
    "            if np.all(v==0):\n",
    "                text_list.append(start if not strip else \"\")\n",
    "            elif ch_i==0:\n",
    "                text_list.append(default)\n",
    "            elif ch_i==len(self._vocab)+1:\n",
    "                text_list.append(stop if not strip else \"\")\n",
    "            else:\n",
    "                text_list.append(vocab[ch_i-1])\n",
    "        return \"\".join(text_list)\n",
    "    \n",
    "    @property\n",
    "    def dim(self):\n",
    "        return self._dim"
   ]
  },
  {
   "cell_type": "markdown",
   "metadata": {},
   "source": [
    "##### Test\n",
    "See how encoding and decoding work. "
   ]
  },
  {
   "cell_type": "code",
   "execution_count": 4,
   "metadata": {
    "collapsed": false
   },
   "outputs": [
    {
     "name": "stdout",
     "output_type": "stream",
     "text": [
      "Encoded text looks like:\n",
      "[[ 0.  0.  0. ...,  0.  0.  0.]\n",
      " [ 0.  0.  0. ...,  0.  0.  0.]\n",
      " [ 0.  0.  0. ...,  0.  0.  0.]\n",
      " ..., \n",
      " [ 0.  0.  0. ...,  0.  0.  0.]\n",
      " [ 1.  0.  0. ...,  0.  0.  0.]\n",
      " [ 0.  0.  0. ...,  0.  0.  1.]]\n",
      "Decoded text looks like:\n",
      "[START]Hello world[UNKNOWN][STOP]\n"
     ]
    }
   ],
   "source": [
    "test_codec=TextCodec(vocab)\n",
    "test_text_encoded=test_codec.encode(\"Hello world!\")\n",
    "print(\"Encoded text looks like:\\n{}\".format(test_text_encoded))\n",
    "test_text_decoded=test_codec.decode(nparray=test_text_encoded,strip=False)\n",
    "print(\"Decoded text looks like:\\n{}\".format(test_text_decoded))"
   ]
  },
  {
   "cell_type": "markdown",
   "metadata": {},
   "source": [
    "## Load data set"
   ]
  },
  {
   "cell_type": "code",
   "execution_count": 5,
   "metadata": {
    "collapsed": false,
    "scrolled": false
   },
   "outputs": [
    {
     "name": "stdout",
     "output_type": "stream",
     "text": [
      "Loaded abstract from a total of 7201 theses.\n",
      "A sample text in the data set:\n",
      "Restricted Boltzmann machines are undirected neural networks which have been shown to be effective in many applications, including serving as initializations for training deep multi-layer neural networks. One of the main reasons for their success is the existence of efficient and practical stochastic algorithms, such as contrastive divergence, for unsupervised training. We propose an alternative deterministic iterative procedure based on an improved mean field method from statistical physics known as the Thouless-Anderson-Palmer approach. We demonstrate that our algorithm provides performance equal to, and sometimes superior to, persistent contrastive divergence, while also providing a clear and easy to evaluate objective function. We believe that this strategy can be easily generalized to other models as well as to more accurate higher-order approximations, paving the way for systematic improvements in training Boltzmann machines with hidden units.\n",
      "Encoded text:\n",
      "[[ 0.  0.  0. ...,  0.  0.  0.]\n",
      " [ 0.  0.  0. ...,  0.  0.  0.]\n",
      " [ 0.  0.  0. ...,  0.  0.  0.]\n",
      " ..., \n",
      " [ 0.  0.  0. ...,  0.  0.  0.]\n",
      " [ 0.  0.  0. ...,  0.  0.  0.]\n",
      " [ 0.  0.  0. ...,  0.  0.  1.]]\n",
      "Decoded text:\n",
      "[START]Restricted Boltzmann machines are undirected neural networks which have been shown to be effective in many applications, including serving as initializations for training deep multi-layer neural networks. One of the main reasons for their success is the existence of efficient and practical stochastic algorithms, such as contrastive divergence, for unsupervised training. We propose an alternative deterministic iterative procedure based on an improved mean field method from statistical physics known as the Thouless-Anderson-Palmer approach. We demonstrate that our algorithm provides performance equal to, and sometimes superior to, persistent contrastive divergence, while also providing a clear and easy to evaluate objective function. We believe that this strategy can be easily generalized to other models as well as to more accurate higher-order approximations, paving the way for systematic improvements in training Boltzmann machines with hidden units.[STOP]\n"
     ]
    }
   ],
   "source": [
    "with open(test_text_path, \"r\") as f:\n",
    "    raw_text_list = \"\".join(f.readlines()).split(\"\\n\")\n",
    "print(\"Loaded abstract from a total of {} theses.\".format(len(raw_text_list)))\n",
    "# See what we have loaded\n",
    "sample_text_no = random.randint(0, len(raw_text_list)-1)\n",
    "sample_text_raw = raw_text_list[sample_text_no]\n",
    "print(\"A sample text in the data set:\\n{}\".format(sample_text_raw))\n",
    "sample_text_encoded=test_codec.encode(sample_text_raw)\n",
    "print(\"Encoded text:\\n{}\".format(sample_text_encoded))\n",
    "print(\"Decoded text:\\n{}\".format(test_codec.decode(sample_text_encoded)))"
   ]
  },
  {
   "cell_type": "markdown",
   "metadata": {},
   "source": [
    "### Define model class"
   ]
  },
  {
   "cell_type": "code",
   "execution_count": 6,
   "metadata": {
    "collapsed": false
   },
   "outputs": [],
   "source": [
    "class DRNN(tf.nn.rnn_cell.RNNCell):\n",
    "    def __init__(self, input_dim, hidden_dim, output_dim, num_hidden_layer, dtype=tf.float32):\n",
    "        super(tf.nn.rnn_cell.RNNCell, self).__init__(dtype=dtype)\n",
    "        assert type(input_dim) == int and input_dim > 0, \"Invalid input dimension. \"\n",
    "        self._input_dim = input_dim\n",
    "        assert type(num_hidden_layer) == int and num_hidden_layer > 0, \"Invalid number of hidden layer. \"\n",
    "        self._num_hidden_layer = num_hidden_layer\n",
    "        assert type(hidden_dim) == int and hidden_dim > 0, \"Invalid dimension of hidden states. \"\n",
    "        self._hidden_dim = hidden_dim\n",
    "        assert type(output_dim) == int and output_dim > 0, \"Invalid dimension of output dimension. \"\n",
    "        self._output_dim = output_dim\n",
    "        self._state_is_tuple = True\n",
    "        with tf.variable_scope(\"input_layer\"):\n",
    "            self._W_xh = tf.get_variable(\"W_xh\", shape=[self._input_dim, self._hidden_dim])\n",
    "            self._b_xh = tf.get_variable(\"b_xh\", shape=[self._hidden_dim])\n",
    "        with tf.variable_scope(\"rnn_layers\"):\n",
    "            self._cells = [tf.nn.rnn_cell.GRUCell(self._hidden_dim) for _ in range(num_hidden_layer)]\n",
    "        with tf.variable_scope(\"output_layer\"):\n",
    "            self._W_ho_list = [tf.get_variable(\"W_h{}o\".format(i), shape=[self._hidden_dim, self._output_dim])\n",
    "                               for i in range(num_hidden_layer)]\n",
    "            self._b_ho_list = [tf.get_variable(\"b_h{}o\".format(i), shape=[self._output_dim])\n",
    "                               for i in range(num_hidden_layer)]\n",
    "\n",
    "    @property\n",
    "    def output_size(self):\n",
    "        return self._output_dim\n",
    "\n",
    "    @property\n",
    "    def state_size(self):\n",
    "        return (self._hidden_dim,) * self._num_hidden_layer\n",
    "\n",
    "    def zero_state(self, batch_size, dtype):\n",
    "        if self._state_is_tuple:\n",
    "            return tuple(cell.zero_state(batch_size, dtype)for cell in self._cells)\n",
    "        else:\n",
    "            raise NotImplementedError(\"Not implemented yet.\")\n",
    "\n",
    "    def __call__(self, _input, state, scope=None):\n",
    "        assert (type(state) == tuple and len(state) == self._num_hidden_layer), \\\n",
    "        \"state must be a tuple of size {}\".format(self._num_hidden_layer)\n",
    "        hidden_layer_input = tf.matmul(_input, self._W_xh) + self._b_xh\n",
    "        prev_output = hidden_layer_input\n",
    "        final_state = []\n",
    "        output = None\n",
    "        for hidden_layer_index, hidden_cell in enumerate(self._cells):\n",
    "            with tf.variable_scope(\"cell_{}\".format(hidden_layer_index)):\n",
    "                new_output, new_state = hidden_cell(prev_output, state[hidden_layer_index])\n",
    "                prev_output = new_output + hidden_layer_input\n",
    "                final_state.append(new_state)\n",
    "            W_ho = self._W_ho_list[hidden_layer_index]\n",
    "            b_ho = self._b_ho_list[hidden_layer_index]\n",
    "            if output is None:\n",
    "                output = tf.matmul(new_output, W_ho) + b_ho\n",
    "            else:\n",
    "                output = output + tf.matmul(new_output, W_ho) + b_ho\n",
    "        output = tf.tanh(output)\n",
    "        final_state = tuple(final_state)\n",
    "        return output, final_state"
   ]
  },
  {
   "cell_type": "markdown",
   "metadata": {},
   "source": [
    "### Make an instance and define loss function\n",
    "#### Thoughts\n",
    "If GRU is used, then the outputs of GRU shall not be directly used as desired output without further transforms. (e.g. A cell accpet 2 inputs, a state from the previous cell and the input of this cell(which is approximated by the state input), then the RNN cell can be treated as a normal feed forward network. "
   ]
  },
  {
   "cell_type": "code",
   "execution_count": 7,
   "metadata": {
    "collapsed": false
   },
   "outputs": [],
   "source": [
    "tf.reset_default_graph()\n",
    "input_dim = output_dim = test_codec.dim\n",
    "hidden_dim = 100\n",
    "num_hidden_layer = 3\n",
    "# test_rnn_cell = DRNN(input_dim, hidden_dim, output_dim, num_hidden_layer)\n",
    "test_rnn_cell = tf.nn.rnn_cell.GRUCell(num_units=input_dim)\n",
    "init_state = tf.placeholder_with_default(input=test_rnn_cell.zero_state(batch_size=1, dtype=tf.float32), shape=[None, None])\n",
    "seq_input = tf.placeholder(shape=[None, input_dim], dtype=tf.float32)\n",
    "batch_seq_input = tf.reshape(tensor=seq_input, shape=[1, -1, input_dim]) #  One sequence in a batch\n",
    "target_seq_output = tf.placeholder(shape=[None, output_dim], dtype=tf.float32)\n",
    "batch_seq_output, batch_seq_state = tf.nn.dynamic_rnn(cell=test_rnn_cell,inputs=batch_seq_input, dtype=tf.float32)\n",
    "seq_output = tf.squeeze(input=batch_seq_output, axis=[0])\n",
    "loss = tf.reduce_mean(tf.nn.softmax_cross_entropy_with_logits(labels=target_seq_output, logits=seq_output))"
   ]
  },
  {
   "cell_type": "markdown",
   "metadata": {},
   "source": [
    "### Training"
   ]
  },
  {
   "cell_type": "code",
   "execution_count": 8,
   "metadata": {
    "collapsed": false
   },
   "outputs": [
    {
     "name": "stdout",
     "output_type": "stream",
     "text": [
      "[array([[ 1.]])]\n"
     ]
    }
   ],
   "source": [
    "def partitions(seq, length):\n",
    "    return np.split(seq, range(length,np.shape(seq)[0],length))        \n",
    "print(list(partitions(np.eye(1),2)))"
   ]
  },
  {
   "cell_type": "code",
   "execution_count": 9,
   "metadata": {
    "collapsed": false,
    "scrolled": false
   },
   "outputs": [
    {
     "name": "stdout",
     "output_type": "stream",
     "text": [
      "Loss of data number 0 at epoch 0:\n",
      "4.411398887634277\n",
      "Decoded output given input: Nyy .ctttttt                                                                                                                                                                                                                                                                                                                                                                                                                                                                                                                                                                                                                                                                                                                                                                                                                                                                                                                                                                                                                                                                                                                                                                                                                                                                                                                                                                                                                                                                                                                                                                                                                                                                                                                                                                                                                                                                 \n",
      "Loss of data number 49 at epoch 0:\n",
      "3.413055181503296\n",
      "Decoded output given input: on                                                                                                                                                                                                                                                                                                                                                                                                                                                                                                                                                                                                                                                                                                                                                                                                                                                                                                                                                                                                                                                                                                                                                                                                                                                                                                                                                                                                                                                                                                                                                                                                                                                                                                                                                                                                                                                                                                                                                         \n",
      "Loss of data number 99 at epoch 0:\n",
      "3.533729076385498\n",
      "Decoded output given input: e                                                                                                          e                                                                                                                                                                                                                                                                                                                                                                                                                                                      e                                                                                                                                                                   e                         e                                                                                                                                                                                                                                                    e                                              e                                            \n",
      "Loss of data number 149 at epoch 0:\n",
      "3.3208842277526855\n",
      "Decoded output given input: e              e      e       e                    e                      e            e     e                 e            e       e        e      e  e         e                  e e      e e     e            e  e                          e    e       e     e  e e   e          e    e e               e        e        e  e   e  e  e e   e          e              e      e   e      e  e  ee e   e              e  e e  e                e         e    e        e    e e  e          e   e  e e  e     e        e e   e          e               e                  e            e    e  e          e   e      e  e      e         e e   e         e    e           e   ee         e  e   e          e      e       e           e              e    e          e             e           e        e e   e          e   e  e       e        e  e     e  e  e ee    e e   e         e     e    e e   e        e   e     e                            e  e      e     e   e   e                       e    e  e e                         e  ee   e               e   e   e                               e e   e    e        e     e                  e             e ee  ee    e      e           e      e  e     e  ee      e  e  e           e                    ee            e  e  e      e  e    e       e  e  e    e           e              e         e  ee  e  e  e                    e       e                   e  ee   e    e  e  e  e      e  e    e      e     e    e  ee      e          e e e          e   e         e       e   e e    e  ee      e         e e              e       e  e        e  ee   e        e      e    e     e e                       e  e e      e             e           e                 e  e        e e      e   e     e  ee      e         e  ee e        e       e         e       e            e       e             e        e  ee        e  e  ee  e  e  e          e   e        e e e    \n",
      "Loss of data number 199 at epoch 0:\n",
      "3.496342182159424\n",
      "Decoded output given input: ee ee    e e   ee e e         e    e         e    e   e    e e ee  ee      e   e      ee    e     e  e  e  e e e eee  e  e  ee  e   ee   ee   e     e   e   e  ee      e  e e     e      e   ee    e   e  e   e    e      e e  e  e   e  e   ee ee    e    e      e   e  e  e e e   e    ee   ee e  e     e ee eee  e  e  e  e e      e e e  e  e ee e e e  eee e ee    e e  e    e  eee e  eee e     e e ee ee  e e  ee  ee e  e  e     ee  e   ee  e     e   ee   e ee  e e eeee  ee e  e   ee   ee  eee  e   e   e  e ee  ee  e  ee      ee  eee    e e  e     e  e ee e  e e e e e  e  ee e e ee ee  e e  e ee  e  ee  e    e e  e e e   e eeee e  e  e   eee e ee  ee   ee e  e  ee   e  e   e       e   e  eee e    e   e e   e ee e    e e  e e e    e   e  e ee  ee e  eee   ee e e eee ee  e eeeee  ee e  e   ee  ee    e e  e  e e  eee   e    e e  e    e e e   ee ee   e e ee  e e   e e e ee   e    e  ee ee  e e e  e eee  e  e  e    e e  e    e  ee e    e  e e  e  ee e e  e   ee   e   e e  e ee e e e  e  ee  e ee  e  e   e  e  e e   e e  e  e e e  e e  eee  ee e    e  e  e e e e  e      \n",
      "Loss of data number 249 at epoch 0:\n",
      "3.2922704219818115\n",
      "Decoded output given input: e   eee    e e e    e e   e   e  e ee ee   eee  e  e    e  e  eee e  eee  ee e  e e e  e  ee e e e e ee ee ee  e  ee     eeee     e e e ee   e   e  ee e e   e   e  eee  eee ee  e ee e ee   e ee ee e  eeeeee e  e  e  ee  eeeee e e ee     eeee    e   e e e ee  ee e e eee     e  e e e  eee  ee  eeeee    e e ee e e ee  e  e  ee  eeee ee e eee     e  e e e e e ee e  ee   e ee  ee ee  ee ee  ee e eee e   e e  eee e  e e  ee eeeeee eee e ee  eee e  e    e e ee e ee eee e  e     e  e e   e ee e  e e eee      eee e eee     e  e e e eee ee e   ee  ee e e e e  eee e   eee e e  ee e e  e e  e eee e e e e  e e ee e    e  eee  e e ee  e  e e    eee eee  e e ee  ee  ee e ee e  e ee eee     e  e e e eeee eeeeeee  ee ee ee e eeee     ee ee  e e     e  e e e eee e  e ee    ee e   e ee  e  e e eee     e  e e e ee e e ee ee  e  e  e ee e   e  e ee ee e ee e eee     e   e  e ee e ee e eee     e  e e e    eee e  e ee  e e  e e  eeee   eeee e  eee  e ee   e eeee  eeeeee eee eeeeee   e  e e  e e e  ee ee eee ee ee ee e e  ee eee e e  e  e  e  ee  e eeee  eeeeee eee eeeeee  e e ee e e e eee e ee  e  e  e  e ee e  eeee  e  eeee ee e  e e eee e ee  ee e ee e e ee   e   eee e   e  e  e  e  e  ee ee  ee ee  ee  e e eee ee  e  eeee e eeeee  ee e  ee  eee e  ee e   e  e  e  eee   e   e  e  e  e ee  e  eeee ee e  e e eee  e e eeeee e  ee  eeee ee  e  e  ee  e e  e  e e ee  e  e  e  ee  e e    e  ee   eeee e ee  ee e   e  e  e  eee eee ee   e e eeee  ee   ee e eeeee e  e e e e eeeee  ee  e ee eeee e ee    e e e e e  e  ee   ee e ee e ee e e ee eeee  eee e ee    e ee  e  eeee  ee   eeee ee  ee eee e ee e e e eee  e  e  ee  e e  eeeee e  eee  eee e  e e e eeee e eeee  e eee    eee eee e  e e  ee e     eee  ee ee   eeee ee  ee  ee eee e   e  e  ee eee eee ee eee eee  e  e   e  eeee e  e   e ee  e eee e e  e  e   eee e  e ee  e  ee  e  e  e ee  ee  eeee ee  e  e  e e e e e ee e e e ee e \n",
      "Loss of data number 299 at epoch 0:\n",
      "3.47489070892334\n",
      "Decoded output given input: ee  e    e e   ee   e         e    e         e    e   e    e e ee   e      e   e      ee    e     e  e  e  e   e eee     e   e  e   ee   ee         e   e   e  ee        ee e e          e   ee    e   e  e e e e  e      e e  e      e  e      ee    e    e      ee  e     e e e   ee e ee      e  e     e ee e ee e  e  e  e e  e   e   e  e  e ee   e e   ee e ee         e    e  eee e  eee e e   e e ee  e    e  ee  e  e  e  e     ee  e   ee  e     e    e   e  e  e e  eee  e  e  e   ee e ee  eee  e       e  e ee  ee  e  ee      ee  eee    e e  e     e  e  e e    e     e  e  e  e e ee ee  e e  e ee  e  eee      e e    e e   e  eee e  e  eee e e e ee  ee    e e  e  eee     e   e       e   e   ee      e e e e     ee      e e    e          e    ee  ee e   ee e  e e e e e ee  e   eee  e  e  e   ee  ee    e e  e  e e  eee   e    e e  e    e e e    e ee   ee  ee  e e   e e e  e   ee   e  e   e  e e e    eee  e  e  e    e e  e    e  ee e    e    e  e  e  e e  ee   e         e  e ee e e e  e  ee  e ee  e  e e e  e    e   e e  e  e e e  e e  ee e    e    e  e    e e e  e      \n",
      "Loss of data number 349 at epoch 0:\n",
      "3.232637405395508\n",
      "Decoded output given input: eee eee    e e e    e e   e   e  e ee ee e eee  ee ee   e eee eee e  eee  ee e  e e e  e  ee e   e e ee ee ee  e  ee     eeee  e  e e e ee   e  ee  ee e e   e   e  eeee eee ee  e ee e e    e ee ee e  eeeeee e  e ee  eee eeeee eee ee    eeeee ee e   e e e ee eee e e eee  e ee ee e   eeee   e  eeeee  e e e  e e e ee  e ee  ee eee e eeee eee  e ee ee e   e e ee e  ee   e ee  ee eee ee ee  eeee eee e   e    eee e  e e  ee e eee  eee e ee  eeeee  e  e e e  e e ee eee ee e  e ee ee e   e eeee  e e eeee  e  eeeee eee  e ee ee e   eee ee e   ee  ee eee e e  eee e   eee eee  ee eee  eee  e eee e e eee  e e  e e   ee  eee  e e ee  e  e e  e e e  ee ee   ee  ee  ee e ee e  e ee eee  e ee ee e   ee e eeeee e  ee ee ee e eee    e  eeee  e e  e ee ee e   eee e  e ee    ee e  eeeeee e eeee eeee e ee ee e   ee e e ee ee  e  e  e ee e   ee e ee ee e eeee eeee e ee   e  e ee e eeee eeee e ee ee e ee e eee e  e ee ee ee e e  eee   eeeee e  eee  e eeee e e ee eeeeeeeeeee e eee   eee e e  e e e   e ee eee ee  e ee e e  ee eee e e  e  e ee eeee e e ee eeeeeeeeeee e eee   e e ee e eee eee e eee e ee ee  e ee e   eee  e  eee  ee ee e e eee e ee  ee e ee e e  e   e e eee ee ee  ee e  e  e  ee eee ee ee  eee e e eee ee  e  eee  eeeeeee  ee e   e  eee e  ee ee ee  ee e  eee   e e e  ee e  e ee  e  eee  ee ee e e eee  e e eeee  e  ee eeeee eee e ee eee  e e  e ee e ee  ee e ee eee  e e    e  ee   eeee e ee  ee ee ee  ee e  eee e eeee   e e ee e  ee   ee e eeee  ee e e e eeeeeee  ee  e e  eeee e ee  e e e e e ee e  ee   ee e ee e ee e e ee eee   eee e ee    e eee ee eeee  ee   eeee ee  ee  ee e ee e e e eeee e ee eee  e e  eeeee e  eeee eee ee e e e eee eeeeeee  e  ee  e eee eee e  e e  ee e e eeeee  ee ee   eeee ee  ee  ee eee e   e  e  eeeeee eee ee eee e ee e ee   e  eeee ee e   e eee e eee e ee e ee   eee ee e ee  e  ee ee  e  e ee  ee eeeee eee e ee ee e e e e ee e e e ee e \n",
      "Loss of data number 399 at epoch 0:\n",
      "3.401179790496826\n",
      "Decoded output given input: ee  ee   e ee eee   e         e e  e  e  e  ee  e e   e  e e e ee  ee      ee ee e ee ee    e e   ee e  ee e e e eee  e  e  ee  e   ee   ee    e  e ee  e e ee ee    e   ee e e e  ee    e e ee  e e   e  e e eeee ee  ee e e  e   e  e  e e ee ee  e e e  e      ee ee  e  e e e   eeee ee e ee e  e   e e ee eeee e  e  ee e eeee   e   ee ee e ee e e e  eee e ee    e    e e  e  eee e  eee e e e e e eeeee    e  ee  ee e ee  ee e  ee  e   ee  e   eee e ee   e  ee eee eeee  ee e ee   eeee ee  eee  e       e  e ee  ee  e  eee     ee eeee  e eee  e e   e  e ee e    e e e e  e  ee e e eeeeee e eeee ee ee  eee e    e eee  e e   ee eee e  e  eee eee e ee  ee e ee e ee  eee e  ee e e  e    e   e  eee      e eee e   e ee e    e eee  eee e  e   e  e ee  ee e   ee e ee e e eee ee  e eeeee  ee e eee  ee  ee    e e  ee eee  eeeee e  e eee  e e  e e e e ee ee eeee  ee  e e  ee e eeee   ee   e  e e e  e e e  e eeeeee  e  e  e eee  e e  e  ee e    e  e e ee  ee e e  ee e ee  e e   e  e ee e e eeee  eee e ee  e  eee ee e  e eee e ee ee e e e ee e eee e   ee e  e ee  e e eee  e      \n",
      "Loss of data number 449 at epoch 0:\n",
      "3.1844444274902344\n",
      "Decoded output given input: ee  eee    e e e    e e   e   e     e ee    e   e  e    e  ee  ee e       ee    e e    e  ee     e e ee    ee  e  ee     eeee  e  e e e e    e      e  e e   e   e  e e   ee        e e      e ee e  e  eeee e e  e  e  ee  ee    e e ee     eeee    e   e     ee  ee e e   e     e  e e    e e   e   eee     e e  e e e ee  e  e  ee  e  e  e e   e     e  e e   e   ee e  ee   e  e  ee ee   e  e  ee e   e e   e    ee  e    e  ee    ee    e e  e  e e e  e    e e  e   ee  ee ee e  e  e  e e   e  e e  e e e e        e e   e  e  e  e e   ee  ee      e  ee e e e e  ee  e    ee e e  ee e e  eee  e ee  e e eee  e e  e e    e  eee  e e ee  e  e e  e e e  e       ee  ee  ee e  e    e  e  ee     e  e e   e  e  eee  e   e  e ee e e e    e  e  e    e  e  e  e e   ee  e  e ee     e e   e  e  e  e e   e  e  e  e e   ee e   ee  e  e  e  e  e e   e  e  e ee   ee e   e  e  e   e  e  e   ee e   e  e  e  e e e  e  ee e    ee  e         e e    eeee e  eee     e   e   ee e ee  e  ee   eee    e    e  e e e   e ee  ee e      e e e  ee eee      e  e  e  e   e   ee e ee  e  ee   eee   e e  e   e e   e   ee  e  e  e  e  e e   eee  e   ee  ee e  e     e e ee  ee   ee      e   e   eee e   e  e  e     e  ee ee   e  e  ee  e     e ee  e   ee  e  e ee  ee e   e  ee  e  ee e   e  e  e   ee   e   e  ee e  e ee  e   ee  ee e  e     e  e e ee e  e  ee  ee e  e  e  e  ee  e e     e e ee  e  e  e  ee  e e    e  ee   eee  e  e  ee e   e  e  e   ee e e ee   e   e  e  ee      e  e e  e  e e e e  e ee  ee  e e  ee   e  e    e e e e e  e  ee      e  e e  e e e  e  ee   e   e  e    e  e  ee e  e  ee   eee  e   ee   e e ee e     e e  e  e  ee  e e   eee  e  e e  e e e    e    ee  e  e    e  ee    ee  eee e    e  ee e e   e e  e   e   eee   e  ee   e  ee e   e  e  ee e   eee ee   e   e  e  e   e  e ee e  e      e  e   e   e  e  e   ee  e  e ee  e  ee  e  e  e  e  ee  ee e  e  e  e  e e   e e  e   e e ee e \n",
      "Loss of data number 499 at epoch 0:\n",
      "3.360192060470581\n",
      "Decoded output given input: ee  ee   e e  eee   e         e e  e  e  e  ee  e e   ee e   e ee   e      ee  e e  e ee    e e   ee e  ee e e e eee  e  e  ee  e   ee    e    e  e ee  e e e  ee         e e   e  e     e   ee  e e   e  e e  e   ee   e   e  e   e  e  e e  e ee    e e  ee      e  e  e  e e e    e e  e e  e e  e     e ee  eee e     e  e e  e   e   ee  e e  e     e  eee e ee         e e  e  e e    e e e   e e e  e  e    e   e  e  e  e  e     ee  e   ee  e     e e  e   e  e  e e  eee  e  e  e    e e  e  e e          e  e ee  eee e   e      ee  eee    e e  e e   e  e  e e    e     e  e  e    e ee  e  e e  e  e  e   ee      e e    e e   e  ee  e  e    e  e  e ee   e e  e e  e   ee     e   e           e  eee         ee e   e ee      e e    e   e      e     e   e e   ee e  e e e e e ee     eeee  e  e  e   ee  e          ee e e  e e   e  e e e  e e  e e e e  e ee   ee  ee  e e   e   e  e   e    e      e  e e e    eeee e  e  e  e e e  e e  e  ee e    e    e  e  e    e  ee   e   e     e  e ee e e e  e   ee e  e  e   ee ee e  e e e   ee e  e e    e e  ee      e    e  e    e eee  e      \n",
      "Loss of data number 549 at epoch 0:\n",
      "3.163694381713867\n",
      "Decoded output given input: ee  e e    e   e    e e       e     e  e    e   e  e    e  e   ee         ee    e e    e   e       e ee    ee  e   e     ee e  e    e   e    e      e  e e   e   e  e e   e         e e      ee e e  e   eee e e  e  e   e  ee    e e ee     ee e  e e   e     ee  ee e e   e  e  e  e      e e        e      e e    e e ee  e  e   e  e  e  e e   e  e  e  e     e   e  e  ee   e  e  ee e    e  e  ee e   e e   e    e   e    e   e    ee      e  e  e e e  e    e e  e   e   ee e  e  e  e  e     e  e    e   e e       ee e   e  e  e  e     e   e       e   e e   e    e   e     e e e  ee e e  e e  e e   e e e e  e e  e e    e  e e    e ee  e  e      e e  e       e   ee   e e  e    e  e  ee  e  e  e     e  e  eee  e   e  e  e e   e    e  e  e    e  e  e  e     e   e  e ee       e   e  e  e  e e  ee  e  e  e     e  e   ee  e  e     e  e e   e  e  e ee   ee e  ee  e  e   e  e  e   ee e  ee  e  e  e   e  e  ee      ee  e         e e    ee e    e e  e  e       ee   ee     ee    ee    e    e    e e     e   e         e e e  ee eee      e  e  e  e       ee   ee     ee    ee   e e  e   e e  ee   ee  e  e  e     e e   eee  e   ee  ee e  e       e ee  ee   ee      e   e   eee e   e  e  e     e  ee e    e  e  ee  e       ee  e   ee  e  e ee  ee e      e   e  ee e   e  e  e   ee   e   e  e  e  e ee  e   ee  ee e  e        e e ee e  e  ee  e  e  e  e  e  e   e e     e e e   e     e  e   e e    e  ee   e e  e  e  ee e   e  e  e   ee   e  e   e   e  e  ee      e  e e  e  e e e e  e ee  ee  e e   e   e  e    e e e e e  e  ee      e  e e  e   e  e   e   e   e  e    e  e  ee    e  ee   e e  e   ee     e e  e     eee  e  e  ee  e e    e   e  e e  e e e    e     e  e  e    e   e    ee  eee e    e  ee       e e  e   e   e e   e  ee   e  e  e   e  e  ee     eee  e   e   e  e  e   e  e ee e         e  e   e   e  e  e   e   e    e   e  ee  e  e  e  e  ee  e  e  e     e  e     e e  e     e ee e \n",
      "Loss of data number 599 at epoch 0:\n",
      "3.329397439956665\n",
      "Decoded output given input: ee  e    e    e e   e              e     e  e     e   e  e   e ee   e      ee  e e    e     e     e  e  e  e e e   e  e  e  e   e    e    e       e e   e   e  ee         e e   e        e   e     e   e  e e      e        e  e   e  e  e e    e     e    ee      e  e         e      e  e e    e        e ee  e e e     e  e e  e   e    e  e e  e     e    e e ee              e    e    e e e   e e    e       e   e  e  e  e  e     e   e    e  e     e e      e  e  e e  e e  e  e  e      e  e    e          e  e ee  ee  e   e      ee  eee      e  e     e     e e    e     e  e  e    e ee  e  e e  e  e  e   e       e      e     e  ee  e       e  e  e ee   e e    e  e   e      e   e           e    e         e        e       e      e          e     e   e e    e e    e e e          e ee  e  e  e    e  e          e  e e    e   e      e  e        e e    e     e  e     e   e   e      e    e      e    e e    e e  e     e      e  e    e  e  e    e    e  e  e    e  e    e   e     e    ee   e e  e   e  e  e  e   e   e    e   e   ee e    e      e  ee           e  e      e    e      \n",
      "Loss of data number 649 at epoch 0:\n",
      "3.119229793548584\n",
      "Decoded output given input: ee  e e    e   e      e       e     e       e   e  e       e   e          e            e   e       e e      e  e   e      e e  e    e        e      e  e         e    e   e         e e      e    e  e   e   e e     e   e   e    e e  e      e e    e   e      e  e  e e   e        e      e e        e             e e     e  e   e     e  e e   e        e     e          e   e  e   e      e  e   e e   e          e   e    e                e  e    e    e    e e      e   ee e  e        e     e  e    e   e e        e e   e        e     e   e       e   e e        e   e     e e    e  e e  e e  e e   e e e e  e e  e      e  e e    e     e              e       e   ee   e e          e  ee        e     e  e    e  e         e             e  e    e        e     e   e  e ee           e  e  e  e e   e        e     e  e          e     e  e     e     e ee    e e   e         e  e  e    e e   e        e   e     e        e  e                ee e    e e     e       e           e           e    e    e e     e   e           e e   e   e      e  e     e       e           e          e        e e   e    e        e     e e    e           e  e  e       e ee   e    e      e   e   e e        e        e   e      e  e   e  e       e   e       e  e ee   e e      e   e   e        e       e   e   e  e  e    e   e       e  e  e        e    e    e   e     e  e        e     e     e e e   e        e     e    e   e        e  e   e        e       e   e  e   e   e  e   e      e  e e  e  e e   e  e ee   e  e e   e   e  e    e e e   e  e   e      e  e    e   e          e   e  e    e  e        e   e        e   e      e e  e       e        e     e    e   e  e e    e      e                    e    e   e        e   e       e e      e         e   e   e  e      e  e   e      e   e       e         e    e  e         e  e       e         e   e        e   e     e  e  e   e     e  e        e     e e        e e    \n",
      "Loss of data number 699 at epoch 0:\n",
      "3.306863307952881\n",
      "Decoded output given input: ee  e    e      e                  e                  e      e  e   e          e                     e     e       e            e    e    e         e                     e                            e  e        e           e         e                            e                   e      e        e                                e       e          e                   e    e                   e           e        e            e    e        e        e            e                  e    e          e            e   e            e               e     e            e  e       e                   e   e              e         e                e  e   e         e   e                           e                  e                         e     e   e             e                 e        e    e  e               e        e                  e                         e                      e             e        e                    e            e          e                        e    e   e        e                            e                         e                  \n",
      "Loss of data number 749 at epoch 0:\n",
      "3.0844359397888184\n",
      "Decoded output given input: e                                                                                                                             s                                                                                                                                                                                                                                                                                                                                                                                                                                                                                                                                                                                                                                                                                                                                                                                                                                                                                                                                                                                                                                                                                                                                                                                                                                                                                                                                                                                                                                                                                                                                                                                                                                                                                                                                                                                                                            \n",
      "Loss of data number 799 at epoch 0:\n",
      "3.30507493019104\n",
      "Decoded output given input:                                                                                                                                                                                                                                                                                                                                                                                                                                                                                                                                                                                                                                                                                                                                                                                                                                                                                                                                                                                                                                                                                                                  \n",
      "Loss of data number 849 at epoch 0:\n",
      "3.058969497680664\n",
      "Decoded output given input:                                                                                                                               s                                                                                                                                                                                                                                                                                                                                                   t                                                                             s                                                                                                                                                                                                                                                                                                                                                                                                                                                                                                                                                                                                                                                                                                                                                                                                                                                                                                                                                                                   s                                                        s                                                                                                                                                                                                                                                                                                                                        t    \n",
      "Loss of data number 899 at epoch 0:\n",
      "3.308760166168213\n",
      "Decoded output given input:                                                                                                                                                                                                                                                                                                                                                              t                                                                                                                  t                                                                                                                                                                                                                                 t                                                                                                                                                                                                                                                                                                                                                                                              \n",
      "Loss of data number 949 at epoch 0:\n",
      "3.0467138290405273\n",
      "Decoded output given input:      t           s                                                                                                            s                        e                                                                                                                      t                                                                      t                                                                                                                            t     t                                           t                           s                                                                        t                                                              t                                                         t                                                   t                                           t                   t                          t            t                                            t                                                                                        t                                                           t                                                                         t                                                                                                                                                                              t                            t                                                                                                                             s                                                        s                                                        t                                                                                                                                                          t                 t                    t                                                   t                         t    \n",
      "Loss of data number 999 at epoch 0:\n",
      "3.304636001586914\n",
      "Decoded output given input:                t                                               t                                                                                                                                                                                                                                            t  t                             t    t          t                                                                                                                  t                                                                t  s                                             t  t                                                              t                                             t                                                                                                                                                                                                                  t                                                                                                                                                                           \n",
      "Loss of data number 1049 at epoch 0:\n",
      "3.039424180984497\n",
      "Decoded output given input:      t           s                         s                  t                           s                       s           s                                          t                              s               s                         s                           t                                                    s                 t                             t   s             s                             s                                              t     t                                           t                           s                                                                        t                                          s                   t                                                         t                                                   t                                           t     t             t                          t            t                                            t                                                        t                 s             t                                                           t                                               t   s                     t                     s             s                                s                s                                                                            s           t                            t                    s               s                       t              s                                 s               s                   s                                    s                    s                                   t                                                                                s                              s                    s                     t                 t                    t                       s               s           t                         t    \n",
      "Loss of data number 1099 at epoch 0:\n",
      "3.2981743812561035\n",
      "Decoded output given input:              t t                     t                         t   s                                                                     t                                                                                                                                                                  t  t                             t    t          t                                                        s                                                         t                                           t       s            t  s                                             t  t                 s                                            t   s             s                           t                                                      s                                             t                                                                                                             t                                                                                       s                                                                                   \n",
      "Loss of data number 1149 at epoch 0:\n",
      "3.0320355892181396\n",
      "Decoded output given input:      t           s                         s                  t                           s                       s           s                                          t         t                    s               s                         s                           t                                                    s     s           t                             t   s             s                             s                                            t t     t              s                            t                       s   s                      s              n              n                   t                                      t   s                   t                                                         t                                                   t                                           t     t             t                          t            t                                            t                                                        t         t       s             t                                                           t                   n                           t   s                     t                     s             s                                s                s                                                                            s     s     t                            t                    s               s                       t              s                                 s               s                   s                                    s       s        s   s                                   t                                                                                s                              s                    s                     t                 t      t             t                       s               s     s     t                         t    \n",
      "Loss of data number 1199 at epoch 0:\n",
      "3.281644821166992\n",
      "Decoded output given input:              t t                     t                  t      t   s                                                                     t    s                                                                                                                                                             t  t                             t    t          t                                                        s            s                                            t                                           t       s            t  s                                             t  t                 s                                            t   s             s                           t                                                      s                                             t                              s                                                                t      t      t           s                                                  t                        s                         s                                             o           \n",
      "Loss of data number 1249 at epoch 0:\n",
      "3.030395030975342\n",
      "Decoded output given input:      t           s                         t                  tn          n               s                       s           s                                          t   s     t                    s               s                         s                n          t              t                                     s     t           t                             t   s      s      s                             s                                        n   t t     t              s                            t                       s   s                    s s     n        n  s           n  s                t                                      t   s s                 t                       n                                 t                   s                               t            n                              t     t             t                          t            t   n                            n           t           n                                            t         t       s             t              n                          s                 t                   n           n               t   s                     t                     s      s      s           n                    s                s                                    n           n                           s     t     t                            t                    s               s                       t              s           s                     s               s      s            s              s                     s       s        s   s                                   t                                                                                s                t             s                    s               s     t            n    t      t       s     t                       s               s     t     t             s           t    \n",
      "Loss of data number 1299 at epoch 0:\n",
      "3.2643747329711914\n",
      "Decoded output given input:              t t                     t                  t      t   s                                                                     t    s                o                                       n                                                                                 s                  t  t                             t    t          t                                                        s            s                                          s t                  s                        t       s            t  s                                             t  t          s      s                        o             s     t   s             s                           t                                                      s                            t                tn                             s                                                                t      t      t           s                                                  t                        s                         s                                             o           \n",
      "Loss of data number 1349 at epoch 0:\n",
      "3.028672218322754\n",
      "Decoded output given input:      t           s   s             t    t  t                  tn          n      n        s s           s  s  t   s           s                        e                 t   s     t             t      s           t   s                         s                n          t  n    s    s t                           s         s  s  t  t        t  n    s                  n  t   s t    s  t   s                             s          s                             n   t t  t  t  n    s   s  s    n                       t  n    s               s   s t     n            s s     n        s  s t         s  s t         s  t t      s      n                        t   s s          t      t  n    s           a   n                   n        s    t  n    s           s         s   s                 t  n    s    n                              t     t             t  n   s     t             t  n         t   n                            n           t           n  s   s  s o                                t   s     t       s   t      s  t  n           n  s   s  s o              s                 t  n        t      on           n      s        t   s                s  t t t               s   s t    s  t   s    s      n                o   s                s t                      t  n  t  n  n           n      s                    s  s  t  t  t  n              s   t      t  n                 s     n     t   s t                     t   n          s         t s       n         o   s    s       t  s      s n          s         t    s                  t  s    s  s   s    s   s     n               n          s  t  n                             t      s        s                      n        s t n        n   s     n   s   s             n      s       o  t    s     t  n         n    t      t       s     t  n                    s           t   s     t  t  t  n    s     s           t    \n",
      "Loss of data number 1399 at epoch 0:\n",
      "3.2296228408813477\n",
      "Decoded output given input:  e tn iedesenttt n oasredtr ilin  oeste s  stein sia aetter oerteedshnsir  or t relt oteteilen   snioeinhetetettteoeoln s  stciaertioenedthnsdsoereoenenisiaasioes  sessioesteesisinn   sus atein sia antoes shie oni rses oa oeedre ortterelt oteteilen  oetr dtisi seele sor td  stisisserelt oeole  seoertastneinned  sressshisn  taltioasteterteted orttntetettasredtr ilin  oeeleohncineoesteesan lirsisiodstoeedseelt s  s  rseen otciaertio ese rs serelt . se srepentrstteelt s  srlosh sisseeleonioessrsi teen on rstn oeedshnsir  or ttt nses s nwonss soint ses esttes s ontoeoln   oertasteessshisissn teedshese s nhtin  oete  sisiorcn  nsalinidsttaerteeds relt or teedsniosi sus adtosesissi trtrttentin ssiotctes s these s nhtin  oascee l   soid sseedsete rsoerelt oetetttets siystteoeoln s  senedtntorcesis s  s eneteeleonsetenses s nwonssoor terelt oteteion onein sia aetttaseid oere r al enthel tdteid atteiseite a nses s nwonssorettct    sdedstn ahotn   orttnirsioortes s.ort eleid oeniiteeds isersr thedsteioate n s sis oeise d oertns n  stterssenss .tr t edstdrote si      \n",
      "Loss of data number 1449 at epoch 0:\n",
      "3.0132110118865967\n",
      "Decoded output given input:  n ottee  shl a nses s    ss toissss iret rttciaeepent s  stestni n l r  on ir  on s  seedsesesta r tteestis  teeds  iteinht  s  i thnctnte a srst onttelestiastaeeleotesttels siystenenea  s teetttteedsteinesi on teedseestanciaertic  tteinht nsen   s sttein  sn oeneneoessein  s sest sst    sslinht eseso   oor teis ss  seeds ose tn teneneoessein  s sestaeltio n   o s n steeds tesessn teedseneneoelestiast stciaeedsteedsorteisn s tor aaeeleoenntaeedsaerersodsan irt teotessein  s ses se shnstn s aere  rsnt aeneneoessein  s sestatciatctesasseeds tisetennettciahnetisesisn on oeneitesissetncia nstesisset n orss  sstttte oepesei seen t eseso   onttiystote rteeds stened  on t n tessein  s sestattten yatttnaoreis io selenn  in  aeseodsttessein  s sestatcia ensrte eansosnt suete t  seneneoessein  s sestan oersrtorssorseleia n onss tesse tert ssrteneneoessein   se syst ssrteneneoessein  shnctesseitn ir r is  s sredtrsilinn   sniohncineoesseithnsoes on oseonseoseo rteisn   snenste sstete rs tnesttels siystor teedseretes s  sostein  shnsoes on oseonseoseo rteisn  sesunt s oeneneoessrtessein  s issssete rson  r alinn on teepeset ssoerteeds ssrtes s  teeinsretttete  l ithetein [STOP]sh ds tesessn teedseepeset sson or alinn oninsioeedsete rs  stciaeedsete  l ithetein oeeinsrete nheteen tn or alinn on teepeset ss seteinisnsoeeds ose tn tessein  ste n sia   sorettc tessein  ste n sia  seedshneteni on teedsete  l ithetein ohnctester n s ottteeds spissan tese teepen r stinseoeeds eles sioorete s  i s sen r sisteeds spissan tesurt s ones tenn  serete s  i se sntiselirseedshneteni ont rhnterss niat nedssetessein  ste n sia  tncia er t eleoite  eceset nn onseose r a teedsatciateinner oeedsetisalatertiniasthneteni [STOP]shesseedre oheses nstteedshnsenreon t ssastsaessean   soileon tesseilyastast nsastsaessean   stcia tleln  teeds ose si on teeds ose tn tessein  s sesta stened s o nt re \n",
      "Loss of data number 1499 at epoch 0:\n",
      "3.1926608085632324\n",
      "Decoded output given input:  e tn iedesenttt n o sredt silin  oeste s  stein sia a tte  oerteedshnsir  or t relt oteteilen   sn oe shet tettteoeoln s  stciae tioesedshnsdsoereoenenisiaisioes  s ssio steesysin    sns atein sia an oes shie on  rses oi oeedre ortrerelt oteteilen  o tr   isi oeele sor td  stisids relt oeelei seoertistteinned  sresenh sn  tastioastetesteted orttttetettadredt silin  oeeleohncineo steesas l  siseodstoeedseelt s  s  rsehn otciae tio ese rs s relt . se trepent stteelt s  srlosh nidseeleon oessrsi teen on rstn oeedshnsir  or ttt nses t n one  soint ses  sttes   on oeoln   oertisteessnh sissn thedshes  s nhtin  oete  sosiortn  nsalinidsttierteeds relt or teedsn osi sns adtosesidsi trtrttentin dsiotcte  s thes  s nhtin  oascee l   soid sseedsete sso relt o tetttets siystteoeoln s  sesedsn ortesis s  s en tueleonset nses t n one oor t relt oteteio  otein sia aetttasei  oere r  l enthel o teid atteiseite a nses t n one orettct    sdedstn ahotn   ortrnirsioortes s.orteelei sooniiteeds isersr thedsteioate n s sas o ise d o stns n  otterstenss .tr tuedstdrote si      \n",
      "Loss of data number 1549 at epoch 0:\n",
      "3.0129480361938477\n",
      "Decoded output given input:  n ottee  shl a nses te  ers toisssteereterttciaeecent s  stestn enal r  on irsron n  seedsesestaorstteestis  teedse tteinhte s ii thnctnte aesrstionttelesteastaeeleotesttetseliystenelea  s teetttteedsteinesi on teedseestatciaertice tteinht nsen   sesttein  tn oeneleoessein  sesest[STOP]sste  irslinhtoetesors oorsteesess  seedseote tn teneleoessein  sesestaeltitose  oes n steeds tesessn teedseneleoelestiast stciaeedsteedsorteisn s torsaaeeleoesntaeedsaerereedsan irtdteetessein  seses se shnstn s arre irenteaeneleoessein  sesestatciotctesasseedsetisetennettciohtetisesisn on oeneitesessettcio nstesesset n orss  ss ttte oecesei seen toetesors ontteystoteenteedsesteneds on t n tessein  sesestattte lyatttnioreil iaeselenn  in  aeseodsttessein  sesestatcio ensrte eansosnt[STOP]suete t  seneleoessein  sesestan oersrtorssorseleea n onss tesse tertessrteneleoessein  [STOP]seosystersrteneleoessein  shnctesseitn irsr is  sesredtrsilin    sniohncineoesseithnsoysion oseonseoseoorteisn   snensteissteteeri ttesttetseliystorsteedseretes d [STOP]sodsein  shnsoysion oseonseoseoorteisn  tesunt d oeneleoersrtessein  soissstete rion or alin  on teeceset rsoerteedsessrtes d  teeinsretttete ileetheteiny[STOP]shoss tesessn teedseeceset rson or alin  otinneoeedsete ri  stciaeedsete ileetheteinyaeeinsreteinheteen tn or alin  on teeceset rs soteinisnsoeedseose tn tessein  stean siaa [STOP]sorettc tessein  stean siaa teedshteteni on teedsete ileetheteinyahnctesterfn s ottteeds seissan tese teecen r stinneoeedsueles siaorete s ii sesen r tisteeds seissan tesurt d ones tenn  terete s ii se sdtiselerseedshteteni otterhnterssoniatenedssetessein  stean siaa ttciaeereteeleoite receset nn onseose rsa teedsatcioteenned oeedsetineletertiniasshteteni [STOP]shedseedre ohesesinstteedshnsenreon tessasssaessein   soileon tesseilyastastensasssaessein   stciantleln  teedseose si on teedseose tn tessein  sesestaestenedss o ntere \n",
      "Loss of data number 1599 at epoch 0:\n",
      "3.175840377807617\n",
      "Decoded output given input:  e tn eedesenttt n tasred   ilin  oesse s  ttein sia a tte  oerteedshnsir  or t relt oteteelen   sn oeishetetettteoeoln s  ttciae tioesedthnsdsoereoenenysiaiseoes  d s ioesteesysin    sns atein sia an tes shie on  rse  oi oeedre ortrerelt oteteelen  oetr    s  oeel  tor td  stisidserelt oeel i seoertisttein ed  sresenh s   tastioidtetesteted ortrttetettasred   ilin  oeel ohncineoesteesas l  siseo stoeedseelt s  s  rsehn otciae tio ese ss terelt   se trecen  stteels s  srlosh nidseel on oessrsi teen on rstn oeedshnsir  or ttt nses t n one  soin  tes esstes   an teoln   oertisteessnh sidsn thedshes  s nhtin  oete  sosiortn  nsalinidsttierteedserelt or thedsn osi sns adtos sid i trtrttentin d iotcte  s thes  s nhtin  oadcie l . soid sseedsete sso relt oetetttets siystteoeoln s  tesedsn ortesis s  s en tuel orset nses t n one oor terelt oteteeo  otein sia aetttadei  oereor al e teel o teed atteiseite a nses t n one orettct    tdedstn ahotn   ortrn osioortes s.orteeleid oon iteedsuise sr teedsteioate n s sas oeise d oestns n  otters enss .tr tuedstdrote si   )  \n",
      "Loss of data number 1649 at epoch 0:\n",
      "3.013190746307373\n",
      "Decoded output given input:  n ottee  shl aenses te  ess toisssseereterttciaeecent s  stestn enal rs on irsron s  seedseses aorstteestis  teedse tteishte s ii thtctnte aesrstianttelesteas aeeleotesttetseliystenelee  seteetttteedsteinesi on teedseestatciaertice tteenhtensen   sesttein  tn oeneleoesseis  sesest[STOP]sste  isslinhtoetesors oorsteesest  seedseote tn teneleoesseis  sesestaeltitose  oesfn steedsetesessn teedseneleoelesteas  stciaeedsteedsorteisn s torsaaeeleoesn aeedsaerereedsan irtdteetesseis  seses se shns n s arre irenteaeneletesseis  sesestatciotctesadseedsetisetennettciohtetisesis  on oeneetesessettcioenstesesset n orss [STOP]ss ttte oecesei seen toetesors ontteys oteenteedsesteneds on t notesseis  sesestattte llatttnioreil iaeselen   ine aeseodstoesseis  sesestatcioeensrae ean osn [STOP]suete t  seneleoesseis  sesestan oersrtorssorseseeten orss tesse tertessrteneleoesseis  [STOP]seosystersrteneleoesseis  shnctesseitn irsr is  sesredtrsilin    sn ohncineoesseithnsoesion oseonseoseoorteisn   sdedsteissteteer  ttesttetseliystorsteedseretes   [STOP]sodsein  shnsoesion oseonseoseoorteisn  tesurt d oeneleoersrtesseis  soissstete r on or alin  on teeceset rsoerteedsessrtes    teeirsretttete ileethetei y[STOP]shistetesessn teedseeceset rson orsalin  otinneoeedsete r   stciaeedsete ileethetei yaeeirsreteisheteen tn or alin  on teeceset rs seteesisnsoeedseote tn tesseis  steanesiaa [STOP]sorettc tesseis  steanesiaa teedshteteni on teedsete ileethetei yahtctesterfn s ottteedseseissan tese teecen r stinneoeedseetes siaorete s ii sesen r tosteedseseissan tesurt d ones ten   terete s ii se sdtiselerseedshteteni otterhntersoon atenedssetesseis  steanesiaa ttciaeereteeleoite receset n  onseost rsa teedsatciateenned oeedsetiseletertisiasshteteni [STOP]shidseedre ohesesinstteedshnsenreon tessasssaesseis   soiletn tesseilyastestensasssaesseis   stciantlels  teedseote si on teedseote tn tesseis  sesestaestenedss oensere \n",
      "Loss of data number 1699 at epoch 0:\n",
      "3.153742790222168\n",
      "Decoded output given input:  e tn eedesenttten iasred   ilin  oesse s  tteanesiaaaette  oerteedshnsir  or terelt oteteelen   sn oeishetetettteoeeln s  ttciae tioesedthnsdsoereoenesysiaiseoesees s ioesteesysin    sus ateanesiaaan teseshie on  rse  oi oeedre ortrerelt oteteelen  oetr    s  oeel  tor tdeestisedserelt oeel ioseoertisttein ed  sresesh s   taltitidtetesteted ortrttetettasred   ilin  oeel ohtc neoesteeses l  siseodstoeedseelt s  ti rsehn otciaedtioiese s  terelt   se trecer  stteelt s  trlosh nedseel on oedss i.teen tn rstn oeedshnsir  or tttenses t n one  soin  tes es tes   an teeln   oertisteesesh sedsn teedshes  sinhten  oete  sosiorts onsalinedsttierteedserelt or teedsn osi sus adtls sid i trtrttentenas iotcte  s thes  sinhten  oadcieal . soid sseedsete s oerelt oetetttets siystteoeeln s  tesedsn ortesis s  suenetuel ortetenses t n one oor terelt oteteeo  oteanesiaaaetttadee soertor al e teel odteed atteiteite a nses t n one orettctp N tdedstniahotn   ortrn osioortesis orteeleid oon iteedsuite sr teedsteeoateen s sas oeese   oestns n  otters ens  .tretuedstdeote si   )  \n",
      "Loss of data number 1749 at epoch 0:\n",
      "3.008234977722168\n",
      "Decoded output given input:  n ottee  shl aenses te  irs toids seerete ttciaeecen  s  stestn enal    on irsron s  seedseses aorstteestis  teedse iteishto s  i thnctnte aerrntianttelesteas aeeleotesttetseliystenelee  seteetttteedsteinesi on teedseestatciaertice tteenhtensen   sedtnein  tn oeneletesseas  sases [STOP]sste  irslinhtoeteso s oorsteesest  seedseote tn teneletesseas  sases aeltitone  oerfn  teedsetesessn teedseneletelesteas  stciaeedsteedsorteis  s torsaaeeleoesn aeedsaerereedsan irtdteetesseas  sases se shns nissaere irenteaeneletesseas  sases atciatcte adseedsetosetennettciohtetisesis  on oeceetesessettcioerstesessetoreorss  ss ttte oecesei seen toeteso s oncteys oteerteedsesteneds on tenotesseas  sases attte llattan oreil eaedelen   ine teseodstoesseas  sases atciaeensrae eansosn [STOP]suete t  oeneletesseas  sases an oersrtorssorseleeten ors  tesse tertersrteneletesseas   seosystersrteneletesseas  shnctesseatn ersr is  oadredtnsilin    sn ohncineoesseathnsoyd on oseonseoseoerteis    sdedsteidstete r  ttesttetseliystorsteedseretes   [STOP]sodsein  shnsoyd on oseonseoseoerteis   tedunted oeneletersrtesseas  soidsstete r on orsalen  on teeceset   oerteedsersrtes    teeirsretttete oleethetei y shostetesessn teedseeceset   on orsalen  otinneoeedsete r   stciaeedsete oleethetei yaeeirsreteisheteen tn orsalin  on teeceset    seteesisn aeedseote tn tesseas  steanesiaa  sorettc tesseas  steanesiaa teedshteteni oneteedsete oleethetei yahtctesterfn   ottteedseseessan tese teecen r stinneoeedsuetes  iaorete s  i sesen r sosteedseseessan tedunted ones ten   terete s  i se sdtisele seedshteteni ott rhnter ooniatenedstetesseas  steanesiaa ttciaeernteeleoite receset n  onseost rsa teedsatciateinned aeedsetineletertisiasshteteni [STOP]shidseedre ohesesins ieedshnsinreon tessass aesseas   soiletn tessealyastestensass aesseas   stciantleln  teedseote si on teedseote tn tesseas  sases aestenedss oensere \n",
      "Loss of data number 1799 at epoch 0:\n",
      "3.145690441131592\n",
      "Decoded output given input:  e tn eedesenttted iadred   ilin  oesseas  tteanesiasaette  oerteedshnsir  oreterelt oteteelen   sn oeishetetettteteeln s  ttciaedtioesedthnsdtoeretenesys aiseoeseed s ioesteesysin    sus ateanesiasan teseshie on  rse  oi oeedre ortrerelt oteteelen  oetr    s  oeel  tor tdeestisedserelt oeel ios oertisttein ed  tredeshis   taltiiidtetestet d ortrttetettadred   ilin  oeel ohtcineoesteises t  tideo s oeedseelt s  ti rsehn otciaedtioiete s  terelt   se trecen  stteelt s  trlosh nedteel on oedss i tees tn rstn oeedshnsir  oretttedses ten one  toin  tes ed tet   an teeln   oertisteedeshisidsn thedshes  sinhten  oete  sisiorts onsalinedtttierteedserelt or thedsn ose sus adtls s d i trtrttenten s iotcte  s thes  sishten  oidtieali. toid sthedsete s oerelt oetetttets siystteoeeln s  tesedtn trtetis    suen tuel orsetedses ten one oor terelt oteteeo  oteinesiisaet tadeedsoertor al enteel odseed atteit ite aedses ten one orettctp N tded tniahetn   ortrn osioortesis orteeleid oon iteedsuite tr teedsteeoateen s sas oeite   oertns n  otters en    tretued tdeote si      \n",
      "Loss of data number 1849 at epoch 0:\n",
      "3.0059728622436523\n",
      "Decoded output given input:  n ottee  shl tensesyte  irs toids teerete ttciaeecen  s  stestn enel    on irsson s  seedseses aorstteestis  teedse cteishto s  i thnctnte aerrnt anttelesteas aeeleotesttetseliystenelee  suteetttteedsteinesi on teedseectatciaertice cteeshtensen   sedtnein  tn oeneletesseas  sases [STOP]sste  irslinhtoeteso k aorsteesest  seedseote tn teneletesseas  sases aeltitose  terfn  teedsetesessn teedseneletelesteas  stcioeedsteedsorteis  s torsaaeeletesn aeedsaere  edsan irtdteetesseas  sases se shns nissaere irent teneletesseas  sases atciotcte adseedsetusetennettciohtetisesis  on oeceetesessettcioenstesessetersors   ss ttte eecesei seen toeteso k adcteys ateerseedsesteness on tenotesseas  sases attte leatttn oreil eaadeten   ine aeseodsttesseas  sases atcioeensrae eas esn [STOP]suete t  seneletesseas  sases an oersrtorssorsoteetensors  tesse tertersrteneletesseas   seosystersrteneletesseas  shtctesseatn erss is  oadredtnsilen    sn ohtcineoesseathnsoyd on oseonseoseoerteis    sdedsteidstete r  ttesttetseliystorsteedseretel   [STOP]sodsein  shnsoyd on oseonseoseoerteis   sadunt   oeneletersrtesseas  soidsstete r on irsalen  an teeceset d aerteedsersrtel    teeirsretttete oleethetti y shossetesessn teedseeceset   an irsalen  atinneoeedsete r   stcioeedsete oleethetti yaeeirsreteisheteen tn irsalen  an teeceset d  suteesisn aeedseote tn tesseas  steanesias  sirettc tesseas  steanesias teedshteteni on teedsete oleethetti yahtctesterfn   attteedseseessan tese teecen s sterneoeedsuetes  iaorete s  i sesen s so teedseseessan tadunt   anes ten   terete s  i se sdtisele seedshteteni ott rhnter aon atenedstetesseas  steanesias ttcioeernteeleoite receset n  anseos  rsa teedsatcioteenned aeedsetineletertisiasshteteni [STOP]shidseedre ahesesins ieedshnsinreon tessass aesseas   soiletn tessealyaste tedsass aesseas   stciontlels  teedseote si on teedseote tn tesseas  sases aestenesss atnsere \n",
      "Loss of data number 1899 at epoch 0:\n",
      "3.14056396484375\n",
      "Decoded output given input:  e tn eedesenttted iadred   il n  oesseas  tteanesiisaett   oerteedshrsir  oreterelt oteteelen   sn oeishetetettteteeln s  ttciaedtiaesedthrsdtoeretenesys aisioeseed s ioesteosysin    sus ateanesiisan teseshie on  rse  oi oeedre ortrerelt oteteelen  oetr    si oeel  tor tdeedtisedserelt oeel iod oertisttein ed  sredeshis  .taltiaidtetestet d ortrttetettadred   il n  oeel ohtcineoesteisesit  tideodstoeedseelt s  ti rsehn otciaedtiaiete s  terelt   se trecer  ttteelt s  trlosh nedseel on oedss i.teen tn dstn oeedshrsir  oretttedses ten ons  soin  tet edttet   an teelt   oertidteedeshisedsn thedshes  sinhten  oete  sisiorts onsalinedsttierteedserelt or thedsn osi sus adtls s d i trtrttenten d iotcte  s thes  sinhten  oidtieal . soid sthedsete s oerelt oetetttels siystteoeeln s  tesedtn trtetid    sue  tuel orsetedses ten ons oor terelt oteteeo  oteanesiisaetttadeedsoertor al enteel odseed atteit ite aedses ten ons orettctp N tdedsiniahotn   ortrn osioortesis orteeleid oon iteedseite tr teedsteioateenis sas oeite   oertnn n  otters en   .tretuedsideote si   )  \n",
      "Loss of data number 1949 at epoch 0:\n",
      "3.0074450969696045\n",
      "Decoded output given input:  n ottee  shl tenses te   rs toid  seerete ttciaeocen  s  atestn enal    an irs on s  seedsases aorsateestis  seedse iteishto s  i thnctnte aerrntianttelesteas aeelettesttelseliystenelee  suteetttieedsteinesi an teedseoctatciaertice cteishtensen   sadtnein  an oeneletesseas  sases  sste   rsl nhtoeteso s aorsaeesest  aeedseote tn teneletesseas  sases aeltioose  oerfn steedsetesessneteedseneletelesteas  stciaeedsteedsortiis  s torsaaeeletesn aeedsaerer edsan irtdteetesseas  sases se shnsinis aere irent teneletesseas  sases atciatcte adseedsetosetennettciahtetisesis  an oeleetesessettciaerctesessetor ors   ss ttte oeceshi seen toeteso s adcteys ateerseedsestoneds an tenotesseas  sases attiodlaattin oreil eaadelen  .ine aiseodstiesseis  sases atciaeensrae eas osn  suete t  aeneletesseas  sases an oersrtors orsoteeten ors  tesse tertersrteneletesseas   seosystersrteneletesseas  shnctesseitn irsr  s  aadoedtnsil n    sn ohncineoesseathnsoyd on oseonseoseoortiis    sdedsteidstete s  ttesttelseliystorsaeedseretel    sodseis  shnsoys on oseonseoseoortiis   sadunse  oeneletersrtesseas  soid  sete s on ir alen  an teoceset s aerteedsersrtel    seeiwsretttete oteethetti y shossetesessneteedseoceset s an ir alen  atinn oeedsete s   stciaeedsete oteethetti yaeeiwsreteisheteen tn ir alen  an teoceset s  suteesisn aeedseote tn tesseas  steanesios  sorettc aesseas  steanesios teedshteten  an teedsete oteethetti yahtctesterfn s attieedseseessan tise teecenis stern oeedsueles  iaorete s  i sesenis so teedseseessan tadunse  ones l n   serete s  i se sdtisel  seedshteten  atterhntes aon atenedstetesseas  steanesios ttciaeernteeletite receset n  anseos  rsa teedsatciateinned aeedsetineletertisiasshteten   shodseedre ahelesinn aeedshnsinreon tessass aesseas   soiletn tessealyasta tessass aesseas   stciadtlelt  teedseote si an teedseote tn tesseas  sases aestonedss oensere \n",
      "Loss of data number 1999 at epoch 0:\n",
      "3.1406514644622803\n",
      "Decoded output given input:  e tn iedeshnttted iadted   il n  aesseas  tteinesiisaett   aerteedshrsir  creterelt oteteelen   sn oeishetetettteteelt s  otciaedtiaesedthrsdtoeretenesys aisioeseed s  oesteesysin  . sus ateinesiisan teseshie on irse  oi ieedre ortrerelt oteteelen  aetr    si oeel  tor tdeedtisedserelt oeel iod oertidttein ed  soedeshis  .taltiaidtetestet d artrttetettadred   il n  aeel ohtcineoestoisesil  tideods oeedseelt s  oi rsehn otciaedtiaiete s  terelt . se trecer  ttteelt s  orlosh nedseel on oedss  .teen tn rstn oeedshrsir  cretttedsel ted      soir  tet ed tel   an teelt   aertidteodeshisedsn thedshel  sisht n  aete  sisionts onsalinedsttierteedserelt or thedsn osi sus adtls s d  .trtrttenten d  otcte  s ohel  sisht n  aadtie l . soid sahedsete s oerelt oetetttels liystteoeelt s  oesedtn trtetis    sui  tuel orsetedsel ted     oor aerelt oteteeo  ateinesiisaetttadeed aertor al edteel ods ed atteit ite aadsel ted     orettctp   tdedsiniahelt   ortrn os oortesis.orteeleid oon ideedseite sr teedsteioateenis sas aeite   aertrs n  otters in   .tretuedsideote si      \n",
      "Loss of data number 2049 at epoch 0:\n",
      "3.001758098602295\n",
      "Decoded output given input:  n ottee  shl tenses te   rs toid  seeretesttciaeocen  s  atestn inel    an irs on    seedsases aorstteestis  seedse cteishto s  i thnctnte aerrst anttelestiastaeel otesttels liysteneley  suttetttieedsteinesi an teedseoctatc arrtice cteishtensen   sadtneen  an oeneletesseas  sases  sstu   rsl nhtoeteso s aorsteesest  aeedseote sn teneletesseas  sases aeltioose  terfn  teedsetesissn teedseneletelestiast stciaeedsteedsostiis  s torsaaeel tesn aeedsaere  edsan irtdseetesseas  sases se shnsinis arre irent teneletesseas  sases atciatcte asseeds tusetennettciahtetisesis  an oeleetesessettciaerstesessetod ors   ss ttte eeceshi seen toeteso s adttiys ateerseedsesteness an tedotesseas  sases attio leattin lr il eaadelen  .in  tisrodsttesseas  sases atciauelsrae eas esn  soete t  aeneletesseas  sases an oersrtorssorsoteeted ors  tesse tertersrteneletesseas   seosystersrteneletesseas  shtctesseasn irss  s  aadredtns l n  . sn ohtcin oesseathrsoyd on os onseoseoertiis    sdedsteidstete s  ttesttels liystorsteedseretel s  sodseis  shnsoyd on os onseoseoertiis   saduns   aeneletersrtesseas  soid  sete s on ir al n  an oeeceset s aerteedsersrtel s  seeiwsretttete oteethetti y shodsetesissn teedseoceset s an ir al n  atirn oeedsete s   stciaeedsete oteethetti yaeeiwsreteisheteen tn ir al n  an oeeceset s  suteesisn aeedseote sn tesseas  stean siis  sorettc aesseas  stean siis teedshteten  an teedsete oteethetti yahtctedterfn   attieedseseessan tise teecen s stern oeedsueles   aortte s  i sesen s su teedseseessan taduns   ares l n  .srrtte s  i se sdtisel  seedshteten  atterhntes aon itenedstetesseas  stean siis ttciaee ntuel oite leceset n  anseos  rsa teedsatciateinned aeedseliseletertisiasshteten   shodseedre ahelesinn aeedshnsin eon tessess aesseas   soiletn oessealyassi tessess aesseas   stciadtlelt  teedseote si an teedseote sn tesseas  sases aestenesss atnsere \n",
      "Loss of data number 2099 at epoch 0:\n",
      "3.1422784328460693\n",
      "Decoded output given input:  e tn iedeshnttted iadted    l n  aedseas  tte nesiisaett   aerteedshrs    cretereln oteteelen   sn ooishedetettteteelt s  otciaedtioesedshrsdtoeretenetys aisioeseed s  aesteesysin  . sus ate nesiisan teserhie an irse  aa ieedre artrerelt oteteelen  aetr    si oeel  tor adeedt sedsereln oeel iod oertidttein ed  soodesh s  .tastiaidtetestel d artrttetettadred    l n  aeel ohtcin oestoisetis  tideods oeedseelt s  oi rsehn otciaedtioiete s  terelt   se trecer  ttteelt s  orlosh nedseel on oydss  .teen tn rsan oeedshrs    cretttedsel tid      soir  tetiedttel   an teelt   aertidteodesh sedsn thedshel  sisht n  aete  sosiontn onsal nedsttihrteedsereln or thedsn os  sus adtls s d  .trtrttenten d  atcte  s ohel  sisht n  aadtie l . soid sahedsete s oereln oetetttels liystteoeelt s  oesedsn trteti     sui  tuel orsetedsel tid     aor aereln oteteeo  ate nesiisaetttadeed aertor  l edteel ods id atteit ite aadsel tid     arettctp   tdedsiniaholt   artrn os oortesis.orteeleid aon ideedseite sr teedsteioateenis sa  aeite   aertrn n  otters in   .tretuedsideote si      \n",
      "Loss of data number 2149 at epoch 0:\n",
      "2.9966917037963867\n",
      "Decoded output given input:  n ottee  shl tensel tu   rs soid  seeretesttciarocen  s  atestn in l    an irs on s  seedsases aorstteestis  teedse cteishtods  i thlctnte aerrdtiartrelestiastaeel otesttels liystenelel  suntetttieedsteisesi ar teedseodtatcitrrtice cteishtensen   sadtneen  an oeneletesseis  sases  sste   rsl nhtoeteso s aorsaeese t  aeedseote sr teneletesseis  sases aeltioose  oerfn steedsetesissn teedseneletelestiast stciaeedsteedsostiis  l torsaaeel oesn ahedsaere  idsan irtdseetesseis  sases se shrsinis arre irent teneletesseis  sases atciatcte adseeds tusetennettciahtetisesis  an oeleetesessettciaerstesessetod ors   sstttto eeceshi seen ooeteso s adttiys ateerseedsestened  ar tedoiesseis  sases attiodlltttin or il eaadelen  .in  aisrodstiesseis  sases atciauelsrte eas esn  soete t  aeneletesseis  sases an oersrtorssorsoteeted ors  tesse tertersrteneletesseis   seosystersrteneletesseis  shlctesseisn irss  s  aadoedtns l n  . sn ohlcin oesseishrsoyd on os onseoseoertiis  . sdedsioidstete s  ttesttels liystorsceedseretel s  sodseis  shrsoyd on os onseoseoertiis  .saduns   oeneletersrtesseis  soid  sete s on ir alin  an oroceset d aerteedsersrtel s  oeeipsretttote oleethetti l shodsetesissn teedseoceset d an ir alin  atirn oeedsete s   stciaeedsite oleethetti laeeipsreteisheteen on ir alin  an oroceset d  suteesis  aeedseote sr tesseis  stein siis  sorettc aesseis  stein siis seedshteten  or teedsite oleethetti lahtctedterfn s attieedseseessar tise teecen s atern oeedsueles   aortte s  i sesen s su teedseseessar taduns   ares l n  .srrtte s  i se sdtis l  seedshteten  otterhnted aon idenedstitesseis  stein siis stciaeir tuel oite leceset n  anseos  rsa seedsatcitteinned aeedseliseletertisiasshteten   shodseedre ahelesinn aeedshrsin eon tessess aesseis   soiletn oesseilyassi tedsess aesseis   stciadtlelt  oeedseote s  or teedseote sr tesseis  sases aestoned s aunsere \n"
     ]
    },
    {
     "ename": "KeyboardInterrupt",
     "evalue": "",
     "output_type": "error",
     "traceback": [
      "\u001b[0;31m---------------------------------------------------------------------------\u001b[0m",
      "\u001b[0;31mKeyboardInterrupt\u001b[0m                         Traceback (most recent call last)",
      "\u001b[0;32m<ipython-input-9-4933d51b5d06>\u001b[0m in \u001b[0;36m<module>\u001b[0;34m()\u001b[0m\n\u001b[1;32m      8\u001b[0m     \u001b[1;32mfor\u001b[0m \u001b[0mepoch\u001b[0m \u001b[1;32min\u001b[0m \u001b[0mrange\u001b[0m\u001b[1;33m(\u001b[0m\u001b[0mn_epoch\u001b[0m\u001b[1;33m)\u001b[0m\u001b[1;33m:\u001b[0m\u001b[1;33m\u001b[0m\u001b[0m\n\u001b[1;32m      9\u001b[0m         \u001b[1;32mfor\u001b[0m \u001b[0mdata_index\u001b[0m\u001b[1;33m,\u001b[0m \u001b[0mdata\u001b[0m \u001b[1;32min\u001b[0m \u001b[0menumerate\u001b[0m\u001b[1;33m(\u001b[0m\u001b[0mraw_text_list\u001b[0m\u001b[1;33m)\u001b[0m\u001b[1;33m:\u001b[0m\u001b[1;33m\u001b[0m\u001b[0m\n\u001b[0;32m---> 10\u001b[0;31m             \u001b[0mdata\u001b[0m \u001b[1;33m=\u001b[0m \u001b[0mtest_codec\u001b[0m\u001b[1;33m.\u001b[0m\u001b[0mencode\u001b[0m\u001b[1;33m(\u001b[0m\u001b[0mdata\u001b[0m\u001b[1;33m)\u001b[0m\u001b[1;33m\u001b[0m\u001b[0m\n\u001b[0m\u001b[1;32m     11\u001b[0m             \u001b[0mx\u001b[0m\u001b[1;33m,\u001b[0m \u001b[0my\u001b[0m \u001b[1;33m=\u001b[0m \u001b[0mdata\u001b[0m\u001b[1;33m[\u001b[0m\u001b[1;33m:\u001b[0m\u001b[1;33m-\u001b[0m\u001b[1;36m1\u001b[0m\u001b[1;33m,\u001b[0m\u001b[1;33m:\u001b[0m\u001b[1;33m]\u001b[0m\u001b[1;33m,\u001b[0m \u001b[0mdata\u001b[0m\u001b[1;33m[\u001b[0m\u001b[1;36m1\u001b[0m\u001b[1;33m:\u001b[0m\u001b[1;33m,\u001b[0m\u001b[1;33m:\u001b[0m\u001b[1;33m]\u001b[0m\u001b[1;33m\u001b[0m\u001b[0m\n\u001b[1;32m     12\u001b[0m             \u001b[0mx_partitions\u001b[0m\u001b[1;33m,\u001b[0m \u001b[0my_partitions\u001b[0m \u001b[1;33m=\u001b[0m \u001b[0mpartitions\u001b[0m\u001b[1;33m(\u001b[0m\u001b[0mx\u001b[0m\u001b[1;33m,\u001b[0m \u001b[0mpartition_size\u001b[0m\u001b[1;33m)\u001b[0m\u001b[1;33m,\u001b[0m \u001b[0mpartitions\u001b[0m\u001b[1;33m(\u001b[0m\u001b[0my\u001b[0m\u001b[1;33m,\u001b[0m \u001b[0mpartition_size\u001b[0m\u001b[1;33m)\u001b[0m\u001b[1;33m\u001b[0m\u001b[0m\n",
      "\u001b[0;32m<ipython-input-3-de4d1cc99cf1>\u001b[0m in \u001b[0;36mencode\u001b[0;34m(self, string, sess, start, stop)\u001b[0m\n\u001b[1;32m     24\u001b[0m         \u001b[1;32mif\u001b[0m \u001b[0msess\u001b[0m \u001b[1;32mis\u001b[0m \u001b[1;32mNone\u001b[0m\u001b[1;33m:\u001b[0m\u001b[1;33m\u001b[0m\u001b[0m\n\u001b[1;32m     25\u001b[0m             \u001b[1;32mwith\u001b[0m \u001b[0mtf\u001b[0m\u001b[1;33m.\u001b[0m\u001b[0mSession\u001b[0m\u001b[1;33m(\u001b[0m\u001b[1;33m)\u001b[0m \u001b[1;32mas\u001b[0m \u001b[0msess\u001b[0m\u001b[1;33m:\u001b[0m\u001b[1;33m\u001b[0m\u001b[0m\n\u001b[0;32m---> 26\u001b[0;31m                 \u001b[0mnparray\u001b[0m\u001b[1;33m=\u001b[0m\u001b[0mtensor\u001b[0m\u001b[1;33m.\u001b[0m\u001b[0meval\u001b[0m\u001b[1;33m(\u001b[0m\u001b[1;33m)\u001b[0m\u001b[1;33m\u001b[0m\u001b[0m\n\u001b[0m\u001b[1;32m     27\u001b[0m         \u001b[1;32melif\u001b[0m \u001b[0mtype\u001b[0m\u001b[1;33m(\u001b[0m\u001b[0msess\u001b[0m\u001b[1;33m)\u001b[0m \u001b[1;33m==\u001b[0m \u001b[0mtf\u001b[0m\u001b[1;33m.\u001b[0m\u001b[0mSession\u001b[0m\u001b[1;33m:\u001b[0m\u001b[1;33m\u001b[0m\u001b[0m\n\u001b[1;32m     28\u001b[0m             \u001b[0mnparray\u001b[0m \u001b[1;33m=\u001b[0m \u001b[0mtensor\u001b[0m\u001b[1;33m.\u001b[0m\u001b[0meval\u001b[0m\u001b[1;33m(\u001b[0m\u001b[0msession\u001b[0m\u001b[1;33m=\u001b[0m\u001b[0msess\u001b[0m\u001b[1;33m)\u001b[0m\u001b[1;33m\u001b[0m\u001b[0m\n",
      "\u001b[0;32me:\\python35\\lib\\site-packages\\tensorflow\\python\\framework\\ops.py\u001b[0m in \u001b[0;36meval\u001b[0;34m(self, feed_dict, session)\u001b[0m\n\u001b[1;32m    539\u001b[0m \u001b[1;33m\u001b[0m\u001b[0m\n\u001b[1;32m    540\u001b[0m     \"\"\"\n\u001b[0;32m--> 541\u001b[0;31m     \u001b[1;32mreturn\u001b[0m \u001b[0m_eval_using_default_session\u001b[0m\u001b[1;33m(\u001b[0m\u001b[0mself\u001b[0m\u001b[1;33m,\u001b[0m \u001b[0mfeed_dict\u001b[0m\u001b[1;33m,\u001b[0m \u001b[0mself\u001b[0m\u001b[1;33m.\u001b[0m\u001b[0mgraph\u001b[0m\u001b[1;33m,\u001b[0m \u001b[0msession\u001b[0m\u001b[1;33m)\u001b[0m\u001b[1;33m\u001b[0m\u001b[0m\n\u001b[0m\u001b[1;32m    542\u001b[0m \u001b[1;33m\u001b[0m\u001b[0m\n\u001b[1;32m    543\u001b[0m \u001b[1;33m\u001b[0m\u001b[0m\n",
      "\u001b[0;32me:\\python35\\lib\\site-packages\\tensorflow\\python\\framework\\ops.py\u001b[0m in \u001b[0;36m_eval_using_default_session\u001b[0;34m(tensors, feed_dict, graph, session)\u001b[0m\n\u001b[1;32m   4083\u001b[0m                        \u001b[1;34m\"the tensor's graph is different from the session's \"\u001b[0m\u001b[1;33m\u001b[0m\u001b[0m\n\u001b[1;32m   4084\u001b[0m                        \"graph.\")\n\u001b[0;32m-> 4085\u001b[0;31m   \u001b[1;32mreturn\u001b[0m \u001b[0msession\u001b[0m\u001b[1;33m.\u001b[0m\u001b[0mrun\u001b[0m\u001b[1;33m(\u001b[0m\u001b[0mtensors\u001b[0m\u001b[1;33m,\u001b[0m \u001b[0mfeed_dict\u001b[0m\u001b[1;33m)\u001b[0m\u001b[1;33m\u001b[0m\u001b[0m\n\u001b[0m\u001b[1;32m   4086\u001b[0m \u001b[1;33m\u001b[0m\u001b[0m\n\u001b[1;32m   4087\u001b[0m \u001b[1;33m\u001b[0m\u001b[0m\n",
      "\u001b[0;32me:\\python35\\lib\\site-packages\\tensorflow\\python\\client\\session.py\u001b[0m in \u001b[0;36mrun\u001b[0;34m(self, fetches, feed_dict, options, run_metadata)\u001b[0m\n\u001b[1;32m    893\u001b[0m     \u001b[1;32mtry\u001b[0m\u001b[1;33m:\u001b[0m\u001b[1;33m\u001b[0m\u001b[0m\n\u001b[1;32m    894\u001b[0m       result = self._run(None, fetches, feed_dict, options_ptr,\n\u001b[0;32m--> 895\u001b[0;31m                          run_metadata_ptr)\n\u001b[0m\u001b[1;32m    896\u001b[0m       \u001b[1;32mif\u001b[0m \u001b[0mrun_metadata\u001b[0m\u001b[1;33m:\u001b[0m\u001b[1;33m\u001b[0m\u001b[0m\n\u001b[1;32m    897\u001b[0m         \u001b[0mproto_data\u001b[0m \u001b[1;33m=\u001b[0m \u001b[0mtf_session\u001b[0m\u001b[1;33m.\u001b[0m\u001b[0mTF_GetBuffer\u001b[0m\u001b[1;33m(\u001b[0m\u001b[0mrun_metadata_ptr\u001b[0m\u001b[1;33m)\u001b[0m\u001b[1;33m\u001b[0m\u001b[0m\n",
      "\u001b[0;32me:\\python35\\lib\\site-packages\\tensorflow\\python\\client\\session.py\u001b[0m in \u001b[0;36m_run\u001b[0;34m(self, handle, fetches, feed_dict, options, run_metadata)\u001b[0m\n\u001b[1;32m   1122\u001b[0m     \u001b[1;32mif\u001b[0m \u001b[0mfinal_fetches\u001b[0m \u001b[1;32mor\u001b[0m \u001b[0mfinal_targets\u001b[0m \u001b[1;32mor\u001b[0m \u001b[1;33m(\u001b[0m\u001b[0mhandle\u001b[0m \u001b[1;32mand\u001b[0m \u001b[0mfeed_dict_tensor\u001b[0m\u001b[1;33m)\u001b[0m\u001b[1;33m:\u001b[0m\u001b[1;33m\u001b[0m\u001b[0m\n\u001b[1;32m   1123\u001b[0m       results = self._do_run(handle, final_targets, final_fetches,\n\u001b[0;32m-> 1124\u001b[0;31m                              feed_dict_tensor, options, run_metadata)\n\u001b[0m\u001b[1;32m   1125\u001b[0m     \u001b[1;32melse\u001b[0m\u001b[1;33m:\u001b[0m\u001b[1;33m\u001b[0m\u001b[0m\n\u001b[1;32m   1126\u001b[0m       \u001b[0mresults\u001b[0m \u001b[1;33m=\u001b[0m \u001b[1;33m[\u001b[0m\u001b[1;33m]\u001b[0m\u001b[1;33m\u001b[0m\u001b[0m\n",
      "\u001b[0;32me:\\python35\\lib\\site-packages\\tensorflow\\python\\client\\session.py\u001b[0m in \u001b[0;36m_do_run\u001b[0;34m(self, handle, target_list, fetch_list, feed_dict, options, run_metadata)\u001b[0m\n\u001b[1;32m   1319\u001b[0m     \u001b[1;32mif\u001b[0m \u001b[0mhandle\u001b[0m \u001b[1;32mis\u001b[0m \u001b[1;32mNone\u001b[0m\u001b[1;33m:\u001b[0m\u001b[1;33m\u001b[0m\u001b[0m\n\u001b[1;32m   1320\u001b[0m       return self._do_call(_run_fn, self._session, feeds, fetches, targets,\n\u001b[0;32m-> 1321\u001b[0;31m                            options, run_metadata)\n\u001b[0m\u001b[1;32m   1322\u001b[0m     \u001b[1;32melse\u001b[0m\u001b[1;33m:\u001b[0m\u001b[1;33m\u001b[0m\u001b[0m\n\u001b[1;32m   1323\u001b[0m       \u001b[1;32mreturn\u001b[0m \u001b[0mself\u001b[0m\u001b[1;33m.\u001b[0m\u001b[0m_do_call\u001b[0m\u001b[1;33m(\u001b[0m\u001b[0m_prun_fn\u001b[0m\u001b[1;33m,\u001b[0m \u001b[0mself\u001b[0m\u001b[1;33m.\u001b[0m\u001b[0m_session\u001b[0m\u001b[1;33m,\u001b[0m \u001b[0mhandle\u001b[0m\u001b[1;33m,\u001b[0m \u001b[0mfeeds\u001b[0m\u001b[1;33m,\u001b[0m \u001b[0mfetches\u001b[0m\u001b[1;33m)\u001b[0m\u001b[1;33m\u001b[0m\u001b[0m\n",
      "\u001b[0;32me:\\python35\\lib\\site-packages\\tensorflow\\python\\client\\session.py\u001b[0m in \u001b[0;36m_do_call\u001b[0;34m(self, fn, *args)\u001b[0m\n\u001b[1;32m   1325\u001b[0m   \u001b[1;32mdef\u001b[0m \u001b[0m_do_call\u001b[0m\u001b[1;33m(\u001b[0m\u001b[0mself\u001b[0m\u001b[1;33m,\u001b[0m \u001b[0mfn\u001b[0m\u001b[1;33m,\u001b[0m \u001b[1;33m*\u001b[0m\u001b[0margs\u001b[0m\u001b[1;33m)\u001b[0m\u001b[1;33m:\u001b[0m\u001b[1;33m\u001b[0m\u001b[0m\n\u001b[1;32m   1326\u001b[0m     \u001b[1;32mtry\u001b[0m\u001b[1;33m:\u001b[0m\u001b[1;33m\u001b[0m\u001b[0m\n\u001b[0;32m-> 1327\u001b[0;31m       \u001b[1;32mreturn\u001b[0m \u001b[0mfn\u001b[0m\u001b[1;33m(\u001b[0m\u001b[1;33m*\u001b[0m\u001b[0margs\u001b[0m\u001b[1;33m)\u001b[0m\u001b[1;33m\u001b[0m\u001b[0m\n\u001b[0m\u001b[1;32m   1328\u001b[0m     \u001b[1;32mexcept\u001b[0m \u001b[0merrors\u001b[0m\u001b[1;33m.\u001b[0m\u001b[0mOpError\u001b[0m \u001b[1;32mas\u001b[0m \u001b[0me\u001b[0m\u001b[1;33m:\u001b[0m\u001b[1;33m\u001b[0m\u001b[0m\n\u001b[1;32m   1329\u001b[0m       \u001b[0mmessage\u001b[0m \u001b[1;33m=\u001b[0m \u001b[0mcompat\u001b[0m\u001b[1;33m.\u001b[0m\u001b[0mas_text\u001b[0m\u001b[1;33m(\u001b[0m\u001b[0me\u001b[0m\u001b[1;33m.\u001b[0m\u001b[0mmessage\u001b[0m\u001b[1;33m)\u001b[0m\u001b[1;33m\u001b[0m\u001b[0m\n",
      "\u001b[0;32me:\\python35\\lib\\site-packages\\tensorflow\\python\\client\\session.py\u001b[0m in \u001b[0;36m_run_fn\u001b[0;34m(session, feed_dict, fetch_list, target_list, options, run_metadata)\u001b[0m\n\u001b[1;32m   1295\u001b[0m                 run_metadata):\n\u001b[1;32m   1296\u001b[0m       \u001b[1;31m# Ensure any changes to the graph are reflected in the runtime.\u001b[0m\u001b[1;33m\u001b[0m\u001b[1;33m\u001b[0m\u001b[0m\n\u001b[0;32m-> 1297\u001b[0;31m       \u001b[0mself\u001b[0m\u001b[1;33m.\u001b[0m\u001b[0m_extend_graph\u001b[0m\u001b[1;33m(\u001b[0m\u001b[1;33m)\u001b[0m\u001b[1;33m\u001b[0m\u001b[0m\n\u001b[0m\u001b[1;32m   1298\u001b[0m       \u001b[1;32mwith\u001b[0m \u001b[0merrors\u001b[0m\u001b[1;33m.\u001b[0m\u001b[0mraise_exception_on_not_ok_status\u001b[0m\u001b[1;33m(\u001b[0m\u001b[1;33m)\u001b[0m \u001b[1;32mas\u001b[0m \u001b[0mstatus\u001b[0m\u001b[1;33m:\u001b[0m\u001b[1;33m\u001b[0m\u001b[0m\n\u001b[1;32m   1299\u001b[0m         \u001b[1;32mif\u001b[0m \u001b[0mself\u001b[0m\u001b[1;33m.\u001b[0m\u001b[0m_created_with_new_api\u001b[0m\u001b[1;33m:\u001b[0m\u001b[1;33m\u001b[0m\u001b[0m\n",
      "\u001b[0;32me:\\python35\\lib\\site-packages\\tensorflow\\python\\client\\session.py\u001b[0m in \u001b[0;36m_extend_graph\u001b[0;34m(self)\u001b[0m\n\u001b[1;32m   1356\u001b[0m         \u001b[1;32mwith\u001b[0m \u001b[0merrors\u001b[0m\u001b[1;33m.\u001b[0m\u001b[0mraise_exception_on_not_ok_status\u001b[0m\u001b[1;33m(\u001b[0m\u001b[1;33m)\u001b[0m \u001b[1;32mas\u001b[0m \u001b[0mstatus\u001b[0m\u001b[1;33m:\u001b[0m\u001b[1;33m\u001b[0m\u001b[0m\n\u001b[1;32m   1357\u001b[0m           tf_session.TF_ExtendGraph(\n\u001b[0;32m-> 1358\u001b[0;31m               self._session, graph_def.SerializeToString(), status)\n\u001b[0m\u001b[1;32m   1359\u001b[0m         \u001b[0mself\u001b[0m\u001b[1;33m.\u001b[0m\u001b[0m_opened\u001b[0m \u001b[1;33m=\u001b[0m \u001b[1;32mTrue\u001b[0m\u001b[1;33m\u001b[0m\u001b[0m\n\u001b[1;32m   1360\u001b[0m \u001b[1;33m\u001b[0m\u001b[0m\n",
      "\u001b[0;32me:\\python35\\lib\\site-packages\\google\\protobuf\\internal\\python_message.py\u001b[0m in \u001b[0;36mSerializeToString\u001b[0;34m(self, **kwargs)\u001b[0m\n\u001b[1;32m   1035\u001b[0m           'Message %s is missing required fields: %s' % (\n\u001b[1;32m   1036\u001b[0m           self.DESCRIPTOR.full_name, ','.join(self.FindInitializationErrors())))\n\u001b[0;32m-> 1037\u001b[0;31m     \u001b[1;32mreturn\u001b[0m \u001b[0mself\u001b[0m\u001b[1;33m.\u001b[0m\u001b[0mSerializePartialToString\u001b[0m\u001b[1;33m(\u001b[0m\u001b[1;33m**\u001b[0m\u001b[0mkwargs\u001b[0m\u001b[1;33m)\u001b[0m\u001b[1;33m\u001b[0m\u001b[0m\n\u001b[0m\u001b[1;32m   1038\u001b[0m   \u001b[0mcls\u001b[0m\u001b[1;33m.\u001b[0m\u001b[0mSerializeToString\u001b[0m \u001b[1;33m=\u001b[0m \u001b[0mSerializeToString\u001b[0m\u001b[1;33m\u001b[0m\u001b[0m\n\u001b[1;32m   1039\u001b[0m \u001b[1;33m\u001b[0m\u001b[0m\n",
      "\u001b[0;32me:\\python35\\lib\\site-packages\\google\\protobuf\\internal\\python_message.py\u001b[0m in \u001b[0;36mSerializePartialToString\u001b[0;34m(self, **kwargs)\u001b[0m\n\u001b[1;32m   1044\u001b[0m   \u001b[1;32mdef\u001b[0m \u001b[0mSerializePartialToString\u001b[0m\u001b[1;33m(\u001b[0m\u001b[0mself\u001b[0m\u001b[1;33m,\u001b[0m \u001b[1;33m**\u001b[0m\u001b[0mkwargs\u001b[0m\u001b[1;33m)\u001b[0m\u001b[1;33m:\u001b[0m\u001b[1;33m\u001b[0m\u001b[0m\n\u001b[1;32m   1045\u001b[0m     \u001b[0mout\u001b[0m \u001b[1;33m=\u001b[0m \u001b[0mBytesIO\u001b[0m\u001b[1;33m(\u001b[0m\u001b[1;33m)\u001b[0m\u001b[1;33m\u001b[0m\u001b[0m\n\u001b[0;32m-> 1046\u001b[0;31m     \u001b[0mself\u001b[0m\u001b[1;33m.\u001b[0m\u001b[0m_InternalSerialize\u001b[0m\u001b[1;33m(\u001b[0m\u001b[0mout\u001b[0m\u001b[1;33m.\u001b[0m\u001b[0mwrite\u001b[0m\u001b[1;33m,\u001b[0m \u001b[1;33m**\u001b[0m\u001b[0mkwargs\u001b[0m\u001b[1;33m)\u001b[0m\u001b[1;33m\u001b[0m\u001b[0m\n\u001b[0m\u001b[1;32m   1047\u001b[0m     \u001b[1;32mreturn\u001b[0m \u001b[0mout\u001b[0m\u001b[1;33m.\u001b[0m\u001b[0mgetvalue\u001b[0m\u001b[1;33m(\u001b[0m\u001b[1;33m)\u001b[0m\u001b[1;33m\u001b[0m\u001b[0m\n\u001b[1;32m   1048\u001b[0m   \u001b[0mcls\u001b[0m\u001b[1;33m.\u001b[0m\u001b[0mSerializePartialToString\u001b[0m \u001b[1;33m=\u001b[0m \u001b[0mSerializePartialToString\u001b[0m\u001b[1;33m\u001b[0m\u001b[0m\n",
      "\u001b[0;32me:\\python35\\lib\\site-packages\\google\\protobuf\\internal\\python_message.py\u001b[0m in \u001b[0;36mInternalSerialize\u001b[0;34m(self, write_bytes, deterministic)\u001b[0m\n\u001b[1;32m   1055\u001b[0m       \u001b[0mdeterministic\u001b[0m \u001b[1;33m=\u001b[0m \u001b[0mbool\u001b[0m\u001b[1;33m(\u001b[0m\u001b[0mdeterministic\u001b[0m\u001b[1;33m)\u001b[0m\u001b[1;33m\u001b[0m\u001b[0m\n\u001b[1;32m   1056\u001b[0m     \u001b[1;32mfor\u001b[0m \u001b[0mfield_descriptor\u001b[0m\u001b[1;33m,\u001b[0m \u001b[0mfield_value\u001b[0m \u001b[1;32min\u001b[0m \u001b[0mself\u001b[0m\u001b[1;33m.\u001b[0m\u001b[0mListFields\u001b[0m\u001b[1;33m(\u001b[0m\u001b[1;33m)\u001b[0m\u001b[1;33m:\u001b[0m\u001b[1;33m\u001b[0m\u001b[0m\n\u001b[0;32m-> 1057\u001b[0;31m       \u001b[0mfield_descriptor\u001b[0m\u001b[1;33m.\u001b[0m\u001b[0m_encoder\u001b[0m\u001b[1;33m(\u001b[0m\u001b[0mwrite_bytes\u001b[0m\u001b[1;33m,\u001b[0m \u001b[0mfield_value\u001b[0m\u001b[1;33m,\u001b[0m \u001b[0mdeterministic\u001b[0m\u001b[1;33m)\u001b[0m\u001b[1;33m\u001b[0m\u001b[0m\n\u001b[0m\u001b[1;32m   1058\u001b[0m     \u001b[1;32mfor\u001b[0m \u001b[0mtag_bytes\u001b[0m\u001b[1;33m,\u001b[0m \u001b[0mvalue_bytes\u001b[0m \u001b[1;32min\u001b[0m \u001b[0mself\u001b[0m\u001b[1;33m.\u001b[0m\u001b[0m_unknown_fields\u001b[0m\u001b[1;33m:\u001b[0m\u001b[1;33m\u001b[0m\u001b[0m\n\u001b[1;32m   1059\u001b[0m       \u001b[0mwrite_bytes\u001b[0m\u001b[1;33m(\u001b[0m\u001b[0mtag_bytes\u001b[0m\u001b[1;33m)\u001b[0m\u001b[1;33m\u001b[0m\u001b[0m\n",
      "\u001b[0;32me:\\python35\\lib\\site-packages\\google\\protobuf\\internal\\encoder.py\u001b[0m in \u001b[0;36mEncodeRepeatedField\u001b[0;34m(write, value, deterministic)\u001b[0m\n\u001b[1;32m    758\u001b[0m         \u001b[0mwrite\u001b[0m\u001b[1;33m(\u001b[0m\u001b[0mtag\u001b[0m\u001b[1;33m)\u001b[0m\u001b[1;33m\u001b[0m\u001b[0m\n\u001b[1;32m    759\u001b[0m         \u001b[0mlocal_EncodeVarint\u001b[0m\u001b[1;33m(\u001b[0m\u001b[0mwrite\u001b[0m\u001b[1;33m,\u001b[0m \u001b[0melement\u001b[0m\u001b[1;33m.\u001b[0m\u001b[0mByteSize\u001b[0m\u001b[1;33m(\u001b[0m\u001b[1;33m)\u001b[0m\u001b[1;33m,\u001b[0m \u001b[0mdeterministic\u001b[0m\u001b[1;33m)\u001b[0m\u001b[1;33m\u001b[0m\u001b[0m\n\u001b[0;32m--> 760\u001b[0;31m         \u001b[0melement\u001b[0m\u001b[1;33m.\u001b[0m\u001b[0m_InternalSerialize\u001b[0m\u001b[1;33m(\u001b[0m\u001b[0mwrite\u001b[0m\u001b[1;33m,\u001b[0m \u001b[0mdeterministic\u001b[0m\u001b[1;33m)\u001b[0m\u001b[1;33m\u001b[0m\u001b[0m\n\u001b[0m\u001b[1;32m    761\u001b[0m     \u001b[1;32mreturn\u001b[0m \u001b[0mEncodeRepeatedField\u001b[0m\u001b[1;33m\u001b[0m\u001b[0m\n\u001b[1;32m    762\u001b[0m   \u001b[1;32melse\u001b[0m\u001b[1;33m:\u001b[0m\u001b[1;33m\u001b[0m\u001b[0m\n",
      "\u001b[0;32me:\\python35\\lib\\site-packages\\google\\protobuf\\internal\\python_message.py\u001b[0m in \u001b[0;36mInternalSerialize\u001b[0;34m(self, write_bytes, deterministic)\u001b[0m\n\u001b[1;32m   1055\u001b[0m       \u001b[0mdeterministic\u001b[0m \u001b[1;33m=\u001b[0m \u001b[0mbool\u001b[0m\u001b[1;33m(\u001b[0m\u001b[0mdeterministic\u001b[0m\u001b[1;33m)\u001b[0m\u001b[1;33m\u001b[0m\u001b[0m\n\u001b[1;32m   1056\u001b[0m     \u001b[1;32mfor\u001b[0m \u001b[0mfield_descriptor\u001b[0m\u001b[1;33m,\u001b[0m \u001b[0mfield_value\u001b[0m \u001b[1;32min\u001b[0m \u001b[0mself\u001b[0m\u001b[1;33m.\u001b[0m\u001b[0mListFields\u001b[0m\u001b[1;33m(\u001b[0m\u001b[1;33m)\u001b[0m\u001b[1;33m:\u001b[0m\u001b[1;33m\u001b[0m\u001b[0m\n\u001b[0;32m-> 1057\u001b[0;31m       \u001b[0mfield_descriptor\u001b[0m\u001b[1;33m.\u001b[0m\u001b[0m_encoder\u001b[0m\u001b[1;33m(\u001b[0m\u001b[0mwrite_bytes\u001b[0m\u001b[1;33m,\u001b[0m \u001b[0mfield_value\u001b[0m\u001b[1;33m,\u001b[0m \u001b[0mdeterministic\u001b[0m\u001b[1;33m)\u001b[0m\u001b[1;33m\u001b[0m\u001b[0m\n\u001b[0m\u001b[1;32m   1058\u001b[0m     \u001b[1;32mfor\u001b[0m \u001b[0mtag_bytes\u001b[0m\u001b[1;33m,\u001b[0m \u001b[0mvalue_bytes\u001b[0m \u001b[1;32min\u001b[0m \u001b[0mself\u001b[0m\u001b[1;33m.\u001b[0m\u001b[0m_unknown_fields\u001b[0m\u001b[1;33m:\u001b[0m\u001b[1;33m\u001b[0m\u001b[0m\n\u001b[1;32m   1059\u001b[0m       \u001b[0mwrite_bytes\u001b[0m\u001b[1;33m(\u001b[0m\u001b[0mtag_bytes\u001b[0m\u001b[1;33m)\u001b[0m\u001b[1;33m\u001b[0m\u001b[0m\n",
      "\u001b[0;32me:\\python35\\lib\\site-packages\\google\\protobuf\\internal\\encoder.py\u001b[0m in \u001b[0;36mEncodeField\u001b[0;34m(write, value, deterministic)\u001b[0m\n\u001b[1;32m    822\u001b[0m     \u001b[0mvalue_keys\u001b[0m \u001b[1;33m=\u001b[0m \u001b[0msorted\u001b[0m\u001b[1;33m(\u001b[0m\u001b[0mvalue\u001b[0m\u001b[1;33m.\u001b[0m\u001b[0mkeys\u001b[0m\u001b[1;33m(\u001b[0m\u001b[1;33m)\u001b[0m\u001b[1;33m)\u001b[0m \u001b[1;32mif\u001b[0m \u001b[0mdeterministic\u001b[0m \u001b[1;32melse\u001b[0m \u001b[0mvalue\u001b[0m\u001b[1;33m.\u001b[0m\u001b[0mkeys\u001b[0m\u001b[1;33m(\u001b[0m\u001b[1;33m)\u001b[0m\u001b[1;33m\u001b[0m\u001b[0m\n\u001b[1;32m    823\u001b[0m     \u001b[1;32mfor\u001b[0m \u001b[0mkey\u001b[0m \u001b[1;32min\u001b[0m \u001b[0mvalue_keys\u001b[0m\u001b[1;33m:\u001b[0m\u001b[1;33m\u001b[0m\u001b[0m\n\u001b[0;32m--> 824\u001b[0;31m       \u001b[0mentry_msg\u001b[0m \u001b[1;33m=\u001b[0m \u001b[0mmessage_type\u001b[0m\u001b[1;33m.\u001b[0m\u001b[0m_concrete_class\u001b[0m\u001b[1;33m(\u001b[0m\u001b[0mkey\u001b[0m\u001b[1;33m=\u001b[0m\u001b[0mkey\u001b[0m\u001b[1;33m,\u001b[0m \u001b[0mvalue\u001b[0m\u001b[1;33m=\u001b[0m\u001b[0mvalue\u001b[0m\u001b[1;33m[\u001b[0m\u001b[0mkey\u001b[0m\u001b[1;33m]\u001b[0m\u001b[1;33m)\u001b[0m\u001b[1;33m\u001b[0m\u001b[0m\n\u001b[0m\u001b[1;32m    825\u001b[0m       \u001b[0mencode_message\u001b[0m\u001b[1;33m(\u001b[0m\u001b[0mwrite\u001b[0m\u001b[1;33m,\u001b[0m \u001b[0mentry_msg\u001b[0m\u001b[1;33m,\u001b[0m \u001b[0mdeterministic\u001b[0m\u001b[1;33m)\u001b[0m\u001b[1;33m\u001b[0m\u001b[0m\n\u001b[1;32m    826\u001b[0m \u001b[1;33m\u001b[0m\u001b[0m\n",
      "\u001b[0;32me:\\python35\\lib\\site-packages\\google\\protobuf\\internal\\python_message.py\u001b[0m in \u001b[0;36minit\u001b[0;34m(self, **kwargs)\u001b[0m\n\u001b[1;32m    516\u001b[0m           \u001b[0mnew_val\u001b[0m \u001b[1;33m=\u001b[0m \u001b[0mfield\u001b[0m\u001b[1;33m.\u001b[0m\u001b[0mmessage_type\u001b[0m\u001b[1;33m.\u001b[0m\u001b[0m_concrete_class\u001b[0m\u001b[1;33m(\u001b[0m\u001b[1;33m**\u001b[0m\u001b[0mfield_value\u001b[0m\u001b[1;33m)\u001b[0m\u001b[1;33m\u001b[0m\u001b[0m\n\u001b[1;32m    517\u001b[0m         \u001b[1;32mtry\u001b[0m\u001b[1;33m:\u001b[0m\u001b[1;33m\u001b[0m\u001b[0m\n\u001b[0;32m--> 518\u001b[0;31m           \u001b[0mcopy\u001b[0m\u001b[1;33m.\u001b[0m\u001b[0mMergeFrom\u001b[0m\u001b[1;33m(\u001b[0m\u001b[0mnew_val\u001b[0m\u001b[1;33m)\u001b[0m\u001b[1;33m\u001b[0m\u001b[0m\n\u001b[0m\u001b[1;32m    519\u001b[0m         \u001b[1;32mexcept\u001b[0m \u001b[0mTypeError\u001b[0m\u001b[1;33m:\u001b[0m\u001b[1;33m\u001b[0m\u001b[0m\n\u001b[1;32m    520\u001b[0m           \u001b[0m_ReraiseTypeErrorWithFieldName\u001b[0m\u001b[1;33m(\u001b[0m\u001b[0mmessage_descriptor\u001b[0m\u001b[1;33m.\u001b[0m\u001b[0mname\u001b[0m\u001b[1;33m,\u001b[0m \u001b[0mfield_name\u001b[0m\u001b[1;33m)\u001b[0m\u001b[1;33m\u001b[0m\u001b[0m\n",
      "\u001b[0;32me:\\python35\\lib\\site-packages\\google\\protobuf\\internal\\python_message.py\u001b[0m in \u001b[0;36mMergeFrom\u001b[0;34m(self, msg)\u001b[0m\n\u001b[1;32m   1235\u001b[0m             \u001b[0mfield_value\u001b[0m \u001b[1;33m=\u001b[0m \u001b[0mfield\u001b[0m\u001b[1;33m.\u001b[0m\u001b[0m_default_constructor\u001b[0m\u001b[1;33m(\u001b[0m\u001b[0mself\u001b[0m\u001b[1;33m)\u001b[0m\u001b[1;33m\u001b[0m\u001b[0m\n\u001b[1;32m   1236\u001b[0m             \u001b[0mfields\u001b[0m\u001b[1;33m[\u001b[0m\u001b[0mfield\u001b[0m\u001b[1;33m]\u001b[0m \u001b[1;33m=\u001b[0m \u001b[0mfield_value\u001b[0m\u001b[1;33m\u001b[0m\u001b[0m\n\u001b[0;32m-> 1237\u001b[0;31m           \u001b[0mfield_value\u001b[0m\u001b[1;33m.\u001b[0m\u001b[0mMergeFrom\u001b[0m\u001b[1;33m(\u001b[0m\u001b[0mvalue\u001b[0m\u001b[1;33m)\u001b[0m\u001b[1;33m\u001b[0m\u001b[0m\n\u001b[0m\u001b[1;32m   1238\u001b[0m       \u001b[1;32melse\u001b[0m\u001b[1;33m:\u001b[0m\u001b[1;33m\u001b[0m\u001b[0m\n\u001b[1;32m   1239\u001b[0m         \u001b[0mself\u001b[0m\u001b[1;33m.\u001b[0m\u001b[0m_fields\u001b[0m\u001b[1;33m[\u001b[0m\u001b[0mfield\u001b[0m\u001b[1;33m]\u001b[0m \u001b[1;33m=\u001b[0m \u001b[0mvalue\u001b[0m\u001b[1;33m\u001b[0m\u001b[0m\n",
      "\u001b[0;32me:\\python35\\lib\\site-packages\\google\\protobuf\\internal\\python_message.py\u001b[0m in \u001b[0;36mMergeFrom\u001b[0;34m(self, msg)\u001b[0m\n\u001b[1;32m   1216\u001b[0m \u001b[1;33m\u001b[0m\u001b[0m\n\u001b[1;32m   1217\u001b[0m     \u001b[1;32massert\u001b[0m \u001b[0mmsg\u001b[0m \u001b[1;32mis\u001b[0m \u001b[1;32mnot\u001b[0m \u001b[0mself\u001b[0m\u001b[1;33m\u001b[0m\u001b[0m\n\u001b[0;32m-> 1218\u001b[0;31m     \u001b[0mself\u001b[0m\u001b[1;33m.\u001b[0m\u001b[0m_Modified\u001b[0m\u001b[1;33m(\u001b[0m\u001b[1;33m)\u001b[0m\u001b[1;33m\u001b[0m\u001b[0m\n\u001b[0m\u001b[1;32m   1219\u001b[0m \u001b[1;33m\u001b[0m\u001b[0m\n\u001b[1;32m   1220\u001b[0m     \u001b[0mfields\u001b[0m \u001b[1;33m=\u001b[0m \u001b[0mself\u001b[0m\u001b[1;33m.\u001b[0m\u001b[0m_fields\u001b[0m\u001b[1;33m\u001b[0m\u001b[0m\n",
      "\u001b[0;32me:\\python35\\lib\\site-packages\\google\\protobuf\\internal\\python_message.py\u001b[0m in \u001b[0;36mModified\u001b[0;34m(self)\u001b[0m\n\u001b[1;32m   1341\u001b[0m       \u001b[0mself\u001b[0m\u001b[1;33m.\u001b[0m\u001b[0m_listener_for_children\u001b[0m\u001b[1;33m.\u001b[0m\u001b[0mdirty\u001b[0m \u001b[1;33m=\u001b[0m \u001b[1;32mTrue\u001b[0m\u001b[1;33m\u001b[0m\u001b[0m\n\u001b[1;32m   1342\u001b[0m       \u001b[0mself\u001b[0m\u001b[1;33m.\u001b[0m\u001b[0m_is_present_in_parent\u001b[0m \u001b[1;33m=\u001b[0m \u001b[1;32mTrue\u001b[0m\u001b[1;33m\u001b[0m\u001b[0m\n\u001b[0;32m-> 1343\u001b[0;31m       \u001b[0mself\u001b[0m\u001b[1;33m.\u001b[0m\u001b[0m_listener\u001b[0m\u001b[1;33m.\u001b[0m\u001b[0mModified\u001b[0m\u001b[1;33m(\u001b[0m\u001b[1;33m)\u001b[0m\u001b[1;33m\u001b[0m\u001b[0m\n\u001b[0m\u001b[1;32m   1344\u001b[0m \u001b[1;33m\u001b[0m\u001b[0m\n\u001b[1;32m   1345\u001b[0m   \u001b[1;32mdef\u001b[0m \u001b[0m_UpdateOneofState\u001b[0m\u001b[1;33m(\u001b[0m\u001b[0mself\u001b[0m\u001b[1;33m,\u001b[0m \u001b[0mfield\u001b[0m\u001b[1;33m)\u001b[0m\u001b[1;33m:\u001b[0m\u001b[1;33m\u001b[0m\u001b[0m\n",
      "\u001b[0;32me:\\python35\\lib\\site-packages\\google\\protobuf\\internal\\python_message.py\u001b[0m in \u001b[0;36mModified\u001b[0;34m(self)\u001b[0m\n\u001b[1;32m   1421\u001b[0m     \u001b[1;32mtry\u001b[0m\u001b[1;33m:\u001b[0m\u001b[1;33m\u001b[0m\u001b[0m\n\u001b[1;32m   1422\u001b[0m       \u001b[0mself\u001b[0m\u001b[1;33m.\u001b[0m\u001b[0m_parent_message_weakref\u001b[0m\u001b[1;33m.\u001b[0m\u001b[0m_UpdateOneofState\u001b[0m\u001b[1;33m(\u001b[0m\u001b[0mself\u001b[0m\u001b[1;33m.\u001b[0m\u001b[0m_field\u001b[0m\u001b[1;33m)\u001b[0m\u001b[1;33m\u001b[0m\u001b[0m\n\u001b[0;32m-> 1423\u001b[0;31m       \u001b[0msuper\u001b[0m\u001b[1;33m(\u001b[0m\u001b[0m_OneofListener\u001b[0m\u001b[1;33m,\u001b[0m \u001b[0mself\u001b[0m\u001b[1;33m)\u001b[0m\u001b[1;33m.\u001b[0m\u001b[0mModified\u001b[0m\u001b[1;33m(\u001b[0m\u001b[1;33m)\u001b[0m\u001b[1;33m\u001b[0m\u001b[0m\n\u001b[0m\u001b[1;32m   1424\u001b[0m     \u001b[1;32mexcept\u001b[0m \u001b[0mReferenceError\u001b[0m\u001b[1;33m:\u001b[0m\u001b[1;33m\u001b[0m\u001b[0m\n\u001b[1;32m   1425\u001b[0m       \u001b[1;32mpass\u001b[0m\u001b[1;33m\u001b[0m\u001b[0m\n",
      "\u001b[0;32me:\\python35\\lib\\site-packages\\google\\protobuf\\internal\\python_message.py\u001b[0m in \u001b[0;36mModified\u001b[0;34m(self)\u001b[0m\n\u001b[1;32m   1397\u001b[0m     \u001b[1;32mtry\u001b[0m\u001b[1;33m:\u001b[0m\u001b[1;33m\u001b[0m\u001b[0m\n\u001b[1;32m   1398\u001b[0m       \u001b[1;31m# Propagate the signal to our parents iff this is the first field set.\u001b[0m\u001b[1;33m\u001b[0m\u001b[1;33m\u001b[0m\u001b[0m\n\u001b[0;32m-> 1399\u001b[0;31m       \u001b[0mself\u001b[0m\u001b[1;33m.\u001b[0m\u001b[0m_parent_message_weakref\u001b[0m\u001b[1;33m.\u001b[0m\u001b[0m_Modified\u001b[0m\u001b[1;33m(\u001b[0m\u001b[1;33m)\u001b[0m\u001b[1;33m\u001b[0m\u001b[0m\n\u001b[0m\u001b[1;32m   1400\u001b[0m     \u001b[1;32mexcept\u001b[0m \u001b[0mReferenceError\u001b[0m\u001b[1;33m:\u001b[0m\u001b[1;33m\u001b[0m\u001b[0m\n\u001b[1;32m   1401\u001b[0m       \u001b[1;31m# We can get here if a client has kept a reference to a child object,\u001b[0m\u001b[1;33m\u001b[0m\u001b[1;33m\u001b[0m\u001b[0m\n",
      "\u001b[0;32me:\\python35\\lib\\site-packages\\google\\protobuf\\internal\\python_message.py\u001b[0m in \u001b[0;36mModified\u001b[0;34m(self)\u001b[0m\n\u001b[1;32m   1328\u001b[0m   \u001b[1;34m\"\"\"Adds implementation of private helper methods to cls.\"\"\"\u001b[0m\u001b[1;33m\u001b[0m\u001b[0m\n\u001b[1;32m   1329\u001b[0m \u001b[1;33m\u001b[0m\u001b[0m\n\u001b[0;32m-> 1330\u001b[0;31m   \u001b[1;32mdef\u001b[0m \u001b[0mModified\u001b[0m\u001b[1;33m(\u001b[0m\u001b[0mself\u001b[0m\u001b[1;33m)\u001b[0m\u001b[1;33m:\u001b[0m\u001b[1;33m\u001b[0m\u001b[0m\n\u001b[0m\u001b[1;32m   1331\u001b[0m     \"\"\"Sets the _cached_byte_size_dirty bit to true,\n\u001b[1;32m   1332\u001b[0m     \u001b[1;32mand\u001b[0m \u001b[0mpropagates\u001b[0m \u001b[0mthis\u001b[0m \u001b[0mto\u001b[0m \u001b[0mour\u001b[0m \u001b[0mlistener\u001b[0m \u001b[0miff\u001b[0m \u001b[0mthis\u001b[0m \u001b[0mwas\u001b[0m \u001b[0ma\u001b[0m \u001b[0mstate\u001b[0m \u001b[0mchange\u001b[0m\u001b[1;33m.\u001b[0m\u001b[1;33m\u001b[0m\u001b[0m\n",
      "\u001b[0;31mKeyboardInterrupt\u001b[0m: "
     ]
    }
   ],
   "source": [
    "n_epoch=2\n",
    "learning_rate=1e-3\n",
    "train_op=tf.train.AdamOptimizer(learning_rate=learning_rate).minimize(loss)\n",
    "print_every = 50\n",
    "partition_size = 100\n",
    "with tf.Session() as sess:\n",
    "    sess.run(tf.global_variables_initializer())\n",
    "    for epoch in range(n_epoch):\n",
    "        for data_index, data in enumerate(raw_text_list):\n",
    "            data = test_codec.encode(data)\n",
    "            x, y = data[:-1,:], data[1:,:]\n",
    "            x_partitions, y_partitions = partitions(x, partition_size), partitions(y, partition_size)\n",
    "            state = None\n",
    "            for _x, _y in zip(x_partitions, y_partitions):\n",
    "                # print(\"In:\\n{}\\nOut:\\n{}\".format(test_codec.decode(_x), test_codec.decode(_y)))\n",
    "                feed_dict={seq_input: _x, target_seq_output: _y}\n",
    "                if state is not None:\n",
    "                    feed_dict[init_state] = state\n",
    "                _, loss_val, state=sess.run([train_op, loss, batch_seq_state], feed_dict=feed_dict)\n",
    "            if data_index==0 or ((data_index+1) % print_every==0):\n",
    "                print(\"Loss of data number {} at epoch {}:\\n{}\".format(data_index, epoch, loss_val))\n",
    "                print(\"Decoded output given input: {}\".format(\n",
    "                        test_codec.decode(sess.run(seq_output, feed_dict={seq_input: x, target_seq_output: y}))))\n",
    "\n",
    "def online_inference():\n",
    "    raise NotImplementedError(\"Not implemented yet.\")"
   ]
  },
  {
   "cell_type": "markdown",
   "metadata": {},
   "source": [
    "#### Start training"
   ]
  },
  {
   "cell_type": "code",
   "execution_count": null,
   "metadata": {
    "collapsed": true
   },
   "outputs": [],
   "source": []
  },
  {
   "cell_type": "markdown",
   "metadata": {},
   "source": [
    "### Test online inference"
   ]
  },
  {
   "cell_type": "code",
   "execution_count": null,
   "metadata": {
    "collapsed": false,
    "scrolled": false
   },
   "outputs": [],
   "source": []
  }
 ],
 "metadata": {
  "kernelspec": {
   "display_name": "Python 3",
   "language": "python",
   "name": "python3"
  },
  "language_info": {
   "codemirror_mode": {
    "name": "ipython",
    "version": 3
   },
   "file_extension": ".py",
   "mimetype": "text/x-python",
   "name": "python",
   "nbconvert_exporter": "python",
   "pygments_lexer": "ipython3",
   "version": "3.5.2"
  }
 },
 "nbformat": 4,
 "nbformat_minor": 1
}
