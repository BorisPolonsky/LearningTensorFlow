{
 "cells": [
  {
   "cell_type": "markdown",
   "metadata": {},
   "source": [
    "# Text generator based on RNN"
   ]
  },
  {
   "cell_type": "markdown",
   "metadata": {},
   "source": [
    "## Brief\n",
    "Generate fake abstract with RNN model under tensorflow r1.3."
   ]
  },
  {
   "cell_type": "markdown",
   "metadata": {},
   "source": [
    "### Import libraries"
   ]
  },
  {
   "cell_type": "code",
   "execution_count": null,
   "metadata": {
    "collapsed": false
   },
   "outputs": [],
   "source": [
    "import tensorflow as tf\n",
    "import numpy as np\n",
    "import random\n",
    "import os"
   ]
  },
  {
   "cell_type": "markdown",
   "metadata": {},
   "source": [
    "### Configurations "
   ]
  },
  {
   "cell_type": "code",
   "execution_count": null,
   "metadata": {
    "collapsed": true
   },
   "outputs": [],
   "source": [
    "vocab = (\" $%'()+,-./0123456789:;=?ABCDEFGHIJKLMNOPQRSTUVWXYZ\"\n",
    "            \"\\\\^_abcdefghijklmnopqrstuvwxyz{|}\\n\")\n",
    "graph_path=r\"./graphs\"\n",
    "test_text_path=os.path.normpath(r\"../DataSet/arvix_abstracts.txt\")\n",
    "batch_size=5\n",
    "model_param_path=os.path.normpath(r\"./model_checkpoints\")"
   ]
  },
  {
   "cell_type": "markdown",
   "metadata": {},
   "source": [
    "### Data encoding\n",
    "#### Basic Assumption\n",
    "\n",
    "* A full string sequence consists $START$ & $STOP$ signal with characters in the middle. \n",
    "\n",
    "#### Encoding policy\n",
    "* A set $\\mathcal{S}$ that consists of many characters is utilized to encode the characters.\n",
    "* The $1^{st}$ entry of the vector corresponds to $UNKNOWN$ characters(l.e. characters that are beyond $\\mathcal{S}$). \n",
    "* The last entry of the vector corresponds to $STOP$ signal of the sequence. \n",
    "* The entries in the middle corresponds to the indices of the characters within $\\mathcal{S}$. \n",
    "* The $START$ signal is represented as a zero vector. \n",
    "\n",
    "#### Implementation & Test\n",
    "##### Declaration"
   ]
  },
  {
   "cell_type": "code",
   "execution_count": null,
   "metadata": {
    "collapsed": false
   },
   "outputs": [],
   "source": [
    "class TextCodec:\n",
    "    def __init__(self, vocab):\n",
    "        self.__vocab = vocab\n",
    "        \n",
    "    def encode(self, string, sess = None, start=True, stop=True):\n",
    "        \"\"\"\n",
    "        Encode string.\n",
    "        Each character is represented as a N-dimension one hot vector. \n",
    "        N = len(self.__vocab)+ 2\n",
    "        \n",
    "        Note:\n",
    "        The first entry of the vector corresponds to unknown character. \n",
    "        The last entry of the vector corresponds to STOP signal of the sequence. \n",
    "        The entries in the middle corresponds to the index of the character. \n",
    "        The START signal is represented as a zero vector. \n",
    "        \"\"\"\n",
    "        tensor=[vocab.find(ch)+1 for ch in string]\n",
    "        if stop:\n",
    "             tensor.append(len(vocab)+1)  # String + STOP\n",
    "        tensor=tf.one_hot(tensor,depth=len(vocab)+2,on_value=1.0,off_value=0.0,axis=-1, dtype=tf.float32)\n",
    "        if start:\n",
    "            tensor=tf.concat([tf.zeros([1, len(vocab)+2],dtype=tf.float32),tensor],axis=0)  # String + START\n",
    "        if sess is None:\n",
    "            with tf.Session() as sess:\n",
    "                nparray=tensor.eval()\n",
    "        elif type(sess) == tf.Session:\n",
    "            nparray = tensor.eval(session=sess)\n",
    "        else:\n",
    "            raise TypeError('\"sess\" must be {}, got {}'.format(tf.Session, type(sess)))    \n",
    "        return nparray\n",
    "\n",
    "    def decode(self, nparray, default=\"[UNKNOWN]\",start=\"[START]\",stop=\"[STOP]\",strip=False):\n",
    "        text_list=[]\n",
    "        indices=np.argmax(nparray,axis=1)\n",
    "        for v, ch_i in zip(nparray,indices):\n",
    "            if np.all(v==0):\n",
    "                text_list.append(start if not strip else \"\")\n",
    "            elif ch_i==0:\n",
    "                text_list.append(default)\n",
    "            elif ch_i==len(self.__vocab)+1:\n",
    "                text_list.append(stop if not strip else \"\")\n",
    "            else:\n",
    "                text_list.append(vocab[ch_i-1])\n",
    "        return \"\".join(text_list)"
   ]
  },
  {
   "cell_type": "markdown",
   "metadata": {},
   "source": [
    "##### Test\n",
    "See how encoding and decoding work. "
   ]
  },
  {
   "cell_type": "code",
   "execution_count": null,
   "metadata": {
    "collapsed": false
   },
   "outputs": [],
   "source": [
    "test_codec=TextCodec(vocab)\n",
    "test_text_encoded=test_codec.encode(\"Hello world!\")\n",
    "print(\"Encoded text looks like:\\n{}\".format(test_text_encoded))\n",
    "test_text_decoded=test_codec.decode(nparray=test_text_encoded,strip=False)\n",
    "print(\"Decoded text looks like:\\n{}\".format(test_text_decoded))"
   ]
  },
  {
   "cell_type": "markdown",
   "metadata": {},
   "source": [
    "### Batch Generator\n",
    "#### Implementation"
   ]
  },
  {
   "cell_type": "code",
   "execution_count": null,
   "metadata": {
    "collapsed": false
   },
   "outputs": [],
   "source": [
    "def batch_generator(file_path, batch_size, sequence_length, overlap=0.5, text_codec=None):\n",
    "    step_size = int(sequence_length * (1-overlap))\n",
    "    with open(os.path.normpath(file_path),\"r\") as f:\n",
    "        text = \"\".join(f.readlines())\n",
    "    batch = []\n",
    "    for i in range(0,len(text)-sequence_length+1,step_size):\n",
    "        if text_codec is None:\n",
    "            batch.append(text[i:i+sequence_length])\n",
    "        else:\n",
    "            batch.append(text_codec.encode(text[i:i+sequence_length]))\n",
    "        if len(batch) == batch_size:\n",
    "            yield batch if text_codec is None else np.array(batch)\n",
    "            batch = []"
   ]
  },
  {
   "cell_type": "markdown",
   "metadata": {},
   "source": [
    "#### Test\n",
    "See what each batch looks like. "
   ]
  },
  {
   "cell_type": "code",
   "execution_count": null,
   "metadata": {
    "collapsed": false
   },
   "outputs": [],
   "source": [
    "batches=batch_generator(test_text_path, 2, 30, 0.5)\n",
    "encoded_batches=batch_generator(test_text_path, batch_size, 100, 0.5, test_codec)  # For later use\n",
    "print(\"The first 5 batches are:\")\n",
    "for batch, _ in zip(batches,range(5)):\n",
    "    print(batch)\n",
    "del batches"
   ]
  },
  {
   "cell_type": "markdown",
   "metadata": {},
   "source": [
    "### Define model class"
   ]
  },
  {
   "cell_type": "code",
   "execution_count": null,
   "metadata": {
    "collapsed": false
   },
   "outputs": [],
   "source": [
    "class MyRNN():\n",
    "    def __init__(self, input_vector_dim, model_checkpoint_path, state_size=100, scope=\"RNN\", output_vector_dim=None):\n",
    "        if output_vector_dim is None:\n",
    "            output_vector_dim=input_vector_dim\n",
    "        self.__input_vector_dim=input_vector_dim\n",
    "        self.__output_vector_dim=output_vector_dim\n",
    "        self.__state_size=state_size\n",
    "        self.__mdl_ckpt_path=model_checkpoint_path\n",
    "        with tf.variable_scope(scope) as model_scope:\n",
    "            with tf.variable_scope(\"structure\") as structure_scope:\n",
    "                # One batch at a time\n",
    "                self.__inputs = tf.placeholder(dtype=tf.float32,shape=[None,None,input_vector_dim])\n",
    "                self.__expected_outputs = tf.placeholder(dtype=tf.float32,shape=[None,None,output_vector_dim])\n",
    "                self.__cell = tf.nn.rnn_cell.GRUCell(num_units=state_size)\n",
    "                self.__init_state = tf.placeholder_with_default(tf.zeros([1,state_size],dtype=tf.float32),\n",
    "                                                              [None,state_size])\n",
    "                self.__wI2S = tf.get_variable(name=\"weight_i2s\",shape=[input_vector_dim,state_size],\n",
    "                                            initializer=tf.truncated_normal_initializer())\n",
    "                self.__bI2S = tf.get_variable(name=\"bias_i2s\",shape=[1,state_size],\n",
    "                            initializer=tf.truncated_normal_initializer())\n",
    "                self.__rnn_inputs=tf.add(tf.einsum(\"aij,jk->aik\",self.__inputs,self.__wI2S), self.__bI2S)  \n",
    "                # Didn't know why the broadcast mechanism work on tf.matmul(self.__inputs,self.__wI2S)\n",
    "                \n",
    "                # S20:State to output\n",
    "                self.__wS2O = tf.get_variable(name=\"weight_s2o\",shape=[state_size,output_vector_dim],\n",
    "                                            initializer=tf.truncated_normal_initializer())\n",
    "                self.__bS2O = tf.get_variable(name=\"bias_s2o\",shape=[1,output_vector_dim],\n",
    "                                            initializer=tf.truncated_normal_initializer())\n",
    "                self.__state_output, self.__final_state = tf.nn.dynamic_rnn(cell=self.__cell,inputs=self.__rnn_inputs,\n",
    "                                                     dtype=tf.float32,initial_state=self.init_state)\n",
    "                \n",
    "                self.__net_outputs=tf.add(tf.einsum(\"aij,jk->aik\",self.__state_output,self.__wS2O), self.__bS2O)\n",
    "                self.__net_outputs=tf.nn.softmax(self.__net_outputs,name=\"output_distribution\")\n",
    "                # Same reason for usint tf.einsum here.\n",
    "            with tf.name_scope(\"training\"):\n",
    "                # Need to utilize new loss function\n",
    "                # Variable prob has shape [batch_size, time_step], each entry corresponds to\n",
    "                # p(x_{t+1}=k|y_{t}) where k is the target class (as long as the expected outputs fed into the network are one-hot vectors)\n",
    "                prob=tf.reduce_sum(tf.multiply(self.__net_outputs,self.__expected_outputs),axis=2)\n",
    "                # The following loss has shape [batch_size], \n",
    "                # each corresponds to the negative of maximum likelihood function of the the corresponding sequence. \n",
    "                loss=-tf.reduce_sum(tf.log(prob), axis=1)\n",
    "                # The folloiwng loss is the average loss of the batch. \n",
    "                loss=tf.reduce_mean(loss, name=\"loss\")\n",
    "                self.__global_step=tf.Variable(0,dtype=tf.int32,trainable=False,name='global_step')\n",
    "                self.optimizer=tf.train.AdamOptimizer(learning_rate=0.001,\n",
    "                                                      name=\"optimizer\").minimize(loss,global_step=self.__global_step)\n",
    "            with tf.name_scope(\"summary\") as sumScope:\n",
    "                lossSum=tf.summary.scalar(tensor=loss,name=\"loss\")\n",
    "                self.summary_op=tf.summary.merge(tf.get_collection(tf.GraphKeys.SUMMARIES,sumScope))\n",
    "\n",
    "    def online_inference(self, codec, time_steps=100, state=None, seed=None, model_param_path=None):\n",
    "        feed_dict={}\n",
    "        saver=tf.train.Saver()\n",
    "        if model_param_path is None:\n",
    "            model_param_path=self.__mdl_ckpt_path\n",
    "        if state is not None:\n",
    "            feed_dict[self.init_state]=state\n",
    "        if seed is None:\n",
    "            # Use START vector as seed. \n",
    "            seed = np.zeros([1,1,self.__input_vector_dim]) # One batch, one time_step\n",
    "        elif type(seed)==str:\n",
    "            raise NotImplementedError(\"Not implemented\")\n",
    "        feed_dict[self.__inputs]=seed\n",
    "        seq = []\n",
    "        with tf.Session() as sess:\n",
    "            ckpt = tf.train.get_checkpoint_state(self.__mdl_ckpt_path)\n",
    "            print(\"Loading model\")\n",
    "            if ckpt and ckpt.model_checkpoint_path:  \n",
    "                saver.restore(sess,ckpt.model_checkpoint_path)\n",
    "                print(\"Successfully loaded\")\n",
    "            for length in range(time_steps):\n",
    "                output, state = sess.run([self.__net_outputs, self.__final_state], feed_dict=feed_dict)\n",
    "                output=np.reshape(output, [output.shape[2]])\n",
    "                print(output,np.sum(output))\n",
    "                print(np.random.multinomial(1, output, 1))\n",
    "                #np.argwhere()\n",
    "        return seq, state\n",
    "\n",
    "    @property\n",
    "    def input_vector_dim(self):\n",
    "        return self.__input_vector_dim\n",
    "    \n",
    "    @property\n",
    "    def output_vector_dim(self):\n",
    "        return self.__output_vector_dim\n",
    "    \n",
    "    @property\n",
    "    def global_step(self):\n",
    "        return self.__global_step\n",
    "    \n",
    "    @property\n",
    "    def inputs(self):\n",
    "        return self.__inputs\n",
    "    \n",
    "    @property\n",
    "    def expected_outputs(self):\n",
    "        return self.__expected_outputs\n",
    "    \n",
    "    @property\n",
    "    def init_state(self):\n",
    "        return self.__init_state\n",
    "    \n",
    "    @property\n",
    "    def net_outputs(self):\n",
    "        return self.__net_outputs\n",
    "    \n",
    "    @property\n",
    "    def init_state(self):\n",
    "        return self.__init_state\n",
    "    \n",
    "    @property\n",
    "    def final_state(self):\n",
    "        return self.__final_state\n",
    "    \n",
    "    @classmethod\n",
    "    def train(cls, model, n_epochs, batches, model_param_path, graph_path):  # To be fixed.\n",
    "        with tf.Session() as sess:\n",
    "            writer=tf.summary.FileWriter(logdir=graph_path,graph=sess.graph)\n",
    "            saver=tf.train.Saver()\n",
    "            sess.run(tf.global_variables_initializer())\n",
    "            ckpt=tf.train.get_checkpoint_state(model_param_path)\n",
    "            if ckpt and ckpt.model_checkpoint_path:\n",
    "                saver.restore(sess,ckpt.model_checkpoint_path)\n",
    "                iteration=model.__global_step.eval()\n",
    "                print(\"Successfully loaded session at iteration {}. Continue training now. \".format(iteration))\n",
    "            else:\n",
    "                iteration=0\n",
    "            for i in range(n_epochs):\n",
    "                for batch in batches:\n",
    "                    X=batch[:,:-1,:]\n",
    "                    Y=batch[:,1:,:]\n",
    "                    iteration+=1\n",
    "                    feed_dict={}\n",
    "                    feed_dict[model.__init_state]=tf.zeros([np.shape(batch)[0], model.__state_size]).eval()\n",
    "                    feed_dict[model.__inputs]=X\n",
    "                    feed_dict[model.__expected_outputs]=Y\n",
    "                    _, summary, iteration=sess.run([model.optimizer, model.summary_op, model.__global_step], feed_dict=feed_dict)\n",
    "                    if (iteration+1)%50==0:\n",
    "                        writer.add_summary(summary,global_step=iteration)\n",
    "                        saver.save(sess=sess,save_path=os.path.normpath(os.path.join(model_param_path,\"rnnMDL\")),\n",
    "                                   global_step=iteration)\n",
    "                saver.save(sess=sess,save_path=os.path.normpath(os.path.join(model_param_path,\"rnnMDL\")),global_step=iteration)\n",
    "            print(\"Session terminated. \")\n",
    "            writer.close()\n",
    "            saver.save(sess=sess,save_path=os.path.normpath(os.path.join(model_param_path,\"rnnMDL\")),\n",
    "                       global_step=model.global_step)"
   ]
  },
  {
   "cell_type": "markdown",
   "metadata": {},
   "source": [
    "### Make an instance"
   ]
  },
  {
   "cell_type": "code",
   "execution_count": null,
   "metadata": {
    "collapsed": false
   },
   "outputs": [],
   "source": [
    "tf.reset_default_graph()\n",
    "test_rnn=MyRNN(scope=\"RNN\",input_vector_dim=len(vocab)+2,model_checkpoint_path=model_param_path,state_size=200)"
   ]
  },
  {
   "cell_type": "markdown",
   "metadata": {},
   "source": [
    "### Training"
   ]
  },
  {
   "cell_type": "code",
   "execution_count": null,
   "metadata": {
    "collapsed": false,
    "scrolled": true
   },
   "outputs": [],
   "source": [
    "n_epochs=6\n",
    "MyRNN.train(test_rnn, n_epochs, encoded_batches, model_param_path, graph_path)"
   ]
  },
  {
   "cell_type": "markdown",
   "metadata": {},
   "source": [
    "### Test online inference"
   ]
  },
  {
   "cell_type": "code",
   "execution_count": null,
   "metadata": {
    "collapsed": false,
    "scrolled": false
   },
   "outputs": [],
   "source": [
    "result,_=test_rnn.online_inference(test_codec, 200, model_param_path=model_param_path)"
   ]
  },
  {
   "cell_type": "markdown",
   "metadata": {},
   "source": [
    "### Evaluate transition performance of the model"
   ]
  },
  {
   "cell_type": "code",
   "execution_count": null,
   "metadata": {
    "collapsed": false,
    "scrolled": true
   },
   "outputs": [],
   "source": [
    "with tf.Session() as sess:\n",
    "    print(\"Loading model\")\n",
    "    ckpt=tf.train.get_checkpoint_state(model_param_path)\n",
    "    if ckpt and ckpt.model_checkpoint_path:  \n",
    "        saver.restore(sess,ckpt.model_checkpoint_path)\n",
    "        print(\"Successfully loaded\")\n",
    "    result=sess.run(Test.netOutputs,{Test.inputs:X})\n",
    "print(Decode(result))"
   ]
  },
  {
   "cell_type": "code",
   "execution_count": null,
   "metadata": {
    "collapsed": true
   },
   "outputs": [],
   "source": []
  }
 ],
 "metadata": {
  "kernelspec": {
   "display_name": "Python 3",
   "language": "python",
   "name": "python3"
  },
  "language_info": {
   "codemirror_mode": {
    "name": "ipython",
    "version": 3
   },
   "file_extension": ".py",
   "mimetype": "text/x-python",
   "name": "python",
   "nbconvert_exporter": "python",
   "pygments_lexer": "ipython3",
   "version": "3.5.2"
  }
 },
 "nbformat": 4,
 "nbformat_minor": 1
}
