{
 "cells": [
  {
   "cell_type": "markdown",
   "metadata": {},
   "source": [
    "# Text generator based on RNN"
   ]
  },
  {
   "cell_type": "markdown",
   "metadata": {},
   "source": [
    "## Brief\n",
    "Generate fake abstract with RNN model under tensorflow r1.3."
   ]
  },
  {
   "cell_type": "markdown",
   "metadata": {},
   "source": [
    "### Import libraries"
   ]
  },
  {
   "cell_type": "code",
   "execution_count": 1,
   "metadata": {
    "collapsed": false
   },
   "outputs": [],
   "source": [
    "import tensorflow as tf\n",
    "import numpy as np\n",
    "import random\n",
    "import os"
   ]
  },
  {
   "cell_type": "markdown",
   "metadata": {},
   "source": [
    "### Configurations "
   ]
  },
  {
   "cell_type": "code",
   "execution_count": 2,
   "metadata": {
    "collapsed": true
   },
   "outputs": [],
   "source": [
    "vocab = (\" $%'()+,-./0123456789:;=?ABCDEFGHIJKLMNOPQRSTUVWXYZ\"\n",
    "            \"\\\\^_abcdefghijklmnopqrstuvwxyz{|}\\n\")\n",
    "graph_path = r\"./graphs\"\n",
    "test_text_path = os.path.normpath(r\"../Dataset/arvix_abstracts.txt\")\n",
    "batch_size=50\n",
    "model_param_path=os.path.normpath(r\"./model_checkpoints\")"
   ]
  },
  {
   "cell_type": "markdown",
   "metadata": {},
   "source": [
    "### Data encoding\n",
    "#### Basic Assumption\n",
    "\n",
    "* A full string sequence consists $START$ & $STOP$ signal with characters in the middle. \n",
    "\n",
    "#### Encoding policy\n",
    "* A set $\\mathcal{S}$ that consists of many characters is utilized to encode the characters.\n",
    "* The $1^{st}$ entry of the vector corresponds to $UNKNOWN$ characters(l.e. characters that are beyond $\\mathcal{S}$). \n",
    "* The last entry of the vector corresponds to $STOP$ signal of the sequence. \n",
    "* The entries in the middle corresponds to the indices of the characters within $\\mathcal{S}$. \n",
    "* The $START$ signal is represented as a zero vector. \n",
    "\n",
    "#### Implementation & Test\n",
    "##### Declaration"
   ]
  },
  {
   "cell_type": "code",
   "execution_count": 3,
   "metadata": {
    "collapsed": false
   },
   "outputs": [],
   "source": [
    "class TextCodec:\n",
    "    def __init__(self, vocab):\n",
    "        self._vocab = vocab\n",
    "        self._dim = len(vocab) + 2\n",
    "\n",
    "    def encode(self, string, sess = None, start=True, stop=True):\n",
    "        \"\"\"\n",
    "        Encode string.\n",
    "        Each character is represented as a N-dimension one hot vector. \n",
    "        N = len(self._vocab)+ 2\n",
    "        \n",
    "        Note:\n",
    "        The first entry of the vector corresponds to unknown character. \n",
    "        The last entry of the vector corresponds to STOP signal of the sequence. \n",
    "        The entries in the middle corresponds to the index of the character. \n",
    "        The START signal is represented as a zero vector. \n",
    "        \"\"\"\n",
    "        tensor=[vocab.find(ch)+1 for ch in string]\n",
    "        if stop:\n",
    "             tensor.append(len(vocab)+1)  # String + STOP\n",
    "        tensor=tf.one_hot(tensor,depth=len(vocab)+2,on_value=1.0,off_value=0.0,axis=-1, dtype=tf.float32)\n",
    "        if start:\n",
    "            tensor=tf.concat([tf.zeros([1, len(vocab)+2],dtype=tf.float32),tensor],axis=0)  # String + START\n",
    "        if sess is None:\n",
    "            with tf.Session() as sess:\n",
    "                nparray=tensor.eval()\n",
    "        elif type(sess) == tf.Session:\n",
    "            nparray = tensor.eval(session=sess)\n",
    "        else:\n",
    "            raise TypeError('\"sess\" must be {}, got {}'.format(tf.Session, type(sess)))    \n",
    "        return nparray\n",
    "\n",
    "    def decode(self, nparray, default=\"[UNKNOWN]\",start=\"[START]\",stop=\"[STOP]\",strip=False):\n",
    "        text_list=[]\n",
    "        indices=np.argmax(nparray,axis=1)\n",
    "        for v, ch_i in zip(nparray,indices):\n",
    "            if np.all(v==0):\n",
    "                text_list.append(start if not strip else \"\")\n",
    "            elif ch_i==0:\n",
    "                text_list.append(default)\n",
    "            elif ch_i==len(self._vocab)+1:\n",
    "                text_list.append(stop if not strip else \"\")\n",
    "            else:\n",
    "                text_list.append(vocab[ch_i-1])\n",
    "        return \"\".join(text_list)\n",
    "    \n",
    "    @property\n",
    "    def dim(self):\n",
    "        return self._dim"
   ]
  },
  {
   "cell_type": "markdown",
   "metadata": {},
   "source": [
    "##### Test\n",
    "See how encoding and decoding work. "
   ]
  },
  {
   "cell_type": "code",
   "execution_count": 4,
   "metadata": {
    "collapsed": false
   },
   "outputs": [
    {
     "name": "stdout",
     "output_type": "stream",
     "text": [
      "Encoded text looks like:\n",
      "[[ 0.  0.  0. ...,  0.  0.  0.]\n",
      " [ 0.  0.  0. ...,  0.  0.  0.]\n",
      " [ 0.  0.  0. ...,  0.  0.  0.]\n",
      " ..., \n",
      " [ 0.  0.  0. ...,  0.  0.  0.]\n",
      " [ 1.  0.  0. ...,  0.  0.  0.]\n",
      " [ 0.  0.  0. ...,  0.  0.  1.]]\n",
      "Decoded text looks like:\n",
      "[START]Hello world[UNKNOWN][STOP]\n"
     ]
    }
   ],
   "source": [
    "test_codec=TextCodec(vocab)\n",
    "test_text_encoded=test_codec.encode(\"Hello world!\")\n",
    "print(\"Encoded text looks like:\\n{}\".format(test_text_encoded))\n",
    "test_text_decoded=test_codec.decode(nparray=test_text_encoded,strip=False)\n",
    "print(\"Decoded text looks like:\\n{}\".format(test_text_decoded))"
   ]
  },
  {
   "cell_type": "markdown",
   "metadata": {},
   "source": [
    "## Load data set"
   ]
  },
  {
   "cell_type": "code",
   "execution_count": 5,
   "metadata": {
    "collapsed": false,
    "scrolled": false
   },
   "outputs": [
    {
     "name": "stdout",
     "output_type": "stream",
     "text": [
      "Loaded abstract from a total of 7201 theses.\n",
      "A sample text in the data set:\n",
      "It has long been conjectured that hypotheses spaces suitable for data that is compositional in nature, such as text or images, may be more efficiently represented with deep hierarchical networks than with shallow ones. Despite the vast empirical evidence supporting this belief, theoretical justifications to date are limited. In particular, they do not account for the locality, sharing and pooling constructs of convolutional networks, the most successful deep learning architecture to date. In this work we derive a deep network architecture based on arithmetic circuits that inherently employs locality, sharing and pooling. An equivalence between the networks and hierarchical tensor factorizations is established. We show that a shallow network corresponds to CP (rank-1) decomposition, whereas a deep network corresponds to Hierarchical Tucker decomposition. Using tools from measure theory and matrix algebra, we prove that besides a negligible set, all functions that can be implemented by a deep network of polynomial size, require exponential size in order to be realized (or even approximated) by a shallow network. Since log-space computation transforms our networks into SimNets, the result applies directly to a deep learning architecture demonstrating promising empirical performance. The construction and theory developed in this paper shed new light on various practices and ideas employed by the deep learning community.\n",
      "Encoded text:\n",
      "[[ 0.  0.  0. ...,  0.  0.  0.]\n",
      " [ 0.  0.  0. ...,  0.  0.  0.]\n",
      " [ 0.  0.  0. ...,  0.  0.  0.]\n",
      " ..., \n",
      " [ 0.  0.  0. ...,  0.  0.  0.]\n",
      " [ 0.  0.  0. ...,  0.  0.  0.]\n",
      " [ 0.  0.  0. ...,  0.  0.  1.]]\n",
      "Decoded text:\n",
      "[START]It has long been conjectured that hypotheses spaces suitable for data that is compositional in nature, such as text or images, may be more efficiently represented with deep hierarchical networks than with shallow ones. Despite the vast empirical evidence supporting this belief, theoretical justifications to date are limited. In particular, they do not account for the locality, sharing and pooling constructs of convolutional networks, the most successful deep learning architecture to date. In this work we derive a deep network architecture based on arithmetic circuits that inherently employs locality, sharing and pooling. An equivalence between the networks and hierarchical tensor factorizations is established. We show that a shallow network corresponds to CP (rank-1) decomposition, whereas a deep network corresponds to Hierarchical Tucker decomposition. Using tools from measure theory and matrix algebra, we prove that besides a negligible set, all functions that can be implemented by a deep network of polynomial size, require exponential size in order to be realized (or even approximated) by a shallow network. Since log-space computation transforms our networks into SimNets, the result applies directly to a deep learning architecture demonstrating promising empirical performance. The construction and theory developed in this paper shed new light on various practices and ideas employed by the deep learning community.[STOP]\n"
     ]
    }
   ],
   "source": [
    "with open(test_text_path, \"r\") as f:\n",
    "    raw_text_list = \"\".join(f.readlines()).split(\"\\n\")\n",
    "print(\"Loaded abstract from a total of {} theses.\".format(len(raw_text_list)))\n",
    "# See what we have loaded\n",
    "sample_text_no = random.randint(0, len(raw_text_list)-1)\n",
    "sample_text_raw = raw_text_list[sample_text_no]\n",
    "print(\"A sample text in the data set:\\n{}\".format(sample_text_raw))\n",
    "sample_text_encoded=test_codec.encode(sample_text_raw)\n",
    "print(\"Encoded text:\\n{}\".format(sample_text_encoded))\n",
    "print(\"Decoded text:\\n{}\".format(test_codec.decode(sample_text_encoded)))"
   ]
  },
  {
   "cell_type": "markdown",
   "metadata": {},
   "source": [
    "### Define model class"
   ]
  },
  {
   "cell_type": "code",
   "execution_count": 6,
   "metadata": {
    "collapsed": false
   },
   "outputs": [],
   "source": [
    "class DRNN(tf.nn.rnn_cell.RNNCell):\n",
    "    def __init__(self, input_dim, hidden_dim, output_dim, num_hidden_layer, dtype=tf.float32):\n",
    "        super(tf.nn.rnn_cell.RNNCell, self).__init__(dtype=dtype)\n",
    "        assert type(input_dim) == int and input_dim > 0, \"Invalid input dimension. \"\n",
    "        self._input_dim = input_dim\n",
    "        assert type(num_hidden_layer) == int and num_hidden_layer > 0, \"Invalid number of hidden layer. \"\n",
    "        self._num_hidden_layer = num_hidden_layer\n",
    "        assert type(hidden_dim) == int and hidden_dim > 0, \"Invalid dimension of hidden states. \"\n",
    "        self._hidden_dim = hidden_dim\n",
    "        assert type(output_dim) == int and output_dim > 0, \"Invalid dimension of output dimension. \"\n",
    "        self._output_dim = output_dim\n",
    "        self._state_is_tuple = True\n",
    "        with tf.variable_scope(\"input_layer\"):\n",
    "            self._W_xh = tf.get_variable(\"W_xh\", shape=[self._input_dim, self._hidden_dim])\n",
    "            self._b_xh = tf.get_variable(\"b_xh\", shape=[self._hidden_dim])\n",
    "        with tf.variable_scope(\"rnn_layers\"):\n",
    "            self._cells = [tf.nn.rnn_cell.GRUCell(self._hidden_dim) for _ in range(num_hidden_layer)]\n",
    "        with tf.variable_scope(\"output_layer\"):\n",
    "            self._W_ho_list = [tf.get_variable(\"W_h{}o\".format(i), shape=[self._hidden_dim, self._output_dim])\n",
    "                               for i in range(num_hidden_layer)]\n",
    "            self._b_ho_list = [tf.get_variable(\"b_h{}o\".format(i), shape=[self._output_dim])\n",
    "                               for i in range(num_hidden_layer)]\n",
    "\n",
    "    @property\n",
    "    def output_size(self):\n",
    "        return self._output_dim\n",
    "\n",
    "    @property\n",
    "    def state_size(self):\n",
    "        return (self._hidden_dim,) * self._num_hidden_layer\n",
    "\n",
    "    def zero_state(self, batch_size, dtype):\n",
    "        if self._state_is_tuple:\n",
    "            return tuple(cell.zero_state(batch_size, dtype)for cell in self._cells)\n",
    "        else:\n",
    "            raise NotImplementedError(\"Not implemented yet.\")\n",
    "\n",
    "    def __call__(self, _input, state, scope=None):\n",
    "        assert (type(state) == tuple and len(state) == self._num_hidden_layer), \\\n",
    "        \"state must be a tuple of size {}\".format(self._num_hidden_layer)\n",
    "        hidden_layer_input = tf.matmul(_input, self._W_xh) + self._b_xh\n",
    "        prev_output = hidden_layer_input\n",
    "        final_state = []\n",
    "        output = None\n",
    "        for hidden_layer_index, hidden_cell in enumerate(self._cells):\n",
    "            with tf.variable_scope(\"cell_{}\".format(hidden_layer_index)):\n",
    "                new_output, new_state = hidden_cell(prev_output, state[hidden_layer_index])\n",
    "                prev_output = new_output + hidden_layer_input\n",
    "                final_state.append(new_state)\n",
    "            W_ho = self._W_ho_list[hidden_layer_index]\n",
    "            b_ho = self._b_ho_list[hidden_layer_index]\n",
    "            if output is None:\n",
    "                output = tf.matmul(new_output, W_ho) + b_ho\n",
    "            else:\n",
    "                output = output + tf.matmul(new_output, W_ho) + b_ho\n",
    "        output = tf.tanh(output)\n",
    "        final_state = tuple(final_state)\n",
    "        return output, final_state"
   ]
  },
  {
   "cell_type": "markdown",
   "metadata": {},
   "source": [
    "### Make an instance and define loss function\n",
    "#### Thoughts\n",
    "If GRU is used, then the outputs of GRU shall not be directly used as desired output without further transforms. (e.g. A cell accpet 2 inputs, a state from the previous cell and the input of this cell(which is approximated by the state input), then the RNN cell can be treated as a normal feed forward network. \n",
    "\n",
    "**The proposal above is to be tested again due to the previous bug in training (Failed to feed the initial state given by the RNN output from last sequnce)**"
   ]
  },
  {
   "cell_type": "code",
   "execution_count": 7,
   "metadata": {
    "collapsed": false
   },
   "outputs": [],
   "source": [
    "tf.reset_default_graph()\n",
    "input_dim = output_dim = test_codec.dim\n",
    "hidden_dim = test_codec.dim\n",
    "num_hidden_layer = 3\n",
    "# test_rnn_cell = DRNN(input_dim, hidden_dim, output_dim, num_hidden_layer)\n",
    "test_rnn_cell = tf.nn.rnn_cell.GRUCell(num_units=hidden_dim)\n",
    "init_state = tf.placeholder_with_default(input=test_rnn_cell.zero_state(batch_size=1, dtype=tf.float32),\n",
    "                                         shape=[None, hidden_dim])\n",
    "seq_input = tf.placeholder(shape=[None, input_dim], dtype=tf.float32)\n",
    "batch_seq_input = tf.reshape(tensor=seq_input, shape=[1, -1, input_dim]) #  One sequence in a batch\n",
    "target_seq_output = tf.placeholder(shape=[None, output_dim], dtype=tf.float32)\n",
    "batch_seq_output, batch_seq_state = tf.nn.dynamic_rnn(cell=test_rnn_cell,inputs=batch_seq_input, \n",
    "                                                      initial_state=init_state, dtype=tf.float32)\n",
    "seq_output = tf.squeeze(input=batch_seq_output, axis=[0])\n",
    "loss = tf.reduce_mean(tf.nn.softmax_cross_entropy_with_logits(labels=target_seq_output, logits=seq_output))"
   ]
  },
  {
   "cell_type": "markdown",
   "metadata": {},
   "source": [
    "### Training"
   ]
  },
  {
   "cell_type": "code",
   "execution_count": 8,
   "metadata": {
    "collapsed": false
   },
   "outputs": [],
   "source": [
    "def partitions(seq, length):\n",
    "    return np.split(seq, range(length,np.shape(seq)[0],length))        "
   ]
  },
  {
   "cell_type": "code",
   "execution_count": 9,
   "metadata": {
    "collapsed": false,
    "scrolled": false
   },
   "outputs": [
    {
     "name": "stdout",
     "output_type": "stream",
     "text": [
      "Loss of data number 0 at epoch 0:\n",
      "4.491057872772217\n",
      "Decoded output given input: --?=-ramaam   a  a aaa aaaa  aa                                                                                                                                                                                                                                                                                                                                                                                                                                                                                                                                                                                                                                                                                                                                                                                                                                                                                                                                                                                                                                                                                                                                                                                                                                                                                                                                                                                                                                                                                                                                                                                                                                                                                                                                                                                                                                              \n",
      "Loss of data number 49 at epoch 0:\n",
      "3.3671951293945312\n",
      "Decoded output given input: n gaeeea  a    a                       a     aa        aa      aa       a aa      a                a        a        a        a       a  aa      aa  a    a                  aa          a                    a                aa        a      a    a          a  aa           aaa                       a     aa   a      aa                         aaa              aa      aa      a   a                  a        aa    a       aa   a     a                           a            aaa             a aa     a a                aaa         aa  a          a      a    aa      aaa     aa       aa     aa a a  aa         aa                     a   a     aa                   a      a    a       aaa              a    a   a  a         a  a         a     aaa         aa              a         aa            aaa        aa            a   a a    aa                          aaa     aa                 aaa    a     a  a       a         a     a   a    aa       a         aa             aa   a      a    a                aa       a              a     aaa          aa             aa   a      aa                  aaa               aa  a     a                                    a              a    aa  a     a   a                    aa  a     a                     aa            a    aa     a       a     a  aa  a     a                        a                  aaa      aa        a  aa     aaa      aa                                a    aa     a       aa          aa         a       aa                 a a        a      a aa          aa            aa           a        a                                                          aaa      aa      aa                         a         a         aa    a            a        a                      a      a a         a        a   a a     aaa        a      a            a a     aaa    aa      aa           a                       aaa         a               a\n",
      "Loss of data number 99 at epoch 0:\n",
      "3.4993793964385986\n",
      "Decoded output given input: seee a    a      a     a       a aa    aaaa      a          a         a       a    aaa       a aa  aa  a            a  aaaa  aa       a         a    a a   a     a    a    a   a   a aaa   aa  a  a        aaa   a  aa aa  a       aa  aa    aaa       a aa       aaa         aa      a       aaa a  a  aa         a    a  a  a  a aa                   a aa          a       a aa        aa   a   a aaa         aa     a  aaaa     aa  a aa          a        aaaa     a         a  aaaa       a            a  a     ae  a    aa      a       a   a a  a a    a     e   aaa  a     a    a  aa a       a  a  a     a         a a   a aa   a       aaaa  a  a                 aaa  a     aa  a   aa    aa  a    aa      a  a   a  a a       a a   a aa  aa    a     aa        a       aaa         a         a  aaaa  a   a   aa      a             aa a a  a a    a   aa    aaa     a aa  a  a              a  a   a  a      a a   aa      a  a  a a  a a    a  aa aa        aa  a a  aa a aa aa         a     a     a a               a            aaa a   a       a   aa aaa      aa    a   a   aa     a  a  a a\n",
      "Loss of data number 149 at epoch 0:\n",
      "3.2717883586883545\n",
      "Decoded output given input: e                                      e           e                                                                                              a                                                                                                                              a                                                                      a                       a                                                                                                          a                                           a                                      a                                                 e                       e                                                  a                                                         a                e                                  a                                  e                            a                          a                                                a                                                                                                 a                                       e                   a                                                                                                                                                                                               e                                                        a                            a                                                             a                                                                                                e                                                                                a                                                                                                                                                          a                                      a                                                   a                           \n",
      "Loss of data number 199 at epoch 0:\n",
      "3.4074738025665283\n",
      "Decoded output given input: eee      e                              a                                                           a                   a     a                 a e    t                                                             e             e                                                                                                                               e  e                   a          t                      a              a                     a                    a                                         a                             e      e     a                                                   a                   a                                                   a                                     a                                                                 a                                                e                                                                         a                e                                                                                                              t                                      \n",
      "Loss of data number 249 at epoch 0:\n",
      "3.2066550254821777\n",
      "Decoded output given input: e e               e   e             e  e    e      e           e          e                e       e e             e                e                                               e e      e    e                                                  e   e         e    e      e     e        e             e   e    e e            e          e      e     e     e                                   e e                                        e                          e         e  e     e        e  e                  e      e     e                 e     e      e e   e            e       e    e e            e      e              e        e    e   e                   e    e              e     e                e   e     e      e      e          e     e            e                         e      e     e     e             e          e                   e      e      e     e      e      e     e      e              e    e       e                e    e            e                                                  e e                 e     e e            e               e    e     e           e           e          e             e              e               e   e                                        e           e                                                       e   e     e  e     e             e                e     e           e         e    e    e e      e         e          e                                       e                             e  e                                                             e    e           e              e  e        e   e            e           e          e         e    e     e  e           e e                e e                       e                e                 e                e          e          e                 e      e  e          e                       e               e           e     e          e     e      \n",
      "Loss of data number 299 at epoch 0:\n",
      "3.3491687774658203\n",
      "Decoded output given input: eee e    e    e e   e  e         e e  e         e               e   e            e             e                e                       e e    e  e e       e                        e           e                   e             e       e             e e          e       e e         e e                e  e                  e  e       e    e          e    e  e         e e    e               e   e           e        e  e                         e   e     e  e    e e                  e               e    e           e               e        e      e  e            e             e  e          e      e            e e               e e     e  e  e   e e           e                           e     e            e            e e  e             e   e        e         e         e              e e  e                     e              e    e e e           e e   e         e           e e    e           e e                    e   e e  e                                e     e                  e                e     e      e                                                    \n",
      "Loss of data number 349 at epoch 0:\n",
      "3.1604573726654053\n",
      "Decoded output given input: eee e e    e      e e e       e     e  e e  e   ee e  e    e   e          e                e e   e e e   e     e   e        e  e    e   e    e      e  e e       e  e ee  e   e     e e      e    e  e   e        e  e   e  e     e             e  e e   e e       e  e e   e  e     e e      e          e  e   e    e e        e   e     e  e e   e  e     e e   e    e     e      e   e      e  e   e e   e e        e   e    e   e          e e  e  e e    e    e e      e   ee e  e  e     e e      e ee e   e          e e   e  e     e e   e   e       e   e e      e e   e            e    e  e    e e   e        e e    e       e e    e     e    e  e   e  e       e   e    e    e    e  e   e  e     e e   e  e    e  e   e     e e    e      e       e  e     e e   e   e  e  e              e     e e   e  e     e e   e  e  e e  e  e     e    e   e  e  e ee  e e e   e  e            e  e e e   e  e     e   e  e  e           e ee e       e      e      e  e  e e     e      e     e               e    e e     ee  e   e     e e e   e e e e       e     e e     e      e     e         e e  e   e e   e  e e  e     e     e e    e   e     e e  ee e       e ee   e  e e e    e   e   e e e   e  e            e      e  e   e  e       e   e     e e     e   e e          e   e e   e  e       e   e   e     e  e e   e     e e  ee e        e       e e   e     e  e  e     e   e         e e   e  e     e   e      e   e        e  e   e e   e  e       e   e  e       e  e   e      e  e    e  e     e     e   e  e     e   e  e    e       e  e   e      e  e e  e   ee      e  e   e  e       e        e   e        e   e      e    e     e e  e     e   e      e   e  e e  e e      e      e ee      e e e    e   e        e   e       e        e             e   e  e  e    e e   e ee    e  e       e  e           e  e  e      e  e       e  e          e    e   e   e  e     e  e   e     e  e  e     e e   e    e     e  e e \n",
      "Loss of data number 399 at epoch 0:\n",
      "3.3212273120880127\n",
      "Decoded output given input: eee e e  e    e e   e  e e  e e  e e  e     e   e     e  e   e ee   e  e  e ee e e    ee       e     e     e    e  e  e     e   e  e e  e e ee e  e e       e   e         e     e    e     e e   e     ee e        e e      e  e   e  ee e e    ee       e e          e       e e         e e    e  e     e ee  e         ee e     e  e    e  e    e     ee e e    e  e e  e e  e e    e      e     e      e       e   e  e     e  ee    e   e  e e  e     e e      e  ee e ee e e  e     ee        e  e e e   e    e    e   ee  e   e  e  e ee e e  e        e      e  e      e     e  e  e    e ee  e  e       e  e   e  e         e e ee  e   e     e e     e  e ee   e e    ee e   e e      e e           ee e e  e  e   e        e  e         e e  e             e   e e    e e    e    e   e     e  e  e     e  e e  e          e  e e    eee e  e        e    e e e    ee     e e   e     e e e      e    e e e  e    e e    e e     e  e  e        e  ee e  e         e  e  e    ee e e   e  e     e    e    e    e   e  e  e      ee  e e   e      e  e    e  e      eee e e      ee e    e  e          \n",
      "Loss of data number 449 at epoch 0:\n",
      "3.1285512447357178\n",
      "Decoded output given input: ee  eee    e e e  e e e       e     e  e e  e e ee e  e    ee  e   e      e   e        e   e e   e e e   e     e   e        e  e    e e eee  e  e   ee e e       e  e ee  ee  e e   e e e    e    ee e   ee  e    ee e   ee eee   e e  e        e  e e   e e       e  e e e e  e     e e      e          e  e      e e e        e   e  e  ee e e e e  e     e e   e    e e   e      e   e e    e  e   e e e e e        e   e    e   e     e  e e e  e  e e    e    e e      e   eeee  e  e     e e      e ee e   e        e e e e e  e     e e   e   e e     e   e e      e e e e ee         e  e e  e    e e e e  e     e e            e e    e e   e  e e  e      e e     e   ee   e e  e    ee e   e  e     e e   ee e    ee e e e     e e e  e      e       e  e     e e   e   e  e  e              e     e e e e  e     e e   e  e  e e  e  e  e  e        e  e  e ee  e e e e e  e            e  e e e e e  e     e e e  e  e   e       e ee e    e  e   e  e e    e  e  e ee    e e e ee     e     e    e    e    e e     ee  ee  e e   e e e   e e e e       e     e ee    e e e ee     e     e   e e  e   e e e e  e e  e     e     e e    e   e     e e  ee e e     e ee   e  e e e    e       e e e   e  e  e         e e    e  e   ee e e     e   e     e e     e   e e      e   e   e e   e  e  e    e       e     e  e e   e     e e  ee e e      e e     e e   e  e  ee e  e     e   e         e e e e  e     e   e      e   e e      ee e   e e   e  e  e    e e e  e       ee e   e  e   ee e    ee e     ee    e   e  e e   e   e  e    e e     e  e   e  e   ee e e  e   ee      e  e   e  e       e        e   e e      eee e  e   e    e     e e  e     e   e      e   e  e e  e e e    e e    e ee      e e e    e   ee       e   e e     e ee e   e e           e   e  e  e    e e   e ee  e ee e       e  e      e  e e  e  e      e  e       e  e      e   ee   e   e   e  e     ee e   e  e  ee e  e     e e   e e  e     e  e e \n",
      "Loss of data number 499 at epoch 0:\n",
      "3.281346321105957\n",
      "Decoded output given input: eee e e  e e  eee   e  e e    e    e  e     e   e     e  e   e ee   e  e    ee e ee   ee    e     e  e     e e  e  e  e     e   e  e e    e ee e  e e       e   e         e     e          e ee  e     ee e e      e e  e   e  e   e  ee e ee   ee    e    e          e     e e e         e ee   e  e     e ee  ee        ee e     e  e    e  e    e e   ee eee e  e  e e    e    e    e      e e   e      e       e   e  e     e  ee    e   e  e e  e     e ee     e  ee e  e eee  e     ee        e    e          e    e   ee  e   e  e    ee eee  e   e        e     e e    e e   e  e  e    e ee  ee e       ee e   e  e           e e   e   e             ee e ee   e ee   ee e   e e      e ee          ee eee  e      e        e  e           e  e       e     e   e e    e ee   e e  e   e e   e  e  e     e    e  e   e      e  e e    eee e  e   e       e e e ee   ee       e         e e e      e    e      e    eee    e e  e  e  e  e   e       ee e  e    e    e  e  e    ee e     e  e e   e    e    e    e   e  e  e      e   e e          e  e    e  e      eee e e      ee e    ee ee         \n",
      "Loss of data number 549 at epoch 0:\n",
      "3.108365058898926\n",
      "Decoded output given input: We  e e        e      e       e     e  e e  e   e  e       e   e          e                e     e e e         e   e        e       e   e    e      e  e         e    e   e         e             e  e   e        e  e   e  e e   e    e        e  e     e         e  e     e  e     e        e          e  e      e e e        e   e  e  e  e     e  e     e     e    e     e      e   e      e  e   e     e              e    e   e          e e  e    e    e    e        e    e e  e  e     e        e        e          e     e  e     e     e   e       e     e        e   e            e  e    e    e e   e        e e            e e    e          e  e      e       e    e   e         e  e   e  e     e     e  e    e  e         e             e       e  e     e     e   e  e  e              e     e     e  e     e     e  e  e e           e        e  e  e  e  e e     e  e            e  e e     e  e     e   e  e  e           e                   e      e  e  e       e            e               e    e e     e   e         e e e   e e e         e     e       e            e         e        e     e  e e  e     e     e e    e           e  e  e       e  e   e  e e      e       e e        e            e      e  e   e  e       e           e     e   e e          e   e        e       e       e     e    e           e  e  e                  e   e  e  e  e  e     e             e e   e  e     e              e        e  e   e        e       e   e  e       e  e   e      e  e    e  e     e     e   e  e     e   e               e  e   e      e  e        e          e   e          e        e   e        e          e    e       e  e     e          e   e  e e    e      e        e           e    e   e        e   e       e        e             e      e  e      e   e       e  e       e  e           e  e  e      e  e       e  e          e        e   e  e     e  e   e  e  e  e  e     e     e          e  e   \n",
      "Loss of data number 599 at epoch 0:\n",
      "3.2841310501098633\n",
      "Decoded output given input: We                                                                  e                                                                     e                                                                                                                                                                                                   e                    e                                                                                                            te                                                               t                      e                             e                                                                                                                                                                                                                                                                                          e   e                  e            t                                                                                                                                                                           \n",
      "Loss of data number 649 at epoch 0:\n",
      "3.085880756378174\n",
      "Decoded output given input: Wn                                                                                                                                                                                  e                e                                                                                                                                                                                                                                                        e                   t                                                                                                                                                      t                                                                                                                                                                                                                            e                                                                                                                                                                                                                                                                                                                                   t                                                                                                       e                                                                                                                         e                                e                 e                                                                                                                                   e                                                                                                                                     e                              e   e                                                                                e                                                             \n",
      "Loss of data number 699 at epoch 0:\n",
      "3.268519401550293\n",
      "Decoded output given input: We             t                     t                                                                                                                                                                                                                                                                                                                       t                                                                                                                  t                                                                t                                                                                                                                                                t                   e                                                                                                                                                                                              t                                                              t                                                                                                            \n",
      "Loss of data number 749 at epoch 0:\n",
      "3.0708770751953125\n",
      "Decoded output given input: Wn                                      t                                                                                                                                                                                                                                     t                                                                      t                                                                                                                            t     t                                           t                                                                                                    t                                                              t                                                                                                             t                                           t                   t                          t                                                         t                                                                                                                                                    t                                                                         t                                                                                                                                                                              t                            t                                                                                                                                                                                                                                               t                                                                                                                                                                                                                                                     t                              \n",
      "Loss of data number 799 at epoch 0:\n",
      "3.261962890625\n",
      "Decoded output given input: We             t                     t                                                                                                                                                                                                                                                                                                                                                                                                                                          t                                           t                    t                                                                                                                                                                                                                                                                                                                                                                                   t                                                              t                                                                                                            \n",
      "Loss of data number 849 at epoch 0:\n",
      "3.062868356704712\n",
      "Decoded output given input: Wn                                      t  t                                                                                                                                                        t                        o                                                t                                                                      t                                                                                                                            t     t                                           t                                                                                                                                                                   t                                                         t                                                   t                                           t                   t                          t            t                                            t                                                                                        t                                                           t                                      t                                                                           t                                                                                                    t                                t                            t                                                                                                                                                                                                                                               t                                       t                                                                                                                  t                 t                    t                                                   t                              \n",
      "Loss of data number 899 at epoch 0:\n",
      "3.242434024810791\n",
      "Decoded output given input: We             t                     t                                                                                                             t                                                                                                                                                           t                             t t             t                                                                                                                  t                                                                t                                                   t                                                           t                                                t                                                                                                                                                                                                           s      t                                                              t                                           t                                                                \n",
      "Loss of data number 949 at epoch 0:\n",
      "3.05849552154541\n",
      "Decoded output given input: Wn  tt                                  t  t                        l                                                                                                                               t                        ot                                               t              t      l                                                t                                                                                                                      n     t     t                                           t                                                                    t              t              t t                                 t                            t              t        n                                 t                   n                               t                 s                         t  t     s          t               s          t            t                                            t          tn                                                                            t             tn                                       s    t                   n             t    t               s                  t                                        t                                                                                tn             t    t                                t                     t      t                                                            t                                  t                                                                                                                                               t                                te     t                                          t n                                                                     t            n t  t                    t                                                   t                              \n",
      "Loss of data number 999 at epoch 0:\n",
      "3.219064950942993\n",
      "Decoded output given input: We an ia ese tttersaasra tr   e   teste    are   sia ttsti  ti piestor i  ior aerptn atetei e    an aoishaaete tteoiatn    art ti tioio rtorprtoa ettnanis aisioecios   iaectiasisi     ous ate resia tnttecashie tn  ocas ti ties   ar terptn atetei e   tise  tin  aiele aoresn oshio stirptn aiate  r ai pistneisn    aoeseshi n  tastiaostatestotts tr tttite tasra tr   e   tieleoht  r oectoasat t  sosio   tiestiatn    ai.rsee  art ti tioii e ri aerptn   oe aoa ertrtttiatn    arl shio stieleon oes r i ties tn sttn aiestor i  ior atterse  aesio    aoi   tete r tit   an tiatn   ti postoeseshi  str aiestoete t sh     ti    aosiontn  r  ri  stttti piestirptn ar aiestn esi ous anposin r i tr tttistic r iattt     thate t th     tistee le  aois  tiesti e rioerptn aete ttett t astteoiatn    aio rtn tnt tes    aea  tieleors aosses aesio   aoreserptn ateteion tte   sia tetttosi   aoriir  r   tiel ansi s attiitd te tesses aesio   ar attapN  arer tn aiatn   tr tn esioorteris tnpiateir to   aiestiite tr  iestteiaate   s se  tiite   tertnt    arti   e     tr aoes fniote oe      \n",
      "Loss of data number 1049 at epoch 0:\n",
      "3.042581558227539\n",
      "Decoded output given input: Wn attoe  nht aesset ai tire aois ssiireterttteooemesttn  onestn icali   on ireion    aiestasisttoresteestin  oiesti tn iohtors ii tot fn e oerrrteon felenn as tieleotenttetn leastenesea  aineettttiestteioesi or aiestoestotteoortioi tn iohtessen   aastriin  on nenet aeste n  aasist[STOP]Tnti tirelenhaoaserer sooresiire n  oiestiotentn aeneseaeste n  aasisttastiooci ioesfn ntiestoten ssn aiesteneseaelenn as  at eties tiestorteinn   soreeoieleoicn ties oir   os an irnnteeteste n  aasis Te shn tt s aorl    n  aeneseaeste n  aasisttttetttt   ssiess teset n aan etotes ninicn tn noneotenesteatteoor nenesteaosior    Tntttte oenerei aien toaserer sontteasttte rpiestectones  or aosstiste n  aasistttttor aanttn orei  ioaseten    neetesio   teste n  aasisttttetoadntti eerionn  Teile n  oeneseaeste n  aasisttn nersetorseorkeleetesior   teste ti terseteneseaeste n   Teinysterseteneseaeste n  aet aeste an iren in  oasrastr ileo    anioht  reoeste aonpresitn osionsiosioorteinn   aner tois tice ri ttesttetn leastoresiestiretet   [STOP]Teste n  aenpresitn osionsiosioorteinn  tasuntes teneseaesseteste n  aois ssice rion orkalen  on toecetet   ti tiestersetet    tieinn esttote ol eteete s  ohestoten ssn aiestoemetet   tn orkalen  otlnsioiestice ri  at etiestote ol eteete s aieinn esoineasien tn orkalen  on toecetet    aoteioion tiestiotentn aeste n  ane resiai [STOP]Toretn  teste n  ane resiai aiestoteseni or aiestote ol eteete s aet aosterfn n ttttiestoseisiar aoni toemetes ttlnnioiestoasenn iooretors ii aeceses to tiestoseisiar aasuntes tnls   n   toretors ii Te sntin li siestoteseni onterhnne  totioainer   seste n  ane resiai ttteoiarnoieleoote oemetet n  orsiossork ities otteoteinnes tiestatenesetorttniastoteseni  Thesties e oeetesinn tieston eseion aoslonn feste n   aoileontteste   asto toslonn feste n   at etnpoesn  tiestioteini or aiestiotentn aeste n  aasisttectones s tintore \n",
      "Loss of data number 1099 at epoch 0:\n",
      "3.2034242153167725\n",
      "Decoded output given input: We an iarese tttessaasrastr iteo  aeste s  ane resiaatisti  ai piestortir ior aerptn ateteileo   an aoinhaaetettteaiatn s  anteti tiaioartorprtoametinenisaaisioecioses iaectiasisin    aus ateeresiaatn tecashie tn  onas ti ties e ar terptn ateteileo  aise rtin  aiele aoraanroshioasterptn aiate or ai aisttein es  aoeseshio   tastiaistatestotts tr tttetettasrastr iteo  aieleoht ir oectoasatet  sisior  aiestiatn s  ai.rsees atteti tiaiite ri aerptn   ae aoemertrtttiatn s  arl shioastieleon oeser i tien tn sttn aiestortir ior attesses aesior   aoir  teteerttet   an tiatn   ti pistoeseshioestr aiestoete.tfoh  o  aic   aosiontn  rsario stttti aiesterptn ar aiestn esi aus anposin r i tr tttisticar iattt   t thate.tfth  o  aesteeale  aois  tiestice rioerptn aetetttett teastteaiatn s  aicartn tntetes s  aiadstieleorseaesses aesior  aoraaerptn ateteio  tte resiaatetetesii  aoriira r istiel tnsieseattiit eteetesses aesior  araattapN  arer tnfaiatn   tr tn osioorteres tnpiateiretooiiaiestiite sn tiestteiaateeo s se  aiite r testnn t  antir  e  s  tr aoes fniote ae)     \n",
      "Loss of data number 1149 at epoch 0:\n",
      "3.0266237258911133\n",
      "Decoded output given input: Wn attoe  nht sesses ai tire aoisestiiretertttetoemesttn  otestn icali   on ireion    aiestasesttorksteestin  oiesti tneiohaors ii tettfr e oesrrteor felenn asttieleotesttest leastenes a  aeneettttiestteioeni or aiestoestotteoortioi tneiohaessen   aastriin  on nenet aestein  aasis  onte tireliohaoeserer soorkseire n  oiestiotentr aenes aestein  aasis tastiooci ioesfngntiestoten ssr aiestenes aelent ast att tiesstiestortein    aorkeoieleoicn ties ai    esean irtnteetestein  aasis oe oenttt s aorl    n  aenes aestein  aasis tttetttt  issiess teseten aatt teteslninicnttn noneitenestetttetensnenesteaesior    ontttte oemerei aien toeserer sontteasttte rpiestectones  or aesstistein  aasis ttttor aatttn oreil ioaset o   ine tesio   aestein  aasis ttteteadneti eerionn  oeile n  oenes aestein  aasis tn nessetorseorkeleetesior   teste ti tessetenes aestein   oeinystesseteneseaestein  aettaesteian ires in  oasrestrtileo    anioetter oesteiahnpresitn esions osioortein    ares aois tice ri otesttest leastorksiesti etet    oostein  aenpresitn esions osioortein   tasuntes tenes aessetestein  aoisestice rion orkalen  on toemetet   oi tiestessetet    tieinn esttete oleeteeteis  ohestoten ssr aiestoemetet   on orkalen  otens oiestice ri  att tiestote oleeteeteis aieinneesoiniasien tn orkalen  on toemetet    aoteioion tiestiotentr aestein  ate renia  [STOP]oorettt testein  ate renia  aiestoteseni or aiestote oleeteeteis aettaostesfngn ttttiestoneisiar aoni toemet s ttlns oiestoatenn iooreaors ii aecenes te tiestoneisiar aasuntes trlsel o   toriaors ii We ontin li siestoteseni onterhnn   ootiiaisesel sestein  ate renia  tttetiannoieleoote oemetet n  ors ossorka ties attetteinnes tiestatenesetorttniasteteseni  ohestiesre oeeteninn tiestonteseion aoslonn festein   aoileon testeis asto toslonn festein   atg tntoetne tiestioteini or aiestiotentr aestein  aasis tectones s tintole \n",
      "Loss of data number 1199 at epoch 0:\n",
      "3.1898367404937744\n",
      "Decoded output given input: We an iadese tttessaaseastr iteo  aeste s  ate resia tisti  ai aiestortir ior aerptn ateteileo   an aoinhaaeteltteaiatn s  att ti tiaioartorprtoametenenis aisiaecioses iaectiaaisin    aus ateeresia tn tecashie tn  onas ti ties   ar terptn ateteileo  aese rtin  aiele aoraanooshioasterptn aiate or ai aosttein es  aoesenhin   tastiaistatestot s tr ttteteltaseastr iteo  aieleohtter oectoasenet  sisior  aiestiatn s  ai.rsees att ti tiaiite ri aeretn   ae aoemertrtttiatn s  arl shioistielean oeser i tien tn sttn aiestortir ior attesses tesior   aoir steteerttet   an tiatn   ti aostoesenhinestr aiestoete tfoh  o  aic   aesiontn  rs leo stttti aiesterptn ar aiestn osi aus anpossn s i tr tttistic r iattt   t teate tfoh  o  aesteeale  aois  tiestice rioerptn aetelttett teastteaiatn s  aicartn tntetes s  aiad tieleors aesses tesior  aoraaerptn ateteio  ate resia tet tesii  aoriira t i tiel tnsios attiit eteetesses tesior  ar attapM  ares tnfaiatn   tr tn osioorteres tntiateir too  aiestiite sn tiestteiaateen s se  aiite s testnn t  attir  e     tr aoes aniote ao      \n",
      "Loss of data number 1249 at epoch 0:\n",
      "3.0187206268310547\n",
      "Decoded output given input: Wn attee  nht tesses ai tire aois steiretertttetoemesttn  otestngicali   ongireion    aiestases torksteestin  oiesti tteiohaors ii aettfr e oesrrtetr felent asttieleotesttest leastenes a  aeneettttiestteioeni ar aiestoestatteoortioi tteiohaessen   aastriin  ongnenes aestein  aasis  onte tireliohaoeleser soorkseire n  oiestiotentr aenes sestein  aasis testiooci ioesfngntiestoten ssr aiestenes selent ast att tiessaiestorteio  l aork aieleoicn ties air   es angirnnteetestein  aasis oe oenstt s aore    nt tenes sestein  aasis tttetttt  assiess teseten aatt thteseninicnttngnoneiaenestetttetensnenesteaesior    ontttte oenerei aien toaleser sontteasttte rniestectines  or aesstistein  aasis ttttor aatttn oreil ioaset o   ine tesioss aestein  aasis ttteteadneti eerionn  oeile n  oenes sestein  aasis tngnessltors orkaleetesior   teste ti tessltenes sestein   oein stessltenes sestein  aettaesteiangires in  oaseeststileo    anioetter oesteiahnpoesitngosions osioorteio    aressaoisstice ri atesttest leastorksiesti etet    oostein  aerpoesitngosions osioorteio   tasuntes tenes sessltestein  aois stice riongorkaleo  on toemetet   oi tiestessltet    tieinneesttete oleeteeteis  ohestoten ssr aiestoemetet   ongorkaleo  otens oiestice ri  att tiestote oleeteeteis aieinneesoinhaaien tngorkaleo  on toemetet    aoteioio  tiestiotentr aestein  ate renia   oorettt testein  ate renia  aiesteteseni ar aiestote oleeteeteis aettaostesfngn ttttiestoseisiar aoni toemet s ttens oiesteatennsiooriaors ii aecenes te tiestoseisiar aasuntes orlsel o   toriaors ii We ontinali siesteteseni atterhnn   oot iaisesel sestein  ate renia  tttetiannoieleoote oemetet n  ars osiorka ties attetteennes tiestatenesetorttniasteteseni  ohestiesre oeeteninn tiestenteseior aoslenn festein   aoileon testeis asto toslenn festein   att tnteetne tiestiote ti ar aiestiotentr aestein  aasis tectines s ointote \n",
      "Loss of data number 1299 at epoch 0:\n",
      "3.1858720779418945\n",
      "Decoded output given input: We an iadese tttessaaseastr it o  aesse n  ate resia test   ai aiestersir ior aeretn ateteileo   an aoiniaaeteltteaiatn n  att ti tiaioarterprtoametenenis aesiaeciosis  aectiaaisin    aus ate resia tn tecashie tn  onas te ties   ar teretn ateteileo  aese r in  aiele aoraanooshioesseretn aiate or ai aisttein es  aoesenh n   testiaestetestot s ar ttteteltaseasts it o  aieleaetter oectianenet  sesior  aiestiatn n  ai.rsees att ti tiaiite ri aeretn   ae oeemertstttiatn n  arl shioessielean oeser i tien tn sttn aiestersir ior attesses tesior   aoi  steteerttet   an tiatn   ai aisteesenh nessr aiesteete tfnh  o  aic   aesiantn  rs leo ssttti aiesteretn ar aiestn osi aus anpossn s i tr sttistic r iatts   t teete tfnh  o  aesteeal   aois  tiestice rioeretn aetelttest teastteaiatn n  aicirtn tntetes s  aiad tielears aesses tesior  aoraaeretn ateteio  ate resia tet tesi   aoriora l i tiel tnsios attiit eteetesses tesior  ar attapM  ares an aiatn   ar tn osioorteres antiateir too  aiestiite sn tiestteiaateen s se  aiite s testnn t  attirs e     tr aNessaniote ao      \n",
      "Loss of data number 1349 at epoch 0:\n",
      "3.013617515563965\n",
      "Decoded output given input: Wn attee  tht tesses ae tire aois steireterttt toemesttn  atestngioali   angiriien    aiestases torksteestin  aiestistteiohaers ii aettarse oesrrtetrsselenteas tieleotesttest leastenes a  aeneettttiestteioeni ar aiestoestattetortioistteiohaesse    aastriin  angaenes sestein  aases  Wntestireliohaoaleser saorkseire n  aiestiote sr aenes sessein  aases testiooci ioesfngntiesteten ssr aiestenes selent as  att tiessaiestorteio  l tork aieleoicn ties ai    es angirnnteesessein  aases oe oenstt s aore    nt tenes sessein  aases ttt tttt  assiess teseten aatt teteseninicnttngaoneiaenestettt tensnenest aesior    Wntttte oederei aien toaleser santteas tte rniestectines  ar aesstestein  aases ttttor aatttn oreil  oaset o   ine tesioss aessein  aases ttt teadnesiseerionn  Weile n  aenes sessein  aases tngaessltors orkaleetesior   tesse ti tessltenes sessein   Wein stessltenes sessein  aettaesseiangiris in  aaseeststileo    anioetter oesteiahnpoesitngosions osioorteio    ares aoissaice r  atesttett leastorksiesti etet    Wostein  aenplesitngosions osioorteio   tasuntes tenes sessltessein  aois stice r ongor al o  an toemetet   ai tiestessltet    tieinn esttete oleeteetee   ahesteten ssr aiestoemetet   angor al o  atens oiestice r   att tiestote oleeteetee  aieinn esoiniaaien tngor al o  an toemetet    aotaioio  tiestiote sr aessein  ate renia   Worettt tessein  ate renia  aiesteteseni ar aiestote oleeteetee  aettaostesfngn ttttiesteseisiar aoni seemet s ttens oiesteatennsiaeriaors ii aecetes te tiesteseisiar aasuntes orls l o   toriaors ii We ontinali siesteteseni atterhnn   aot iaisesel tessein  ate renia  ttt tian oieleoete oemetet n  ars osiorka ties attetteennes tiestetenesetorttniasteteseni  Whestiesre oeeteninn tiestenseslior aoslenn festein   aoileon testeit aste teslenn festein   att tnteetne tiestiote ti ar aiestiote sr aessein  aases tectines s ointota \n",
      "Loss of data number 1399 at epoch 0:\n",
      "3.1777782440185547\n",
      "Decoded output given input: We an iadese tttessaaseasts il o  aesse n  ate resia test   ai aiestersir ior aeretn ateteileo   an aoiniaaeteltteaiatn n  att ti tiaicirterpdtoametenenit aesiaeciosis  aectiaaisin    aus ate resia tn tecashie tn  onis te ties   ar seretn ateteileo  aese s in  aiele aoraanooseioesseretn aiate or ai aistteinnes  aoesenh n   testiaestetessot s ar stteteltaseasts il o  aieleaetter oectianenet  sesios  aiestiatn n  ai.rsees att ti tiaiite ri aeretn   ae oeemer stttiatn n  arl shioessielean oeser i tien tn sttn aiestersir ior attesses tesior   aoir steteerttet   an tiatn   ai aisteesenh nessr aiesteete tfch  o  aic   aesiantn  rs leo ssttti aiesteretn ar aiestn osi aus anpossn s i tr sttistic r iatts   t teete tfnht o  aesteeat   aois  tiestice rioeretn aetelttest teastteaiatn n  aicirtn tntetes    aiadstielears aesses tesior  aoraaeretn ateteio  ate rasia tetetesi s aeriora l i piel tnsi s attiiteeteetesses tesior  ar attapM  ares an aiatn   ar sn oriaorteres anpiateir too  aiestiite sn tiestteiaeteen s te  aiite s testnn t  atsirsse     tr aNessaniote ao      \n",
      "Loss of data number 1449 at epoch 0:\n",
      "3.0098514556884766\n",
      "Decoded output given input: Wn attee  tht tesses aestir  aois steiretesttt toemest n  atassngioal    angiriien    aiestases torksteestin  aiestistteiohaess ii aettarse aesrstetrsselenteas tieleotesttest leastenes a  aeneettttiestteioeni ar aiestoestatt tortioistteiohaesse    aastri n  angaenes sessein  aases  Wntestirel o aoaleser  aorkseire n  aiestiote sr aenes tessein  aases testiooci ioesfngntiesteten ssr aiestenes telesteas  att tiessaiestorteio  l tork aieleoicn ties ai    es angirnnteesessein  aases ae oens t s aere    nt tenes tessein  aases ttt ttts  assiess teseten aatt thteseninicn tngaoneiaenest ttt tenssenest aesiora   Wn ttte oederei aien toaleser  antteas tte rniestecti es  ar aessoessein  aases ttttor aatttn oreil  tasit n   ine tesioss aessein  aases ttt teadntsiseerionn  Weile n  aenes tessein  aases tngaesslsors orkaleetesiora  aess  ti aesslsenes tessein   Wein stesslsenes tessein  aettaesseiangiris in  aaseaststil o    anioetter oesseiahnpoesitngonions osioorteio    ares aoissaice s  atesstett leastorksiesti eset    Wostein  aenpoesitngonions osioorteio   aasunt s tenes tesslsessein  aois stice s ongor al o  an toemetet   ai aiestesslset    tieinn esttete ol eteetee   ahesteten ssr aiestoemetet   angor al o  atens oiestite s   att tiestote ol eteetee  aieinn esoinhaaien tngor al o  an toemetet    aotaioio  tiestiote sr aessein  ate renia   Worettt tessein  ate renia  aiesteteseni ar aiestote ol eteetee  aettaestesfngn ttttiesteseisiar aoni aeemet s atenn oiesteatenns aesiaors  i aecetes te tiesteseisiar aasuntes arls l o   aosiaors  i We ontinal  siesteteseni atterhnn   aot  aises l tessein  ate renia  ttt tian oieleoete oemetet n  ars osiork  ties att tteennes tiestetenesetorttsiasteteseni  Whestiesr  aeeteninn tiestenses ior aoslent aessein   aoileon tesseit este teslent aessein   att tnteetne tiestiote ti ar aiestiote sr aessein  aases tecti es s aintota \n",
      "Loss of data number 1499 at epoch 0:\n",
      "3.1698484420776367\n",
      "Decoded output given input: We an iamese tttessaaseastr ileo  aessein  ate rinia testi  ai aiesterpir iar aeretn ateteileo   an aoiniaaeteltteaiatn n  att ti tiaicarterpdtoametenenit aesiaeciosis iaeciiaaisin    aus ateerasia tn tecashie tng onis te tiesr  ar seretn ateteileo  aese r ini aiele aoraanooseioesteretn aiatetor ai aistteennes  aoesenh n   testiaestetestot s ar stteteltaseastr ileo  aieleaetter aeciianenet  sesios  aiestiatn n  ai.rsees atteti tiaiiteeri aeretn   ae oeemertstttiatn n  arl shioestielean oeser i tien tn sttngaiesterpir iar attesses tesiora  aoirtsteteerttet s an tiatn   ai aisteesenh nestr aiesteete tfcht o  aic   aesiantn  r elen stttti aiesteretn ar aiestngosi aus anposinis i tr sttisticar iatts   t teete tfnht o  aesteeite  aois  tiestice riaeretn aetelttest teastteaiatn n  aicartn tntetes    aia stielears aesses tesiora aoraaeretn ateteio  ate rania tetetesiis aeriora t i pieletnsies attiiteeteetesses tesiora ar sttapM  ares an aiatn   ar sngoriaorteres anpiateir too  aiesteite sn tiestteiaeteen s te  aiite s testnn t  atsirsse  s  tr aoessaniote ao      \n",
      "Loss of data number 1549 at epoch 0:\n",
      "3.006457567214966\n",
      "Decoded output given input: Wn attee  thl tesses aestir  aois steiretesstt toemest n  atassngioal    angiriien    aiestasis torkaterrtin  aiestistteiohaess  i aettarse aesrstetrsselesteas tiel atasstett leastenes a  aeneettttiestteioeni ar aiestoestatt tortioistteiohaesse    aastri n  angaenes sesse n  aasis  Wntestirel o aoales r  aor aeire n  aiestiote sr aenes tesse n  aasis testiooci ioesfngssiesteten ssr aiestenes selesteas  att tiessaiestorteio  l aor  aiel aicn ties ai    es angiranteeaesse n  aasis ae oens t s aere    nt tenes tesse n  aasis ttt ttts  assiess teseten aatt teteseninicn tngaone aenest att tenssenest aesio a   Wn ttte oederei aien toales r  antteas tte rpiestecii es  ar aessoessein  aasis ttttos aatttn oreil  aasit n   in  tesioss aesse n  aasis ttt teadntsiseesionn  Weile n  aenes tesse n  aasis tngaesslsors or aleetesio a  aess  ti aesslsenes tesse n   Wein stesslsenes tesse n  aettaesse angiris in  aaseasts il o    aniaetter oesse ahnpoesitngonions osiaorteio    ares aoissaice s  atasstetn leastorkaiesti eset s  Woste n  aenpuesitngonions osiaorteio   aasunt s tenes sesslsesse n  aois stice s ongor al o  an toemetet   ai aiestesslset s  aieinn esttete ol eteetee   ahesseten ssr aiestoemetet   angor al o  atenn oiestile s   att tiestote ol eteetee  aieinn eaoinhaaien tn or al o  an toemetet    aotaioio  aiestiote sr aesse n  atl rania   Worestt tesse n  atl rania  aiesteteseni ar aiestote ol eteetee  aettaestesfngs atttiesteseisiar aeni aeemet s atenn oiesteatenns aesiaoss    aecetes ti tiesteseisiar aasunt s arls l o   aosiaoss    We ontinal  siesteteseni atterhnn   aoo  aises l tesse n  atl rania  ttt tia  aieleaete oemetet o  arl osiork  ties att tteennes tiesteteneseaorttsiasteteseni  Whessiesr  aeeteninn tiestensis ior aeslent aesse n   aoil an tesse t este tessent aesse n   att tnteetne tiestiote ti ar aiestiote sr aesse n  aasis tecii es   aintola \n",
      "Loss of data number 1599 at epoch 0:\n",
      "3.166609764099121\n",
      "Decoded output given input: We an iamese tttessaaseasts ileo  aessein  ate rinia testi  ai aiesterpir iar aeretn ateteileo   angaoiniaaeteltteaiatn n  att tistiaicarterprtoametenenit aesiaeciosis  aeciiasinin    aus ateerisia tn tecaseie tng onis ae tiesre ar seretn ateteileo  aese s ini aiele aoraanooseioesteretn aiatetor ai aistteennes  aoesenh n   testiaestetestot s ar stteteltaseasts ileo  aieleaetter aeciianenet  sesios  aiestiatn n  ai.rsees attetistiaiiteeri aeretn   ae oeamertstttiatn n  arl shioestielean oeser i tien tn sttngaiesterpir iar attesses tesiora  aoirtsteteerttet s an tiatn   ai aisteesenh nestr aiesteete tfnht o  aic   ainiantn  r elen stttai aiesteretn ar aiestngosi aus antesin s i tr sttisticar iatts   t teete tfnht o  aesteeit   aois  tiestite siaeretn aetelttesniteastteaiatn n  aicartn tntetes    aia stielears aesses tesiora aoraaeretn ateteio  ate rinia tetetesiis aeriora t i sieletnsi s attiiteeteetesses tesiora ar sttapM  ares an aiatn   ar sngoriaorteris antiateir too  aiesteite sn tiesttaiaeteen s te  aeite s testnn t  atsirste  s  tr aNessaniate ao      \n",
      "Loss of data number 1649 at epoch 0:\n",
      "3.007519245147705\n",
      "Decoded output given input: Wn attee  thl aesses aistir  aois  teiretesstt teemest n  atassngioal    angiriien    aiestasis toraateertin  aiestisit iohaess    aettarse aesestetrsaelesteas tiel atasstetn leastenes a  aineetttaiestteioeni ar aiesteestatt tortioistt iohaesse    aastri n  angaenes sesse n  aasis  antestirel o aoales r  aoraaeire o  aiestiote sr aenes aesse n  aasis testiooci iaesfn ssiesteten stn aiestenes aelesteas  att tiessaiestorteio  l aora aiel aicn ties ai    es angiranteeaesse n  aasis ae oens t s aere    nt tenes aesse n  aasis ttt ttts  assiess aeseten aatt teteseninicn tn aone aenest att tewssenest aes o a   an ttte oederei aien toales r  antteas tte  tiestecii es  ar aessoessein  aasis ttttos aatttn oreil  aasit o   ine tesioss aesse n  aasis ttt teadntaiseesionn  aeile c  aenes aesse n  aasis tn aesslsors orkal etes o a  aess  ti aesslsenes aesse n   aein stesslsenes aesse n  aettaesse angiris in  aaseasts  l o    aniaetter oesse ahnpoesitngorions oriaorteio    ares aois aice s  atasstetn leastoraaiesti eset s  aoste n  aenpoesitngorions oriaorteio   aasunt s tenes aesslsesse n  aois  tice s ongor al o  an toemetet   ai aiestesslset s  aieinn eattete ol eteetee   ahesseten stn aiesteemetet   angor al o  atenn oiestilees   att tiestete ol eteetee  aieinn eaoiniaaien tn or el o  an toemetet    aotaioio  aiestiote sr aesse n  atl rania   aorestt tesse n  atl rania  aiesteteseni ar aiestete ol eteetee  aettaestesfn s attaiesteneisiar aioi aeemet s atlnn oiesteatenns aesiaoss    aeceses ti tiesteneisiar aasunt s arls l o   aosiaoss    We ontinal  siesteteseni atterhtn   aoo  aises l tesse n  atl rania  ttt tia  aiel aete oemet t o  arl osiork  aies att tteenne  tiesteteneseaorttsiasteteseni  ahessiesr  aeeteninn tiestensispior aessent aesse n   aoil an tesse t este tossent aesse n   att tnteett  tiestiota si ar aiestiote sr aesse n  aasis tecii es   aintola \n",
      "Loss of data number 1699 at epoch 0:\n",
      "3.16907000541687\n",
      "Decoded output given input: We an iamere tttessaaseasts il o  aesse n  ate rinia aesti  ai aiestersi  iar aeretn ateleileo   an aoiniaaeteltteaialn n  att ti tiaicarterpdtoametenenit ainiaeciosis iaeciiasirin    aus ate rinia an tecaseiy tn  enis ai tiesr  ar seretn ateleileo  aese r ini aiele aoraanooseioesteretn aialetor ai aistteennes  aoasenh n   aertiaestetestot s ar stteteltaseasts il o  aieleaetter aeciianenes  sesios  aiestialn n  ai.rnees atteai tiaiiteeri aeretn   ae oeamertstttialn n  arl shioestielean oeser i tien tn stan aiestersi  iar attesses tesiora  aoirtsteteersaet s an tialn   ai aisteasenh nestr aiesteete tfcht o  aic   ainiantn  r elio stttai aiesteretn ar aiestngeri aus antesines i tr sttistica  iatts   t aeete tfnht o  aesteeile  aois  tiesticeesiaeretn aetelttesniteastteaialn n  aicartn tntete     aia saielears aesses tesiora aoraaeretn atelein  ate rinia aeteaesi s aeriora t e sieleansi s attiiteeleetesses tesiora ar attapH  ares an aiatn   ar sn eriaorteris antiateir too  aiesteite sn wiesttaiaeteen s te  aiite s aestnn t  atsi ste  s  ar aoessaniate ao      \n",
      "Loss of data number 1749 at epoch 0:\n",
      "3.0060017108917236\n",
      "Decoded output given input: Wn attee  thl aesses aestine aois  teiretesstt teemesttn  atassngioal    angiriieo    aiestases aorkateertin  aiestesiteiohaess    aettarse aesestetrsaelesteas tiel atasstetnileastenes a  aineetttaiestteioeni ar aiesteestatt tortioesiteiohaesse    aastri o  angaenet sesse n  aasis  antestinel ohaoales r  aorkaeire o  aiesteote sr aenes aesse n  aasis aestiaoci iaesfn ssiesteten stn aiestenes aelesteas  att ties aiestorteio  t aorkaaiel aicn ties ai    es angiranteeaesse n  aasis ae oenstt s aere i  ntatenes aesse n  aasis att ttts  assiess aeseten aatt teteseninicn tngaone aenest att tewssenest aes o a   an ttte oederei aien toales r  antteas tte  niestecii es  ar aessaessein  aasis attaos aattan orail  aasit o   in  tisios  aesse n  aasis att teadntaiseesiann  aeile c  aenes aesse n  aasis angaessesors or eleetesio a  aess  ti aessesenes aesse n   aein stessesenes aesse n  aettaesse tngirss in  aaseasts il o    aniaetter oesse thnpeesitngenions oriaorteio    ares aois aicees  atasstetnileastorkaiesti eaet s  aosse n  aenpoesitngenions oriaorteio   aasunt s tenes aessesesse n  aois  ticees angor al o  an toemetet   ai aiestesseset s  aieinn eattete ol eaeetee   ahesteten stn aiesteemetet   angor al o  atlnn aiestitees   att tiestote ol eaeetee  aieinn eaoinhaaien tn or el o  an toemetet    aotaioio  aiesteote sr aesse n  atl rania   aorestt tesse n  atl rania  aiesteteseni ar aiestote ol eaeetee  aettaestesfn s attaiesteneisiar aioi aeemet s atlnn aiesteatenns aesiaoss    aecetes ti tiesteneisiar aasunt s arls l o   aesiaoss    ae ontinal  siesteteseni atterhtn   aoo  aises l tesse n  atl rania  ttt tia saiel aote oemet t o  arl osiorka aies att tteenne  aiesteteneseaorttsiasteteseni  ahestiesr  aeetanicn aiestensisliar aossent aesse n   aoil an tesse t este tossent aesse n   att tnteette tiesteota ti ar aiesteote sr aesse n  aasis aecii es   aimaota \n",
      "Loss of data number 1799 at epoch 0:\n",
      "3.16348934173584\n",
      "Decoded output given input: We an iadere ttteseaaseasts il o  aesse n  ate renia testi  ai aiesterpi  iar aeretn ateleileo   an aoiniaaeteltteaialn n  att ti tiaicarterpstoametenenit ainiaeciosis iaeciiasirin    aul ateerania tn tecashiy tng enis ai tiesre ar tereln ateleileo  aene r ini aiele aoraanooseioestereln aialetor ai aistteennes  aeesenh n   aertiaestetestetes ar stteteltaseasts il o  aieleaetter aeciianenes  tesios  aiestialn n  ai.rnees atteti tiaiiteeri aeretn   ae oeamertstttialn n  arl shioestiel an oeser i tien tn sttngaiesterpi  iar attesses tesio a  aoirtsteteerttet s an tialn   ai aisteesenh nestr aiesteete ticht o  aice  ainiantn  r elen stttai aiestereln ar aiestngori aul antesinis i tr sttestica  iatts   t aeete tinht o  aesteeite  aois  tiestiteesiaereln aetelttesnileastteaialn n  aicartn tntete     aia stielearn aesses tesio a aoraaereln ateleinn ate rania teteaesiis aeriora t i tiel ansi s atteiteeleetesses tesio a ar attapH  ares aniaiatn   ar sngoriaorteris antiateir too  aiesteite tn tiesttaiaeteen s te  aeite s aertnn t  atti ste es  tr aNessaniate ao      \n",
      "Loss of data number 1849 at epoch 0:\n",
      "3.009068727493286\n",
      "Decoded output given input: Wn attee  thl aessel aistin  aois  teiritesstteaoemest s  atassngioal    angiriieo    aiestasis aoraateertio  aiestisit iohaess    aettanse aenestearsaelestees tiel atasstetnileastenes a  aineetttaiestteioeni ar aiesteestatteaortioesit  ohaessen   aastri o  angaenet sesse n  aasis  antestinel ohaoales r  aoraaiire o  aiestiotestn aenes aesse n  aasis aertiaoci iaenfn ssiesteten stn aiestenes aelestees  att tiessaiestortiio  t aoraaaiel aicn ties ai    es an iranteeaesse n  aasis ae oenstt s aere i  ntatenes aesse n  aasis att tttt  assiess aiseten aatt teteseninicn tn aone aenest att tewssenest aes o a   an ttti oederei aien toales r  antteas ttl rtiestecii es  ar aes oessein  aasis attaos aattan orail  aasit o   ine tisios  aesse n  aasis att teadntaiseesionn  aeile c  aenes aesse n  aasis angaensesors orkaleetes o a  aess  ti aensesenes aesse n   aein stensesenes aesse n  aettaesse tngiris in  aaseasts il o    aniaetter oesse thnpeesitngerionn oriaortiio    anes aois aitees  atasstetnileastoraaiesti eaet s  aosse n  aenpoes tngerionn oriaortiio   aasunt s tenes aensesesse n  aois  titees ongor al o  an toemes t   ai aiestenseset s  aieinneeattite ol eaeetee   ahesteten stn aiesteemes t   angor al o  atlnn aiestitees   att tiestite ol eaeetee  aieinneeaoiniaaien tngor el o  an toemes t    aotaioio  aiestiotestn aesse n  atl rasiai  aorestt tesse n  atl rasiai aiesteteseni ar aiestite ol eaeetee  aettaistenfn s attaiesteneisiar aioi aoemet s atlnn oiesteatenns aeriaoss    aeceses ti tiesteneisiar aasunt s arls l o   aesiaoss    ae ontinal  siesteteseni atterhtn   aoo  aises l tesse n  atl rasiai ttt aia  aiel aote oemet t o  arn osioraa aies atteateinne  aiesteteneneaorttsiasteteseni  ahestiesr  aeetanicn aiestendisliar aossent aesse n   aoil an tesse t este tossent aesse n   att tnteett  aiestiotaeti ar aiestiotestn aesse n  aasis aecii es   aimaota \n",
      "Loss of data number 1899 at epoch 0:\n",
      "3.1612181663513184\n",
      "Decoded output given input: We an iadere ttaeseaaseasts il o  aesse s  ate renia tenti  ai aiesterpi piar aereln ateleileo   an aoiniaaeteltteaialn n  att ti tiaicirte pstoametenenit ainiaeciosis iaeciiatirin   [STOP]anl ateerania tn tecashiy tn eenis ai tiesre ar aereln ateleileo  aene s ioi aiel  aoraanooseioestereln aialeeir ai aistteinnes  aeesenh n   aertiaistelestites ar ataeteltaseasts il o  aiel aetter aeciianenis  tisios  aiestialn n  ai.rnee  att ti tiaiiteeri aereln  [STOP]ae oeemertsttaialn n  arl shioestiel an oeser i tien tn stan aiesterpi piar ataesses tesio a  aoirtsteteestaet s an tialn   ai aisteesenh nestr aiesteete ticht o  aice  ainiantn  r elin stttai aiestereln ar aiestngeni anl antesinis i tr ataistica  iatts   t aeete tioht o  aesteeite  aois  tiestitees aereln aetelttestileastteaialn n  aicirtn tntete     aia  aiel arn aesses tesio a aoraaereln ateleinn ate rania teteaesiis aerioraat i tiel ansi s ataiiteeleetesses tesio a ar attapH  ares an aialn   ar angoriaorteris antiateir aoo  aiesteite tn tiesttaiaeleen s te  aeite s aertnn t  attirsti  s  ar aNessaniate ao      \n",
      "Loss of data number 1949 at epoch 0:\n",
      "3.005913734436035\n",
      "Decoded output given input: Wn attee  thl aessel aestir  aois steiritesstteaoamest s  atassngioal    angiraien    aiestanis aorkateertin  aiestesit  ohaess    aettanse aenessearsaelenteas tiel atasstetnileastenes a  aineetttaiestteioeni ar aiesteestatteaortioesit  ohaesser   aastni o  angaenet aesse n  aanis  antestir liohaoales r saorkaeiri o  aiesteotestn aenes aesse n  aanis aertiaoci iaenon ssiesteten stn aiestenes aelenteas  att aiessaiestorteio  t aorkaaiel aicn aies ai    es angiranteeaesse n  aanis ae senstn s aere in ntatenes aesse n  aanis atteatts  assiess aiseten aatt ahteseninicn angaone aenest atteaewssenest aes o a   an ttti oaderei aien toales r sansteas ttl rtiestenii es  ar aessaassein  aanis attaos aattan orail  aasit o   ine tisios  aesse n  aanis atteaeadntaeseesiann  aeile n  aenes aesse n  aanis angaensesors or eleeaesio a  aess  ti aensesenes aesse n   aeinystensesenes aesse n  aettaesse sngiras in  aaseasts il o    aniaetter aesse ahnpees tngenionn oriaorteio    anes aois aitees  atasstetnileastorkaiesti eaet s  aossein  aenpees tngenionn oriaorteio   aasuntes aenes aensesesse n  aois stitees angor al o  an toameset   ai aiestenseset s  aieinneesttite ol eaeetee   ahesteten stn aiesteemeset   angor al o  atlnn aiestitees   att aiestite ol eaeetee  aieinneesoinhaaien tngor al o  an toameset    aotaioio  aiesteotestn aesse n  atl raniaa  aorestt tesse n  atl raniaa aiesteteseni ar aiestite ol eaeetee  aettaistenon s attaiesteneisiar aioi aeamet s atlnniaiesteatenns aesiaoss    aeceses ai tiesteneisiar aasuntes arls l o   aesiaoss    ae sntinal  siesteteseni atterhtn   aoo  aises leaesse n  atl raniaa ttteaia  aiel aote oemes t o  ann osioraa aies atteateennes aiesteteneneaorttniasteteseni  ahestiesra aeetanicn tiestensisliar aossent aesse n   aoil an tesse s esti tossent aesse n   att anteette aiesteotaeni ar aiesteotestn aesse n  aanis aenii es   ainaola \n",
      "Loss of data number 1999 at epoch 0:\n",
      "3.168226957321167\n",
      "Decoded output given input: We an iadere ttaeseaaseasts ilio  aesse s  ate reniaatesti  ai aieste si  iar aereln ateleileo   an aoiniaaeteltteaialn n  att tistiaicarte pstoametenenit ainiaeciosis iaeciiatirin    ann ateeraniaatn tecashiy tngeenis ai tiesre ar sereln ateleileo  aene s ini aiel  aoraanooseinestereln aialeeir ai aistteennes  aeesenh n   aertiaistetestites ar ataeteltaseasts ilio  aiel aetteriaeciianenis  tisios saiestialn n  ai.rnees att tistiaiiteer  aereln   ae oeemertsttaialn n  arl shioestiel an oeser i tien tn sttngaieste si  iar ataesses tes o a  aoirtsteteestaet s an tialn   ai aisteenenh nestr aiesteeteetinht o  aite  ainiantn  r etinestttai aiestereln ar aiestngeri ann antesines i tr staestica  iattt   t aeete tinht o  aisteeite  aois  tiestitees aereln aetelttesnileastteaialn n  aicartn tntete  s  aiad aiel arn aesses tes o a aoraaereln ateleinn ate rania teteaesiis aeriora t i tiel ansi s ataeiteeteetesses tes o a ar attapH  ares aniaialn   ar angeriaorteris antiateir too  aiesteite tn aiesttaiaeteengs te  aeite s aertnn n  attirsti es  tr aNessaniate ao      \n",
      "Loss of data number 2049 at epoch 0:\n",
      "3.003480911254883\n",
      "Decoded output given input: Wn attee  thl aessel aeitin  aois  seiretesstteaeanest s  atassnginal    anginaien    aiestanis aor ateertin  aiesteiit  nhaess    aettan e aenessear aelenteas aiel atasstestileastenes a  aeneetttaiestteioeni ar aiesteentatteaertiaesit  nhaesser   aastni n  angaenet aessa n  aanis  anaeitin leohaoales r saor aeire n  aiesteotessn aenes aessa n  aanis aertiaoca iaenon ssiesteten stn aiestenes aelenteas  att aies aiestorteio  t aorkaaiel aicn aies ai    es an iranteeaessa n  aanis ae sens t s aere in ntaaenes aessa n  aanis att atts  a siess aiseten aatt aeteslninicn an aine aenest att aewssenest aes o a   an ttti oaderei aien toales r santteas atl  niestenii es  ar aes aassa n  aanis attaos aattan enail  aasit n   ine tisioss aessa n  aanis att aeadntaesees ann  atile n  aenes aessa n  aanis angaensesors or eleeaes o a  aess  ai aensesenes aessa n   aein stensesenes aessa n  aettaessa tnginas in  aaseasts il o    aniaetter aessa thnpees tngenionn oriaorteio    anes aois aitees  atasstestileastorkaiesti eset s  aossa n  aenpees tngenionn oriaorteio   aasuntes aenes aensesessa n  aois  sitees an or et o  an toanetet   ai aiestenseset s  aieanneesttite ol eaeetee   ahesseten stn aiesteenetet   angor et o  atlnn aiestitees   att aiestite ol eaeetee  aieanneesoinhaaien tngor et o  an toanetet    aotaioion aiesteotessn aessa n  ata raniaa  aorestt aessa n  ata raniaa aiesteteseni ar aiestite ol eaeetee  aettaistenon s attaiesteneisiar aioi aeanet s atlnn aiesteatenn  aeniaoss    aenetes ai tiesteneisiar aasuntes arls l o   aesiaoss    ae sntinal  siesteteseni atterhtn   aot  aeses l aessa n  ata raniaa att aia  aiel aote oemet t o  ann osioraa aies atteateenne  aiesteteneneaorttniasteteseni  ahessiesr  aeetanicn aiestendisliar aossent aessa n   aoil an tessa t esti tossent aessa n   att anteett  aiesteotaeni ar aiesteotessn aessa n  aanis aenii es   aenaola \n",
      "Loss of data number 2099 at epoch 0:\n",
      "3.1681530475616455\n",
      "Decoded output given input: We an iadere ttaeseaaseasts ilio  aesse s  ate renia tenti  ai aieste pirpiar aereln ateleileo   an aoiniaaeteltteaialn n  att ti tiaica te estoametenenit ainiaeciosi  iaeciiatirin   [STOP]ann ateeraniaatn tecashiy angeenis ai tiesra ar aereln ateleileo  aene s io  aiel  aoraanooseinestereln aialeeir ai aistteennes  aeesenh n   aertiaistelestites ar ataeteltaseasts ilio  aiel aetteriaeciianengl  tisios saiestialn n  ai.rnies att ti tiaiiteeri aereln  [STOP]ae oeemertsttaialn n  arl shio stiel an oeser i aien an stangaieste pirpiar ataessel aesio a  aoirtsteteestaet s an tialn   ai aisteenenh nestr aiesteeteetioht o  aice  ainiantn or elin stttai aiestereln ar aiestngeni ann antesini  i tr ataestica  iattt   t aeete tiohl o  aisteeile  aois  tiestiteesiaereln aeteltteltileastteaialn n  aici tn tntete  s  aiau aiel arn aessel aesio a aoraaereln ateleinn ate raniaateteaisiis aerioraat i tiel ansi s ataeileeleetessel aesio a ar attapH  ares aniaialt   ar angeniaorteris antiateir aoo  aiesteite tn aiesttaiaeleengs te  aeite s aertnn n  attirnti es  ar aNessaniate ao      \n",
      "Loss of data number 2149 at epoch 0:\n",
      "3.0038204193115234\n",
      "Decoded output given input: Wn attee  thl aessel aesti   aois  teiretesstteaeanestes  atassngical    angiraien    aiestanis aorkateertin  aiestesite nhaess    aettanse aenesseardaelenteas aiel atasstesnileastenes a  aineetttaiestteioeni an aiesteentatteaerticestte nhaesser   aastni o  angaenet aesse n  aanes  anteiti  teohaoales r saorkaeiri n  aiesteotessn aenes aessa n  aanes aertiaoca iaenon ssiestetenistn aiestenet aelenteas  att aiessaiestorteio  t aorkeaiel aicn aies ai    es angiranseesesse n  aanes ae senstt s aere  n nn aenes aessa n  aanes atteatts  assiess siseten aatt ahtetenenicn angaine teness att aewssenest aes ora   an ttai eaderei aien toales r sansteas ate rniestenii es  an aeseaasse n  aanes attaos aattaneenail iaasit n   in  tisioss aessa n  aanes atteaeadntaesees ann  atile n  aenes aessa n  aanes angaensesors or eleeaes ora  aess  ti aensesenes aessa n   aein stensesenes aessa n  aettaessa tngiras ina aaseasts il o    aniaetter aesse shnpees tngenionn oriaorteio    anes aois aitees  atasstesnileastorkaiesti etet s  aossein  aenpees tngenionn oriaorteio   aasuntes aenet aensesessa n  aois  titees angor et o  an teanetet   ai aiestenseset s  aieanneestaite ol eahetee   ahestetenistn aiesteenetet   angor et o  atlnniaiestitees   att aiestite ol eahetee  aieanneesoinhaaien tngor et o  an teanetet    aetaioion aiesteotessn aessa n  ata raniaa  aorestt tesse n  ata raniaa aiesteteteni an aiestite ol eahetee  aettaistenon s attaiesteneesiar aioi teanes s atlnniaiesteatenns aeniaoss    aenetes ai tiesteneesiar aasuntes arlsal o   aeriaoss    ae sntinal  siesteteteni atterhtn   aot  aeses l aessa n  ata raniaa ttt aia  aiel aite oemeset o  ann oniorka aies atteateennes aiesteleneneaorttniasteteteni  ahestiesra aeetenicnstiestensiseian aonsent aessa n   aoil an tesse tleste tonsent aessa n   att anteett  aiesteotaisi an aiesteotessn aessa n  aanes aenii es   aenaola \n",
      "Loss of data number 2199 at epoch 0:\n",
      "3.165712833404541\n",
      "Decoded output given input: We an iadere staes aaseasts il o  aesse n  ata reniaatenti  ai aieste si  iar aereln ateleileo   an aoinhaaeteltteaialn n  att tistiaica te estoametinenit ainiaeciosis iaeciiatirin   [STOP]ann ateeraniaatn tecashiy angeenis ti tiesra ar aereln ateleileo  aene s in  aiel  aoraanooshinestereln aialeeir ai aistteennes  aeenenh n   aertiaistelestites ar ataeteltaseasts il o  aiel aetter aeciianengt  sisios saiestialn n  aiernies att tistiaiiteer  aereln  [STOP]ae aeemertsttaialn n  arl sh nestiel aneeeser i tien tn stangaieste si  iar ataessel tes ora  aointsteteessaet s an tialn   ai aisteenenh nestr aiesteeteetinht o  aite  ainiantn  r elinestttai aiestereln ar aiestngeri ann antesini  i tr ataestica  iattt   t aeete.tinhl o  aisteeal   aois  tiestitees aereln aetelttesnileastteaialn n  aica tn trtete  s  aia  aiel arn aessel tes ora aoraaereln atelein  ate raniaateteaisiis aerioraat i tiel ansi s ataeiteeleetessel tes ora ar sttapH  ares aniaialn   ar angeniaorteris antiatein aoo  aiesteite tr aiesttaiaeleengs ne  aeite s aentnn n  attirsti  s  tr aNessaniate ai     [STOP]\n",
      "Loss of data number 2249 at epoch 0:\n",
      "3.007675886154175\n",
      "Decoded output given input: Wn attee  thl aessel aeitin  aois  teiresesstteaeanestes  atassnginal    anginaien    aiestanis aoraateertin  aiesteiiteiohaess    aettan e aenesseardaelenteas aiel atasstestileastenes a  aeneitttaiestteioeni an aiesteantatteaerticesiteiohaessen   aastniin  angaenet sesse n  aanis  anaeitin liohaoales r saoraaeire n  aiesteotestn aenes aesse s  aanis aertiaocatiaenon ssiestetenastn aiestenes aelenteas  att aiessaiestorteio  t aoraaaiel aicn aies ai    es angiranteeaesse n  aanis ae aenssn s aere tnenn aenes aesse s  aanis atteatts  assiess aiseten aatt aetetinanian angaome aenest atteaewssenest aes o a  [STOP]an ttai oanerei aien aoales r santteas ata rtiestenii es  an aeseaasse n  aanis attaos aattaneonail iaasit o   ine tisios  aesse s  aanis atteaeadneaeieesiann  atine n  aenes aesse s  aanis angaensesors or aleeaesio a  aess  ai aenseaenes aesse s   aeinystenseaenes aesse s  aettaesse tnginas ina aaseasts il o    aniaetter aesse tenpees tngeniann oriaorteio    anes aoissaitees  atasstestileastoraaiesti eset s  aosse n  aeneees tngeniann oriaorteio   aasuntes aenes aenseaesse s  aois  titees angor at o  an teanetel   ai aiestenseset s  aieanneestaite ol eaeetee   ahestetenastn aiesteanetel   angor at o  atenn aiestitees   att aiestite ol eaeetee  aieanneesoinhaaien angor at o  an teanetel    aetaioio  aiesteotestn aesse s  ata naniaa  aorestt aesse n  ata naniaa aiesteteteni an aiestite ol eaeetee  aettaistenon s attaiesteneisiar aioi teanet s atenn aiesteatenns aeniaoss    aenetes ai tiesteneisiar aasuntes arlsal o   aeriaoss    ae sntinal  siesteteteni atterhnn   aoti aeses l aesse s  ata naniaa atteaia  aiel aote oamesel o  ann onioraa aies atteateennes aiesteleneneaerttniasteteteni  ahestiesra aeetaninn aiestendi liar aossent aesse s   aoil an tesse tlesti tossent aesse s   att anteette aiesteotaeti an aiesteotestn aesse s  aanis aenii es   aimaola \n",
      "Loss of data number 2299 at epoch 0:\n",
      "3.16038179397583\n",
      "Decoded output given input: We an iadere ttaes aaseasts il o  aesse s  ata raniaaaenti  ai aieste ti piar aeretn ateleileo   an aoinhaaeteltteaialn n  att tistiaica te estoameaetenit ainiaeciosis iaeciiaterin   [STOP]aun ataeraniaaan tecash y angeenis ai tiesra ar seretn ateleileo  aene s in  aiel  aoraanooshinesteretn aialeeor ai aistteennes  aeenenh n   aertiaistelestites ar ataeteltaseasts il o  aiel aetteriaeciiatengt  tisios saiestialn n  aiernies att tistiaiitees  aeretn   ae aeamertsttaialn n  arl sh o stiel an oeser i aien tn stangaieste ti piar ataessel aes o a  aoirtsteteessaet s an tialn   ai aisteenenh nestr aiesteete tioht o  aite  ainiantn  r etinestttai aiesteretn ar aiestngeri aun anpesini  i ar ataestica  iatts   t aeete tiohl o  aisteeat   aois  tiestiteesiaeretn aetelttesnileastteaialn n  aica tn tntete  s  aia  aiel arn aessel aes o a aoraaeretn atelein  ate raniaaaeteaisiissaerioraat i aiel ansi s ataeiteeteeaessel aes o a araattapH  ares aniaialn   ar angeriaorteris antiateir aoo  aiesteite tn aiesttaiaeleengs te  aeite s aertnn n  atnirste es  ar aoessaniate ao     [STOP]\n",
      "Loss of data number 2349 at epoch 0:\n",
      "2.982229232788086\n",
      "Decoded output given input: Wn attee  thl aessil aei i   aois  teirasesstteaeanest s  atassngical  l angiraien    aiestanis aoraateertin  aiesteiis  nhaess    aettan e aenesseardaeleateas aiel atasstestileastenes a  aineeattaiestteioeni ar aiesteantatteaerticesis  nhaessir   aastri n  angaenet aessa n  aanis  antei i  tiohaoales r saoraaeiri t  aiesteotestn aenes aessa n  aanis aertiaoca iaenon ssiestetinistr aiestenes aeleateas  atteaiessaiestorteio  t aoraaaiel aicn aies ai e  es angiranseeaessa n  aanis ae ae set s aere inentaaenes aessa n  aanis atteatts  assiess aiseten  att aetetininicn angaime aenest atteaewssenest aes ora  [STOP]an ttai eanerei aien aoales r sanstias ata  aiestenii es  ar aes aassain  aanis attaos aattaneerail iaasiten   in  tisioss aessa n  aanis atteaeadneaesees ann  atile n  aenes aessa n  aanis angaenseaors ir aleeaes ora  aesse ai ainseaenes aessa n   aeinistenseaenes aessa n  aettaessa angiras ina aaseasts il o    aniaetter aessa ahneees tngeriann oriaorteio    anes aoissaitees  atasstestileastoraaiesti eaet s  aossein  aeneees tngeriann oriaorteio   aasuntes aenes aenseaessa n  aeis  titees an ir at o  an teanetel   ai aiestenseaet s  aiearne staite ol eaeetee   ahestetinistr aiesteanetel   angirkat o  atenniaiestitees   atteaiestite ol eaeetee  aiearne soinhaaien angirkat o  an teanetel    aetaioion aiesteotestn aessa n  ata rasiaa  aoreatt aessa n  ata rasiaa aiesteteteni ar aiestite ol eaeetee  aettaistenon s attaiesteneisiar aiai teanet s atsnniaiesteatennsiaeriaoss    aenetes ai tiesteneisiar aasuntes arlsal o   aeriaoss    ae antinal  siesteteteni atterhtn   aooi aeses leaessa n  ata rasiaa ttteaia  aiel aite oemesel o  arn osioraa ties atteateennes aiesteleneneaerttsiasteteteni  ahestiesra aeetanicsstiestensiseiar aossint aessa n   aoil an tessaillesti tossent aessa n   atteanteett  aiesteotaeni ar aiesteotestn aessa n  aanis aenii es   aimaola \n",
      "Loss of data number 2399 at epoch 0:\n",
      "3.1524500846862793\n",
      "Decoded output given input: We an iamere ataes aaseasts il o  aesse n  ata raniaaaenti  ai aieste pi  iar aereln ateleilio   angaoinhaaeteltteaialn n  att aistiaici te estoameaenenit ainiaeciosi  iaeciiatirinn  [STOP]aun ata raniaaan tecash y angeenas ai aiesra ardaereln ateleilio  aene s ina aiel  aoraanooshinestereln aialeeir ai aistteennes  aeenenh n   aertiaistelestites ar ataeteltaseasts il o  aiel aetterhaeciianengl  tisiosssaiestialn n  aiernie  att aistiaiiteesi aereln   ae aeamertsttaialt n  arl sh o stiel anioeser i aien an stangaieste pi  iar ataessil aes o a  aointstete s aet s an tialn   ai aisteenenh nestr aiesteete.tinhl o  aites ainiantn  r etinestttai aiestereln ar aiestngeni aun antesini  i ardataestica  iattt   t aeete.tinhl o  aisteeal   aois  tiestiteesiaereln aetelttestileastteaialn n  aici tn tntete  s  aiau aiel arn aessil aes o a aoraaereln ateleinn atl rasiaaaeteaisi s aerioraat i aiel ansi s ataeiteeleeaessil aes o a araattapH  ares aniaialt   ar angeniaorteris antiateir aoo  aiesteite tn aiesttaiaeleengs te  aeite s aentnn n  atnirnti  s  ar aNessaniatl ao ,)  [STOP]\n",
      "Loss of data number 2449 at epoch 0:\n",
      "2.981290817260742\n",
      "Decoded output given input: Wn attee  thl aessel aeiiine aois  teirasesstteaeanestes  atassn inal  l anginaien s  aiessanis aoraateertin  aiesseiiteinhaess    aettan e aenessear aelinteas aiel atasstestileastenes a  aineeattaiessteioesi ar aiesseantatteaerticeiiteiohaessin   aastniin  angaenes aessa s  aanis  anaeiiinel ohaoales r saoraaeire n  aiesseotessn aenes aessa s  aanis aertiaoca iaenon ssiesseterastn aiessenes aelenteas  att aiessaiessorteio  t aoraaaiel aicn aies ai    es angiranteeaessa s  aanis ae aens t s aere  nentaaenes aessa s  aanis atteatts  assiess aiseten aatt aetetitanian angaime aenest att aewssenest aes o a .[STOP]an ttai eanerei aien aoales r santteas ata raiessenii es  ar aes aassa n  aanis attaos aattaneonail iaasiten   ane tisiosssaessa s  aanis atteaeadntaeiees ann  aeile n  aenes aessa s  aanis angaenseaors or aleeaes o a .aess  ai aenseaenes aessa s   aeinestenseaenes aessa s  aettaessa snginas ina aaseasts il o    aniaetter aessa seneees tngeniann oriaorteio    anes aoissaitees  atasstestileastoraaiessi eaet s  aossa s  aeneees tngeniann oriaorteio   aasuntes aenes aenseaessa s  aois  titees an or et o  an teanetel   ai aiessenseaet s  aieanne staite ol eaeetee   ahesteterastn aiesseanetel   angor at o  atenn aiessitaes   att aiessite ol eaeetee  aiearne soinhaaien angor at o  an teanetel    aetaioio  aiesseotessn aessa s  ata nasiaa [STOP]aorestt aessa s  ata nasiaa aiesseteteni ar aiessite ol eaeetee  aettaistenon s attaiesseneisiar aioi teanet s atsnn aiesseatenns aeniaoss    aenetes ai tiesseneisiar aasuntes arlssl o   aeriaoss    ae antinal  siesseteteni atterhnn   aoo  aeses l aessa s  ata nasiaa atteaia  aiel aote oamelel o  arn onioraa aies att ateennes aiesseleneneaoretniasteteteni  ahessiesra aeetanics aiessensislian aossent aessa s   aoil an tessa tlesti tossent aessa s   att anteett  aiesseotaeni ar aiesseotessn aessa s  aanis aenii es   aimaola \n",
      "Loss of data number 2499 at epoch 0:\n",
      "3.1599550247192383\n",
      "Decoded output given input: We an iadere ttaes aaseasts il o  aesse n  ata reniaaaenti  ai aieste ti  iar airetn ateleileo   an aoinhaaeteltteaialn n  att tistiaici te estoameaenenit ainiaeniosi  iaeniiaterin    aun ata reniaaan tenash y angeenis ai aiesra ardseretn ateleileo  aene s in  aiel  aoraanooshinesteretn aial eir ai aistteennes  aeenenh n   aertiaistetestites ar staeteltaseasts il o  aiel aetteriaeniianengl  tisiosssaiestialn n  aiernies att tistiaiitees  aeretn   ae aeemen sttaialn n  arl sh n stiel anioeser i aien an stangaieste ti  iar ataessel aes o a  aointstete s aet s an tialn   ai aisteenenh nestr aiesteete ticel o  aites ainiantn or etinestttai aiesteretn ar aiestngeri aun antesin   i ar staestica  iatts   t aeete ticel o  aisteeal   aois  tiestitees aeretn aetelttestileastteaialn n  aici tn tntete  s  aia  aiel arn aessel aes o a aoraaeretn atelein  ate reniaaaeteaisi s aerioraat i aiel ansi s ataeiteeteeaessel aes o a araattapH  ares aniaialt   ar sngeriaorteris antiatei  aoo  aiesteite tn aiesttaiaeteengl ne  aeite s aentnn n  atni stimes  ar aoessaniate ai 0)) [STOP]\n",
      "Loss of data number 2549 at epoch 0:\n",
      "2.9836463928222656\n",
      "Decoded output given input: Wn attee  thl aessil aeiti   aois  tiirasesstteaeanest s  atassn inal  s anginiien s  aiestanis aoraateertin  aiestiiiteinhaess    aettan e aenesseardaelinteas aiel atasstestileastenes a  aineiattaiestteioeni an aiesteantatt aerticeiiteinhaessin   aantni n  an aanel aessa s  aanis  anaeitin teohaoales r saoraaeiri t  aiestiotesan aenes aessa s  aanis aertiaoca iaenfn stiestetirastn aiestenes aelenteas  att aiessaiestortiin  t aoraaaiel aicn aies ai    es an inanteeaessa n  aanis ae aensst s aere  nent aenes aessa s  aanis att atts  assiess ainesen aatt ahtesisenicn an aime aenest att aewssenest aes o a .[STOP]an ttai eanerei aien aoales r santtias ata raiestenii es  an aes aassa n  aanis attaos aattaneenail iaasit o   ine tinioss aessa n  aanis att aeadntaiiees ann  aeine n  aenes aessa s  aanis an aenseaors or eleeaes o a .aess  ai ainseaenes aessa s   aeinistenseaenes aessa s  aettaessa anginas ina aaseasts il o    aniaetter aessa ahneees tn eniann oriaortiin    anes aoissaitaes  atasstestileastoraaiesti eset s  aossa s  aeneees tn eniann oriaortiin   aasuntes aenel aenseaessa n  aeis  titees an or at o  an teanetel   ai aiestenseaet s  aieanne staite ol eaeesee   ahestetirastn aiesteanet l   an ir at o  atenn aiestitaes   att aiestite ol eaeesee  aieanne soinhaaien an or et o  an teanetel    aetaioia  aiestiotesan aessa n  ata nasiaa  aonestt aessa n  ata nasiaa aiesteteseni an aiestite ol eaeesee  aettaistenfn s attaiesteneisiar aiai teanet s atsnniaiesteatenn  aeniaoss    aeneses ai tiesteneisiar aanuntes arlssl o   aeniaoss    ae antinal  siesteteseni atterhnn   aot  aises l aessa s  ata nasiaa att aia  aiel aite oamesel o  ann onioraa aies att ateennes aiesteteneneaerttniasteteshni  ahestiesra aeetanins aiestentiseiar aissint aessa n   aoil an tessa llesti tossint aessa n   att anteett  aiestiotaeni an aiestiotesan aessa n  aanis aenii es   aimaola \n",
      "Loss of data number 2599 at epoch 0:\n",
      "3.1538610458374023\n",
      "Decoded output given input: We an iamere ataes aaseasts il o  aesse s  ata raniaaaenti  ai aieste ti  iar airetn ateleilio   an aoinhaaiteltteaialn n  att aistiaica te estoameainenit ainiaeniosi  iaeniiatirin    ann ata raniaaan tenash y angeenas ai aiesra ardaereln ateleilio  aene s ina aiel  aoraanooshinestereln aial eir ai aistteennes  aeenenh n   aertiaistetestites ardataeteltaseasts il o  aiel aetterhaeniianenis  sisiosssaiestialn n  aiernies att aistiaiitees  aeretn   ae aeamentsttaialn n  arl sh o stiel aneoeser i aien an stangaieste ti  iar ataessil aes o a  aoirtstete ssaet s an tialn   ai aisteenenh nestr aiesteete tinhl o  aites ainiantn or etinestttai aiestereln ar aiestngeri ann antesin  si ardataistica  iattt  .t aeete tinel o  aisteeal   aois  tiestitees aereln aetelttestileastteaialn n  aici tn tntete  s  aia  aiel arn aessil aes o a aoraaereln atelein  ate raniaaaeteaisi ssaerioraat a aiel ansi s ataiiteeleeaessil aes o a araattapH  ares aniaialt   ardangeriaorteris antiatei  aoo  aiesteite sn aiesttaiaeteengl te  aeite s aentnn n  atnirstem s  ar aNessaniatl ai 0)) [STOP]\n",
      "Loss of data number 2649 at epoch 0:\n",
      "2.985475540161133\n",
      "Decoded output given input: Wn ataee  thl aessil aeitine aois  teiras sstteaeanesten  atastnginal sl anginaiet s  aiestanis aoraateertin  aiastiiiteinhaess    aettan e aenesseardaelinteas aiel atastteltileastenes a  aineeattaiastteioeni an aiesteantatt aerticeiiteinhaessin   aantni n  an aenes aessa s  aanis  anteiiinel ohaoales r saoraaeiri t  aiastiotessn aenes aessa s  aanis aertiaoca iaenon stiastetirastn aiestenes aelinteas  att aiessaiestortiio  t aoraaaial aicn aies ai    es an iranteeaessa s  aanis ae aens t s aere  nentaaenes aessa s  aanis atteatts  assiass aineten aatt ahtetisenicn angaine aenest att aewssenest aes o a .[STOP]an ttai eanerei aien aoales r santtias ata raiastenii es  an aes aassa s  aanis attaos aattaneonail iaasiten   ine tinioss aessa s  aanis atteaeadntaeiees an   atile n  aenes aessa s  aanis angaens aors or alaeaes o a .aess  ai ains aenes aessa s   aeinistens aenes aessa s  aettaessa anginas ina aaneasts il o    aniaetter aessa ahneees tngeriann oriaortiio    anes aoissaitaes  atastteltileastoraaiesti eset s  aossa s  aeneees tngeriann oriaortiio   aasuntes aenes aens aessa s  aois  titaes an or at o  an teanetel   ai aiestens aet s  aiaarne staite ol eahelee   ahestetirastn aiesteanet l   an ir at o  atenn aiestitaes   att aiestite ol eahelee  aiearne soinhaaien angor at o  an teanetel    aetaioion aiastiotessn aessa s  ata nasiaa [STOP]aorestt aessa s  ata nasiaa aiestetethni an aiestite ol eahelee  aettaintenon s attaiasteneisiar aioi teanes s atsnn aiesteatenns aeriaoss    aeneses ai tiesteneisiar aanuntes arlsal o   aeriaoss    ae antinal  siastetethni atterhnn   aot  aises l aessa s  ata nasiaa att aia  aiel aite oamelel o  ann onioraa aies att ateennes aiesteleneneaorttniastetethni  ahestiesra aeatanics aiestenpisliar aossint aessa s   aoil an tessa tlasti tossint aessa s   att anteett  aiastiotaisi an aiestiotessn aessa s  aanis aenii es   aimaola \n",
      "Loss of data number 2699 at epoch 0:\n",
      "3.1452443599700928\n",
      "Decoded output given input: We an iamere ataes aaseasts il o  aesse s  ata rasiaaaenti  ai aieste ti  iar aeretn ateleileo   angaoinh aeteltteaialn n  att aistiaici te estoameaetenit ainiaeciosi  iaeciiatirin    ann ataeraniaaan tecash y angeenis ai aiesra ardaeretn ateleileo  aene s in  aiel  aoraanoosh nesteretn aial eir ai aistteennes  aeenenh n   aertiaistetestites ardataeteltaseasts il o  aiel aetterhaeciianengl  sisiosssaiestialt n  aiirnie  att aistiaiitees  aeretn   ae aeemen sttaialn n  arl sh o stiel anioeser i aien anistangaieste ti  iar ataessil aes o a  aoin stete ssaet s an tialn   ai aisteenenh nestr aiesteete tinhl o  aites ainiantn or etenestttai aiesteretn ar aiestngeri ann antesin   i ardataestica  iattt   t aeete tinhl o  aisteeal   aois  tiestitees aeretn aetelttestileastteaialn n  aici tn tntete  s  aia  aiel aun aessil aes o a aoraaeretn atelein  ata rasiaaaetetisi s aerioraat e aiel ansi s ataeiteeleeaessil aes o a araattapH  ares aniaialt   ardangeriaorteris antiatein aoo  aiesteite tn aiesttaiaeteengl te  aeite s aentnn n  atni ste  s  ar aoessaniatl ai  )   \n",
      "Loss of data number 2749 at epoch 0:\n",
      "2.9775774478912354\n",
      "Decoded output given input: Wn attee  thl aessil aeitin  aois  teiralesttteaeenestes  atastn ical    anginaiet s  aiestanis aoraaterrtin  aiesteiiteinhaess    aettar e tenessear aelinteas aiel atastteltileastenes a  aineeattaiestteioeni ar aiesteentatt aerticeiiteinhaessir   aastni n  an aenel aessa s  aanis  anteitin leohaoales r saoraaeiri t  aiesteotessr aenel aessa s  aanis aertiaoca iaenon stiesteteristr aiestenel aelesteas  att aiessaiestortiin  t aoraaaiel aicn aies ai    es an iranteeaessa s  aanis ae aens t s aere  nettaaenes aessa s  aanis atteatts  astiess aisesen aatt aetetisenicn an aine aenest att aewssenest aes ora   an stai eanerei aien aoales r santtias ata raiestenii es  ar aes aessa s  aanis attaos aattanienail iaasiten   ine tisios  aessa s  aanis atteaeadntaeiees ann  atile cg aenel aessa s  aanis an aenseaors or eleeaes ora  aess  ai aenseaenel aessa s   aeinistenseaenel aessa s  aettaessa anginas ina aaseasts il o    aniaetter aessa aeneees tn eriann oriaortiio    anes aois aitees  atastteltileastoraaiesti eset s  aosse s  aeneees tn eriann oriaortiio   aasunte  aenel aenseaessa s  aeis  titees an ir at o  an teanetel   ai aiestenseaet s  aieanne staite ol eaeelee   ahesteteristr aiesteenetel   an ir at o  atenn aiestitaes   att aiestite ol eaeelee  aieanne soinhaaien an or at o  an teanetel    aetaioicn aiesteotessr aessa s  ata rasias  aoreatt aessa s  ata rasias aiestetethni ar aiestite ol eaeelee  aettaistenon s attaiesteneisiar aioi teanes s atsnniaiesteatenn  aeriaoss    aeneses ai tiesteneisiar aasuntes arlsal o   aeriaoss    ae antinal  siestetethni atterhnn   aet  aeses l aessa s  ata rasias att aea  aiel aite oenelel o  arn oniiraa aies atteateennes aiesteleneneaeretniastetethni  ahestiesra aeetanics aiestentiseian aessint aessa s   aoil an tessa tlesti tossint aessa s   att anteelt  aiesteota si ar aiesteotessr aessa s  aanis aenii es   aimaola \n",
      "Loss of data number 2799 at epoch 0:\n",
      "3.130751371383667\n",
      "Decoded output given input: We an iadere ataes aaseasts il o  aesse n  ata reniaaaenti  ai aieste ti  iar aereln ateleileo   an aoinh aeteltteaialn n  att aistiaica te estoameainenil ainiaeniosi  iaeniianerin   [STOP]ann ata resiaaan tenash y angeenis ai aiesra ardaereln ateleileo  aene s ioa aiel  aoraanoosh nestereln aial eiraai aintteennes  aeenenh n   aertiaintetestites ar ataeteltaseasts il o  aiel aetterhaeniienengl  siniosssaiestialt n  ai.rnie  att aistiaiitee   aereln  [STOP]ae aeenertsttaialn n  arl sh oestiel anioeses i aien anistangaieste ti  iar ataessil aes o a  aoi  stete ssael s an tialt   ai ainteenenh nestr aiesteete.tinhl o  aices ainiantn ir elinestttai aiestereln ar aiestngeri ann antesin  si ardataestica  iatts  .t aeete.sinhl o  ainteeal   aois  tiesticees aereln aeteltteltileastteaialn n  aici tn tntete  s  aia  aiel arn aessil aes o a aoraaereln atelein  ata raniaaaeteaini ssaerioraal e aiel ansi s ataeiteeleeaessil aes o a araattapH  ares aniaialt   ar angeriaorteris antialei  aeo  aiesteite sn aiesttaiaeteengl te  aeite s aentnn n  atni stemes  ar aNessaniatl ai 0)) [STOP]\n",
      "Loss of data number 2849 at epoch 0:\n",
      "2.9788317680358887\n",
      "Decoded output given input: Wn attee  thl aessil aeiiine aois  teirasesstteaeanestes  atastn ical sy anginiiev s  aiestanis aoraateertin  aiesteiiteinhaess    aettar e aenesseardaelinteas aiel atasttestileastenes a  aineeattaiestteioesi ar aiesteantatt aereiceiiteinhaessir   aastri n  angaenes aessa s  aanis  anteiiinel ohaoales r saoraaeiri ng aiesteotessn aenes aessa s  aanis aertiaocisiaenon stiastetiristr aiestenes aelinteas  att aiessaiestortiio  t aoraaaiel aicn aies ai is es an iranteeaessa s  aanis ae aensst s aere  nentaaenes aessa s  aanis atteatts  assiess aisesen aatt ahtetisenicn angaime aenest att aewssenest aes o a .[STOP]an stai eenerei aien aoales r santteas ata raiastenii es  ar aes aassa n  aanis attaos aattaniorail iaasiteo   ine tisiosssaesse s  aanis atteaeadntaeiees an   atile cg aenes aessa s  aanis angaens aors or aleeaes o a .aess  ai aens aenes aessa s   aeinistens aenes aessa s  aettaessa anginis ina aaseasts il o    aniaettereaesse ahneees tngerionn oriaortiio    anes aoissaitees  atasttestileastoraaiesti eael s  aosse s  aeneees tngerionn oriaortiio   aasuntes aenes aens aesse s  aeis  ticees an or at o  an teanelel   ai aiestens ael s  aiearne staite ol eaeesee   ahestetiristr aiesteanelel   an oraat o  atlnniaiestitees   att aiestite ol eaeesee  aiaarne soinhaaien angor at o  an teanelel    aetaioion aiesteotessn aesse s  ata resiaa  aoreatt aessa s  ata resiaa aiesteteteai ar aiestite ol eaeesee  aettaistenon s attaiesteneisiar aioi aeanet s atsnniaiesteatenns aeriaoss    aeneses ai aiesteneisiar aasuntes arlsal o   aeriaoss    ae antinal  siesteteteai atterhnn s aoo  aeses l aessa s  ata resiaa atteaia  aiel aite oemelel o  arn osioraa aies att ateennes aiesteleneneaoretniasteteteai  ahestiesra aeetanics aiestenpiseiar aissont aesse s   aoil an tessa llesti aossint aesse s   att anteelt  aiesteotaisi ar aiesteotessn aesse s  aanis aenii es s aimaola \n",
      "Loss of data number 2899 at epoch 0:\n",
      "3.141223192214966\n",
      "Decoded output given input: We an iadere staes aaseasts il o  aesse s  ata raniaaaenti  ai aieste ti  iar aireln ateleileo   an aoinh aeteltteaealt n  att aistiaica te estoameaenenil ainiaeniosi   aeniiaterin    aun ata reniaaan tenash a an eenis ai aiesra ardaereln ateleileo  aene s ina aiel  aoraanfiseinestereln aial eir ai aistteennes  aeenenh n   aertiaistetestites ar ataeteltaseasts il o  aiel aettereaeniienengl  aisiosssaiestialt n  ai.rnier att aistiaiile s  aereln   ae aeemen sttaialt n  arl sh oestiel anioeser i aien an stantaieste ti  iar ataessil aes ora  aeirtstete ssaet s an tialt   ai aisteenenh nestr aiesteete.tinhl o  ailes ainiantn  r elene tttai aiestereln ar aiestn eri aun antesin  si ar ataestica  iattl  .t aeete.tinhl o  aisteeale  aeis  aiestilees aereln aeteltteltileastteaealt n  aica tn tntete     aeau aiel arn aessil aes ora aoraaereln atelein  atl reniaaaeteaisi ssaerioraal e aiel ansi s ataeiteeleeaessil aes ora araattapH  ares aniaialt   ar an eriaorteris antialei  aeo  aiesteite sn aiesttaiaeteengl te  aeite s aentnn n  atnirs eme   ar aNessaniatl ai 0))  \n"
     ]
    },
    {
     "ename": "KeyboardInterrupt",
     "evalue": "",
     "output_type": "error",
     "traceback": [
      "\u001b[0;31m---------------------------------------------------------------------------\u001b[0m",
      "\u001b[0;31mKeyboardInterrupt\u001b[0m                         Traceback (most recent call last)",
      "\u001b[0;32m<ipython-input-9-4933d51b5d06>\u001b[0m in \u001b[0;36m<module>\u001b[0;34m()\u001b[0m\n\u001b[1;32m     17\u001b[0m                 \u001b[1;32mif\u001b[0m \u001b[0mstate\u001b[0m \u001b[1;32mis\u001b[0m \u001b[1;32mnot\u001b[0m \u001b[1;32mNone\u001b[0m\u001b[1;33m:\u001b[0m\u001b[1;33m\u001b[0m\u001b[0m\n\u001b[1;32m     18\u001b[0m                     \u001b[0mfeed_dict\u001b[0m\u001b[1;33m[\u001b[0m\u001b[0minit_state\u001b[0m\u001b[1;33m]\u001b[0m \u001b[1;33m=\u001b[0m \u001b[0mstate\u001b[0m\u001b[1;33m\u001b[0m\u001b[0m\n\u001b[0;32m---> 19\u001b[0;31m                 \u001b[0m_\u001b[0m\u001b[1;33m,\u001b[0m \u001b[0mloss_val\u001b[0m\u001b[1;33m,\u001b[0m \u001b[0mstate\u001b[0m\u001b[1;33m=\u001b[0m\u001b[0msess\u001b[0m\u001b[1;33m.\u001b[0m\u001b[0mrun\u001b[0m\u001b[1;33m(\u001b[0m\u001b[1;33m[\u001b[0m\u001b[0mtrain_op\u001b[0m\u001b[1;33m,\u001b[0m \u001b[0mloss\u001b[0m\u001b[1;33m,\u001b[0m \u001b[0mbatch_seq_state\u001b[0m\u001b[1;33m]\u001b[0m\u001b[1;33m,\u001b[0m \u001b[0mfeed_dict\u001b[0m\u001b[1;33m=\u001b[0m\u001b[0mfeed_dict\u001b[0m\u001b[1;33m)\u001b[0m\u001b[1;33m\u001b[0m\u001b[0m\n\u001b[0m\u001b[1;32m     20\u001b[0m             \u001b[1;32mif\u001b[0m \u001b[0mdata_index\u001b[0m\u001b[1;33m==\u001b[0m\u001b[1;36m0\u001b[0m \u001b[1;32mor\u001b[0m \u001b[1;33m(\u001b[0m\u001b[1;33m(\u001b[0m\u001b[0mdata_index\u001b[0m\u001b[1;33m+\u001b[0m\u001b[1;36m1\u001b[0m\u001b[1;33m)\u001b[0m \u001b[1;33m%\u001b[0m \u001b[0mprint_every\u001b[0m\u001b[1;33m==\u001b[0m\u001b[1;36m0\u001b[0m\u001b[1;33m)\u001b[0m\u001b[1;33m:\u001b[0m\u001b[1;33m\u001b[0m\u001b[0m\n\u001b[1;32m     21\u001b[0m                 \u001b[0mprint\u001b[0m\u001b[1;33m(\u001b[0m\u001b[1;34m\"Loss of data number {} at epoch {}:\\n{}\"\u001b[0m\u001b[1;33m.\u001b[0m\u001b[0mformat\u001b[0m\u001b[1;33m(\u001b[0m\u001b[0mdata_index\u001b[0m\u001b[1;33m,\u001b[0m \u001b[0mepoch\u001b[0m\u001b[1;33m,\u001b[0m \u001b[0mloss_val\u001b[0m\u001b[1;33m)\u001b[0m\u001b[1;33m)\u001b[0m\u001b[1;33m\u001b[0m\u001b[0m\n",
      "\u001b[0;32me:\\python35\\lib\\site-packages\\tensorflow\\python\\client\\session.py\u001b[0m in \u001b[0;36mrun\u001b[0;34m(self, fetches, feed_dict, options, run_metadata)\u001b[0m\n\u001b[1;32m    893\u001b[0m     \u001b[1;32mtry\u001b[0m\u001b[1;33m:\u001b[0m\u001b[1;33m\u001b[0m\u001b[0m\n\u001b[1;32m    894\u001b[0m       result = self._run(None, fetches, feed_dict, options_ptr,\n\u001b[0;32m--> 895\u001b[0;31m                          run_metadata_ptr)\n\u001b[0m\u001b[1;32m    896\u001b[0m       \u001b[1;32mif\u001b[0m \u001b[0mrun_metadata\u001b[0m\u001b[1;33m:\u001b[0m\u001b[1;33m\u001b[0m\u001b[0m\n\u001b[1;32m    897\u001b[0m         \u001b[0mproto_data\u001b[0m \u001b[1;33m=\u001b[0m \u001b[0mtf_session\u001b[0m\u001b[1;33m.\u001b[0m\u001b[0mTF_GetBuffer\u001b[0m\u001b[1;33m(\u001b[0m\u001b[0mrun_metadata_ptr\u001b[0m\u001b[1;33m)\u001b[0m\u001b[1;33m\u001b[0m\u001b[0m\n",
      "\u001b[0;32me:\\python35\\lib\\site-packages\\tensorflow\\python\\client\\session.py\u001b[0m in \u001b[0;36m_run\u001b[0;34m(self, handle, fetches, feed_dict, options, run_metadata)\u001b[0m\n\u001b[1;32m   1122\u001b[0m     \u001b[1;32mif\u001b[0m \u001b[0mfinal_fetches\u001b[0m \u001b[1;32mor\u001b[0m \u001b[0mfinal_targets\u001b[0m \u001b[1;32mor\u001b[0m \u001b[1;33m(\u001b[0m\u001b[0mhandle\u001b[0m \u001b[1;32mand\u001b[0m \u001b[0mfeed_dict_tensor\u001b[0m\u001b[1;33m)\u001b[0m\u001b[1;33m:\u001b[0m\u001b[1;33m\u001b[0m\u001b[0m\n\u001b[1;32m   1123\u001b[0m       results = self._do_run(handle, final_targets, final_fetches,\n\u001b[0;32m-> 1124\u001b[0;31m                              feed_dict_tensor, options, run_metadata)\n\u001b[0m\u001b[1;32m   1125\u001b[0m     \u001b[1;32melse\u001b[0m\u001b[1;33m:\u001b[0m\u001b[1;33m\u001b[0m\u001b[0m\n\u001b[1;32m   1126\u001b[0m       \u001b[0mresults\u001b[0m \u001b[1;33m=\u001b[0m \u001b[1;33m[\u001b[0m\u001b[1;33m]\u001b[0m\u001b[1;33m\u001b[0m\u001b[0m\n",
      "\u001b[0;32me:\\python35\\lib\\site-packages\\tensorflow\\python\\client\\session.py\u001b[0m in \u001b[0;36m_do_run\u001b[0;34m(self, handle, target_list, fetch_list, feed_dict, options, run_metadata)\u001b[0m\n\u001b[1;32m   1319\u001b[0m     \u001b[1;32mif\u001b[0m \u001b[0mhandle\u001b[0m \u001b[1;32mis\u001b[0m \u001b[1;32mNone\u001b[0m\u001b[1;33m:\u001b[0m\u001b[1;33m\u001b[0m\u001b[0m\n\u001b[1;32m   1320\u001b[0m       return self._do_call(_run_fn, self._session, feeds, fetches, targets,\n\u001b[0;32m-> 1321\u001b[0;31m                            options, run_metadata)\n\u001b[0m\u001b[1;32m   1322\u001b[0m     \u001b[1;32melse\u001b[0m\u001b[1;33m:\u001b[0m\u001b[1;33m\u001b[0m\u001b[0m\n\u001b[1;32m   1323\u001b[0m       \u001b[1;32mreturn\u001b[0m \u001b[0mself\u001b[0m\u001b[1;33m.\u001b[0m\u001b[0m_do_call\u001b[0m\u001b[1;33m(\u001b[0m\u001b[0m_prun_fn\u001b[0m\u001b[1;33m,\u001b[0m \u001b[0mself\u001b[0m\u001b[1;33m.\u001b[0m\u001b[0m_session\u001b[0m\u001b[1;33m,\u001b[0m \u001b[0mhandle\u001b[0m\u001b[1;33m,\u001b[0m \u001b[0mfeeds\u001b[0m\u001b[1;33m,\u001b[0m \u001b[0mfetches\u001b[0m\u001b[1;33m)\u001b[0m\u001b[1;33m\u001b[0m\u001b[0m\n",
      "\u001b[0;32me:\\python35\\lib\\site-packages\\tensorflow\\python\\client\\session.py\u001b[0m in \u001b[0;36m_do_call\u001b[0;34m(self, fn, *args)\u001b[0m\n\u001b[1;32m   1325\u001b[0m   \u001b[1;32mdef\u001b[0m \u001b[0m_do_call\u001b[0m\u001b[1;33m(\u001b[0m\u001b[0mself\u001b[0m\u001b[1;33m,\u001b[0m \u001b[0mfn\u001b[0m\u001b[1;33m,\u001b[0m \u001b[1;33m*\u001b[0m\u001b[0margs\u001b[0m\u001b[1;33m)\u001b[0m\u001b[1;33m:\u001b[0m\u001b[1;33m\u001b[0m\u001b[0m\n\u001b[1;32m   1326\u001b[0m     \u001b[1;32mtry\u001b[0m\u001b[1;33m:\u001b[0m\u001b[1;33m\u001b[0m\u001b[0m\n\u001b[0;32m-> 1327\u001b[0;31m       \u001b[1;32mreturn\u001b[0m \u001b[0mfn\u001b[0m\u001b[1;33m(\u001b[0m\u001b[1;33m*\u001b[0m\u001b[0margs\u001b[0m\u001b[1;33m)\u001b[0m\u001b[1;33m\u001b[0m\u001b[0m\n\u001b[0m\u001b[1;32m   1328\u001b[0m     \u001b[1;32mexcept\u001b[0m \u001b[0merrors\u001b[0m\u001b[1;33m.\u001b[0m\u001b[0mOpError\u001b[0m \u001b[1;32mas\u001b[0m \u001b[0me\u001b[0m\u001b[1;33m:\u001b[0m\u001b[1;33m\u001b[0m\u001b[0m\n\u001b[1;32m   1329\u001b[0m       \u001b[0mmessage\u001b[0m \u001b[1;33m=\u001b[0m \u001b[0mcompat\u001b[0m\u001b[1;33m.\u001b[0m\u001b[0mas_text\u001b[0m\u001b[1;33m(\u001b[0m\u001b[0me\u001b[0m\u001b[1;33m.\u001b[0m\u001b[0mmessage\u001b[0m\u001b[1;33m)\u001b[0m\u001b[1;33m\u001b[0m\u001b[0m\n",
      "\u001b[0;32me:\\python35\\lib\\site-packages\\tensorflow\\python\\client\\session.py\u001b[0m in \u001b[0;36m_run_fn\u001b[0;34m(session, feed_dict, fetch_list, target_list, options, run_metadata)\u001b[0m\n\u001b[1;32m   1295\u001b[0m                 run_metadata):\n\u001b[1;32m   1296\u001b[0m       \u001b[1;31m# Ensure any changes to the graph are reflected in the runtime.\u001b[0m\u001b[1;33m\u001b[0m\u001b[1;33m\u001b[0m\u001b[0m\n\u001b[0;32m-> 1297\u001b[0;31m       \u001b[0mself\u001b[0m\u001b[1;33m.\u001b[0m\u001b[0m_extend_graph\u001b[0m\u001b[1;33m(\u001b[0m\u001b[1;33m)\u001b[0m\u001b[1;33m\u001b[0m\u001b[0m\n\u001b[0m\u001b[1;32m   1298\u001b[0m       \u001b[1;32mwith\u001b[0m \u001b[0merrors\u001b[0m\u001b[1;33m.\u001b[0m\u001b[0mraise_exception_on_not_ok_status\u001b[0m\u001b[1;33m(\u001b[0m\u001b[1;33m)\u001b[0m \u001b[1;32mas\u001b[0m \u001b[0mstatus\u001b[0m\u001b[1;33m:\u001b[0m\u001b[1;33m\u001b[0m\u001b[0m\n\u001b[1;32m   1299\u001b[0m         \u001b[1;32mif\u001b[0m \u001b[0mself\u001b[0m\u001b[1;33m.\u001b[0m\u001b[0m_created_with_new_api\u001b[0m\u001b[1;33m:\u001b[0m\u001b[1;33m\u001b[0m\u001b[0m\n",
      "\u001b[0;32me:\\python35\\lib\\site-packages\\tensorflow\\python\\client\\session.py\u001b[0m in \u001b[0;36m_extend_graph\u001b[0;34m(self)\u001b[0m\n\u001b[1;32m   1356\u001b[0m         \u001b[1;32mwith\u001b[0m \u001b[0merrors\u001b[0m\u001b[1;33m.\u001b[0m\u001b[0mraise_exception_on_not_ok_status\u001b[0m\u001b[1;33m(\u001b[0m\u001b[1;33m)\u001b[0m \u001b[1;32mas\u001b[0m \u001b[0mstatus\u001b[0m\u001b[1;33m:\u001b[0m\u001b[1;33m\u001b[0m\u001b[0m\n\u001b[1;32m   1357\u001b[0m           tf_session.TF_ExtendGraph(\n\u001b[0;32m-> 1358\u001b[0;31m               self._session, graph_def.SerializeToString(), status)\n\u001b[0m\u001b[1;32m   1359\u001b[0m         \u001b[0mself\u001b[0m\u001b[1;33m.\u001b[0m\u001b[0m_opened\u001b[0m \u001b[1;33m=\u001b[0m \u001b[1;32mTrue\u001b[0m\u001b[1;33m\u001b[0m\u001b[0m\n\u001b[1;32m   1360\u001b[0m \u001b[1;33m\u001b[0m\u001b[0m\n",
      "\u001b[0;31mKeyboardInterrupt\u001b[0m: "
     ]
    }
   ],
   "source": [
    "n_epoch=2\n",
    "learning_rate=1e-3\n",
    "train_op=tf.train.AdamOptimizer(learning_rate=learning_rate).minimize(loss)\n",
    "print_every = 50\n",
    "partition_size = 100\n",
    "with tf.Session() as sess:\n",
    "    sess.run(tf.global_variables_initializer())\n",
    "    for epoch in range(n_epoch):\n",
    "        for data_index, data in enumerate(raw_text_list):\n",
    "            data = test_codec.encode(data)\n",
    "            x, y = data[:-1,:], data[1:,:]\n",
    "            x_partitions, y_partitions = partitions(x, partition_size), partitions(y, partition_size)\n",
    "            state = None\n",
    "            for _x, _y in zip(x_partitions, y_partitions):\n",
    "                # print(\"In:\\n{}\\nOut:\\n{}\".format(test_codec.decode(_x), test_codec.decode(_y)))\n",
    "                feed_dict={seq_input: _x, target_seq_output: _y}\n",
    "                if state is not None:\n",
    "                    feed_dict[init_state] = state\n",
    "                _, loss_val, state=sess.run([train_op, loss, batch_seq_state], feed_dict=feed_dict)\n",
    "            if data_index==0 or ((data_index+1) % print_every==0):\n",
    "                print(\"Loss of data number {} at epoch {}:\\n{}\".format(data_index, epoch, loss_val))\n",
    "                print(\"Decoded output given input: {}\".format(\n",
    "                        test_codec.decode(sess.run(seq_output, feed_dict={seq_input: x, target_seq_output: y}))))\n",
    "\n",
    "def online_inference():\n",
    "    raise NotImplementedError(\"Not implemented yet.\")"
   ]
  },
  {
   "cell_type": "markdown",
   "metadata": {},
   "source": [
    "#### Start training"
   ]
  },
  {
   "cell_type": "code",
   "execution_count": null,
   "metadata": {
    "collapsed": true
   },
   "outputs": [],
   "source": []
  },
  {
   "cell_type": "markdown",
   "metadata": {},
   "source": [
    "### Test online inference"
   ]
  },
  {
   "cell_type": "code",
   "execution_count": null,
   "metadata": {
    "collapsed": false,
    "scrolled": false
   },
   "outputs": [],
   "source": []
  }
 ],
 "metadata": {
  "kernelspec": {
   "display_name": "Python 3",
   "language": "python",
   "name": "python3"
  },
  "language_info": {
   "codemirror_mode": {
    "name": "ipython",
    "version": 3
   },
   "file_extension": ".py",
   "mimetype": "text/x-python",
   "name": "python",
   "nbconvert_exporter": "python",
   "pygments_lexer": "ipython3",
   "version": "3.5.2"
  }
 },
 "nbformat": 4,
 "nbformat_minor": 1
}
