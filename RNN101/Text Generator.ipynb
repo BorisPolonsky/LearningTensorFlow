{
 "cells": [
  {
   "cell_type": "markdown",
   "metadata": {},
   "source": [
    "# Text generator based on RNN"
   ]
  },
  {
   "cell_type": "markdown",
   "metadata": {},
   "source": [
    "## Brief\n",
    "Generate fake abstract with RNN model under tensorflow r1.3."
   ]
  },
  {
   "cell_type": "markdown",
   "metadata": {},
   "source": [
    "### Import libraries"
   ]
  },
  {
   "cell_type": "code",
   "execution_count": 1,
   "metadata": {
    "collapsed": false
   },
   "outputs": [],
   "source": [
    "import tensorflow as tf\n",
    "import numpy as np\n",
    "import random\n",
    "import os"
   ]
  },
  {
   "cell_type": "markdown",
   "metadata": {},
   "source": [
    "### Configurations "
   ]
  },
  {
   "cell_type": "code",
   "execution_count": 2,
   "metadata": {
    "collapsed": true
   },
   "outputs": [],
   "source": [
    "vocab = (\" $%'()+,-./0123456789:;=?ABCDEFGHIJKLMNOPQRSTUVWXYZ\"\n",
    "            \"\\\\^_abcdefghijklmnopqrstuvwxyz{|}\\n\")\n",
    "graph_path=r\"./graphs\"\n",
    "test_text_path=os.path.normpath(r\"../DataSet/arvix_abstracts.txt\")\n",
    "batch_size=5\n",
    "model_param_path=os.path.normpath(r\"./model_checkpoints\")"
   ]
  },
  {
   "cell_type": "markdown",
   "metadata": {},
   "source": [
    "### Data encoding\n",
    "#### Basic Assumption\n",
    "\n",
    "* A full string sequence consists $START$ & $STOP$ signal with characters in the middle. \n",
    "\n",
    "#### Encoding policy\n",
    "* A set $\\mathcal{S}$ that consists of many characters is utilized to encode the characters.\n",
    "* The $1^{st}$ entry of the vector corresponds to $UNKNOWN$ characters(l.e. characters that are beyond $\\mathcal{S}$). \n",
    "* The last entry of the vector corresponds to $STOP$ signal of the sequence. \n",
    "* The entries in the middle corresponds to the indices of the characters within $\\mathcal{S}$. \n",
    "* The $START$ signal is represented as a zero vector. \n",
    "\n",
    "#### Implementation & Test\n",
    "##### Declaration"
   ]
  },
  {
   "cell_type": "code",
   "execution_count": 3,
   "metadata": {
    "collapsed": false
   },
   "outputs": [],
   "source": [
    "class TextCodec:\n",
    "    def __init__(self, vocab):\n",
    "        self.__vocab = vocab\n",
    "        \n",
    "    def encode(self, string, sess = None, start=True, stop=True):\n",
    "        \"\"\"\n",
    "        Encode string.\n",
    "        Each character is represented as a N-dimension one hot vector. \n",
    "        N = len(self.__vocab)+ 2\n",
    "        \n",
    "        Note:\n",
    "        The first entry of the vector corresponds to unknown character. \n",
    "        The last entry of the vector corresponds to STOP signal of the sequence. \n",
    "        The entries in the middle corresponds to the index of the character. \n",
    "        The START signal is represented as a zero vector. \n",
    "        \"\"\"\n",
    "        tensor=[vocab.find(ch)+1 for ch in string]\n",
    "        if stop:\n",
    "             tensor.append(len(vocab)+1)  # String + STOP\n",
    "        tensor=tf.one_hot(tensor,depth=len(vocab)+2,on_value=1.0,off_value=0.0,axis=-1, dtype=tf.float32)\n",
    "        if start:\n",
    "            tensor=tf.concat([tf.zeros([1, len(vocab)+2],dtype=tf.float32),tensor],axis=0)  # String + START\n",
    "        if sess is None:\n",
    "            with tf.Session() as sess:\n",
    "                nparray=tensor.eval()\n",
    "        elif type(sess) == tf.Session:\n",
    "            nparray = tensor.eval(session=sess)\n",
    "        else:\n",
    "            raise TypeError('\"sess\" must be {}, got {}'.format(tf.Session, type(sess)))    \n",
    "        return nparray\n",
    "\n",
    "    def decode(self, nparray, default=\"[UNKNOWN]\",start=\"[START]\",stop=\"[STOP]\",strip=False):\n",
    "        text_list=[]\n",
    "        indices=np.argmax(nparray,axis=1)\n",
    "        for v, ch_i in zip(nparray,indices):\n",
    "            if np.all(v==0):\n",
    "                text_list.append(start if not strip else \"\")\n",
    "            elif ch_i==0:\n",
    "                text_list.append(default)\n",
    "            elif ch_i==len(self.__vocab)+1:\n",
    "                text_list.append(stop if not strip else \"\")\n",
    "            else:\n",
    "                text_list.append(vocab[ch_i-1])\n",
    "        return \"\".join(text_list)"
   ]
  },
  {
   "cell_type": "markdown",
   "metadata": {},
   "source": [
    "##### Test\n",
    "See how encoding and decoding work. "
   ]
  },
  {
   "cell_type": "code",
   "execution_count": 4,
   "metadata": {
    "collapsed": false
   },
   "outputs": [
    {
     "name": "stdout",
     "output_type": "stream",
     "text": [
      "Encoded text looks like:\n",
      "[[ 0.  0.  0. ...,  0.  0.  0.]\n",
      " [ 0.  0.  0. ...,  0.  0.  0.]\n",
      " [ 0.  0.  0. ...,  0.  0.  0.]\n",
      " ..., \n",
      " [ 0.  0.  0. ...,  0.  0.  0.]\n",
      " [ 1.  0.  0. ...,  0.  0.  0.]\n",
      " [ 0.  0.  0. ...,  0.  0.  1.]]\n",
      "Decoded text looks like:\n",
      "[START]Hello world[UNKNOWN][STOP]\n"
     ]
    }
   ],
   "source": [
    "test_codec=TextCodec(vocab)\n",
    "test_text_encoded=test_codec.encode(\"Hello world!\")\n",
    "print(\"Encoded text looks like:\\n{}\".format(test_text_encoded))\n",
    "test_text_decoded=test_codec.decode(nparray=test_text_encoded,strip=False)\n",
    "print(\"Decoded text looks like:\\n{}\".format(test_text_decoded))"
   ]
  },
  {
   "cell_type": "markdown",
   "metadata": {},
   "source": [
    "### Batch Generator\n",
    "#### Implementation"
   ]
  },
  {
   "cell_type": "code",
   "execution_count": 5,
   "metadata": {
    "collapsed": false
   },
   "outputs": [],
   "source": [
    "def batch_generator(file_path, batch_size, sequence_length, overlap=0.5, text_codec=None):\n",
    "    step_size = int(sequence_length * (1-overlap))\n",
    "    with open(os.path.normpath(file_path),\"r\") as f:\n",
    "        text = \"\".join(f.readlines())\n",
    "    batch = []\n",
    "    for i in range(0,len(text)-sequence_length+1,step_size):\n",
    "        if text_codec is None:\n",
    "            batch.append(text[i:i+sequence_length])\n",
    "        else:\n",
    "            batch.append(text_codec.encode(text[i:i+sequence_length]))\n",
    "        if len(batch) == batch_size:\n",
    "            yield batch if text_codec is None else np.array(batch)\n",
    "            batch = []"
   ]
  },
  {
   "cell_type": "markdown",
   "metadata": {},
   "source": [
    "#### Test\n",
    "See what each batch looks like. "
   ]
  },
  {
   "cell_type": "code",
   "execution_count": 6,
   "metadata": {
    "collapsed": false
   },
   "outputs": [
    {
     "name": "stdout",
     "output_type": "stream",
     "text": [
      "The first 5 batches are:\n",
      "['In science and engineering, in', 'engineering, intelligent proce']\n",
      "['telligent processing of comple', 'ssing of complex signals such ']\n",
      "['x signals such as images, soun', 'as images, sound or language i']\n",
      "['d or language is often perform', 's often performed by a paramet']\n",
      "['ed by a parameterized hierarch', 'erized hierarchy of nonlinear ']\n"
     ]
    }
   ],
   "source": [
    "batches=batch_generator(test_text_path,2,30,0.5)\n",
    "encoded_batches=batch_generator(test_text_path, batch_size, 30, 0.5, test_codec)  # For later use\n",
    "print(\"The first 5 batches are:\")\n",
    "for batch, _ in zip(batches,range(5)):\n",
    "    print(batch)\n",
    "del batches"
   ]
  },
  {
   "cell_type": "markdown",
   "metadata": {},
   "source": [
    "### Define model class"
   ]
  },
  {
   "cell_type": "code",
   "execution_count": 7,
   "metadata": {
    "collapsed": false
   },
   "outputs": [],
   "source": [
    "class MyRNN():\n",
    "    def __init__(self, input_vector_dim, model_checkpoint_path, state_size=100, scope=\"RNN\", output_vector_dim=None):\n",
    "        if output_vector_dim is None:\n",
    "            output_vector_dim=input_vector_dim\n",
    "        self.__input_vector_dim=input_vector_dim\n",
    "        self.__output_vector_dim=output_vector_dim\n",
    "        self.__state_size=state_size\n",
    "        self.__mdl_ckpt_path=model_checkpoint_path\n",
    "        with tf.variable_scope(scope) as model_scope:\n",
    "            with tf.variable_scope(\"structure\") as structure_scope:\n",
    "                # One batch at a time\n",
    "                self.__inputs = tf.placeholder(dtype=tf.float32,shape=[None,None,input_vector_dim])\n",
    "                self.__expected_outputs = tf.placeholder(dtype=tf.float32,shape=[None,None,output_vector_dim])\n",
    "                self.__cell = tf.nn.rnn_cell.GRUCell(num_units=state_size)\n",
    "                self.__init_state = tf.placeholder_with_default(tf.zeros([1,state_size],dtype=tf.float32),\n",
    "                                                              [None,state_size])\n",
    "                self.__wI2S = tf.get_variable(name=\"Weight_i2s\",shape=[input_vector_dim,state_size],\n",
    "                                            initializer=tf.truncated_normal_initializer())\n",
    "                self.__bI2S = tf.get_variable(name=\"Bias_i2s\",shape=[1,state_size],\n",
    "                            initializer=tf.truncated_normal_initializer())\n",
    "                self.__rnn_inputs=tf.add(tf.einsum(\"aij,jk->aik\",self.__inputs,self.__wI2S), self.__bI2S)  \n",
    "                # Didn't know why the broadcast mechanism work on tf.matmul(self.__inputs,self.__wI2S)\n",
    "                \n",
    "                # S20:State to output\n",
    "                self.__wS2O = tf.get_variable(name=\"Weight_s2o\",shape=[state_size,output_vector_dim],\n",
    "                                            initializer=tf.truncated_normal_initializer())\n",
    "                self.__bS2O = tf.get_variable(name=\"Bias_s2o\",shape=[1,output_vector_dim],\n",
    "                                            initializer=tf.truncated_normal_initializer())\n",
    "                self.__state_output, self.final_state = tf.nn.dynamic_rnn(cell=self.__cell,inputs=self.__rnn_inputs,\n",
    "                                                     dtype=tf.float32,initial_state=self.init_state)\n",
    "                \n",
    "                self.__net_outputs=tf.add(tf.einsum(\"aij,jk->aik\",self.__state_output,self.__wS2O), self.__bS2O)\n",
    "                # Same reason for usint tf.einsum here.\n",
    "            with tf.name_scope(\"training\"):\n",
    "                # Need to utilize new loss function\n",
    "                loss=tf.losses.softmax_cross_entropy(logits=self.__net_outputs,onehot_labels=self.__expected_outputs)\n",
    "                loss=tf.reduce_mean(loss,name=\"loss\")\n",
    "                self.__global_step=tf.Variable(0,dtype=tf.int32,trainable=False,name='globalStep')\n",
    "                self.optimizer=tf.train.AdamOptimizer(learning_rate=0.001,\n",
    "                                                      name=\"optimizer\").minimize(loss,global_step=self.__global_step)\n",
    "            with tf.name_scope(\"summary\") as sumScope:\n",
    "                lossSum=tf.summary.scalar(tensor=loss,name=\"loss\")\n",
    "                self.summary_op=tf.summary.merge(tf.get_collection(tf.GraphKeys.SUMMARIES,sumScope))\n",
    "\n",
    "    def online_inference(self,timeSteps=100,state=None,seed=None,modelParamPath=None):\n",
    "        feedDict={}\n",
    "        saver=tf.train.Saver()\n",
    "        if model_param_path is None:\n",
    "            model_param_path=self.__mdl_ckpt_path\n",
    "        if state is not None:\n",
    "            feedDict[self.init_state]=state\n",
    "        if seed is None:\n",
    "            #Create a random seed\n",
    "            seed=tf.one_hot([random.randint(0,self.__input_vector_dim)],\n",
    "                            depth=self.__input_vector_dim, on_value=1.0, off_value=0.0, axis=-1, dtype=tf.float32)\n",
    "            with tf.Session() as sess:\n",
    "                seed=sess.run(seed)\n",
    "        feed_dict[self.__inputs]=seed\n",
    "        seq = []\n",
    "        with tf.Session() as sess:\n",
    "            ckpt = tf.train.get_checkpoint_state(self.__mdl_ckpt_path)\n",
    "            print(\"Loading model\")\n",
    "            if ckpt and ckpt.model_checkpoint_path:  \n",
    "                saver.restore(sess,ckpt.model_checkpoint_path)\n",
    "                print(\"Successfully loaded\")\n",
    "            for length in range(timeSteps):\n",
    "                input_,state=sess.run(fetches=[self.netOutputs,self.finalState],\n",
    "                                      feed_dict=feedDict)\n",
    "                #  Since the input vectors are discrete, so we need to convert it into a\n",
    "                #  new one hot vector\n",
    "                input_=tf.one_hot(indices=[int(np.argmax(input_[0]))],depth=self.__outputVetorDim,\n",
    "                                  on_value=1.0,off_value=0.0,axis=-1,dtype=tf.float32).eval()\n",
    "                seq.append(input_)\n",
    "                feedDict[self.inputs],feedDict[self.initState]=input_,state\n",
    "            seq=tf.concat(values=seq,axis=0).eval()\n",
    "        return seq, state\n",
    "    \n",
    "    @property\n",
    "    def input_vector_dim(self):\n",
    "        return self.__input_vector_dim\n",
    "    \n",
    "    @property\n",
    "    def output_vector_dim(self):\n",
    "        return self.__output_vector_dim\n",
    "    \n",
    "    @property\n",
    "    def global_step(self):\n",
    "        return self.__global_step\n",
    "    \n",
    "    @property\n",
    "    def inputs(self):\n",
    "        return self.__inputs\n",
    "    \n",
    "    @property\n",
    "    def expected_outputs(self):\n",
    "        return self.__expected_outputs\n",
    "    \n",
    "    @property\n",
    "    def init_state(self):\n",
    "        return self.__init_state\n",
    "    \n",
    "    @property\n",
    "    def net_outputs(self):\n",
    "        return self.__net_outputs\n",
    "    \n",
    "    @property\n",
    "    def init_state(self):\n",
    "        return self.__init_state\n",
    "    \n",
    "    @classmethod\n",
    "    def train(cls, model, n_epochs, batches, model_param_path, graph_path):  # To be fixed.\n",
    "        with tf.Session() as sess:\n",
    "            writer=tf.summary.FileWriter(logdir=graph_path,graph=sess.graph)\n",
    "            saver=tf.train.Saver()\n",
    "            sess.run(tf.global_variables_initializer())\n",
    "            ckpt=tf.train.get_checkpoint_state(model_param_path)\n",
    "            if ckpt and ckpt.model_checkpoint_path:\n",
    "                saver.restore(sess,ckpt.model_checkpoint_path)\n",
    "                iteration=Test.globalStep.eval()\n",
    "                print(\"Successfully loaded session at iteration {}. Continue training now. \".format(iteration))\n",
    "            else:\n",
    "                iteration=0\n",
    "            for i in range(n_epochs):\n",
    "                for batch in batches:\n",
    "                    print(batch.shape)\n",
    "                    X=batch[:,:-1,:]\n",
    "                    Y=batch[:,1:,:]\n",
    "                    iteration+=1\n",
    "                    feed_dict={}\n",
    "                    feed_dict[model.__init_state]=tf.zeros([np.shape(batch)[0], model.__state_size]).eval()\n",
    "                    print(feed_dict[model.__init_state].shape)\n",
    "                    feed_dict[model.__inputs]=X\n",
    "                    feed_dict[model.__expected_outputs]=Y\n",
    "                    _, summary, iteration=sess.run([model.optimizer, model.summary_op, model.__global_step], feed_dict=feed_dict)\n",
    "                    if (iteration+1)%50==0:\n",
    "                        writer.add_summary(summary,global_step=iteration)\n",
    "                        saver.save(sess=sess,save_path=model_param_path+r\"\\rnnMDL\",global_step=iteration)\n",
    "                saver.save(sess=sess,save_path=modelParamPath+r\"\\rnnMDL\",global_step=iteration)\n",
    "            print(\"Session terminated. \")\n",
    "            writer.close()\n",
    "            saver.save(sess=sess,save_path=model_param_path+r\"\\rnnMDL\", global_step=model.global_step)"
   ]
  },
  {
   "cell_type": "markdown",
   "metadata": {},
   "source": [
    "### Make an instance"
   ]
  },
  {
   "cell_type": "code",
   "execution_count": 8,
   "metadata": {
    "collapsed": false
   },
   "outputs": [],
   "source": [
    "test_rnn=MyRNN(scope=\"RNN\",input_vector_dim=len(vocab)+2,model_checkpoint_path=model_param_path,state_size=200)"
   ]
  },
  {
   "cell_type": "markdown",
   "metadata": {},
   "source": [
    "### Training"
   ]
  },
  {
   "cell_type": "code",
   "execution_count": 9,
   "metadata": {
    "collapsed": false,
    "scrolled": true
   },
   "outputs": [
    {
     "name": "stdout",
     "output_type": "stream",
     "text": [
      "(5, 32, 86)\n",
      "(5, 200)\n"
     ]
    },
    {
     "ename": "InternalError",
     "evalue": "Blas GEMM launch failed : a.shape=(155, 86), b.shape=(86, 200), m=155, n=200, k=86\n\t [[Node: RNN/structure/MatMul = MatMul[T=DT_FLOAT, transpose_a=false, transpose_b=false, _device=\"/job:localhost/replica:0/task:0/gpu:0\"](RNN/structure/Reshape, RNN/structure/transpose_1)]]\n\t [[Node: RNN/training/loss/_27 = _Recv[client_terminated=false, recv_device=\"/job:localhost/replica:0/task:0/cpu:0\", send_device=\"/job:localhost/replica:0/task:0/gpu:0\", send_device_incarnation=1, tensor_name=\"edge_1082_RNN/training/loss\", tensor_type=DT_FLOAT, _device=\"/job:localhost/replica:0/task:0/cpu:0\"]()]]\n\nCaused by op 'RNN/structure/MatMul', defined at:\n  File \"e:\\python35\\lib\\runpy.py\", line 184, in _run_module_as_main\n    \"__main__\", mod_spec)\n  File \"e:\\python35\\lib\\runpy.py\", line 85, in _run_code\n    exec(code, run_globals)\n  File \"e:\\python35\\lib\\site-packages\\ipykernel\\__main__.py\", line 3, in <module>\n    app.launch_new_instance()\n  File \"e:\\python35\\lib\\site-packages\\traitlets\\config\\application.py\", line 658, in launch_instance\n    app.start()\n  File \"e:\\python35\\lib\\site-packages\\ipykernel\\kernelapp.py\", line 474, in start\n    ioloop.IOLoop.instance().start()\n  File \"e:\\python35\\lib\\site-packages\\zmq\\eventloop\\ioloop.py\", line 177, in start\n    super(ZMQIOLoop, self).start()\n  File \"e:\\python35\\lib\\site-packages\\tornado\\ioloop.py\", line 887, in start\n    handler_func(fd_obj, events)\n  File \"e:\\python35\\lib\\site-packages\\tornado\\stack_context.py\", line 275, in null_wrapper\n    return fn(*args, **kwargs)\n  File \"e:\\python35\\lib\\site-packages\\zmq\\eventloop\\zmqstream.py\", line 440, in _handle_events\n    self._handle_recv()\n  File \"e:\\python35\\lib\\site-packages\\zmq\\eventloop\\zmqstream.py\", line 472, in _handle_recv\n    self._run_callback(callback, msg)\n  File \"e:\\python35\\lib\\site-packages\\zmq\\eventloop\\zmqstream.py\", line 414, in _run_callback\n    callback(*args, **kwargs)\n  File \"e:\\python35\\lib\\site-packages\\tornado\\stack_context.py\", line 275, in null_wrapper\n    return fn(*args, **kwargs)\n  File \"e:\\python35\\lib\\site-packages\\ipykernel\\kernelbase.py\", line 276, in dispatcher\n    return self.dispatch_shell(stream, msg)\n  File \"e:\\python35\\lib\\site-packages\\ipykernel\\kernelbase.py\", line 228, in dispatch_shell\n    handler(stream, idents, msg)\n  File \"e:\\python35\\lib\\site-packages\\ipykernel\\kernelbase.py\", line 390, in execute_request\n    user_expressions, allow_stdin)\n  File \"e:\\python35\\lib\\site-packages\\ipykernel\\ipkernel.py\", line 196, in do_execute\n    res = shell.run_cell(code, store_history=store_history, silent=silent)\n  File \"e:\\python35\\lib\\site-packages\\ipykernel\\zmqshell.py\", line 501, in run_cell\n    return super(ZMQInteractiveShell, self).run_cell(*args, **kwargs)\n  File \"e:\\python35\\lib\\site-packages\\IPython\\core\\interactiveshell.py\", line 2717, in run_cell\n    interactivity=interactivity, compiler=compiler, result=result)\n  File \"e:\\python35\\lib\\site-packages\\IPython\\core\\interactiveshell.py\", line 2821, in run_ast_nodes\n    if self.run_code(code, result):\n  File \"e:\\python35\\lib\\site-packages\\IPython\\core\\interactiveshell.py\", line 2881, in run_code\n    exec(code_obj, self.user_global_ns, self.user_ns)\n  File \"<ipython-input-8-0cab419dad85>\", line 1, in <module>\n    test_rnn=MyRNN(scope=\"RNN\",input_vector_dim=len(vocab)+2,model_checkpoint_path=model_param_path,state_size=200)\n  File \"<ipython-input-7-fa1c54eb1b2b>\", line 21, in __init__\n    self.__rnn_inputs=tf.add(tf.einsum(\"aij,jk->aik\",self.__inputs,self.__wI2S), self.__bI2S)\n  File \"e:\\python35\\lib\\site-packages\\tensorflow\\python\\ops\\special_math_ops.py\", line 203, in einsum\n    axes_to_sum)\n  File \"e:\\python35\\lib\\site-packages\\tensorflow\\python\\ops\\special_math_ops.py\", line 325, in _einsum_reduction\n    product = math_ops.matmul(t0, t1)\n  File \"e:\\python35\\lib\\site-packages\\tensorflow\\python\\ops\\math_ops.py\", line 1844, in matmul\n    a, b, transpose_a=transpose_a, transpose_b=transpose_b, name=name)\n  File \"e:\\python35\\lib\\site-packages\\tensorflow\\python\\ops\\gen_math_ops.py\", line 1289, in _mat_mul\n    transpose_b=transpose_b, name=name)\n  File \"e:\\python35\\lib\\site-packages\\tensorflow\\python\\framework\\op_def_library.py\", line 767, in apply_op\n    op_def=op_def)\n  File \"e:\\python35\\lib\\site-packages\\tensorflow\\python\\framework\\ops.py\", line 2630, in create_op\n    original_op=self._default_original_op, op_def=op_def)\n  File \"e:\\python35\\lib\\site-packages\\tensorflow\\python\\framework\\ops.py\", line 1204, in __init__\n    self._traceback = self._graph._extract_stack()  # pylint: disable=protected-access\n\nInternalError (see above for traceback): Blas GEMM launch failed : a.shape=(155, 86), b.shape=(86, 200), m=155, n=200, k=86\n\t [[Node: RNN/structure/MatMul = MatMul[T=DT_FLOAT, transpose_a=false, transpose_b=false, _device=\"/job:localhost/replica:0/task:0/gpu:0\"](RNN/structure/Reshape, RNN/structure/transpose_1)]]\n\t [[Node: RNN/training/loss/_27 = _Recv[client_terminated=false, recv_device=\"/job:localhost/replica:0/task:0/cpu:0\", send_device=\"/job:localhost/replica:0/task:0/gpu:0\", send_device_incarnation=1, tensor_name=\"edge_1082_RNN/training/loss\", tensor_type=DT_FLOAT, _device=\"/job:localhost/replica:0/task:0/cpu:0\"]()]]\n",
     "output_type": "error",
     "traceback": [
      "\u001b[0;31m---------------------------------------------------------------------------\u001b[0m",
      "\u001b[0;31mInternalError\u001b[0m                             Traceback (most recent call last)",
      "\u001b[0;32me:\\python35\\lib\\site-packages\\tensorflow\\python\\client\\session.py\u001b[0m in \u001b[0;36m_do_call\u001b[0;34m(self, fn, *args)\u001b[0m\n\u001b[1;32m   1326\u001b[0m     \u001b[1;32mtry\u001b[0m\u001b[1;33m:\u001b[0m\u001b[1;33m\u001b[0m\u001b[0m\n\u001b[0;32m-> 1327\u001b[0;31m       \u001b[1;32mreturn\u001b[0m \u001b[0mfn\u001b[0m\u001b[1;33m(\u001b[0m\u001b[1;33m*\u001b[0m\u001b[0margs\u001b[0m\u001b[1;33m)\u001b[0m\u001b[1;33m\u001b[0m\u001b[0m\n\u001b[0m\u001b[1;32m   1328\u001b[0m     \u001b[1;32mexcept\u001b[0m \u001b[0merrors\u001b[0m\u001b[1;33m.\u001b[0m\u001b[0mOpError\u001b[0m \u001b[1;32mas\u001b[0m \u001b[0me\u001b[0m\u001b[1;33m:\u001b[0m\u001b[1;33m\u001b[0m\u001b[0m\n",
      "\u001b[0;32me:\\python35\\lib\\site-packages\\tensorflow\\python\\client\\session.py\u001b[0m in \u001b[0;36m_run_fn\u001b[0;34m(session, feed_dict, fetch_list, target_list, options, run_metadata)\u001b[0m\n\u001b[1;32m   1305\u001b[0m                                    \u001b[0mfeed_dict\u001b[0m\u001b[1;33m,\u001b[0m \u001b[0mfetch_list\u001b[0m\u001b[1;33m,\u001b[0m \u001b[0mtarget_list\u001b[0m\u001b[1;33m,\u001b[0m\u001b[1;33m\u001b[0m\u001b[0m\n\u001b[0;32m-> 1306\u001b[0;31m                                    status, run_metadata)\n\u001b[0m\u001b[1;32m   1307\u001b[0m \u001b[1;33m\u001b[0m\u001b[0m\n",
      "\u001b[0;32me:\\python35\\lib\\contextlib.py\u001b[0m in \u001b[0;36m__exit__\u001b[0;34m(self, type, value, traceback)\u001b[0m\n\u001b[1;32m     65\u001b[0m             \u001b[1;32mtry\u001b[0m\u001b[1;33m:\u001b[0m\u001b[1;33m\u001b[0m\u001b[0m\n\u001b[0;32m---> 66\u001b[0;31m                 \u001b[0mnext\u001b[0m\u001b[1;33m(\u001b[0m\u001b[0mself\u001b[0m\u001b[1;33m.\u001b[0m\u001b[0mgen\u001b[0m\u001b[1;33m)\u001b[0m\u001b[1;33m\u001b[0m\u001b[0m\n\u001b[0m\u001b[1;32m     67\u001b[0m             \u001b[1;32mexcept\u001b[0m \u001b[0mStopIteration\u001b[0m\u001b[1;33m:\u001b[0m\u001b[1;33m\u001b[0m\u001b[0m\n",
      "\u001b[0;32me:\\python35\\lib\\site-packages\\tensorflow\\python\\framework\\errors_impl.py\u001b[0m in \u001b[0;36mraise_exception_on_not_ok_status\u001b[0;34m()\u001b[0m\n\u001b[1;32m    465\u001b[0m           \u001b[0mcompat\u001b[0m\u001b[1;33m.\u001b[0m\u001b[0mas_text\u001b[0m\u001b[1;33m(\u001b[0m\u001b[0mpywrap_tensorflow\u001b[0m\u001b[1;33m.\u001b[0m\u001b[0mTF_Message\u001b[0m\u001b[1;33m(\u001b[0m\u001b[0mstatus\u001b[0m\u001b[1;33m)\u001b[0m\u001b[1;33m)\u001b[0m\u001b[1;33m,\u001b[0m\u001b[1;33m\u001b[0m\u001b[0m\n\u001b[0;32m--> 466\u001b[0;31m           pywrap_tensorflow.TF_GetCode(status))\n\u001b[0m\u001b[1;32m    467\u001b[0m   \u001b[1;32mfinally\u001b[0m\u001b[1;33m:\u001b[0m\u001b[1;33m\u001b[0m\u001b[0m\n",
      "\u001b[0;31mInternalError\u001b[0m: Blas GEMM launch failed : a.shape=(155, 86), b.shape=(86, 200), m=155, n=200, k=86\n\t [[Node: RNN/structure/MatMul = MatMul[T=DT_FLOAT, transpose_a=false, transpose_b=false, _device=\"/job:localhost/replica:0/task:0/gpu:0\"](RNN/structure/Reshape, RNN/structure/transpose_1)]]\n\t [[Node: RNN/training/loss/_27 = _Recv[client_terminated=false, recv_device=\"/job:localhost/replica:0/task:0/cpu:0\", send_device=\"/job:localhost/replica:0/task:0/gpu:0\", send_device_incarnation=1, tensor_name=\"edge_1082_RNN/training/loss\", tensor_type=DT_FLOAT, _device=\"/job:localhost/replica:0/task:0/cpu:0\"]()]]",
      "\nDuring handling of the above exception, another exception occurred:\n",
      "\u001b[0;31mInternalError\u001b[0m                             Traceback (most recent call last)",
      "\u001b[0;32m<ipython-input-9-dfcdd7ca8b5b>\u001b[0m in \u001b[0;36m<module>\u001b[0;34m()\u001b[0m\n\u001b[1;32m      1\u001b[0m \u001b[0mn_epochs\u001b[0m\u001b[1;33m=\u001b[0m\u001b[1;36m6\u001b[0m\u001b[1;33m\u001b[0m\u001b[0m\n\u001b[0;32m----> 2\u001b[0;31m \u001b[0mMyRNN\u001b[0m\u001b[1;33m.\u001b[0m\u001b[0mtrain\u001b[0m\u001b[1;33m(\u001b[0m\u001b[0mtest_rnn\u001b[0m\u001b[1;33m,\u001b[0m \u001b[0mn_epochs\u001b[0m\u001b[1;33m,\u001b[0m \u001b[0mencoded_batches\u001b[0m\u001b[1;33m,\u001b[0m \u001b[0mmodel_param_path\u001b[0m\u001b[1;33m,\u001b[0m \u001b[0mgraph_path\u001b[0m\u001b[1;33m)\u001b[0m\u001b[1;33m\u001b[0m\u001b[0m\n\u001b[0m",
      "\u001b[0;32m<ipython-input-7-fa1c54eb1b2b>\u001b[0m in \u001b[0;36mtrain\u001b[0;34m(cls, model, n_epochs, batches, model_param_path, graph_path)\u001b[0m\n\u001b[1;32m    132\u001b[0m                     \u001b[0mfeed_dict\u001b[0m\u001b[1;33m[\u001b[0m\u001b[0mmodel\u001b[0m\u001b[1;33m.\u001b[0m\u001b[0m__inputs\u001b[0m\u001b[1;33m]\u001b[0m\u001b[1;33m=\u001b[0m\u001b[0mX\u001b[0m\u001b[1;33m\u001b[0m\u001b[0m\n\u001b[1;32m    133\u001b[0m                     \u001b[0mfeed_dict\u001b[0m\u001b[1;33m[\u001b[0m\u001b[0mmodel\u001b[0m\u001b[1;33m.\u001b[0m\u001b[0m__expected_outputs\u001b[0m\u001b[1;33m]\u001b[0m\u001b[1;33m=\u001b[0m\u001b[0mY\u001b[0m\u001b[1;33m\u001b[0m\u001b[0m\n\u001b[0;32m--> 134\u001b[0;31m                     \u001b[0m_\u001b[0m\u001b[1;33m,\u001b[0m \u001b[0msummary\u001b[0m\u001b[1;33m,\u001b[0m \u001b[0miteration\u001b[0m\u001b[1;33m=\u001b[0m\u001b[0msess\u001b[0m\u001b[1;33m.\u001b[0m\u001b[0mrun\u001b[0m\u001b[1;33m(\u001b[0m\u001b[1;33m[\u001b[0m\u001b[0mmodel\u001b[0m\u001b[1;33m.\u001b[0m\u001b[0moptimizer\u001b[0m\u001b[1;33m,\u001b[0m \u001b[0mmodel\u001b[0m\u001b[1;33m.\u001b[0m\u001b[0msummary_op\u001b[0m\u001b[1;33m,\u001b[0m \u001b[0mmodel\u001b[0m\u001b[1;33m.\u001b[0m\u001b[0m__global_step\u001b[0m\u001b[1;33m]\u001b[0m\u001b[1;33m,\u001b[0m \u001b[0mfeed_dict\u001b[0m\u001b[1;33m=\u001b[0m\u001b[0mfeed_dict\u001b[0m\u001b[1;33m)\u001b[0m\u001b[1;33m\u001b[0m\u001b[0m\n\u001b[0m\u001b[1;32m    135\u001b[0m                     \u001b[1;32mif\u001b[0m \u001b[1;33m(\u001b[0m\u001b[0miteration\u001b[0m\u001b[1;33m+\u001b[0m\u001b[1;36m1\u001b[0m\u001b[1;33m)\u001b[0m\u001b[1;33m%\u001b[0m\u001b[1;36m50\u001b[0m\u001b[1;33m==\u001b[0m\u001b[1;36m0\u001b[0m\u001b[1;33m:\u001b[0m\u001b[1;33m\u001b[0m\u001b[0m\n\u001b[1;32m    136\u001b[0m                         \u001b[0mwriter\u001b[0m\u001b[1;33m.\u001b[0m\u001b[0madd_summary\u001b[0m\u001b[1;33m(\u001b[0m\u001b[0msummary\u001b[0m\u001b[1;33m,\u001b[0m\u001b[0mglobal_step\u001b[0m\u001b[1;33m=\u001b[0m\u001b[0miteration\u001b[0m\u001b[1;33m)\u001b[0m\u001b[1;33m\u001b[0m\u001b[0m\n",
      "\u001b[0;32me:\\python35\\lib\\site-packages\\tensorflow\\python\\client\\session.py\u001b[0m in \u001b[0;36mrun\u001b[0;34m(self, fetches, feed_dict, options, run_metadata)\u001b[0m\n\u001b[1;32m    893\u001b[0m     \u001b[1;32mtry\u001b[0m\u001b[1;33m:\u001b[0m\u001b[1;33m\u001b[0m\u001b[0m\n\u001b[1;32m    894\u001b[0m       result = self._run(None, fetches, feed_dict, options_ptr,\n\u001b[0;32m--> 895\u001b[0;31m                          run_metadata_ptr)\n\u001b[0m\u001b[1;32m    896\u001b[0m       \u001b[1;32mif\u001b[0m \u001b[0mrun_metadata\u001b[0m\u001b[1;33m:\u001b[0m\u001b[1;33m\u001b[0m\u001b[0m\n\u001b[1;32m    897\u001b[0m         \u001b[0mproto_data\u001b[0m \u001b[1;33m=\u001b[0m \u001b[0mtf_session\u001b[0m\u001b[1;33m.\u001b[0m\u001b[0mTF_GetBuffer\u001b[0m\u001b[1;33m(\u001b[0m\u001b[0mrun_metadata_ptr\u001b[0m\u001b[1;33m)\u001b[0m\u001b[1;33m\u001b[0m\u001b[0m\n",
      "\u001b[0;32me:\\python35\\lib\\site-packages\\tensorflow\\python\\client\\session.py\u001b[0m in \u001b[0;36m_run\u001b[0;34m(self, handle, fetches, feed_dict, options, run_metadata)\u001b[0m\n\u001b[1;32m   1122\u001b[0m     \u001b[1;32mif\u001b[0m \u001b[0mfinal_fetches\u001b[0m \u001b[1;32mor\u001b[0m \u001b[0mfinal_targets\u001b[0m \u001b[1;32mor\u001b[0m \u001b[1;33m(\u001b[0m\u001b[0mhandle\u001b[0m \u001b[1;32mand\u001b[0m \u001b[0mfeed_dict_tensor\u001b[0m\u001b[1;33m)\u001b[0m\u001b[1;33m:\u001b[0m\u001b[1;33m\u001b[0m\u001b[0m\n\u001b[1;32m   1123\u001b[0m       results = self._do_run(handle, final_targets, final_fetches,\n\u001b[0;32m-> 1124\u001b[0;31m                              feed_dict_tensor, options, run_metadata)\n\u001b[0m\u001b[1;32m   1125\u001b[0m     \u001b[1;32melse\u001b[0m\u001b[1;33m:\u001b[0m\u001b[1;33m\u001b[0m\u001b[0m\n\u001b[1;32m   1126\u001b[0m       \u001b[0mresults\u001b[0m \u001b[1;33m=\u001b[0m \u001b[1;33m[\u001b[0m\u001b[1;33m]\u001b[0m\u001b[1;33m\u001b[0m\u001b[0m\n",
      "\u001b[0;32me:\\python35\\lib\\site-packages\\tensorflow\\python\\client\\session.py\u001b[0m in \u001b[0;36m_do_run\u001b[0;34m(self, handle, target_list, fetch_list, feed_dict, options, run_metadata)\u001b[0m\n\u001b[1;32m   1319\u001b[0m     \u001b[1;32mif\u001b[0m \u001b[0mhandle\u001b[0m \u001b[1;32mis\u001b[0m \u001b[1;32mNone\u001b[0m\u001b[1;33m:\u001b[0m\u001b[1;33m\u001b[0m\u001b[0m\n\u001b[1;32m   1320\u001b[0m       return self._do_call(_run_fn, self._session, feeds, fetches, targets,\n\u001b[0;32m-> 1321\u001b[0;31m                            options, run_metadata)\n\u001b[0m\u001b[1;32m   1322\u001b[0m     \u001b[1;32melse\u001b[0m\u001b[1;33m:\u001b[0m\u001b[1;33m\u001b[0m\u001b[0m\n\u001b[1;32m   1323\u001b[0m       \u001b[1;32mreturn\u001b[0m \u001b[0mself\u001b[0m\u001b[1;33m.\u001b[0m\u001b[0m_do_call\u001b[0m\u001b[1;33m(\u001b[0m\u001b[0m_prun_fn\u001b[0m\u001b[1;33m,\u001b[0m \u001b[0mself\u001b[0m\u001b[1;33m.\u001b[0m\u001b[0m_session\u001b[0m\u001b[1;33m,\u001b[0m \u001b[0mhandle\u001b[0m\u001b[1;33m,\u001b[0m \u001b[0mfeeds\u001b[0m\u001b[1;33m,\u001b[0m \u001b[0mfetches\u001b[0m\u001b[1;33m)\u001b[0m\u001b[1;33m\u001b[0m\u001b[0m\n",
      "\u001b[0;32me:\\python35\\lib\\site-packages\\tensorflow\\python\\client\\session.py\u001b[0m in \u001b[0;36m_do_call\u001b[0;34m(self, fn, *args)\u001b[0m\n\u001b[1;32m   1338\u001b[0m         \u001b[1;32mexcept\u001b[0m \u001b[0mKeyError\u001b[0m\u001b[1;33m:\u001b[0m\u001b[1;33m\u001b[0m\u001b[0m\n\u001b[1;32m   1339\u001b[0m           \u001b[1;32mpass\u001b[0m\u001b[1;33m\u001b[0m\u001b[0m\n\u001b[0;32m-> 1340\u001b[0;31m       \u001b[1;32mraise\u001b[0m \u001b[0mtype\u001b[0m\u001b[1;33m(\u001b[0m\u001b[0me\u001b[0m\u001b[1;33m)\u001b[0m\u001b[1;33m(\u001b[0m\u001b[0mnode_def\u001b[0m\u001b[1;33m,\u001b[0m \u001b[0mop\u001b[0m\u001b[1;33m,\u001b[0m \u001b[0mmessage\u001b[0m\u001b[1;33m)\u001b[0m\u001b[1;33m\u001b[0m\u001b[0m\n\u001b[0m\u001b[1;32m   1341\u001b[0m \u001b[1;33m\u001b[0m\u001b[0m\n\u001b[1;32m   1342\u001b[0m   \u001b[1;32mdef\u001b[0m \u001b[0m_extend_graph\u001b[0m\u001b[1;33m(\u001b[0m\u001b[0mself\u001b[0m\u001b[1;33m)\u001b[0m\u001b[1;33m:\u001b[0m\u001b[1;33m\u001b[0m\u001b[0m\n",
      "\u001b[0;31mInternalError\u001b[0m: Blas GEMM launch failed : a.shape=(155, 86), b.shape=(86, 200), m=155, n=200, k=86\n\t [[Node: RNN/structure/MatMul = MatMul[T=DT_FLOAT, transpose_a=false, transpose_b=false, _device=\"/job:localhost/replica:0/task:0/gpu:0\"](RNN/structure/Reshape, RNN/structure/transpose_1)]]\n\t [[Node: RNN/training/loss/_27 = _Recv[client_terminated=false, recv_device=\"/job:localhost/replica:0/task:0/cpu:0\", send_device=\"/job:localhost/replica:0/task:0/gpu:0\", send_device_incarnation=1, tensor_name=\"edge_1082_RNN/training/loss\", tensor_type=DT_FLOAT, _device=\"/job:localhost/replica:0/task:0/cpu:0\"]()]]\n\nCaused by op 'RNN/structure/MatMul', defined at:\n  File \"e:\\python35\\lib\\runpy.py\", line 184, in _run_module_as_main\n    \"__main__\", mod_spec)\n  File \"e:\\python35\\lib\\runpy.py\", line 85, in _run_code\n    exec(code, run_globals)\n  File \"e:\\python35\\lib\\site-packages\\ipykernel\\__main__.py\", line 3, in <module>\n    app.launch_new_instance()\n  File \"e:\\python35\\lib\\site-packages\\traitlets\\config\\application.py\", line 658, in launch_instance\n    app.start()\n  File \"e:\\python35\\lib\\site-packages\\ipykernel\\kernelapp.py\", line 474, in start\n    ioloop.IOLoop.instance().start()\n  File \"e:\\python35\\lib\\site-packages\\zmq\\eventloop\\ioloop.py\", line 177, in start\n    super(ZMQIOLoop, self).start()\n  File \"e:\\python35\\lib\\site-packages\\tornado\\ioloop.py\", line 887, in start\n    handler_func(fd_obj, events)\n  File \"e:\\python35\\lib\\site-packages\\tornado\\stack_context.py\", line 275, in null_wrapper\n    return fn(*args, **kwargs)\n  File \"e:\\python35\\lib\\site-packages\\zmq\\eventloop\\zmqstream.py\", line 440, in _handle_events\n    self._handle_recv()\n  File \"e:\\python35\\lib\\site-packages\\zmq\\eventloop\\zmqstream.py\", line 472, in _handle_recv\n    self._run_callback(callback, msg)\n  File \"e:\\python35\\lib\\site-packages\\zmq\\eventloop\\zmqstream.py\", line 414, in _run_callback\n    callback(*args, **kwargs)\n  File \"e:\\python35\\lib\\site-packages\\tornado\\stack_context.py\", line 275, in null_wrapper\n    return fn(*args, **kwargs)\n  File \"e:\\python35\\lib\\site-packages\\ipykernel\\kernelbase.py\", line 276, in dispatcher\n    return self.dispatch_shell(stream, msg)\n  File \"e:\\python35\\lib\\site-packages\\ipykernel\\kernelbase.py\", line 228, in dispatch_shell\n    handler(stream, idents, msg)\n  File \"e:\\python35\\lib\\site-packages\\ipykernel\\kernelbase.py\", line 390, in execute_request\n    user_expressions, allow_stdin)\n  File \"e:\\python35\\lib\\site-packages\\ipykernel\\ipkernel.py\", line 196, in do_execute\n    res = shell.run_cell(code, store_history=store_history, silent=silent)\n  File \"e:\\python35\\lib\\site-packages\\ipykernel\\zmqshell.py\", line 501, in run_cell\n    return super(ZMQInteractiveShell, self).run_cell(*args, **kwargs)\n  File \"e:\\python35\\lib\\site-packages\\IPython\\core\\interactiveshell.py\", line 2717, in run_cell\n    interactivity=interactivity, compiler=compiler, result=result)\n  File \"e:\\python35\\lib\\site-packages\\IPython\\core\\interactiveshell.py\", line 2821, in run_ast_nodes\n    if self.run_code(code, result):\n  File \"e:\\python35\\lib\\site-packages\\IPython\\core\\interactiveshell.py\", line 2881, in run_code\n    exec(code_obj, self.user_global_ns, self.user_ns)\n  File \"<ipython-input-8-0cab419dad85>\", line 1, in <module>\n    test_rnn=MyRNN(scope=\"RNN\",input_vector_dim=len(vocab)+2,model_checkpoint_path=model_param_path,state_size=200)\n  File \"<ipython-input-7-fa1c54eb1b2b>\", line 21, in __init__\n    self.__rnn_inputs=tf.add(tf.einsum(\"aij,jk->aik\",self.__inputs,self.__wI2S), self.__bI2S)\n  File \"e:\\python35\\lib\\site-packages\\tensorflow\\python\\ops\\special_math_ops.py\", line 203, in einsum\n    axes_to_sum)\n  File \"e:\\python35\\lib\\site-packages\\tensorflow\\python\\ops\\special_math_ops.py\", line 325, in _einsum_reduction\n    product = math_ops.matmul(t0, t1)\n  File \"e:\\python35\\lib\\site-packages\\tensorflow\\python\\ops\\math_ops.py\", line 1844, in matmul\n    a, b, transpose_a=transpose_a, transpose_b=transpose_b, name=name)\n  File \"e:\\python35\\lib\\site-packages\\tensorflow\\python\\ops\\gen_math_ops.py\", line 1289, in _mat_mul\n    transpose_b=transpose_b, name=name)\n  File \"e:\\python35\\lib\\site-packages\\tensorflow\\python\\framework\\op_def_library.py\", line 767, in apply_op\n    op_def=op_def)\n  File \"e:\\python35\\lib\\site-packages\\tensorflow\\python\\framework\\ops.py\", line 2630, in create_op\n    original_op=self._default_original_op, op_def=op_def)\n  File \"e:\\python35\\lib\\site-packages\\tensorflow\\python\\framework\\ops.py\", line 1204, in __init__\n    self._traceback = self._graph._extract_stack()  # pylint: disable=protected-access\n\nInternalError (see above for traceback): Blas GEMM launch failed : a.shape=(155, 86), b.shape=(86, 200), m=155, n=200, k=86\n\t [[Node: RNN/structure/MatMul = MatMul[T=DT_FLOAT, transpose_a=false, transpose_b=false, _device=\"/job:localhost/replica:0/task:0/gpu:0\"](RNN/structure/Reshape, RNN/structure/transpose_1)]]\n\t [[Node: RNN/training/loss/_27 = _Recv[client_terminated=false, recv_device=\"/job:localhost/replica:0/task:0/cpu:0\", send_device=\"/job:localhost/replica:0/task:0/gpu:0\", send_device_incarnation=1, tensor_name=\"edge_1082_RNN/training/loss\", tensor_type=DT_FLOAT, _device=\"/job:localhost/replica:0/task:0/cpu:0\"]()]]\n"
     ]
    }
   ],
   "source": [
    "n_epochs=6\n",
    "MyRNN.train(test_rnn, n_epochs, encoded_batches, model_param_path, graph_path)"
   ]
  },
  {
   "cell_type": "markdown",
   "metadata": {},
   "source": [
    "### Test online inference"
   ]
  },
  {
   "cell_type": "code",
   "execution_count": null,
   "metadata": {
    "collapsed": false,
    "scrolled": false
   },
   "outputs": [],
   "source": [
    "result,_=Test.onlineInference(timeSteps=500)\n",
    "print(Decode(result))"
   ]
  },
  {
   "cell_type": "markdown",
   "metadata": {},
   "source": [
    "### Evaluate transition performance of the model"
   ]
  },
  {
   "cell_type": "code",
   "execution_count": null,
   "metadata": {
    "collapsed": false,
    "scrolled": true
   },
   "outputs": [],
   "source": [
    "with tf.Session() as sess:\n",
    "    print(\"Loading model\")\n",
    "    ckpt=tf.train.get_checkpoint_state(modelParamPath)\n",
    "    if ckpt and ckpt.model_checkpoint_path:  \n",
    "        saver.restore(sess,ckpt.model_checkpoint_path)\n",
    "        print(\"Successfully loaded\")\n",
    "    result=sess.run(Test.netOutputs,{Test.inputs:X})\n",
    "print(Decode(result))"
   ]
  },
  {
   "cell_type": "code",
   "execution_count": null,
   "metadata": {
    "collapsed": true
   },
   "outputs": [],
   "source": []
  }
 ],
 "metadata": {
  "kernelspec": {
   "display_name": "Python 3",
   "language": "python",
   "name": "python3"
  },
  "language_info": {
   "codemirror_mode": {
    "name": "ipython",
    "version": 3
   },
   "file_extension": ".py",
   "mimetype": "text/x-python",
   "name": "python",
   "nbconvert_exporter": "python",
   "pygments_lexer": "ipython3",
   "version": "3.5.2"
  }
 },
 "nbformat": 4,
 "nbformat_minor": 1
}
