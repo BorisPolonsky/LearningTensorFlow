{
 "cells": [
  {
   "cell_type": "markdown",
   "metadata": {},
   "source": [
    "# Text generator based on RNN"
   ]
  },
  {
   "cell_type": "markdown",
   "metadata": {},
   "source": [
    "### Import libraries"
   ]
  },
  {
   "cell_type": "code",
   "execution_count": 1,
   "metadata": {
    "collapsed": false
   },
   "outputs": [],
   "source": [
    "import tensorflow as tf\n",
    "import numpy as np\n",
    "import random"
   ]
  },
  {
   "cell_type": "markdown",
   "metadata": {},
   "source": [
    "### Configurations & data encoding"
   ]
  },
  {
   "cell_type": "code",
   "execution_count": 2,
   "metadata": {
    "collapsed": false
   },
   "outputs": [],
   "source": [
    "vocab = (\" $%'()+,-./0123456789:;=?ABCDEFGHIJKLMNOPQRSTUVWXYZ\"\n",
    "            \"\\\\^_abcdefghijklmnopqrstuvwxyz{|}\\n\")\n",
    "graphPath=r\".\\graphs\"\n",
    "testTextPath=r\"..\\DataSet\\arvix_abstracts.txt\"\n",
    "batchSize=1\n",
    "modelParamPath=r\".\\model_checkpoints\"\n",
    "def Encode(string):\n",
    "    tensor=[vocab.find(ch)+1 for ch in string]\n",
    "    tensor=tf.one_hot(tensor,depth=len(vocab)+1,on_value=1.0,off_value=0.0,axis=-1, dtype=tf.float32)\n",
    "    with tf.Session() as sess:\n",
    "        nparray=tensor.eval()\n",
    "    return nparray\n",
    "def Decode(nparray):\n",
    "    return \"\".join([vocab[index-1] if index>0 else \"[INVALID]\" for index in np.argmax(nparray,axis=1)])"
   ]
  },
  {
   "cell_type": "markdown",
   "metadata": {},
   "source": [
    "### Define model class"
   ]
  },
  {
   "cell_type": "code",
   "execution_count": 3,
   "metadata": {
    "collapsed": false
   },
   "outputs": [],
   "source": [
    "class MyRNN():\n",
    "    def __init__(self,inputVectorDim,modelCheckpointPath,stateSize=100,scope=\"RNN\",outputVectorDim=None):\n",
    "        if outputVectorDim==None:\n",
    "            outputVectorDim=inputVectorDim\n",
    "        self.__inputVectorDim=inputVectorDim\n",
    "        self.__outputVetorDim=outputVectorDim\n",
    "        self.__stateSize=stateSize\n",
    "        self.__mdlCkptPath=modelCheckpointPath\n",
    "        with tf.variable_scope(scope) as modelScope:\n",
    "            with tf.variable_scope(\"structure\") as structureScope:\n",
    "                #One batch at a time\n",
    "                self.inputs=tf.placeholder(dtype=tf.float32,shape=[None,inputVectorDim])\n",
    "                self.outputs=tf.placeholder(dtype=tf.float32,shape=[None,outputVectorDim])\n",
    "                self.__cell=tf.contrib.rnn.GRUCell(num_units=stateSize)\n",
    "                self.initState = tf.placeholder_with_default(self.__cell.zero_state(batch_size=1,dtype=tf.float32),\n",
    "                                                        shape=[None,self.__stateSize])\n",
    "                #S20:State to output\n",
    "                self.__wS2O=tf.get_variable(name=\"Weight_s2o\",shape=[stateSize,outputVectorDim],\n",
    "                                            initializer=tf.truncated_normal_initializer())\n",
    "                self.__bS2O=tf.get_variable(name=\"Bias_s2o\",shape=[1,outputVectorDim],\n",
    "                                            initializer=tf.truncated_normal_initializer())\n",
    "                #add a \"batch dimension\" to the front\n",
    "                cellInputs=tf.reshape(tensor=self.inputs,shape=[1,-1,inputVectorDim])\n",
    "                self.__stateOutput,self.finalState=tf.nn.dynamic_rnn(cell=self.__cell,inputs=cellInputs,\n",
    "                                                     dtype=tf.float32,initial_state=self.initState)\n",
    "                outputs=tf.reshape(tensor=self.__stateOutput, shape=[-1, stateSize])#Remove the batch dimension ((\n",
    "                self.netOutputs=tf.add(tf.matmul(outputs,self.__wS2O),self.__bS2O)\n",
    "            with tf.name_scope(\"training\"):\n",
    "                loss=tf.losses.softmax_cross_entropy(logits=self.netOutputs,onehot_labels=self.outputs)\n",
    "                loss=tf.reduce_mean(loss,name=\"loss\")\n",
    "                self.globalStep=tf.Variable(0,dtype=tf.int32,trainable=False,name='globalStep')\n",
    "                self.optimizer=tf.train.AdamOptimizer(learning_rate=0.001,\n",
    "                                                      name=\"optimizer\").minimize(loss,global_step=self.globalStep)\n",
    "            with tf.name_scope(\"summary\") as sumScope:\n",
    "                lossSum=tf.summary.scalar(tensor=loss,name=\"loss\")\n",
    "                self.summary_op=tf.summary.merge(tf.get_collection(tf.GraphKeys.SUMMARIES,sumScope))\n",
    "\n",
    "    def onlineInference(self,timeSteps=100,state=None,seed=None,modelParamPath=None):\n",
    "        feedDict={}\n",
    "        saver=tf.train.Saver()\n",
    "        if modelParamPath==None:\n",
    "            modelParamPath=self.__mdlCkptPath\n",
    "        if state!=None:\n",
    "            feedDict[self.initState]=state\n",
    "        if seed==None:\n",
    "            #Create a random seed\n",
    "            seed=tf.one_hot([random.randint(0,self.__inputVectorDim)],\n",
    "                            depth=self.__inputVectorDim,on_value=1.0,off_value=0.0,axis=-1,dtype=tf.float32)\n",
    "            with tf.Session() as sess:\n",
    "                seed=sess.run(seed)\n",
    "        feedDict[self.inputs]=seed\n",
    "        seq=[]\n",
    "        with tf.Session() as sess:\n",
    "            ckpt = tf.train.get_checkpoint_state(self.__mdlCkptPath)\n",
    "            print(\"Loading model\")\n",
    "            if ckpt and ckpt.model_checkpoint_path:  \n",
    "                saver.restore(sess,ckpt.model_checkpoint_path)\n",
    "                print(\"Successfully loaded\")\n",
    "            for length in range(timeSteps):\n",
    "                input_,state=sess.run(fetches=[self.netOutputs,self.finalState],\n",
    "                                      feed_dict=feedDict)\n",
    "                #Since the input vectors are discrete, so we need to convert it into a\n",
    "                #new one hot vector\n",
    "                input_=tf.one_hot(indices=[int(np.argmax(input_[0]))],depth=self.__outputVetorDim,\n",
    "                                  on_value=1.0,off_value=0.0,axis=-1,dtype=tf.float32).eval()\n",
    "                seq.append(input_)\n",
    "                feedDict[self.inputs],feedDict[self.initState]=input_,state\n",
    "            seq=tf.concat(values=seq,axis=0).eval()\n",
    "        return seq,state"
   ]
  },
  {
   "cell_type": "markdown",
   "metadata": {},
   "source": [
    "### Make an instance"
   ]
  },
  {
   "cell_type": "code",
   "execution_count": 4,
   "metadata": {
    "collapsed": false
   },
   "outputs": [],
   "source": [
    "Test=MyRNN(scope=\"RNN\",inputVectorDim=len(vocab)+1,modelCheckpointPath=modelParamPath,stateSize=200)"
   ]
  },
  {
   "cell_type": "markdown",
   "metadata": {},
   "source": [
    "### Training"
   ]
  },
  {
   "cell_type": "code",
   "execution_count": null,
   "metadata": {
    "collapsed": false,
    "scrolled": true
   },
   "outputs": [],
   "source": [
    "n_epochs=6\n",
    "with tf.Session() as sess:\n",
    "    writer=tf.summary.FileWriter(logdir=graphPath,graph=sess.graph)\n",
    "    saver=tf.train.Saver()\n",
    "    sess.run(tf.global_variables_initializer())\n",
    "    ckpt=tf.train.get_checkpoint_state(modelParamPath)\n",
    "    if ckpt and ckpt.model_checkpoint_path:\n",
    "        saver.restore(sess,ckpt.model_checkpoint_path)\n",
    "        iteration=Test.globalStep.eval()\n",
    "        print(\"Successfully loaded session at iteration {}. Continue training now. \".format(iteration))\n",
    "    else:\n",
    "        iteration=0\n",
    "    for i in range(n_epochs):\n",
    "        with open(testTextPath,'r') as fileObj:\n",
    "            feedDict={}\n",
    "            for line in fileObj:\n",
    "                sample=line.strip()\n",
    "                if len(sample)<2:\n",
    "                    continue\n",
    "                X=Encode(sample) \n",
    "                Y=X[1:]\n",
    "                X=X[:-1]\n",
    "                iteration+=1\n",
    "                feedDict[Test.inputs]=X\n",
    "                feedDict[Test.outputs]=Y\n",
    "                _,summary,state=sess.run([Test.optimizer,Test.summary_op,Test.finalState],feed_dict=feedDict)\n",
    "                if (iteration+1)%50==0:\n",
    "                    writer.add_summary(summary,global_step=iteration)\n",
    "                    saver.save(sess=sess,save_path=modelParamPath+r\"\\rnnMDL\",global_step=iteration)\n",
    "        saver.save(sess=sess,save_path=modelParamPath+r\"\\rnnMDL\",global_step=iteration)\n",
    "        result=sess.run(Test.netOutputs,{Test.inputs:X})#See what happens if fed a zero state\n",
    "    print(\"Session terminated. \")\n",
    "    writer.close()\n",
    "    saver.save(sess=sess,save_path=modelParamPath+r\"\\rnnMDL\",global_step=Test.globalStep)"
   ]
  },
  {
   "cell_type": "markdown",
   "metadata": {},
   "source": [
    "### Test online inference"
   ]
  },
  {
   "cell_type": "code",
   "execution_count": 5,
   "metadata": {
    "collapsed": false,
    "scrolled": false
   },
   "outputs": [
    {
     "name": "stdout",
     "output_type": "stream",
     "text": [
      "Loading model\n",
      "Successfully loaded\n",
      "hing the model structured starding to convergence that our atching typerformmentic gradient descent on MNIST and CIFAR-10 classification, in addition to the standard neural networks, which the descricies, (GAvalttem to training deep neural networks (DNNs). In practice, beep neural networks (DNNs) as a performarict of computation problem formal DNN undersing is input-traima. The architecture based on the training simple neural networks (DNNs) as a performance of the model analysis formertion, and\n"
     ]
    }
   ],
   "source": [
    "result,_=Test.onlineInference(timeSteps=500)\n",
    "print(Decode(result))"
   ]
  },
  {
   "cell_type": "markdown",
   "metadata": {},
   "source": [
    "### Evaluate transition performance of the model"
   ]
  },
  {
   "cell_type": "code",
   "execution_count": null,
   "metadata": {
    "collapsed": false,
    "scrolled": true
   },
   "outputs": [],
   "source": [
    "with tf.Session() as sess:\n",
    "    print(\"Loading model\")\n",
    "    ckpt=tf.train.get_checkpoint_state(modelParamPath)\n",
    "    if ckpt and ckpt.model_checkpoint_path:  \n",
    "        saver.restore(sess,ckpt.model_checkpoint_path)\n",
    "        print(\"Successfully loaded\")\n",
    "    result=sess.run(Test.netOutputs,{Test.inputs:X})\n",
    "print(Decode(result))"
   ]
  },
  {
   "cell_type": "code",
   "execution_count": null,
   "metadata": {
    "collapsed": true
   },
   "outputs": [],
   "source": []
  }
 ],
 "metadata": {
  "kernelspec": {
   "display_name": "Python 3",
   "language": "python",
   "name": "python3"
  },
  "language_info": {
   "codemirror_mode": {
    "name": "ipython",
    "version": 3
   },
   "file_extension": ".py",
   "mimetype": "text/x-python",
   "name": "python",
   "nbconvert_exporter": "python",
   "pygments_lexer": "ipython3",
   "version": "3.5.2"
  }
 },
 "nbformat": 4,
 "nbformat_minor": 1
}
