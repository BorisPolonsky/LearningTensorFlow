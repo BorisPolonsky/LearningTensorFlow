{
 "cells": [
  {
   "cell_type": "markdown",
   "metadata": {},
   "source": [
    "# Text generator based on RNN"
   ]
  },
  {
   "cell_type": "markdown",
   "metadata": {},
   "source": [
    "### Import libraries"
   ]
  },
  {
   "cell_type": "code",
   "execution_count": 1,
   "metadata": {
    "collapsed": false
   },
   "outputs": [],
   "source": [
    "import tensorflow as tf\n",
    "import numpy as np\n",
    "import random"
   ]
  },
  {
   "cell_type": "markdown",
   "metadata": {},
   "source": [
    "### Configurations & data encoding"
   ]
  },
  {
   "cell_type": "code",
   "execution_count": 2,
   "metadata": {
    "collapsed": false
   },
   "outputs": [],
   "source": [
    "vocab = (\" $%'()+,-./0123456789:;=?ABCDEFGHIJKLMNOPQRSTUVWXYZ\"\n",
    "            \"\\\\^_abcdefghijklmnopqrstuvwxyz{|}\\n\")\n",
    "TestText2=\"Too young, too simple, sometimes naive. \"\n",
    "TestText=\"\"\"\n",
    "Four score and seven years ago our fathers brought forth on this continent, a new nation, conceived in Liberty, and dedicated to the proposition that all men are created equal.\n",
    "\n",
    "Now we are engaged in a great civil war, testing whether that nation, or any nation so conceived and so dedicated, can long endure. We are met on a great battle-field of that war. We have come to dedicate a portion of that field, as a final resting place for those who here gave their lives that that nation might live. It is altogether fitting and proper that we should do this.\n",
    "\n",
    "But, in a larger sense, we can not dedicate—we can not consecrate—we can not hallow—this ground. The brave men, living and dead, who struggled here, have consecrated it, far above our poor power to add or detract. The world will little note, nor long remember what we say here, but it can never forget what they did here. It is for us the living, rather, to be dedicated here to the unfinished work which they who fought here have thus far so nobly advanced. It is rather for us to be here dedicated to the great task remaining before us—that from these honored dead we take increased devotion to that cause for which they gave the last full measure of devotion—that we here highly resolve that these dead shall not have died in vain—that this nation, under God, shall have a new birth of freedom—and that government of the people, by the people, for the people, shall not perish from the earth.\n",
    "\"\"\"\n",
    "graphPath=r\".\\graphs\"\n",
    "num_step=len(TestText)-1\n",
    "batchSize=1\n",
    "modelParamPath=r\".\\model_checkpoints\"\n",
    "def Encode(string,name=None):\n",
    "    tensor=[vocab.find(ch)+1 for ch in string]\n",
    "    tensor = tf.one_hot(tensor, depth=len(vocab)+1, on_value=1.0, off_value=0.0, axis=-1, dtype=tf.float32, name=name)\n",
    "    with tf.Session() as sess:\n",
    "        nparray=tensor.eval()\n",
    "    return nparray\n",
    "def Decode(nparray):\n",
    "    return \"\".join([vocab[index-1] if index>0 else \"[INVALID]\" for index in np.argmax(nparray,axis=1)])\n",
    "X=Encode(TestText2)\n",
    "\n",
    "Y=X[1:]\n",
    "X=X[:-1]"
   ]
  },
  {
   "cell_type": "markdown",
   "metadata": {},
   "source": [
    "### Define model class"
   ]
  },
  {
   "cell_type": "code",
   "execution_count": 3,
   "metadata": {
    "collapsed": false
   },
   "outputs": [],
   "source": [
    "class MyRNN():\n",
    "    def __init__(self,inputVectorDim,modelCheckpointPath,stateSize=100,scope=\"RNN\",outputVectorDim=None):\n",
    "        if outputVectorDim==None:\n",
    "            outputVectorDim=inputVectorDim\n",
    "        self.__inputVectorDim=inputVectorDim\n",
    "        self.__outputVetorDim=outputVectorDim\n",
    "        self.__stateSize=stateSize\n",
    "        self.__mdlCkptPath=modelCheckpointPath\n",
    "        with tf.variable_scope(scope) as modelScope:\n",
    "            with tf.variable_scope(\"structure\") as structureScope:\n",
    "                #One batch at a time\n",
    "                self.inputs=tf.placeholder(dtype=tf.float32,shape=[None,inputVectorDim])\n",
    "                self.outputs=tf.placeholder(dtype=tf.float32,shape=[None,outputVectorDim])\n",
    "                self.__cell=tf.contrib.rnn.GRUCell(num_units=stateSize)\n",
    "                self.__initState = tf.placeholder_with_default(self.__cell.zero_state(batch_size=1,dtype=tf.float32),\n",
    "                                                        shape=[None,self.__stateSize])\n",
    "                #S20:State to output\n",
    "                self.__wS2O=tf.get_variable(name=\"Weight_s2o\",shape=[stateSize,outputVectorDim],\n",
    "                                            initializer=tf.truncated_normal_initializer())\n",
    "                self.__bS2O=tf.get_variable(name=\"Bias_s2o\",shape=[1,outputVectorDim],\n",
    "                                            initializer=tf.truncated_normal_initializer())\n",
    "                #add a \"batch dimension\" to the front\n",
    "                cellInputs=tf.reshape(tensor=self.inputs,shape=[1,-1,inputVectorDim])\n",
    "                self.__stateOutput,self.finalState=tf.nn.dynamic_rnn(cell=self.__cell,inputs=cellInputs,\n",
    "                                                     dtype=tf.float32,initial_state=self.__initState)\n",
    "                outputs=tf.reshape(tensor=self.__stateOutput, shape=[-1, stateSize])#Remove the batch dimension ((\n",
    "                self.netOutputs=tf.add(tf.matmul(outputs,self.__wS2O),self.__bS2O)\n",
    "            with tf.name_scope(\"training\"):\n",
    "                loss=tf.losses.softmax_cross_entropy(logits=self.netOutputs,onehot_labels=self.outputs)\n",
    "                loss=tf.reduce_mean(loss,name=\"loss\")\n",
    "                self.optimizer=tf.train.AdamOptimizer(learning_rate=0.001,name=\"optimizer\").minimize(loss)\n",
    "            with tf.name_scope(\"summary\") as sumScope:\n",
    "                lossSum=tf.summary.scalar(tensor=loss,name=\"loss\")\n",
    "                self.summary_op=tf.summary.merge(tf.get_collection(tf.GraphKeys.SUMMARIES,sumScope))\n",
    "    \n",
    "    def onlineInference(self,intputTensor,timeSteps=100,state=None,seed=None,modelParamPath=None):\n",
    "        feedDict={}\n",
    "        if modelParamPath==None:\n",
    "            modelParamPath=self.__mdlCkptPath\n",
    "        if state!=None :\n",
    "            feedDict[self.__initState]=state\n",
    "        if seed==None:\n",
    "            #Create a random seed\n",
    "            seed=tf.one_hot([random.randint(0,self.__inputVectorDim)],\n",
    "                            depth=self.__inputVectorDim,on_value=1.0,off_value=0.0,axis=-1,dtype=tf.float32)\n",
    "            with tf.Session() as sess:\n",
    "                seed=sess.run(seed)\n",
    "        feedDict[self.inputs]=seed\n",
    "        seq=[]\n",
    "        with tf.Session() as sess:\n",
    "            ckpt = tf.train.get_checkpoint_state(self.__mdlCkptPath)\n",
    "            print(\"Loading model\")\n",
    "            if ckpt and ckpt.model_checkpoint_path:  \n",
    "                saver.restore(sess,ckpt.model_checkpoint_path)\n",
    "                print(\"Successfully loaded\")\n",
    "            for length in range(timeSteps):\n",
    "                input_,state=sess.run(fetches=[self.netOutputs,self.finalState],\n",
    "                                      feed_dict=feedDict)\n",
    "                seq.append(input_)\n",
    "                feedDict[self.inputs],feedDict[self.__initState]=input_,state\n",
    "            seq=tf.concat(values=seq,axis=0).eval()\n",
    "        return seq,state"
   ]
  },
  {
   "cell_type": "markdown",
   "metadata": {},
   "source": [
    "### Make an instance"
   ]
  },
  {
   "cell_type": "code",
   "execution_count": 4,
   "metadata": {
    "collapsed": false
   },
   "outputs": [],
   "source": [
    "Test=MyRNN(scope=\"RNN\",inputVectorDim=len(vocab)+1,modelCheckpointPath=modelParamPath)"
   ]
  },
  {
   "cell_type": "markdown",
   "metadata": {},
   "source": [
    "### Training"
   ]
  },
  {
   "cell_type": "code",
   "execution_count": 5,
   "metadata": {
    "collapsed": false
   },
   "outputs": [
    {
     "name": "stdout",
     "output_type": "stream",
     "text": [
      "Epoch: 1\n",
      "^^\\bbbbbbbbbbbbbb,b::?bbL,,[INVALID][INVALID][INVALID][INVALID][INVALID]b???[INVALID][INVALID][INVALID]\n",
      "Epoch: 51\n",
      "    oou   oooooimlle, simesimes naiee. \n",
      "Final result after 100 epoch(s)\n",
      "oo young, too simple, sometimes naive. \n"
     ]
    }
   ],
   "source": [
    "n_epochs=100\n",
    "with tf.Session() as sess:\n",
    "    writer=tf.summary.FileWriter(logdir=graphPath,graph=sess.graph)\n",
    "    saver=tf.train.Saver()\n",
    "    sess.run(tf.global_variables_initializer())\n",
    "    for i in range(n_epochs):\n",
    "        _,summary=sess.run([Test.optimizer,Test.summary_op],feed_dict={Test.inputs:X,Test.outputs:Y})\n",
    "        writer.add_summary(summary,global_step=i+1)\n",
    "        if i%50==0:\n",
    "            saver.save(sess=sess,save_path=modelParamPath,global_step=i+1)\n",
    "            result=sess.run(Test.netOutputs,{Test.inputs:X})\n",
    "            print(\"Epoch: {}\".format(i+1))\n",
    "            print(Decode(result))\n",
    "    result=sess.run(Test.netOutputs,{Test.inputs:X})\n",
    "    print(\"Final result after {} epoch(s)\".format(i+1))\n",
    "    print(Decode(result))\n",
    "    writer.close()\n",
    "    saver.save(sess=sess,save_path=modelParamPath+r\"\\rnnMDL\",global_step=n_epochs)"
   ]
  },
  {
   "cell_type": "markdown",
   "metadata": {},
   "source": [
    "### Test online inference"
   ]
  },
  {
   "cell_type": "code",
   "execution_count": 6,
   "metadata": {
    "collapsed": false
   },
   "outputs": [
    {
     "name": "stderr",
     "output_type": "stream",
     "text": [
      "e:\\python35\\lib\\site-packages\\ipykernel\\__main__.py:42: FutureWarning: comparison to `None` will result in an elementwise object comparison in the future.\n"
     ]
    },
    {
     "name": "stdout",
     "output_type": "stream",
     "text": [
      "Loading model\n",
      "Successfully loaded\n",
      "oozn .EVHMMMM?MnMnMMMMMMMMMMMMMMMMMMMMMM\n"
     ]
    }
   ],
   "source": [
    "result,_=Test.onlineInference(intputTensor=X[:1],timeSteps=len(TestText2),seed=X[:1])\n",
    "print(Decode(result))"
   ]
  },
  {
   "cell_type": "markdown",
   "metadata": {},
   "source": [
    "### Evaluate transition performance of the model"
   ]
  },
  {
   "cell_type": "code",
   "execution_count": 7,
   "metadata": {
    "collapsed": false
   },
   "outputs": [
    {
     "name": "stdout",
     "output_type": "stream",
     "text": [
      "Loading model\n",
      "Successfully loaded\n",
      "oo young, too simple, sometimes naive. \n"
     ]
    }
   ],
   "source": [
    "with tf.Session() as sess:\n",
    "    print(\"Loading model\")\n",
    "    ckpt=tf.train.get_checkpoint_state(modelParamPath)\n",
    "    if ckpt and ckpt.model_checkpoint_path:  \n",
    "        saver.restore(sess,ckpt.model_checkpoint_path)\n",
    "        print(\"Successfully loaded\")\n",
    "    result=sess.run(Test.netOutputs,{Test.inputs:X})\n",
    "print(Decode(result))"
   ]
  },
  {
   "cell_type": "code",
   "execution_count": null,
   "metadata": {
    "collapsed": true
   },
   "outputs": [],
   "source": []
  }
 ],
 "metadata": {
  "kernelspec": {
   "display_name": "Python 3",
   "language": "python",
   "name": "python3"
  },
  "language_info": {
   "codemirror_mode": {
    "name": "ipython",
    "version": 3
   },
   "file_extension": ".py",
   "mimetype": "text/x-python",
   "name": "python",
   "nbconvert_exporter": "python",
   "pygments_lexer": "ipython3",
   "version": "3.5.2"
  }
 },
 "nbformat": 4,
 "nbformat_minor": 1
}
