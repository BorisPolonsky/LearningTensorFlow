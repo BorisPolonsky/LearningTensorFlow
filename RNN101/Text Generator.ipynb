{
 "cells": [
  {
   "cell_type": "markdown",
   "metadata": {},
   "source": [
    "# Text generator based on RNN"
   ]
  },
  {
   "cell_type": "markdown",
   "metadata": {},
   "source": [
    "## Brief\n",
    "Generate fake abstract with RNN model under tensorflow r1.3."
   ]
  },
  {
   "cell_type": "markdown",
   "metadata": {},
   "source": [
    "### Import libraries"
   ]
  },
  {
   "cell_type": "code",
   "execution_count": 1,
   "metadata": {
    "collapsed": false
   },
   "outputs": [],
   "source": [
    "import tensorflow as tf\n",
    "import numpy as np\n",
    "import random\n",
    "import os"
   ]
  },
  {
   "cell_type": "markdown",
   "metadata": {},
   "source": [
    "### Configurations "
   ]
  },
  {
   "cell_type": "code",
   "execution_count": 2,
   "metadata": {
    "collapsed": true
   },
   "outputs": [],
   "source": [
    "vocab = (\" $%'()+,-./0123456789:;=?ABCDEFGHIJKLMNOPQRSTUVWXYZ\"\n",
    "            \"\\\\^_abcdefghijklmnopqrstuvwxyz{|}\\n\")\n",
    "graph_path=r\"./graphs\"\n",
    "test_text_path=os.path.normpath(r\"../DataSet/arvix_abstracts.txt\")\n",
    "batch_size=1\n",
    "model_param_path=os.path.normpath(r\"./model_checkpoints\")"
   ]
  },
  {
   "cell_type": "markdown",
   "metadata": {},
   "source": [
    "### Data encoding\n",
    "#### Basic Assumption\n",
    "\n",
    "* A full string sequence consists $START$ & $STOP$ signal with characters in the middle. \n",
    "\n",
    "#### Encoding policy\n",
    "* A set $\\mathcal{S}$ that consists of many characters is utilized to encode the characters.\n",
    "* The $1^{st}$ entry of the vector corresponds to $UNKNOWN$ characters(l.e. characters that are beyond $\\mathcal{S}$). \n",
    "* The last entry of the vector corresponds to $STOP$ signal of the sequence. \n",
    "* The entries in the middle corresponds to the indices of the characters within $\\mathcal{S}$. \n",
    "* The $START$ signal is represented as a zero vector. "
   ]
  },
  {
   "cell_type": "code",
   "execution_count": 3,
   "metadata": {
    "collapsed": false
   },
   "outputs": [],
   "source": [
    "class TextCodec:\n",
    "    def __init__(self, vocab):\n",
    "        self.__vocab = vocab\n",
    "        \n",
    "    def encode(self, string, sess = None, start=True, stop=True):\n",
    "        \"\"\"\n",
    "        Encode string.\n",
    "        Each character is represented as a N-dimension one hot vector. \n",
    "        N = len(self.__vocab)+ 2\n",
    "        \n",
    "        Note:\n",
    "        The first entry of the vector corresponds to unknown character. \n",
    "        The last entry of the vector corresponds to STOP signal of the sequence. \n",
    "        The entries in the middle corresponds to the index of the character. \n",
    "        The START signal is represented as a zero vector. \n",
    "        \"\"\"\n",
    "        tensor=[vocab.find(ch)+1 for ch in string]\n",
    "        if stop:\n",
    "             tensor.append(len(vocab)+1)  # String + STOP\n",
    "        tensor=tf.one_hot(tensor,depth=len(vocab)+2,on_value=1.0,off_value=0.0,axis=-1, dtype=tf.float32)\n",
    "        if start:\n",
    "            tensor=tf.concat([tf.zeros([1, len(vocab)+2],dtype=tf.float32),tensor],axis=0)  # String + START\n",
    "        if sess is None:\n",
    "            with tf.Session() as sess:\n",
    "                nparray=tensor.eval()\n",
    "        elif type(sess) == tf.Session:\n",
    "            nparray = tensor.eval(session=sess)\n",
    "        else:\n",
    "            raise TypeError('\"sess\" must be {}, got {}'.format(tf.Session, type(sess)))    \n",
    "        return nparray\n",
    "\n",
    "    def decode(self, nparray, default=\"[UNKNOWN]\",start=\"[START]\",stop=\"[STOP]\",strip=False):\n",
    "        text_list=[]\n",
    "        indices=np.argmax(nparray,axis=1)\n",
    "        for v, ch_i in zip(nparray,indices):\n",
    "            if np.all(v==0):\n",
    "                text_list.append(start if not strip else \"\")\n",
    "            elif ch_i==0:\n",
    "                text_list.append(default)\n",
    "            elif ch_i==len(self.__vocab)+1:\n",
    "                text_list.append(stop if not strip else \"\")\n",
    "            else:\n",
    "                text_list.append(vocab[ch_i-1])\n",
    "        return \"\".join(text_list)"
   ]
  },
  {
   "cell_type": "markdown",
   "metadata": {},
   "source": [
    "### Test codec"
   ]
  },
  {
   "cell_type": "code",
   "execution_count": 4,
   "metadata": {
    "collapsed": false
   },
   "outputs": [
    {
     "name": "stdout",
     "output_type": "stream",
     "text": [
      "Encoded text looks like:\n",
      "[[ 0.  0.  0. ...,  0.  0.  0.]\n",
      " [ 0.  0.  0. ...,  0.  0.  0.]\n",
      " [ 0.  0.  0. ...,  0.  0.  0.]\n",
      " ..., \n",
      " [ 0.  0.  0. ...,  0.  0.  0.]\n",
      " [ 1.  0.  0. ...,  0.  0.  0.]\n",
      " [ 0.  0.  0. ...,  0.  0.  1.]]\n",
      "Decoded text looks like:\n",
      "[START]Hello world[UNKNOWN][STOP]\n"
     ]
    }
   ],
   "source": [
    "test_codec=TextCodec(vocab)\n",
    "test_text_encoded=test_codec.encode(\"Hello world!\")\n",
    "print(\"Encoded text looks like:\\n{}\".format(test_text_encoded))\n",
    "test_text_decoded=test_codec.decode(nparray=test_text_encoded,strip=False)\n",
    "print(\"Decoded text looks like:\\n{}\".format(test_text_decoded))"
   ]
  },
  {
   "cell_type": "markdown",
   "metadata": {},
   "source": [
    "### Define batch generator"
   ]
  },
  {
   "cell_type": "code",
   "execution_count": 5,
   "metadata": {
    "collapsed": true
   },
   "outputs": [],
   "source": [
    "def batch_generator(file_path, batch_size, sequence_length,overlap=0.5):\n",
    "    step_size = int(sequence_length * (1-overlap))\n",
    "    with open(os.path.normpath(file_path),\"r\") as f:\n",
    "        text = \"\".join(f.readlines())\n",
    "    batch = []\n",
    "    for i in range(0,len(text)-sequence_length+1,step_size):\n",
    "        batch.append(text[i:i+sequence_length])\n",
    "        if len(batch) == batch_size:\n",
    "            yield batch\n",
    "            batch = []"
   ]
  },
  {
   "cell_type": "code",
   "execution_count": 6,
   "metadata": {
    "collapsed": false
   },
   "outputs": [
    {
     "name": "stdout",
     "output_type": "stream",
     "text": [
      "['In science and engineering, in', 'engineering, intelligent proce']\n",
      "['telligent processing of comple', 'ssing of complex signals such ']\n",
      "['x signals such as images, soun', 'as images, sound or language i']\n",
      "['d or language is often perform', 's often performed by a paramet']\n",
      "['ed by a parameterized hierarch', 'erized hierarchy of nonlinear ']\n"
     ]
    }
   ],
   "source": [
    "i=0\n",
    "for batch in batch_generator(test_text_path,2,30,0.5):\n",
    "    print(batch)\n",
    "    i+=1\n",
    "    if i == 5:\n",
    "        break"
   ]
  },
  {
   "cell_type": "markdown",
   "metadata": {},
   "source": [
    "### Define model class"
   ]
  },
  {
   "cell_type": "code",
   "execution_count": 7,
   "metadata": {
    "collapsed": false
   },
   "outputs": [],
   "source": [
    "class MyRNN():\n",
    "    def __init__(self, input_vector_dim, model_checkpoint_path, state_size=100, scope=\"RNN\", output_vector_dim=None):\n",
    "        if output_vector_dim is None:\n",
    "            output_vector_dim=input_vector_dim\n",
    "        self.__input_vector_dim=input_vector_dim\n",
    "        self.__output_vector_dim=output_vector_dim\n",
    "        self.__state_size=state_size\n",
    "        self.__mdl_ckpt_path=model_checkpoint_path\n",
    "        with tf.variable_scope(scope) as model_scope:\n",
    "            with tf.variable_scope(\"structure\") as structure_scope:\n",
    "                # One batch at a time\n",
    "                self.__inputs = tf.placeholder(dtype=tf.float32,shape=[None,None,input_vector_dim])\n",
    "                self.__expected_outputs = tf.placeholder(dtype=tf.float32,shape=[None,None,output_vector_dim])\n",
    "                self.__cell = tf.nn.rnn_cell.GRUCell(num_units=state_size)\n",
    "                self.__init_state = tf.placeholder_with_default(tf.zeros([1,state_size],dtype=tf.float32),\n",
    "                                                              [None,state_size])\n",
    "                self.__wI2S = tf.get_variable(name=\"Weight_i2s\",shape=[input_vector_dim,state_size],\n",
    "                                            initializer=tf.truncated_normal_initializer())\n",
    "                self.__bI2S = tf.get_variable(name=\"Bias_i2s\",shape=[1,state_size],\n",
    "                            initializer=tf.truncated_normal_initializer())\n",
    "                self.__rnn_inputs=tf.add(tf.einsum(\"aij,jk->aik\",self.__inputs,self.__wI2S), self.__bI2S)  \n",
    "                # Didn't know why the broadcast mechanism work on tf.matmul(self.__inputs,self.__wI2S)\n",
    "                \n",
    "                # S20:State to output\n",
    "                self.__wS2O = tf.get_variable(name=\"Weight_s2o\",shape=[state_size,output_vector_dim],\n",
    "                                            initializer=tf.truncated_normal_initializer())\n",
    "                self.__bS2O = tf.get_variable(name=\"Bias_s2o\",shape=[1,output_vector_dim],\n",
    "                                            initializer=tf.truncated_normal_initializer())\n",
    "                self.__state_output, self.final_state = tf.nn.dynamic_rnn(cell=self.__cell,inputs=self.__rnn_inputs,\n",
    "                                                     dtype=tf.float32,initial_state=self.init_state)\n",
    "                \n",
    "                self.net_outputs=tf.add(tf.einsum(\"aij,jk->aik\",self.__state_output,self.__wS2O), self.__bS2O)\n",
    "                print(self.net_outputs.shape)\n",
    "                # Same reason for usint tf.einsum here.\n",
    "            with tf.name_scope(\"training\"):\n",
    "                # Need to utilize new loss function\n",
    "                tf.softmax_cross_entropy\n",
    "                loss=tf.losses.softmax_cross_entropy(logits=self.net_outputs,onehot_labels=self.outputs)\n",
    "                loss=tf.reduce_mean(loss,name=\"loss\")\n",
    "                self.__global_step=tf.Variable(0,dtype=tf.int32,trainable=False,name='globalStep')\n",
    "                self.optimizer=tf.train.AdamOptimizer(learning_rate=0.001,\n",
    "                                                      name=\"optimizer\").minimize(loss,global_step=self.__global_step)\n",
    "            with tf.name_scope(\"summary\") as sumScope:\n",
    "                lossSum=tf.summary.scalar(tensor=loss,name=\"loss\")\n",
    "                self.summary_op=tf.summary.merge(tf.get_collection(tf.GraphKeys.SUMMARIES,sumScope))\n",
    "\n",
    "    def online_inference(self,timeSteps=100,state=None,seed=None,modelParamPath=None):\n",
    "        feedDict={}\n",
    "        saver=tf.train.Saver()\n",
    "        if model_param_path is None:\n",
    "            model_param_path=self.__mdl_ckpt_path\n",
    "        if state is not None:\n",
    "            feedDict[self.init_state]=state\n",
    "        if seed is None:\n",
    "            #Create a random seed\n",
    "            seed=tf.one_hot([random.randint(0,self.__input_vector_dim)],\n",
    "                            depth=self.__input_vector_dim, on_value=1.0, off_value=0.0, axis=-1, dtype=tf.float32)\n",
    "            with tf.Session() as sess:\n",
    "                seed=sess.run(seed)\n",
    "        feed_dict[self.__inputs]=seed\n",
    "        seq = []\n",
    "        with tf.Session() as sess:\n",
    "            ckpt = tf.train.get_checkpoint_state(self.__mdl_ckpt_path)\n",
    "            print(\"Loading model\")\n",
    "            if ckpt and ckpt.model_checkpoint_path:  \n",
    "                saver.restore(sess,ckpt.model_checkpoint_path)\n",
    "                print(\"Successfully loaded\")\n",
    "            for length in range(timeSteps):\n",
    "                input_,state=sess.run(fetches=[self.netOutputs,self.finalState],\n",
    "                                      feed_dict=feedDict)\n",
    "                #  Since the input vectors are discrete, so we need to convert it into a\n",
    "                #  new one hot vector\n",
    "                input_=tf.one_hot(indices=[int(np.argmax(input_[0]))],depth=self.__outputVetorDim,\n",
    "                                  on_value=1.0,off_value=0.0,axis=-1,dtype=tf.float32).eval()\n",
    "                seq.append(input_)\n",
    "                feedDict[self.inputs],feedDict[self.initState]=input_,state\n",
    "            seq=tf.concat(values=seq,axis=0).eval()\n",
    "        return seq,state\n",
    "    \n",
    "    @property\n",
    "    def input_vector_dim(self):\n",
    "        return self.__input_vector_dim\n",
    "    \n",
    "    @property\n",
    "    def output_vector_dim(self):\n",
    "        return self.__output_vector_dim\n",
    "    \n",
    "    @property\n",
    "    def global_step(self):\n",
    "        return self.__global_step\n",
    "    \n",
    "    @property\n",
    "    def inputs(self):\n",
    "        return self.__inputs\n",
    "    \n",
    "    @property\n",
    "    def expected_outputs(self):\n",
    "        return self.__expected_outputs\n",
    "    \n",
    "    @property\n",
    "    def init_state(self):\n",
    "        return self.__init_state\n",
    "    \n",
    "    @classmethod\n",
    "    def train(cls, model, n_epochs, batch_generator, model_param_path, graph_path):  # To be fixed.\n",
    "        with tf.Session() as sess:\n",
    "            writer=tf.summary.FileWriter(logdir=graph_path,graph=sess.graph)\n",
    "            saver=tf.train.Saver()\n",
    "            sess.run(tf.global_variables_initializer())\n",
    "            ckpt=tf.train.get_checkpoint_state(model_param_path)\n",
    "            if ckpt and ckpt.model_checkpoint_path:\n",
    "                saver.restore(sess,ckpt.model_checkpoint_path)\n",
    "                iteration=Test.globalStep.eval()\n",
    "                print(\"Successfully loaded session at iteration {}. Continue training now. \".format(iteration))\n",
    "            else:\n",
    "                iteration=0\n",
    "            for i in range(n_epochs):\n",
    "                with open(testTextPath,'r') as fileObj:\n",
    "                    feed_dict={}\n",
    "                    for line in fileObj:\n",
    "                        sample=line.strip()\n",
    "                        if len(sample)<2:\n",
    "                            continue\n",
    "                        X=Encode(sample) \n",
    "                        Y=X[1:]\n",
    "                        X=X[:-1]\n",
    "                        iteration+=1\n",
    "                        feed_dict[Test.inputs]=X\n",
    "                        feed_dict[Test.outputs]=Y\n",
    "                        _,summary,state=sess.run([model.optimizer,model.summary_op,model.final_state],feed_dict=feed_dict)\n",
    "                        if (iteration+1)%50==0:\n",
    "                            writer.add_summary(summary,global_step=iteration)\n",
    "                            saver.save(sess=sess,save_path=model_param_path+r\"\\rnnMDL\",global_step=iteration)\n",
    "                saver.save(sess=sess,save_path=modelParamPath+r\"\\rnnMDL\",global_step=iteration)\n",
    "                result=sess.run(Test.net_outputs,{Test.inputs:X}) #  See what happens if fed a zero state\n",
    "            print(\"Session terminated. \")\n",
    "            writer.close()\n",
    "            saver.save(sess=sess,save_path=model_param_path+r\"\\rnnMDL\", global_step=model.global_step)"
   ]
  },
  {
   "cell_type": "markdown",
   "metadata": {},
   "source": [
    "### Make an instance"
   ]
  },
  {
   "cell_type": "code",
   "execution_count": 8,
   "metadata": {
    "collapsed": false
   },
   "outputs": [
    {
     "name": "stdout",
     "output_type": "stream",
     "text": [
      "(?, ?, 86)\n"
     ]
    },
    {
     "ename": "AttributeError",
     "evalue": "'MyRNN' object has no attribute 'outputs'",
     "output_type": "error",
     "traceback": [
      "\u001b[0;31m---------------------------------------------------------------------------\u001b[0m",
      "\u001b[0;31mAttributeError\u001b[0m                            Traceback (most recent call last)",
      "\u001b[0;32m<ipython-input-8-a739dd227a3a>\u001b[0m in \u001b[0;36m<module>\u001b[0;34m()\u001b[0m\n\u001b[0;32m----> 1\u001b[0;31m \u001b[0mtest_rnn\u001b[0m\u001b[1;33m=\u001b[0m\u001b[0mMyRNN\u001b[0m\u001b[1;33m(\u001b[0m\u001b[0mscope\u001b[0m\u001b[1;33m=\u001b[0m\u001b[1;34m\"RNN\"\u001b[0m\u001b[1;33m,\u001b[0m\u001b[0minput_vector_dim\u001b[0m\u001b[1;33m=\u001b[0m\u001b[0mlen\u001b[0m\u001b[1;33m(\u001b[0m\u001b[0mvocab\u001b[0m\u001b[1;33m)\u001b[0m\u001b[1;33m+\u001b[0m\u001b[1;36m2\u001b[0m\u001b[1;33m,\u001b[0m\u001b[0mmodel_checkpoint_path\u001b[0m\u001b[1;33m=\u001b[0m\u001b[0mmodel_param_path\u001b[0m\u001b[1;33m,\u001b[0m\u001b[0mstate_size\u001b[0m\u001b[1;33m=\u001b[0m\u001b[1;36m200\u001b[0m\u001b[1;33m)\u001b[0m\u001b[1;33m\u001b[0m\u001b[0m\n\u001b[0m\u001b[1;32m      2\u001b[0m \u001b[1;32mdel\u001b[0m \u001b[0mtest_rnn\u001b[0m\u001b[1;33m\u001b[0m\u001b[0m\n",
      "\u001b[0;32m<ipython-input-7-0a687b5664e1>\u001b[0m in \u001b[0;36m__init__\u001b[0;34m(self, input_vector_dim, model_checkpoint_path, state_size, scope, output_vector_dim)\u001b[0m\n\u001b[1;32m     34\u001b[0m                 \u001b[1;31m# Same reason for usint tf.einsum here.\u001b[0m\u001b[1;33m\u001b[0m\u001b[1;33m\u001b[0m\u001b[0m\n\u001b[1;32m     35\u001b[0m             \u001b[1;32mwith\u001b[0m \u001b[0mtf\u001b[0m\u001b[1;33m.\u001b[0m\u001b[0mname_scope\u001b[0m\u001b[1;33m(\u001b[0m\u001b[1;34m\"training\"\u001b[0m\u001b[1;33m)\u001b[0m\u001b[1;33m:\u001b[0m\u001b[1;33m\u001b[0m\u001b[0m\n\u001b[0;32m---> 36\u001b[0;31m                 \u001b[0mloss\u001b[0m\u001b[1;33m=\u001b[0m\u001b[0mtf\u001b[0m\u001b[1;33m.\u001b[0m\u001b[0mlosses\u001b[0m\u001b[1;33m.\u001b[0m\u001b[0msoftmax_cross_entropy\u001b[0m\u001b[1;33m(\u001b[0m\u001b[0mlogits\u001b[0m\u001b[1;33m=\u001b[0m\u001b[0mself\u001b[0m\u001b[1;33m.\u001b[0m\u001b[0mnet_outputs\u001b[0m\u001b[1;33m,\u001b[0m\u001b[0monehot_labels\u001b[0m\u001b[1;33m=\u001b[0m\u001b[0mself\u001b[0m\u001b[1;33m.\u001b[0m\u001b[0moutputs\u001b[0m\u001b[1;33m)\u001b[0m\u001b[1;33m\u001b[0m\u001b[0m\n\u001b[0m\u001b[1;32m     37\u001b[0m                 \u001b[0mloss\u001b[0m\u001b[1;33m=\u001b[0m\u001b[0mtf\u001b[0m\u001b[1;33m.\u001b[0m\u001b[0mreduce_mean\u001b[0m\u001b[1;33m(\u001b[0m\u001b[0mloss\u001b[0m\u001b[1;33m,\u001b[0m\u001b[0mname\u001b[0m\u001b[1;33m=\u001b[0m\u001b[1;34m\"loss\"\u001b[0m\u001b[1;33m)\u001b[0m\u001b[1;33m\u001b[0m\u001b[0m\n\u001b[1;32m     38\u001b[0m                 \u001b[0mself\u001b[0m\u001b[1;33m.\u001b[0m\u001b[0m__global_step\u001b[0m\u001b[1;33m=\u001b[0m\u001b[0mtf\u001b[0m\u001b[1;33m.\u001b[0m\u001b[0mVariable\u001b[0m\u001b[1;33m(\u001b[0m\u001b[1;36m0\u001b[0m\u001b[1;33m,\u001b[0m\u001b[0mdtype\u001b[0m\u001b[1;33m=\u001b[0m\u001b[0mtf\u001b[0m\u001b[1;33m.\u001b[0m\u001b[0mint32\u001b[0m\u001b[1;33m,\u001b[0m\u001b[0mtrainable\u001b[0m\u001b[1;33m=\u001b[0m\u001b[1;32mFalse\u001b[0m\u001b[1;33m,\u001b[0m\u001b[0mname\u001b[0m\u001b[1;33m=\u001b[0m\u001b[1;34m'globalStep'\u001b[0m\u001b[1;33m)\u001b[0m\u001b[1;33m\u001b[0m\u001b[0m\n",
      "\u001b[0;31mAttributeError\u001b[0m: 'MyRNN' object has no attribute 'outputs'"
     ]
    }
   ],
   "source": [
    "test_rnn=MyRNN(scope=\"RNN\",input_vector_dim=len(vocab)+2,model_checkpoint_path=model_param_path,state_size=200)\n",
    "del test_rnn"
   ]
  },
  {
   "cell_type": "markdown",
   "metadata": {},
   "source": [
    "### Training"
   ]
  },
  {
   "cell_type": "code",
   "execution_count": null,
   "metadata": {
    "collapsed": false,
    "scrolled": true
   },
   "outputs": [],
   "source": [
    "n_epochs=6\n",
    "MyRNN.train()"
   ]
  },
  {
   "cell_type": "markdown",
   "metadata": {},
   "source": [
    "### Test online inference"
   ]
  },
  {
   "cell_type": "code",
   "execution_count": null,
   "metadata": {
    "collapsed": false,
    "scrolled": false
   },
   "outputs": [],
   "source": [
    "result,_=Test.onlineInference(timeSteps=500)\n",
    "print(Decode(result))"
   ]
  },
  {
   "cell_type": "markdown",
   "metadata": {},
   "source": [
    "### Evaluate transition performance of the model"
   ]
  },
  {
   "cell_type": "code",
   "execution_count": null,
   "metadata": {
    "collapsed": false,
    "scrolled": true
   },
   "outputs": [],
   "source": [
    "with tf.Session() as sess:\n",
    "    print(\"Loading model\")\n",
    "    ckpt=tf.train.get_checkpoint_state(modelParamPath)\n",
    "    if ckpt and ckpt.model_checkpoint_path:  \n",
    "        saver.restore(sess,ckpt.model_checkpoint_path)\n",
    "        print(\"Successfully loaded\")\n",
    "    result=sess.run(Test.netOutputs,{Test.inputs:X})\n",
    "print(Decode(result))"
   ]
  },
  {
   "cell_type": "code",
   "execution_count": null,
   "metadata": {
    "collapsed": true
   },
   "outputs": [],
   "source": []
  }
 ],
 "metadata": {
  "kernelspec": {
   "display_name": "Python 3",
   "language": "python",
   "name": "python3"
  },
  "language_info": {
   "codemirror_mode": {
    "name": "ipython",
    "version": 3
   },
   "file_extension": ".py",
   "mimetype": "text/x-python",
   "name": "python",
   "nbconvert_exporter": "python",
   "pygments_lexer": "ipython3",
   "version": "3.5.2"
  }
 },
 "nbformat": 4,
 "nbformat_minor": 1
}
