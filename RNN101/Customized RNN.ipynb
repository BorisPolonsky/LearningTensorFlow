{
 "cells": [
  {
   "cell_type": "markdown",
   "metadata": {},
   "source": [
    "# Customized RNN\n",
    "## Brief\n",
    "TensorFlow API r1.3"
   ]
  },
  {
   "cell_type": "code",
   "execution_count": null,
   "metadata": {
    "collapsed": true
   },
   "outputs": [],
   "source": [
    "import tensorflow as tf\n",
    "import numpy as np"
   ]
  },
  {
   "cell_type": "code",
   "execution_count": null,
   "metadata": {
    "collapsed": false
   },
   "outputs": [],
   "source": [
    "class MyRnnCell(tf.nn.rnn_cell.RNNCell):\n",
    "    def __init__(self, state_size, dtype):\n",
    "        self._state_size = state_size\n",
    "        self._dtype = dtype\n",
    "\n",
    "    def __call__(self, _input, state):\n",
    "        self._W_xh = tf.get_variable(shape=[self._state_size, self._state_size], dtype=self._dtype, name=\"W_xh\")\n",
    "        self._W_hh = tf.get_variable(shape=[self._state_size, self._state_size], dtype=self._dtype, name=\"W_hh\")\n",
    "        self._W_ho = tf.get_variable(shape=[self._state_size, self._state_size], dtype=self._dtype, name=\"W_ho\")\n",
    "        self._b_h = tf.get_variable(shape=[self._state_size], dtype=self._dtype, name=\"b_h\")\n",
    "        self._b_o = tf.get_variable(shape=[self._state_size], dtype=self._dtype, name=\"b_o\")\n",
    "        new_state = tf.tanh(tf.matmul(_input,self._W_xh)+tf.matmul(state, self._W_hh))\n",
    "        new_output = tf.tanh(tf.matmul(new_state, self._W_ho+self._b_o))\n",
    "        return new_output, new_state\n",
    "        "
   ]
  },
  {
   "cell_type": "code",
   "execution_count": null,
   "metadata": {
    "collapsed": true
   },
   "outputs": [],
   "source": [
    "test_cell = MyRnnCell(100, tf.float64)"
   ]
  },
  {
   "cell_type": "code",
   "execution_count": null,
   "metadata": {
    "collapsed": false
   },
   "outputs": [],
   "source": [
    "tf.reset_default_graph()\n",
    "x=np.zeros([1,100])\n",
    "state = np.zeros([1,100])\n",
    "with tf.Session() as sess:\n",
    "    pass"
   ]
  },
  {
   "cell_type": "code",
   "execution_count": null,
   "metadata": {
    "collapsed": true
   },
   "outputs": [],
   "source": []
  }
 ],
 "metadata": {
  "kernelspec": {
   "display_name": "Python 3",
   "language": "python",
   "name": "python3"
  },
  "language_info": {
   "codemirror_mode": {
    "name": "ipython",
    "version": 3
   },
   "file_extension": ".py",
   "mimetype": "text/x-python",
   "name": "python",
   "nbconvert_exporter": "python",
   "pygments_lexer": "ipython3",
   "version": "3.5.2"
  }
 },
 "nbformat": 4,
 "nbformat_minor": 1
}
