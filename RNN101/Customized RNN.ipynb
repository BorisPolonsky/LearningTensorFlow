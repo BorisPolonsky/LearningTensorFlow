{
 "cells": [
  {
   "cell_type": "markdown",
   "metadata": {},
   "source": [
    "# Customized RNN\n",
    "## Brief\n",
    "Learning to define operations in rnn cells under TensorFlow API r1.3. "
   ]
  },
  {
   "cell_type": "code",
   "execution_count": 1,
   "metadata": {
    "collapsed": true
   },
   "outputs": [],
   "source": [
    "import tensorflow as tf\n",
    "import numpy as np"
   ]
  },
  {
   "cell_type": "markdown",
   "metadata": {},
   "source": [
    "## Define MyRnnCell\n",
    "The following property/methods should be correctly defined for an RNN cell.\n",
    "* \\__call\\__ (method)\n",
    "* output_size (property)\n",
    "* state_size (property)"
   ]
  },
  {
   "cell_type": "code",
   "execution_count": 2,
   "metadata": {
    "collapsed": false
   },
   "outputs": [],
   "source": [
    "class MyRnnCell(tf.nn.rnn_cell.RNNCell):\n",
    "    def __init__(self, state_size, dtype):\n",
    "        self._state_size = state_size\n",
    "        self._dtype = dtype\n",
    "        self._input = tf.placeholder(shape=[None, self._state_size], dtype=self._dtype)\n",
    "        \n",
    "    def __call__(self, _input, state):\n",
    "        self._W_xh = tf.get_variable(shape=[self._state_size, self._state_size],\n",
    "                                     dtype=self._dtype, name=\"W_xh\", initializer=tf.truncated_normal_initializer())\n",
    "        self._W_hh = tf.get_variable(shape=[self._state_size, self._state_size],\n",
    "                                     dtype=self._dtype, name=\"W_hh\", initializer=tf.truncated_normal_initializer())\n",
    "        self._W_ho = tf.get_variable(shape=[self._state_size, self._state_size],\n",
    "                                     dtype=self._dtype, name=\"W_ho\", initializer=tf.truncated_normal_initializer())\n",
    "        self._b_h = tf.get_variable(shape=[self._state_size], dtype=self._dtype,\n",
    "                                    name=\"b_h\", initializer=tf.truncated_normal_initializer())\n",
    "        self._b_o = tf.get_variable(shape=[self._state_size], dtype=self._dtype,\n",
    "                                    name=\"b_o\", initializer=tf.truncated_normal_initializer())\n",
    "        new_state = tf.tanh(tf.matmul(_input,self._W_xh)+tf.matmul(state, self._W_hh))\n",
    "        new_output = tf.tanh(tf.matmul(new_state, self._W_ho+self._b_o))\n",
    "        return new_output, new_state\n",
    "    \n",
    "    @property\n",
    "    def output_size(self):\n",
    "        return self._state_size\n",
    "    \n",
    "    @property\n",
    "    def state_size(self):\n",
    "        return self._state_size"
   ]
  },
  {
   "cell_type": "markdown",
   "metadata": {},
   "source": [
    "## Create an instance of the RNN cell"
   ]
  },
  {
   "cell_type": "code",
   "execution_count": 3,
   "metadata": {
    "collapsed": false
   },
   "outputs": [],
   "source": [
    "test_cell = MyRnnCell(2, tf.float64)"
   ]
  },
  {
   "cell_type": "markdown",
   "metadata": {},
   "source": [
    "## Create sample sequence"
   ]
  },
  {
   "cell_type": "code",
   "execution_count": 4,
   "metadata": {
    "collapsed": false
   },
   "outputs": [
    {
     "name": "stdout",
     "output_type": "stream",
     "text": [
      "Sample sequence:\n",
      "[[ 1.  0.]\n",
      " [ 0.  1.]\n",
      " [ 0.  1.]\n",
      " [ 1.  0.]\n",
      " [ 0.  1.]\n",
      " [ 0.  1.]]\n"
     ]
    }
   ],
   "source": [
    "sample_seq = np.array([[1,0],[0,1],[0,1],[1,0],[0,1],[0,1]],dtype=np.float64)\n",
    "print(\"Sample sequence:\\n{}\".format(sample_seq))\n",
    "seq_input = sample_seq[:-1,:]\n",
    "target_output = sample_seq[1:,:]"
   ]
  },
  {
   "cell_type": "markdown",
   "metadata": {},
   "source": [
    "# Training & Testing"
   ]
  },
  {
   "cell_type": "code",
   "execution_count": 5,
   "metadata": {
    "collapsed": false,
    "scrolled": true
   },
   "outputs": [
    {
     "name": "stdout",
     "output_type": "stream",
     "text": [
      "Training network\n",
      "Testing network with input:\n",
      "[[ 1.  0.]\n",
      " [ 0.  1.]\n",
      " [ 0.  1.]\n",
      " [ 1.  0.]\n",
      " [ 0.  1.]]\n",
      "Expected outputs:\n",
      "[[ 0.  1.]\n",
      " [ 0.  1.]\n",
      " [ 1.  0.]\n",
      " [ 0.  1.]\n",
      " [ 0.  1.]]\n",
      "Network activations:\n",
      "[[-0.99950381  0.99743129]\n",
      " [-0.92940802  0.92075438]\n",
      " [ 0.96504518 -0.90763436]\n",
      " [-0.99841268  0.99288386]\n",
      " [-0.93082996  0.91151775]]\n"
     ]
    }
   ],
   "source": [
    "tf.reset_default_graph()\n",
    "#state = np.zeros([1, 2])\n",
    "inputs = tf.placeholder(shape=[None, 2], dtype=tf.float64)\n",
    "targets = tf.placeholder(shape=[None, 2], dtype=tf.float64)\n",
    "# One batch only\n",
    "batch_inputs = tf.reshape(inputs, shape=np.array([1, -1, 2]))\n",
    "outputs, final_state = tf.nn.dynamic_rnn(test_cell, batch_inputs, dtype=tf.float64)\n",
    "# de-batch\n",
    "outputs = tf.reshape(outputs, shape=[-1, 2])\n",
    "loss = tf.nn.softmax_cross_entropy_with_logits(labels=targets, logits=outputs)\n",
    "optimize_op = tf.train.AdamOptimizer(learning_rate=1e-4).minimize(loss)\n",
    "print(\"Training network\")\n",
    "with tf.Session() as sess:\n",
    "    sess.run(tf.global_variables_initializer())\n",
    "    for i in range(20000):\n",
    "        sess.run([optimize_op, outputs], feed_dict={inputs: seq_input, targets: target_output})\n",
    "    print(\"Testing network with input:\\n{}\".format(seq_input))\n",
    "    print(\"Expected outputs:\\n{}\\nNetwork activations:\\n{}\".format(target_output, \n",
    "                                                                   sess.run(outputs, feed_dict={inputs: seq_input})))"
   ]
  },
  {
   "cell_type": "markdown",
   "metadata": {
    "collapsed": true
   },
   "source": []
  }
 ],
 "metadata": {
  "kernelspec": {
   "display_name": "Python 3",
   "language": "python",
   "name": "python3"
  },
  "language_info": {
   "codemirror_mode": {
    "name": "ipython",
    "version": 3
   },
   "file_extension": ".py",
   "mimetype": "text/x-python",
   "name": "python",
   "nbconvert_exporter": "python",
   "pygments_lexer": "ipython3",
   "version": "3.5.2"
  }
 },
 "nbformat": 4,
 "nbformat_minor": 1
}
