{
 "cells": [
  {
   "cell_type": "markdown",
   "metadata": {},
   "source": [
    "# Implement CNN network with TensorFlow\n",
    "## Brief\n",
    "Load a CNN implemented in TensorFlow trained before and test it's performance on MNIST dataset.\n",
    "\n",
    "## Notice\n",
    "* Saving checkpoints of this model demands sufficient disk memory."
   ]
  },
  {
   "cell_type": "markdown",
   "metadata": {},
   "source": [
    "### Import necessary libraries"
   ]
  },
  {
   "cell_type": "code",
   "execution_count": 1,
   "metadata": {
    "collapsed": false
   },
   "outputs": [],
   "source": [
    "import numpy as np\n",
    "import tensorflow as tf\n",
    "import matplotlib.pyplot as plt\n",
    "%matplotlib inline"
   ]
  },
  {
   "cell_type": "markdown",
   "metadata": {},
   "source": [
    "### Load MNIST dataset"
   ]
  },
  {
   "cell_type": "code",
   "execution_count": 2,
   "metadata": {
    "collapsed": false
   },
   "outputs": [
    {
     "name": "stdout",
     "output_type": "stream",
     "text": [
      "Extracting ..\\DataSet\\mnist\\train-images-idx3-ubyte.gz\n",
      "Extracting ..\\DataSet\\mnist\\train-labels-idx1-ubyte.gz\n",
      "Extracting ..\\DataSet\\mnist\\t10k-images-idx3-ubyte.gz\n",
      "Extracting ..\\DataSet\\mnist\\t10k-labels-idx1-ubyte.gz\n",
      "Number of training samples: 55000\n",
      "Number of test samples: 10000\n"
     ]
    }
   ],
   "source": [
    "from tensorflow.examples.tutorials.mnist import input_data\n",
    "MNIST=input_data.read_data_sets(r\"..\\DataSet\\mnist\",one_hot=True)\n",
    "print(\"Number of training samples: {}\\nNumber of test samples: {}\".format(MNIST.train.num_examples,MNIST.test.num_examples))"
   ]
  },
  {
   "cell_type": "markdown",
   "metadata": {},
   "source": [
    "### Create Graph"
   ]
  },
  {
   "cell_type": "code",
   "execution_count": 3,
   "metadata": {
    "collapsed": false
   },
   "outputs": [],
   "source": [
    "with tf.name_scope(\"CNN\"):\n",
    "    with tf.name_scope(\"Input\"):\n",
    "        X=tf.placeholder(dtype=tf.float32,shape=[None,784],name=\"X\")\n",
    "        Y=tf.placeholder(dtype=tf.float32,shape=[None,10],name=\"Y\")\n",
    "        NetIn=tf.reshape(tensor=X,shape=[-1,28,28,1],name=\"NetIn\")\n",
    "    with tf.name_scope(\"Conv1\"):\n",
    "        W1=tf.Variable(tf.truncated_normal([5,5,1,32]),name=\"Weight\")\n",
    "        b1=tf.Variable(tf.truncated_normal([32]),name=\"bias\")\n",
    "        L1Out=tf.nn.conv2d(input=NetIn,filter=W1,strides=[1,1,1,1],padding=\"SAME\",name=\"conv\")\n",
    "        L1Out=tf.nn.relu(L1Out+b1,name=\"ReLu\")\n",
    "        L1Out=tf.nn.max_pool(value=L1Out,ksize=[1,2,2,1],strides=[1,2,2,1],padding=\"SAME\",name=\"L1Out\")\n",
    "        #Need to check out what the param#0 and param#3 means in ksize. \n",
    "    with tf.name_scope(\"Conv2\"):\n",
    "        W2=tf.Variable(tf.truncated_normal([5,5,32,64]),name=\"Weight\")\n",
    "        b2=tf.Variable(tf.truncated_normal([64]),name=\"bias\")\n",
    "        L2Out=tf.nn.conv2d(input=L1Out,filter=W2,strides=[1,1,1,1],padding=\"SAME\",name=\"conv\")\n",
    "        L2Out=tf.nn.relu(L2Out+b2,name=\"ReLu\")\n",
    "        L2Out=tf.nn.max_pool(value=L2Out,ksize=[1,2,2,1],strides=[1,2,2,1],padding=\"SAME\",name=\"L2Out\")\n",
    "        #Need to check out what the param#0 and param#3 means in ksize.\n",
    "        #If we don't want to pool over batch or channels, just set both param#0 and param#3 to 1\n",
    "    with tf.name_scope(\"FullConnect\"):\n",
    "        flatten=tf.reshape(tensor=L2Out,shape=[-1,7*7*64],name=\"flatten\")\n",
    "        W3=tf.Variable(tf.truncated_normal(dtype=tf.float32,shape=[7*7*64,1024]),name=\"Weight\")\n",
    "        b3=tf.Variable(tf.truncated_normal(dtype=tf.float32,shape=[1024]),name=\"bias\")\n",
    "        L3Out=tf.nn.relu(tf.matmul(flatten,W3)+b3,name=\"L3Out\")\n",
    "    with tf.name_scope(\"Output\"):\n",
    "        W4=tf.Variable(tf.truncated_normal(dtype=tf.float32,shape=[1024,10]),name=\"Weight\")\n",
    "        b4=tf.Variable(tf.truncated_normal(dtype=tf.float32,shape=[10]))\n",
    "        L4Out=tf.matmul(L3Out,W4)+b4\n",
    "    with tf.name_scope(\"Loss\"):\n",
    "        entropy=tf.nn.softmax_cross_entropy_with_logits(logits=L4Out,labels=Y,name=\"crossEntropy\")\n",
    "        loss=tf.reduce_mean(input_tensor=entropy,name=\"loss\")\n",
    "    with tf.name_scope(\"Train\") as scope:\n",
    "        optimizer=tf.train.AdamOptimizer(learning_rate=0.01,name=\"optimizer\").minimize(loss)\n",
    "        summary=tf.summary.scalar(name=\"lossSummary\",tensor=loss)\n",
    "        summary_op=tf.summary.merge(inputs=tf.get_collection(key=tf.GraphKeys.SUMMARIES,scope=scope))"
   ]
  },
  {
   "cell_type": "markdown",
   "metadata": {
    "collapsed": true
   },
   "source": [
    "### Reload Parameters and test performance"
   ]
  },
  {
   "cell_type": "code",
   "execution_count": 4,
   "metadata": {
    "collapsed": false
   },
   "outputs": [
    {
     "name": "stdout",
     "output_type": "stream",
     "text": [
      "Accuracy: 0.9488\n"
     ]
    }
   ],
   "source": [
    "batchSize=20\n",
    "with tf.Session() as sess:\n",
    "    saver=tf.train.Saver()\n",
    "    saver.restore(sess=sess,save_path=r\".\\model_checkpoints\\MNIST_CNN-\"+str(3000))\n",
    "    acc=0\n",
    "    for batch_i in range(int(MNIST.test.num_examples/batchSize)):\n",
    "        x_batch,y_batch=MNIST.test.next_batch(batch_size=batchSize)\n",
    "        pred=sess.run(L4Out,feed_dict={X:x_batch})\n",
    "        acc+=sess.run(tf.reduce_sum(tf.cast(x=tf.equal(tf.argmax(input=pred,axis=1),tf.argmax(input=y_batch,axis=1)),dtype=tf.float32)))\n",
    "print(\"Accuracy: {}\".format(acc/MNIST.test.num_examples))"
   ]
  }
 ],
 "metadata": {
  "kernelspec": {
   "display_name": "Python 3",
   "language": "python",
   "name": "python3"
  },
  "language_info": {
   "codemirror_mode": {
    "name": "ipython",
    "version": 3
   },
   "file_extension": ".py",
   "mimetype": "text/x-python",
   "name": "python",
   "nbconvert_exporter": "python",
   "pygments_lexer": "ipython3",
   "version": "3.5.2"
  }
 },
 "nbformat": 4,
 "nbformat_minor": 1
}
